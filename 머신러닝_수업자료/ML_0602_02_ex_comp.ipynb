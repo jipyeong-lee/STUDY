{
 "cells": [
  {
   "cell_type": "markdown",
   "metadata": {},
   "source": [
    "<font color='tomato'><font color=\"#CC3D3D\"><p>\n",
    "# Regression with Keras\n",
    "https://www.tensorflow.org/tutorials/keras/regression?hl=ko    "
   ]
  },
  {
   "cell_type": "markdown",
   "metadata": {},
   "source": [
    "### Import modules"
   ]
  },
  {
   "cell_type": "code",
   "execution_count": 1,
   "metadata": {},
   "outputs": [
    {
     "name": "stdout",
     "output_type": "stream",
     "text": [
      "2.3.1\n"
     ]
    }
   ],
   "source": [
    "import pandas as pd\n",
    "import numpy as np\n",
    "import os\n",
    "import random\n",
    "import pickle\n",
    "from IPython.display import Image\n",
    "import seaborn as sns\n",
    "import matplotlib.pylab as plt\n",
    "from matplotlib import font_manager, rc\n",
    "%matplotlib inline\n",
    "\n",
    "import tensorflow as tf\n",
    "from tensorflow import keras\n",
    "print(tf.__version__)"
   ]
  },
  {
   "cell_type": "markdown",
   "metadata": {},
   "source": [
    "### Set random seeds to make your results reproducible"
   ]
  },
  {
   "cell_type": "code",
   "execution_count": 2,
   "metadata": {},
   "outputs": [
    {
     "name": "stdout",
     "output_type": "stream",
     "text": [
      "RANDOM SEEDS RESET\n"
     ]
    }
   ],
   "source": [
    "# 매번 모델링을 할 때마다 동일한 결과를 얻으려면 아래 코드를 실행해야 함.\n",
    "\n",
    "def reset_seeds(reset_graph_with_backend=None):\n",
    "    if reset_graph_with_backend is not None:\n",
    "        K = reset_graph_with_backend\n",
    "        K.clear_session()\n",
    "        tf.compat.v1.reset_default_graph()\n",
    "        print(\"KERAS AND TENSORFLOW GRAPHS RESET\")  # optional\n",
    "\n",
    "    np.random.seed(1)\n",
    "    random.seed(2)\n",
    "    tf.compat.v1.set_random_seed(3)\n",
    "    os.environ['CUDA_VISIBLE_DEVICES'] = ''  # for GPU\n",
    "    print(\"RANDOM SEEDS RESET\")  # optional\n",
    "   \n",
    "reset_seeds()"
   ]
  },
  {
   "cell_type": "markdown",
   "metadata": {},
   "source": [
    "### Step 1: Load and process the data"
   ]
  },
  {
   "cell_type": "markdown",
   "metadata": {},
   "source": [
    "##### Read data"
   ]
  },
  {
   "cell_type": "code",
   "execution_count": 3,
   "metadata": {},
   "outputs": [
    {
     "data": {
      "text/plain": [
       "((15110, 308), (6477, 308), (14380, 308))"
      ]
     },
     "execution_count": 3,
     "metadata": {},
     "output_type": "execute_result"
    }
   ],
   "source": [
    "# 앞 단계(Feature Enginnering)에서 저장했던 훈련/평가/적용 데이터를 읽어온다.\n",
    "X_train, X_test, y_train, y_test, X_dep, ID_dep = pd.read_pickle('comp_data.pkl')\n",
    "\n",
    "# 모델링에 사용되는 최종 학습 및 평가 데이터 확인\n",
    "X_train.shape, X_test.shape, X_dep.shape"
   ]
  },
  {
   "cell_type": "markdown",
   "metadata": {},
   "source": [
    "##### Feature scaling"
   ]
  },
  {
   "cell_type": "code",
   "execution_count": 4,
   "metadata": {},
   "outputs": [],
   "source": [
    "#scaler = StandardScaler()\n",
    "#X_train = scaler.fit_transform(X_train)\n",
    "#X_test = scaler.transform(X_test)"
   ]
  },
  {
   "cell_type": "markdown",
   "metadata": {},
   "source": [
    "##### Split data into train & validation set "
   ]
  },
  {
   "cell_type": "code",
   "execution_count": 5,
   "metadata": {},
   "outputs": [],
   "source": [
    "# Train/Validation\n",
    "i = int(round(X_train.shape[0] * 0.8,0))\n",
    "X_valid, y_valid = X_train[i:], y_train[i:]\n",
    "X_train, y_train = X_train[:i], y_train[:i]"
   ]
  },
  {
   "cell_type": "markdown",
   "metadata": {},
   "source": [
    "### Step 2: Define the model architecture"
   ]
  },
  {
   "cell_type": "markdown",
   "metadata": {},
   "source": [
    "##### Stack layers from input to output"
   ]
  },
  {
   "cell_type": "markdown",
   "metadata": {},
   "source": [
    "|모듈|사용 예 및 종류|\n",
    "|---|:---:|\n",
    "|Initializer| Dense(16, kernel_initializer='he_normal')|\n",
    "|Regularizer| Dense(16, kernel_regularizer=l2(0.01))|\n",
    "|Activation|relu / elu / selu / softmax / tanh / sigmoid / linear|"
   ]
  },
  {
   "cell_type": "code",
   "execution_count": 6,
   "metadata": {},
   "outputs": [],
   "source": [
    "# Input => Dense + Dense + ... => output\n",
    "# Model(input, output)\n",
    "\n",
    "input = keras.Input(shape=(X_train.shape[1],))"
   ]
  },
  {
   "cell_type": "code",
   "execution_count": 7,
   "metadata": {},
   "outputs": [],
   "source": [
    "x = keras.layers.Dense(16, activation='relu')(input)\n",
    "x = keras.layers.Dense(8, activation='relu')(x)\n",
    "output = keras.layers.Dense(1, activation='linear')(x)\n",
    "model = keras.Model(input, output)"
   ]
  },
  {
   "cell_type": "markdown",
   "metadata": {},
   "source": [
    "*Keras Sequential API*\n",
    "```\n",
    "model = Sequential([\n",
    "  keras.layers.Dense(16, activation='relu', input_shape=(X_train.shape[1],)),\n",
    "  keras.layers.Dense(8),\n",
    "  keras.layers.Dense(1, activation='sigmoid')\n",
    "])\n",
    "```"
   ]
  },
  {
   "cell_type": "markdown",
   "metadata": {},
   "source": [
    "##### Summarize & visualize the model"
   ]
  },
  {
   "cell_type": "code",
   "execution_count": 8,
   "metadata": {},
   "outputs": [
    {
     "name": "stdout",
     "output_type": "stream",
     "text": [
      "Model: \"functional_1\"\n",
      "_________________________________________________________________\n",
      "Layer (type)                 Output Shape              Param #   \n",
      "=================================================================\n",
      "input_1 (InputLayer)         [(None, 308)]             0         \n",
      "_________________________________________________________________\n",
      "dense (Dense)                (None, 16)                4944      \n",
      "_________________________________________________________________\n",
      "dense_1 (Dense)              (None, 8)                 136       \n",
      "_________________________________________________________________\n",
      "dense_2 (Dense)              (None, 1)                 9         \n",
      "=================================================================\n",
      "Total params: 5,089\n",
      "Trainable params: 5,089\n",
      "Non-trainable params: 0\n",
      "_________________________________________________________________\n"
     ]
    },
    {
     "data": {
      "image/png": "[encoded data removed]",
      "text/plain": [
       "<IPython.core.display.Image object>"
      ]
     },
     "execution_count": 8,
     "metadata": {},
     "output_type": "execute_result"
    }
   ],
   "source": [
    "model.summary()\n",
    "Image(keras.utils.model_to_dot(model,show_shapes=True,show_layer_names=False, dpi=100) \\\n",
    "      .create(prog='dot', format='png'))"
   ]
  },
  {
   "cell_type": "markdown",
   "metadata": {},
   "source": [
    "### Step 3: Choose the optimizer and the cost function\n",
    "<img align='left' src='http://drive.google.com/uc?export=view&id=1xybqHMvcDDfUYSN3FLQ6Y1708QkiZSJt' style=\"width: 70%\">"
   ]
  },
  {
   "cell_type": "markdown",
   "metadata": {},
   "source": [
    "*Optimizer의 예:*\n",
    "- keras.optimizers.SGD(lr=0.01, momentum=0.9)\n",
    "- keras.optimizers.RMSprop(lr=0.001, rho=0.9)\n",
    "- keras.optimizers.Adagrad(lr=0.01)\n",
    "- keras.optimizers.Adam(lr=0.001, beta_1=0.9, beta_2=0.999)"
   ]
  },
  {
   "cell_type": "code",
   "execution_count": 9,
   "metadata": {},
   "outputs": [],
   "source": [
    "# loss, optimizer, metrics 설정\n",
    "model.compile(loss='mse', optimizer='adam', metrics=[keras.metrics.RootMeanSquaredError()])"
   ]
  },
  {
   "cell_type": "markdown",
   "metadata": {},
   "source": [
    "### Step 4: Train the model"
   ]
  },
  {
   "cell_type": "markdown",
   "metadata": {},
   "source": [
    "##### Set learning conditions & fit the model "
   ]
  },
  {
   "cell_type": "code",
   "execution_count": 10,
   "metadata": {
    "scrolled": true
   },
   "outputs": [
    {
     "name": "stdout",
     "output_type": "stream",
     "text": [
      "Epoch 1/300\n",
      "95/95 - 0s - loss: 1289.6979 - root_mean_squared_error: 35.9124 - val_loss: 1123.1528 - val_root_mean_squared_error: 33.5135\n",
      "Epoch 2/300\n",
      "95/95 - 0s - loss: 864.3095 - root_mean_squared_error: 29.3991 - val_loss: 546.3263 - val_root_mean_squared_error: 23.3736\n",
      "Epoch 3/300\n",
      "95/95 - 0s - loss: 440.7572 - root_mean_squared_error: 20.9942 - val_loss: 377.9972 - val_root_mean_squared_error: 19.4422\n",
      "Epoch 4/300\n",
      "95/95 - 0s - loss: 364.4568 - root_mean_squared_error: 19.0908 - val_loss: 325.3579 - val_root_mean_squared_error: 18.0377\n",
      "Epoch 5/300\n",
      "95/95 - 0s - loss: 309.7013 - root_mean_squared_error: 17.5983 - val_loss: 271.4903 - val_root_mean_squared_error: 16.4770\n",
      "Epoch 6/300\n",
      "95/95 - 0s - loss: 254.1217 - root_mean_squared_error: 15.9412 - val_loss: 218.7104 - val_root_mean_squared_error: 14.7889\n",
      "Epoch 7/300\n",
      "95/95 - 0s - loss: 201.5393 - root_mean_squared_error: 14.1965 - val_loss: 170.7876 - val_root_mean_squared_error: 13.0686\n",
      "Epoch 8/300\n",
      "95/95 - 0s - loss: 156.1684 - root_mean_squared_error: 12.4967 - val_loss: 133.6888 - val_root_mean_squared_error: 11.5624\n",
      "Epoch 9/300\n",
      "95/95 - 0s - loss: 125.8144 - root_mean_squared_error: 11.2167 - val_loss: 113.4834 - val_root_mean_squared_error: 10.6529\n",
      "Epoch 10/300\n",
      "95/95 - 0s - loss: 110.7144 - root_mean_squared_error: 10.5221 - val_loss: 104.9413 - val_root_mean_squared_error: 10.2441\n",
      "Epoch 11/300\n",
      "95/95 - 0s - loss: 104.1223 - root_mean_squared_error: 10.2040 - val_loss: 101.4573 - val_root_mean_squared_error: 10.0726\n",
      "Epoch 12/300\n",
      "95/95 - 0s - loss: 100.9207 - root_mean_squared_error: 10.0459 - val_loss: 99.6956 - val_root_mean_squared_error: 9.9848\n",
      "Epoch 13/300\n",
      "95/95 - 0s - loss: 98.9373 - root_mean_squared_error: 9.9467 - val_loss: 98.5221 - val_root_mean_squared_error: 9.9258\n",
      "Epoch 14/300\n",
      "95/95 - 0s - loss: 97.4149 - root_mean_squared_error: 9.8699 - val_loss: 97.5237 - val_root_mean_squared_error: 9.8754\n",
      "Epoch 15/300\n",
      "95/95 - 0s - loss: 96.0656 - root_mean_squared_error: 9.8013 - val_loss: 96.5946 - val_root_mean_squared_error: 9.8283\n",
      "Epoch 16/300\n",
      "95/95 - 0s - loss: 94.8117 - root_mean_squared_error: 9.7371 - val_loss: 95.6178 - val_root_mean_squared_error: 9.7784\n",
      "Epoch 17/300\n",
      "95/95 - 0s - loss: 93.6003 - root_mean_squared_error: 9.6747 - val_loss: 94.6686 - val_root_mean_squared_error: 9.7298\n",
      "Epoch 18/300\n",
      "95/95 - 0s - loss: 92.4402 - root_mean_squared_error: 9.6146 - val_loss: 93.7190 - val_root_mean_squared_error: 9.6809\n",
      "Epoch 19/300\n",
      "95/95 - 0s - loss: 91.3165 - root_mean_squared_error: 9.5560 - val_loss: 92.7925 - val_root_mean_squared_error: 9.6329\n",
      "Epoch 20/300\n",
      "95/95 - 0s - loss: 90.2172 - root_mean_squared_error: 9.4983 - val_loss: 91.8499 - val_root_mean_squared_error: 9.5838\n",
      "Epoch 21/300\n",
      "95/95 - 0s - loss: 89.1422 - root_mean_squared_error: 9.4415 - val_loss: 90.9549 - val_root_mean_squared_error: 9.5370\n",
      "Epoch 22/300\n",
      "95/95 - 0s - loss: 88.1061 - root_mean_squared_error: 9.3865 - val_loss: 90.0653 - val_root_mean_squared_error: 9.4903\n",
      "Epoch 23/300\n",
      "95/95 - 0s - loss: 87.0984 - root_mean_squared_error: 9.3327 - val_loss: 89.1939 - val_root_mean_squared_error: 9.4443\n",
      "Epoch 24/300\n",
      "95/95 - 0s - loss: 86.1277 - root_mean_squared_error: 9.2805 - val_loss: 88.3677 - val_root_mean_squared_error: 9.4004\n",
      "Epoch 25/300\n",
      "95/95 - 0s - loss: 85.1985 - root_mean_squared_error: 9.2303 - val_loss: 87.5775 - val_root_mean_squared_error: 9.3583\n",
      "Epoch 26/300\n",
      "95/95 - 0s - loss: 84.3088 - root_mean_squared_error: 9.1820 - val_loss: 86.8232 - val_root_mean_squared_error: 9.3179\n",
      "Epoch 27/300\n",
      "95/95 - 0s - loss: 83.4632 - root_mean_squared_error: 9.1358 - val_loss: 86.1011 - val_root_mean_squared_error: 9.2791\n",
      "Epoch 28/300\n",
      "95/95 - 0s - loss: 82.6663 - root_mean_squared_error: 9.0921 - val_loss: 85.4254 - val_root_mean_squared_error: 9.2426\n",
      "Epoch 29/300\n",
      "95/95 - 0s - loss: 81.9208 - root_mean_squared_error: 9.0510 - val_loss: 84.8108 - val_root_mean_squared_error: 9.2093\n",
      "Epoch 30/300\n",
      "95/95 - 0s - loss: 81.2262 - root_mean_squared_error: 9.0126 - val_loss: 84.2585 - val_root_mean_squared_error: 9.1792\n",
      "Epoch 31/300\n",
      "95/95 - 0s - loss: 80.5825 - root_mean_squared_error: 8.9768 - val_loss: 83.7484 - val_root_mean_squared_error: 9.1514\n",
      "Epoch 32/300\n",
      "95/95 - 0s - loss: 79.9893 - root_mean_squared_error: 8.9437 - val_loss: 83.3138 - val_root_mean_squared_error: 9.1276\n",
      "Epoch 33/300\n",
      "95/95 - 0s - loss: 79.4478 - root_mean_squared_error: 8.9134 - val_loss: 82.9179 - val_root_mean_squared_error: 9.1059\n",
      "Epoch 34/300\n",
      "95/95 - 0s - loss: 78.9341 - root_mean_squared_error: 8.8845 - val_loss: 82.5298 - val_root_mean_squared_error: 9.0846\n",
      "Epoch 35/300\n",
      "95/95 - 0s - loss: 78.3987 - root_mean_squared_error: 8.8543 - val_loss: 82.1510 - val_root_mean_squared_error: 9.0637\n",
      "Epoch 36/300\n",
      "95/95 - 0s - loss: 77.8442 - root_mean_squared_error: 8.8229 - val_loss: 81.7886 - val_root_mean_squared_error: 9.0437\n",
      "Epoch 37/300\n",
      "95/95 - 0s - loss: 77.2276 - root_mean_squared_error: 8.7879 - val_loss: 81.4058 - val_root_mean_squared_error: 9.0225\n",
      "Epoch 38/300\n",
      "95/95 - 0s - loss: 76.6118 - root_mean_squared_error: 8.7528 - val_loss: 81.1435 - val_root_mean_squared_error: 9.0080\n",
      "Epoch 39/300\n",
      "95/95 - 0s - loss: 76.0366 - root_mean_squared_error: 8.7199 - val_loss: 80.9770 - val_root_mean_squared_error: 8.9987\n",
      "Epoch 40/300\n",
      "95/95 - 0s - loss: 75.4742 - root_mean_squared_error: 8.6876 - val_loss: 80.8712 - val_root_mean_squared_error: 8.9928\n",
      "Epoch 41/300\n",
      "95/95 - 0s - loss: 74.9141 - root_mean_squared_error: 8.6553 - val_loss: 80.7831 - val_root_mean_squared_error: 8.9879\n",
      "Epoch 42/300\n",
      "95/95 - 0s - loss: 74.3952 - root_mean_squared_error: 8.6253 - val_loss: 80.7709 - val_root_mean_squared_error: 8.9873\n",
      "Epoch 43/300\n",
      "95/95 - 0s - loss: 73.9095 - root_mean_squared_error: 8.5971 - val_loss: 80.8210 - val_root_mean_squared_error: 8.9901\n",
      "Epoch 44/300\n",
      "95/95 - 0s - loss: 73.4458 - root_mean_squared_error: 8.5701 - val_loss: 80.8781 - val_root_mean_squared_error: 8.9932\n",
      "Epoch 45/300\n",
      "95/95 - 0s - loss: 73.0074 - root_mean_squared_error: 8.5444 - val_loss: 80.9646 - val_root_mean_squared_error: 8.9980\n",
      "Epoch 46/300\n",
      "95/95 - 0s - loss: 72.6115 - root_mean_squared_error: 8.5212 - val_loss: 81.0557 - val_root_mean_squared_error: 9.0031\n",
      "Epoch 47/300\n",
      "95/95 - 0s - loss: 72.2346 - root_mean_squared_error: 8.4991 - val_loss: 81.1467 - val_root_mean_squared_error: 9.0081\n"
     ]
    }
   ],
   "source": [
    "# batch size, epoch, 조기종료조건 등 설정\n",
    "callbacks = [keras.callbacks.EarlyStopping(monitor='val_loss', patience=5),]\n",
    "# keras.callbacks.ModelCheckpoint(filepath='best_nn_model.h5', monitor='val_loss', save_best_only=True)]\n",
    "\n",
    "hist = model.fit(X_train, y_train, validation_data=(X_valid, y_valid), \n",
    "                 batch_size=128, epochs=300, callbacks=callbacks, shuffle=False, verbose=2)"
   ]
  },
  {
   "cell_type": "markdown",
   "metadata": {},
   "source": [
    "##### Visualize training history "
   ]
  },
  {
   "cell_type": "code",
   "execution_count": 11,
   "metadata": {},
   "outputs": [
    {
     "data": {
      "image/png": "[encoded data removed]",
      "text/plain": [
       "<Figure size 432x288 with 1 Axes>"
      ]
     },
     "metadata": {
      "needs_background": "light"
     },
     "output_type": "display_data"
    },
    {
     "data": {
      "image/png": "[encoded data removed]",
      "text/plain": [
       "<Figure size 432x288 with 1 Axes>"
      ]
     },
     "metadata": {
      "needs_background": "light"
     },
     "output_type": "display_data"
    }
   ],
   "source": [
    "# Loss\n",
    "plt.plot(hist.history[\"loss\"], label=\"train\")\n",
    "plt.plot(hist.history[\"val_loss\"], label=\"validation\")\n",
    "plt.legend()\n",
    "plt.xlabel('epoch')\n",
    "plt.title(\"Loss\")\n",
    "plt.show()\n",
    "\n",
    "# ROC-AUC\n",
    "plt.plot(hist.history[\"root_mean_squared_error\"], label=\"train\")\n",
    "plt.plot(hist.history[\"val_root_mean_squared_error\"], label=\"validation\")\n",
    "plt.legend()\n",
    "plt.xlabel('epoch')\n",
    "plt.title(\"RMSE\")\n",
    "plt.show()"
   ]
  },
  {
   "cell_type": "markdown",
   "metadata": {},
   "source": [
    "### Step 5: Evaluate the model performance"
   ]
  },
  {
   "cell_type": "code",
   "execution_count": 12,
   "metadata": {},
   "outputs": [
    {
     "name": "stdout",
     "output_type": "stream",
     "text": [
      "203/203 [==============================] - 0s 839us/step - loss: 82.6277 - root_mean_squared_error: 9.0900\n"
     ]
    },
    {
     "data": {
      "text/plain": [
       "[82.62773132324219, 9.089980125427246]"
      ]
     },
     "execution_count": 12,
     "metadata": {},
     "output_type": "execute_result"
    }
   ],
   "source": [
    "# Loss & RMSE\n",
    "model.evaluate(X_test, y_test)"
   ]
  },
  {
   "cell_type": "code",
   "execution_count": 13,
   "metadata": {},
   "outputs": [
    {
     "data": {
      "image/png": "[encoded data removed]",
      "text/plain": [
       "<Figure size 432x288 with 1 Axes>"
      ]
     },
     "metadata": {
      "needs_background": "light"
     },
     "output_type": "display_data"
    }
   ],
   "source": [
    "# Ground truth vs Prediction\n",
    "test_predictions = model.predict(X_test).flatten()\n",
    "plt.scatter(y_test, test_predictions, s=1)\n",
    "plt.xlabel('True Values')\n",
    "plt.ylabel('Predictions')\n",
    "plt.axis('equal')\n",
    "plt.axis('square')\n",
    "plt.xlim([0,plt.xlim()[1]])\n",
    "plt.ylim([0,plt.ylim()[1]])\n",
    "_ = plt.plot([0, 100], [0, 100])"
   ]
  },
  {
   "cell_type": "code",
   "execution_count": 14,
   "metadata": {},
   "outputs": [
    {
     "data": {
      "image/png": "[encoded data removed]",
      "text/plain": [
       "<Figure size 432x288 with 1 Axes>"
      ]
     },
     "metadata": {
      "needs_background": "light"
     },
     "output_type": "display_data"
    }
   ],
   "source": [
    "# Residual distribution\n",
    "error = test_predictions - y_test\n",
    "plt.hist(error, bins = 25, edgecolor='w')\n",
    "plt.xlabel(\"Prediction Error\")\n",
    "_ = plt.ylabel(\"Count\")"
   ]
  },
  {
   "cell_type": "markdown",
   "metadata": {},
   "source": [
    "### Step 6: Predict unseen data"
   ]
  },
  {
   "cell_type": "code",
   "execution_count": 15,
   "metadata": {},
   "outputs": [
    {
     "data": {
      "text/plain": [
       "array([42.465122, 46.40238 , 27.874964, ..., 36.2273  , 38.212864,\n",
       "       33.44091 ], dtype=float32)"
      ]
     },
     "execution_count": 15,
     "metadata": {},
     "output_type": "execute_result"
    }
   ],
   "source": [
    "# Generates output predictions for the input samples\n",
    "model.predict(X_dep).flatten()"
   ]
  },
  {
   "cell_type": "code",
   "execution_count": 16,
   "metadata": {},
   "outputs": [
    {
     "name": "stdout",
     "output_type": "stream",
     "text": [
      "'dnn_submission_06021352.csv' is ready to submit.\n"
     ]
    }
   ],
   "source": [
    "# Make submissions: (결과) 9.10175\n",
    "t = pd.Timestamp.now()\n",
    "fname = f\"dnn_submission_{t.month:02}{t.day:02}{t.hour:02}{t.minute:02}.csv\"\n",
    "pd.DataFrame({'custid': ID_dep, 'age': model.predict(X_dep).flatten()}).to_csv(fname, index=False)\n",
    "print(f\"'{fname}' is ready to submit.\")"
   ]
  },
  {
   "cell_type": "markdown",
   "metadata": {},
   "source": [
    "###  Step 7: Save the model for future use"
   ]
  },
  {
   "cell_type": "code",
   "execution_count": 17,
   "metadata": {},
   "outputs": [],
   "source": [
    "# pickle 형식으로 저장\n",
    "# with open('nn_model.pkl', 'wb') as f:\n",
    "#    pickle.dump(model, f)\n",
    "\n",
    "# 추후 저장한 모형 불러올 때: \n",
    "# model = pd.read_pickle('nn_model.pkl')"
   ]
  },
  {
   "cell_type": "code",
   "execution_count": 18,
   "metadata": {},
   "outputs": [],
   "source": [
    "# h5 형식으로 저장\n",
    "# model.save('nn_model.h5')\n",
    "\n",
    "# 추후 저장한 모형 불러올 때: \n",
    "# model = load_model('nn_model.h5')"
   ]
  },
  {
   "cell_type": "markdown",
   "metadata": {},
   "source": [
    "<font color=\"#CC3D3D\"><p>\n",
    "# End"
   ]
  }
 ],
 "metadata": {
  "kernelspec": {
   "display_name": "Python 3",
   "language": "python",
   "name": "python3"
  },
  "language_info": {
   "codemirror_mode": {
    "name": "ipython",
    "version": 3
   },
   "file_extension": ".py",
   "mimetype": "text/x-python",
   "name": "python",
   "nbconvert_exporter": "python",
   "pygments_lexer": "ipython3",
   "version": "3.7.6"
  }
 },
 "nbformat": 4,
 "nbformat_minor": 4
}
