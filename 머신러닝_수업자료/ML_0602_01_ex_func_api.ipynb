{
 "cells": [
  {
   "cell_type": "markdown",
   "metadata": {
    "colab_type": "text",
    "id": "Y7Gc_A1et7Ur"
   },
   "source": [
    "https://livebook.manning.com/book/deep-learning-with-python/chapter-7/1"
   ]
  },
  {
   "cell_type": "markdown",
   "metadata": {
    "colab_type": "text",
    "id": "Y7Gc_A1et7Ur"
   },
   "source": [
    "<font color=\"#CC3D3D\"><p>\n",
    "## 연습문제\n",
    "- **아래 그림과 동일한 아키텍처를 갖는 Deep Neural Network을 정의하고 시각화하시오.**"
   ]
  },
  {
   "cell_type": "code",
   "execution_count": null,
   "metadata": {},
   "outputs": [],
   "source": [
    "from IPython.display import Image\n",
    "import tensorflow as tf\n",
    "from tensorflow import keras\n",
    "print(tf.__version__)"
   ]
  },
  {
   "cell_type": "markdown",
   "metadata": {
    "colab_type": "text",
    "id": "FNSoKAYFt7Ur"
   },
   "source": [
    "### 문제1) A sequential DNN model\n",
    "<img align='left' src='http://drive.google.com/uc?export=view&id=16b6KBTi0oMsADcqpAZQ1V7YV4eXgBukR'> "
   ]
  },
  {
   "cell_type": "code",
   "execution_count": null,
   "metadata": {
    "colab": {
     "autoexec": {
      "startup": false,
      "wait_interval": 0
     }
    },
    "colab_type": "code",
    "id": "w9_MOKcht7Ur",
    "outputId": "62e5ad85-8c81-4f1f-907c-9baebe0f684c"
   },
   "outputs": [],
   "source": [
    "# 아래에 코드를 입력하세요.\n",
    "\n",
    "\n",
    "# Image(keras.utils.model_to_dot(model,show_shapes=True, show_layer_names=False).create(prog='dot', format='png'))"
   ]
  },
  {
   "cell_type": "markdown",
   "metadata": {},
   "source": [
    "### 문제2) A multi-input DNN model\n",
    "<img align='left' src='http://drive.google.com/uc?export=view&id=1pU6R-Z6ZMiQ5u2SBp1ZIiYa9Ql1Km4s_'>   "
   ]
  },
  {
   "cell_type": "code",
   "execution_count": null,
   "metadata": {},
   "outputs": [],
   "source": [
    "# 아래에 코드를 입력하세요.\n",
    "\n",
    "\n",
    "# Image(keras.utils.model_to_dot(model,show_shapes=True, show_layer_names=False).create(prog='dot', format='png'))"
   ]
  },
  {
   "cell_type": "markdown",
   "metadata": {},
   "source": [
    "### 문제3) A multi-output (or multihead) DNN model\n",
    "<img align='left' src='http://drive.google.com/uc?export=view&id=1hKj6xBB2ZjgJgv9zI1-wPe5JlSwDv5Po'>   "
   ]
  },
  {
   "cell_type": "code",
   "execution_count": null,
   "metadata": {},
   "outputs": [],
   "source": [
    "# 아래에 코드를 입력하세요.\n",
    "\n",
    "\n",
    "# Image(keras.utils.model_to_dot(model,show_shapes=True, show_layer_names=False).create(prog='dot', format='png'))"
   ]
  },
  {
   "cell_type": "markdown",
   "metadata": {
    "colab_type": "text",
    "id": "DYrktJGCt7Uv"
   },
   "source": [
    "### 문제4) A residual connections\n",
    "<img align='left' src='http://drive.google.com/uc?export=view&id=1fkB0vlBSVp4EJWFDaoYYXJLvHXf-QGk3'>"
   ]
  },
  {
   "cell_type": "code",
   "execution_count": null,
   "metadata": {
    "colab": {
     "autoexec": {
      "startup": false,
      "wait_interval": 0
     }
    },
    "colab_type": "code",
    "id": "1uLEfUmOt7Uw",
    "outputId": "8cc32c03-092d-4b73-ac63-a5b2013e25f9"
   },
   "outputs": [],
   "source": [
    "# 아래에 코드를 입력하세요.\n",
    "\n",
    "\n",
    "# Image(keras.utils.model_to_dot(model,show_shapes=True, show_layer_names=False).create(prog='dot', format='png'))"
   ]
  },
  {
   "cell_type": "markdown",
   "metadata": {},
   "source": [
    "<font color=\"#CC3D3D\"><p>\n",
    "## End"
   ]
  }
 ],
 "metadata": {
  "colab": {
   "default_view": {},
   "name": "개인과제_3.ipynb",
   "provenance": [],
   "version": "0.3.2",
   "views": {}
  },
  "kernelspec": {
   "display_name": "Python 3",
   "language": "python",
   "name": "python3"
  },
  "language_info": {
   "codemirror_mode": {
    "name": "ipython",
    "version": 3
   },
   "file_extension": ".py",
   "mimetype": "text/x-python",
   "name": "python",
   "nbconvert_exporter": "python",
   "pygments_lexer": "ipython3",
   "version": "3.8.5"
  }
 },
 "nbformat": 4,
 "nbformat_minor": 4
}
