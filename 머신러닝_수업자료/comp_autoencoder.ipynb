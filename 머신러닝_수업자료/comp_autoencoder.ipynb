{
 "cells": [
  {
   "cell_type": "markdown",
   "metadata": {
    "_uuid": "93b41229599509f643f1c1df3b86b3f79b66666f"
   },
   "source": [
    "<font color='tomato'><font color=\"#CC3D3D\"><p>\n",
    "# AutoEncoder\n",
    "* Applying Autoencoder to reduce the number of features"
   ]
  },
  {
   "cell_type": "markdown",
   "metadata": {},
   "source": [
    "<img align='left' src=\"https://blog.keras.io/img/ae/autoencoder_schema.jpg\" width=700 height=500>"
   ]
  },
  {
   "cell_type": "markdown",
   "metadata": {},
   "source": [
    "#### Imports"
   ]
  },
  {
   "cell_type": "code",
   "execution_count": 1,
   "metadata": {
    "_cell_guid": "79c7e3d0-c299-4dcb-8224-4455121ee9b0",
    "_uuid": "d629ff2d2480ee46fbb7e2d37f6b5fab8052498a"
   },
   "outputs": [
    {
     "name": "stdout",
     "output_type": "stream",
     "text": [
      "2.3.1\n"
     ]
    },
    {
     "name": "stderr",
     "output_type": "stream",
     "text": [
      "Using TensorFlow backend.\n"
     ]
    }
   ],
   "source": [
    "import pandas as pd\n",
    "import numpy as np\n",
    "import os\n",
    "import random\n",
    "import pickle\n",
    "from IPython.display import Image\n",
    "import seaborn as sns\n",
    "import matplotlib.pylab as plt\n",
    "from matplotlib import font_manager, rc\n",
    "%matplotlib inline\n",
    "from sklearn.preprocessing import StandardScaler\n",
    "\n",
    "import tensorflow as tf\n",
    "from tensorflow import keras\n",
    "import keras.backend as K\n",
    "\n",
    "print(tf.__version__)"
   ]
  },
  {
   "cell_type": "markdown",
   "metadata": {},
   "source": [
    "#### Make DNN output reproducible"
   ]
  },
  {
   "cell_type": "code",
   "execution_count": 2,
   "metadata": {},
   "outputs": [
    {
     "name": "stdout",
     "output_type": "stream",
     "text": [
      "RANDOM SEEDS RESET\n"
     ]
    }
   ],
   "source": [
    "# 매번 모델링을 할 때마다 동일한 결과를 얻으려면 아래 코드를 실행해야 함.\n",
    "\n",
    "def reset_seeds(reset_graph_with_backend=None):\n",
    "    if reset_graph_with_backend is not None:\n",
    "        K = reset_graph_with_backend\n",
    "        K.clear_session()\n",
    "        tf.compat.v1.reset_default_graph()\n",
    "        print(\"KERAS AND TENSORFLOW GRAPHS RESET\")  # optional\n",
    "\n",
    "    np.random.seed(1)\n",
    "    random.seed(2)\n",
    "    tf.compat.v1.set_random_seed(3)\n",
    "    os.environ['CUDA_VISIBLE_DEVICES'] = ''  # for GPU\n",
    "    print(\"RANDOM SEEDS RESET\")  # optional\n",
    "   \n",
    "reset_seeds()"
   ]
  },
  {
   "cell_type": "markdown",
   "metadata": {
    "_uuid": "dd7e3527fd56e5b5855c6846ca226f5f860f725b"
   },
   "source": [
    "### Read Data"
   ]
  },
  {
   "cell_type": "code",
   "execution_count": 3,
   "metadata": {
    "_uuid": "794123064b09797f51add356a676fb6a7aed015d"
   },
   "outputs": [
    {
     "data": {
      "text/html": [
       "<div>\n",
       "<style scoped>\n",
       "    .dataframe tbody tr th:only-of-type {\n",
       "        vertical-align: middle;\n",
       "    }\n",
       "\n",
       "    .dataframe tbody tr th {\n",
       "        vertical-align: top;\n",
       "    }\n",
       "\n",
       "    .dataframe thead th {\n",
       "        text-align: right;\n",
       "    }\n",
       "</style>\n",
       "<table border=\"1\" class=\"dataframe\">\n",
       "  <thead>\n",
       "    <tr style=\"text-align: right;\">\n",
       "      <th></th>\n",
       "      <th>custid</th>\n",
       "      <th>sales_month</th>\n",
       "      <th>sales_day</th>\n",
       "      <th>sales_dayofweek</th>\n",
       "      <th>sales_time</th>\n",
       "      <th>str_nm</th>\n",
       "      <th>goodcd</th>\n",
       "      <th>brd_nm</th>\n",
       "      <th>corner_nm</th>\n",
       "      <th>pc_nm</th>\n",
       "      <th>part_nm</th>\n",
       "      <th>team_nm</th>\n",
       "      <th>buyer_nm</th>\n",
       "      <th>import_flg</th>\n",
       "      <th>tot_amt</th>\n",
       "      <th>dis_amt</th>\n",
       "      <th>net_amt</th>\n",
       "      <th>inst_mon</th>\n",
       "      <th>inst_fee</th>\n",
       "    </tr>\n",
       "  </thead>\n",
       "  <tbody>\n",
       "    <tr>\n",
       "      <th>0</th>\n",
       "      <td>0</td>\n",
       "      <td>6</td>\n",
       "      <td>25</td>\n",
       "      <td>일</td>\n",
       "      <td>1212</td>\n",
       "      <td>무역점</td>\n",
       "      <td>2116050008000</td>\n",
       "      <td>에스티로더</td>\n",
       "      <td>수입종합화장품</td>\n",
       "      <td>화장품</td>\n",
       "      <td>명품잡화</td>\n",
       "      <td>잡화가용팀</td>\n",
       "      <td>화장품</td>\n",
       "      <td>1</td>\n",
       "      <td>90000</td>\n",
       "      <td>9000</td>\n",
       "      <td>81000</td>\n",
       "      <td>3</td>\n",
       "      <td>0</td>\n",
       "    </tr>\n",
       "    <tr>\n",
       "      <th>1</th>\n",
       "      <td>0</td>\n",
       "      <td>6</td>\n",
       "      <td>25</td>\n",
       "      <td>일</td>\n",
       "      <td>1242</td>\n",
       "      <td>무역점</td>\n",
       "      <td>4125440008000</td>\n",
       "      <td>시슬리</td>\n",
       "      <td>수입종합화장품</td>\n",
       "      <td>화장품</td>\n",
       "      <td>명품잡화</td>\n",
       "      <td>잡화가용팀</td>\n",
       "      <td>화장품</td>\n",
       "      <td>1</td>\n",
       "      <td>39000</td>\n",
       "      <td>3900</td>\n",
       "      <td>35100</td>\n",
       "      <td>1</td>\n",
       "      <td>0</td>\n",
       "    </tr>\n",
       "    <tr>\n",
       "      <th>2</th>\n",
       "      <td>0</td>\n",
       "      <td>8</td>\n",
       "      <td>26</td>\n",
       "      <td>토</td>\n",
       "      <td>1810</td>\n",
       "      <td>본점</td>\n",
       "      <td>2116052008000</td>\n",
       "      <td>크리니크</td>\n",
       "      <td>수입종합화장품</td>\n",
       "      <td>화장품</td>\n",
       "      <td>잡화파트</td>\n",
       "      <td>잡화가용팀</td>\n",
       "      <td>화장품</td>\n",
       "      <td>1</td>\n",
       "      <td>175000</td>\n",
       "      <td>17500</td>\n",
       "      <td>157500</td>\n",
       "      <td>3</td>\n",
       "      <td>0</td>\n",
       "    </tr>\n",
       "    <tr>\n",
       "      <th>3</th>\n",
       "      <td>0</td>\n",
       "      <td>8</td>\n",
       "      <td>26</td>\n",
       "      <td>토</td>\n",
       "      <td>1830</td>\n",
       "      <td>본점</td>\n",
       "      <td>4106430119900</td>\n",
       "      <td>듀퐁</td>\n",
       "      <td>수입의류</td>\n",
       "      <td>명품토탈</td>\n",
       "      <td>잡화파트</td>\n",
       "      <td>잡화가용팀</td>\n",
       "      <td>수입명품</td>\n",
       "      <td>1</td>\n",
       "      <td>455000</td>\n",
       "      <td>45500</td>\n",
       "      <td>409500</td>\n",
       "      <td>3</td>\n",
       "      <td>0</td>\n",
       "    </tr>\n",
       "    <tr>\n",
       "      <th>4</th>\n",
       "      <td>0</td>\n",
       "      <td>9</td>\n",
       "      <td>3</td>\n",
       "      <td>일</td>\n",
       "      <td>1802</td>\n",
       "      <td>무역점</td>\n",
       "      <td>2139141008000</td>\n",
       "      <td>랑콤</td>\n",
       "      <td>수입종합화장품</td>\n",
       "      <td>화장품</td>\n",
       "      <td>명품잡화</td>\n",
       "      <td>잡화가용팀</td>\n",
       "      <td>화장품</td>\n",
       "      <td>0</td>\n",
       "      <td>100000</td>\n",
       "      <td>10000</td>\n",
       "      <td>90000</td>\n",
       "      <td>3</td>\n",
       "      <td>0</td>\n",
       "    </tr>\n",
       "  </tbody>\n",
       "</table>\n",
       "</div>"
      ],
      "text/plain": [
       "   custid  sales_month  sales_day sales_dayofweek  sales_time str_nm  \\\n",
       "0       0            6         25               일        1212    무역점   \n",
       "1       0            6         25               일        1242    무역점   \n",
       "2       0            8         26               토        1810     본점   \n",
       "3       0            8         26               토        1830     본점   \n",
       "4       0            9          3               일        1802    무역점   \n",
       "\n",
       "          goodcd brd_nm corner_nm pc_nm part_nm team_nm buyer_nm  import_flg  \\\n",
       "0  2116050008000  에스티로더   수입종합화장품   화장품    명품잡화   잡화가용팀      화장품           1   \n",
       "1  4125440008000    시슬리   수입종합화장품   화장품    명품잡화   잡화가용팀      화장품           1   \n",
       "2  2116052008000   크리니크   수입종합화장품   화장품    잡화파트   잡화가용팀      화장품           1   \n",
       "3  4106430119900     듀퐁      수입의류  명품토탈    잡화파트   잡화가용팀     수입명품           1   \n",
       "4  2139141008000     랑콤   수입종합화장품   화장품    명품잡화   잡화가용팀      화장품           0   \n",
       "\n",
       "   tot_amt  dis_amt  net_amt  inst_mon  inst_fee  \n",
       "0    90000     9000    81000         3         0  \n",
       "1    39000     3900    35100         1         0  \n",
       "2   175000    17500   157500         3         0  \n",
       "3   455000    45500   409500         3         0  \n",
       "4   100000    10000    90000         3         0  "
      ]
     },
     "execution_count": 3,
     "metadata": {},
     "output_type": "execute_result"
    }
   ],
   "source": [
    "tr_train = pd.read_csv('X_train.csv', encoding='cp949')\n",
    "tr_test = pd.read_csv('X_test.csv', encoding='cp949')\n",
    "y_train = pd.read_csv('y_train.csv').age\n",
    "IDtest = tr_test.custid.unique()\n",
    "\n",
    "tr_train.head()"
   ]
  },
  {
   "cell_type": "markdown",
   "metadata": {
    "_uuid": "8fdb273f73bbee0a8f11b33be46446b6825e9b6a"
   },
   "source": [
    "### Make BOW-based Features"
   ]
  },
  {
   "cell_type": "code",
   "execution_count": 4,
   "metadata": {
    "_uuid": "e258620d0d00d3a2924a9b041c4fd2bef5ab2ed9",
    "scrolled": true
   },
   "outputs": [
    {
     "data": {
      "text/plain": [
       "((21587, 1873), (14380, 1873))"
      ]
     },
     "execution_count": 4,
     "metadata": {},
     "output_type": "execute_result"
    }
   ],
   "source": [
    "features = ['brd_nm']\n",
    "\n",
    "tr_all = pd.concat([tr_train, tr_test])\n",
    "train = []\n",
    "test = []\n",
    "\n",
    "for f in features:\n",
    "    for d,q in zip([train, test], ['custid not in @IDtest', 'custid in @IDtest']):\n",
    "        d.append(pd.pivot_table(tr_all, index='custid', columns=f, values='tot_amt',\n",
    "                                aggfunc=lambda x: np.where(len(x) >=1, 1, 0), fill_value=0)                 \n",
    "                 .reset_index()\n",
    "                 .query(q)\n",
    "                 .drop(columns=['custid']).values)\n",
    " \n",
    "train, test = np.hstack(train),  np.hstack(test)\n",
    "\n",
    "train.shape, test.shape"
   ]
  },
  {
   "cell_type": "markdown",
   "metadata": {
    "_uuid": "e164a8c9f319c2d69804b54236e55b98fa9fdef5"
   },
   "source": [
    "### Reduce Dimensionality using Autoencoder"
   ]
  },
  {
   "cell_type": "code",
   "execution_count": 5,
   "metadata": {
    "_uuid": "9b9fb17eaecd326dea504e129f4cf43ea7c11cea"
   },
   "outputs": [
    {
     "name": "stdout",
     "output_type": "stream",
     "text": [
      "Model: \"functional_1\"\n",
      "_________________________________________________________________\n",
      "Layer (type)                 Output Shape              Param #   \n",
      "=================================================================\n",
      "input_1 (InputLayer)         [(None, 1873)]            0         \n",
      "_________________________________________________________________\n",
      "dense (Dense)                (None, 512)               959488    \n",
      "_________________________________________________________________\n",
      "dense_1 (Dense)              (None, 256)               131328    \n",
      "_________________________________________________________________\n",
      "dense_2 (Dense)              (None, 128)               32896     \n",
      "_________________________________________________________________\n",
      "dense_3 (Dense)              (None, 128)               16512     \n",
      "_________________________________________________________________\n",
      "dense_4 (Dense)              (None, 128)               16512     \n",
      "_________________________________________________________________\n",
      "dense_5 (Dense)              (None, 256)               33024     \n",
      "_________________________________________________________________\n",
      "dense_6 (Dense)              (None, 512)               131584    \n",
      "_________________________________________________________________\n",
      "dense_7 (Dense)              (None, 1873)              960849    \n",
      "=================================================================\n",
      "Total params: 2,282,193\n",
      "Trainable params: 2,282,193\n",
      "Non-trainable params: 0\n",
      "_________________________________________________________________\n",
      "Epoch 1/20\n",
      "338/338 [==============================] - 7s 19ms/step - loss: 0.0071 - val_loss: 0.0066\n",
      "Epoch 2/20\n",
      "338/338 [==============================] - 6s 17ms/step - loss: 0.0063 - val_loss: 0.0062\n",
      "Epoch 3/20\n",
      "338/338 [==============================] - 6s 17ms/step - loss: 0.0060 - val_loss: 0.0059\n",
      "Epoch 4/20\n",
      "338/338 [==============================] - 6s 18ms/step - loss: 0.0058 - val_loss: 0.0058\n",
      "Epoch 5/20\n",
      "338/338 [==============================] - 6s 17ms/step - loss: 0.0057 - val_loss: 0.0057\n",
      "Epoch 6/20\n",
      "338/338 [==============================] - 6s 18ms/step - loss: 0.0056 - val_loss: 0.0056\n",
      "Epoch 7/20\n",
      "338/338 [==============================] - 6s 18ms/step - loss: 0.0055 - val_loss: 0.0055\n",
      "Epoch 8/20\n",
      "338/338 [==============================] - 6s 18ms/step - loss: 0.0054 - val_loss: 0.0055\n",
      "Epoch 9/20\n",
      "338/338 [==============================] - 6s 18ms/step - loss: 0.0053 - val_loss: 0.0055\n",
      "Epoch 10/20\n",
      "338/338 [==============================] - 6s 17ms/step - loss: 0.0052 - val_loss: 0.0054\n",
      "Epoch 11/20\n",
      "338/338 [==============================] - 6s 17ms/step - loss: 0.0052 - val_loss: 0.0053\n",
      "Epoch 12/20\n",
      "338/338 [==============================] - 6s 17ms/step - loss: 0.0051 - val_loss: 0.0053\n",
      "Epoch 13/20\n",
      "338/338 [==============================] - 6s 17ms/step - loss: 0.0050 - val_loss: 0.0053\n",
      "Epoch 14/20\n",
      "338/338 [==============================] - 6s 17ms/step - loss: 0.0050 - val_loss: 0.0052\n",
      "Epoch 15/20\n",
      "338/338 [==============================] - 6s 18ms/step - loss: 0.0049 - val_loss: 0.0052\n",
      "Epoch 16/20\n",
      "338/338 [==============================] - 6s 17ms/step - loss: 0.0049 - val_loss: 0.0052\n",
      "Epoch 17/20\n",
      "338/338 [==============================] - 6s 18ms/step - loss: 0.0048 - val_loss: 0.0052\n",
      "Epoch 18/20\n",
      "338/338 [==============================] - 6s 18ms/step - loss: 0.0048 - val_loss: 0.0051\n",
      "Epoch 19/20\n",
      "338/338 [==============================] - 6s 17ms/step - loss: 0.0048 - val_loss: 0.0051\n",
      "Epoch 20/20\n",
      "338/338 [==============================] - 6s 18ms/step - loss: 0.0047 - val_loss: 0.0051\n"
     ]
    },
    {
     "data": {
      "image/png": "[encoded data removed]",
      "text/plain": [
       "<Figure size 432x288 with 1 Axes>"
      ]
     },
     "metadata": {
      "needs_background": "light"
     },
     "output_type": "display_data"
    }
   ],
   "source": [
    "# Define the number of features\n",
    "max_features = train.shape[1]\n",
    "\n",
    "# Define the encoder dimension\n",
    "encoding_dim = 128\n",
    "\n",
    "# Input Layer\n",
    "input_dim = keras.Input(shape = (max_features, ))\n",
    "\n",
    "# Encoder Layers\n",
    "noise = keras.layers.Dropout(0.5)(input_dim) # for Denoising\n",
    "encoded1 = keras.layers.Dense(512, activation = 'relu')(input_dim)\n",
    "encoded2 = keras.layers.Dense(256, activation = 'relu')(encoded1)\n",
    "encoded3 = keras.layers.Dense(128, activation = 'relu')(encoded2)\n",
    "encoded4 = keras.layers.Dense(encoding_dim, activation = 'relu')(encoded3)\n",
    "\n",
    "# Decoder Layers\n",
    "decoded1 = keras.layers.Dense(128, activation = 'relu')(encoded4)\n",
    "decoded2 = keras.layers.Dense(256, activation = 'relu')(decoded1)\n",
    "decoded3 = keras.layers.Dense(512, activation = 'relu')(decoded2)\n",
    "decoded4 = keras.layers.Dense(max_features, activation = 'linear')(decoded3)\n",
    "\n",
    "# Combine Encoder and Deocder layers\n",
    "autoencoder = keras.Model(inputs = input_dim, outputs = decoded4)\n",
    "autoencoder.summary()\n",
    "\n",
    "# Compile the model\n",
    "autoencoder.compile(optimizer = 'adam', loss = 'mse')\n",
    "\n",
    "# Train the model\n",
    "history = autoencoder.fit(train, train, epochs=20, batch_size=64, \n",
    "                          shuffle=True, validation_data=(test,test))\n",
    "\n",
    "plt.plot(history.history[\"loss\"], label=\"train loss\")\n",
    "plt.plot(history.history[\"val_loss\"], label=\"validation loss\")\n",
    "plt.legend()\n",
    "plt.title(\"Loss\")\n",
    "plt.show()"
   ]
  },
  {
   "cell_type": "code",
   "execution_count": 6,
   "metadata": {
    "_uuid": "6dd0e229a627e051f3141d4bb3c3d9970953dba0"
   },
   "outputs": [
    {
     "data": {
      "text/plain": [
       "((21587, 128), (14380, 128))"
      ]
     },
     "execution_count": 6,
     "metadata": {},
     "output_type": "execute_result"
    }
   ],
   "source": [
    "# Use a middle Bottleneck Layer to Reduce Dimension\n",
    "hidden_act = [encoded4]\n",
    "for ix, act in enumerate(hidden_act):\n",
    "    model = keras.Model(inputs=input_dim, outputs=act)\n",
    "    if ix == 0: \n",
    "        X_train = model.predict(train)\n",
    "        X_test = model.predict(test)\n",
    "    else:\n",
    "        X_train = np.hstack([X_train, model.predict(train)])\n",
    "        X_test = np.hstack([X_test, model.predict(test)])\n",
    "        \n",
    "X_train.shape, X_test.shape"
   ]
  },
  {
   "cell_type": "markdown",
   "metadata": {
    "_uuid": "756511749ed6b1dcd34e791c15f041d4e47f9df4"
   },
   "source": [
    "### Build Models"
   ]
  },
  {
   "cell_type": "code",
   "execution_count": 7,
   "metadata": {
    "_uuid": "5e470379b59e72b66cc024f62ba5ac514f7cf15b"
   },
   "outputs": [
    {
     "name": "stdout",
     "output_type": "stream",
     "text": [
      "Model: \"functional_5\"\n",
      "_________________________________________________________________\n",
      "Layer (type)                 Output Shape              Param #   \n",
      "=================================================================\n",
      "input_2 (InputLayer)         [(None, 128)]             0         \n",
      "_________________________________________________________________\n",
      "dense_8 (Dense)              (None, 32)                4128      \n",
      "_________________________________________________________________\n",
      "dropout_1 (Dropout)          (None, 32)                0         \n",
      "_________________________________________________________________\n",
      "dense_9 (Dense)              (None, 16)                528       \n",
      "_________________________________________________________________\n",
      "dropout_2 (Dropout)          (None, 16)                0         \n",
      "_________________________________________________________________\n",
      "dense_10 (Dense)             (None, 1)                 17        \n",
      "=================================================================\n",
      "Total params: 4,673\n",
      "Trainable params: 4,673\n",
      "Non-trainable params: 0\n",
      "_________________________________________________________________\n",
      "Epoch 1/100\n",
      "270/270 [==============================] - 0s 2ms/step - loss: 501.4665 - root_mean_squared_error: 22.3934 - val_loss: 219.1224 - val_root_mean_squared_error: 14.8028\n",
      "Epoch 2/100\n",
      "270/270 [==============================] - 0s 1ms/step - loss: 275.9885 - root_mean_squared_error: 16.6129 - val_loss: 171.6571 - val_root_mean_squared_error: 13.1018\n",
      "Epoch 3/100\n",
      "270/270 [==============================] - 0s 1ms/step - loss: 210.9548 - root_mean_squared_error: 14.5243 - val_loss: 123.6420 - val_root_mean_squared_error: 11.1194\n",
      "Epoch 4/100\n",
      "270/270 [==============================] - 0s 1ms/step - loss: 168.4968 - root_mean_squared_error: 12.9806 - val_loss: 114.3937 - val_root_mean_squared_error: 10.6955\n",
      "Epoch 5/100\n",
      "270/270 [==============================] - 0s 1ms/step - loss: 159.1358 - root_mean_squared_error: 12.6149 - val_loss: 89.6546 - val_root_mean_squared_error: 9.4686\n",
      "Epoch 6/100\n",
      "270/270 [==============================] - 0s 2ms/step - loss: 152.9360 - root_mean_squared_error: 12.3667 - val_loss: 94.4567 - val_root_mean_squared_error: 9.7189\n",
      "Epoch 7/100\n",
      "270/270 [==============================] - 0s 1ms/step - loss: 152.3960 - root_mean_squared_error: 12.3449 - val_loss: 88.3224 - val_root_mean_squared_error: 9.3980\n",
      "Epoch 8/100\n",
      "270/270 [==============================] - 0s 2ms/step - loss: 151.5055 - root_mean_squared_error: 12.3088 - val_loss: 97.1021 - val_root_mean_squared_error: 9.8540\n",
      "Epoch 9/100\n",
      "270/270 [==============================] - 0s 1ms/step - loss: 149.1343 - root_mean_squared_error: 12.2121 - val_loss: 94.4719 - val_root_mean_squared_error: 9.7197\n",
      "Epoch 10/100\n",
      "270/270 [==============================] - 0s 1ms/step - loss: 146.0534 - root_mean_squared_error: 12.0853 - val_loss: 88.7653 - val_root_mean_squared_error: 9.4215\n",
      "Epoch 11/100\n",
      "270/270 [==============================] - 0s 2ms/step - loss: 144.9582 - root_mean_squared_error: 12.0399 - val_loss: 86.9980 - val_root_mean_squared_error: 9.3273\n",
      "Epoch 12/100\n",
      "270/270 [==============================] - 0s 1ms/step - loss: 142.6398 - root_mean_squared_error: 11.9432 - val_loss: 86.1367 - val_root_mean_squared_error: 9.2810\n",
      "Epoch 13/100\n",
      "270/270 [==============================] - 0s 1ms/step - loss: 143.6825 - root_mean_squared_error: 11.9868 - val_loss: 88.0103 - val_root_mean_squared_error: 9.3814\n",
      "Epoch 14/100\n",
      "270/270 [==============================] - 0s 1ms/step - loss: 141.1207 - root_mean_squared_error: 11.8794 - val_loss: 88.9154 - val_root_mean_squared_error: 9.4295\n",
      "Epoch 15/100\n",
      "270/270 [==============================] - 0s 1ms/step - loss: 139.2525 - root_mean_squared_error: 11.8005 - val_loss: 90.5426 - val_root_mean_squared_error: 9.5154\n",
      "Epoch 16/100\n",
      "270/270 [==============================] - 0s 1ms/step - loss: 138.7714 - root_mean_squared_error: 11.7801 - val_loss: 94.3481 - val_root_mean_squared_error: 9.7133\n",
      "Epoch 17/100\n",
      "270/270 [==============================] - 0s 2ms/step - loss: 136.2673 - root_mean_squared_error: 11.6734 - val_loss: 90.8290 - val_root_mean_squared_error: 9.5304\n"
     ]
    },
    {
     "data": {
      "image/png": "[encoded data removed]",
      "text/plain": [
       "<Figure size 432x288 with 1 Axes>"
      ]
     },
     "metadata": {
      "needs_background": "light"
     },
     "output_type": "display_data"
    }
   ],
   "source": [
    "# Define the number of features\n",
    "max_features = X_train.shape[1]\n",
    "\n",
    "# Define the Model architecture\n",
    "input = keras.Input(shape = (max_features, ))\n",
    "x = keras.layers.Dense(32, activation='relu')(input)\n",
    "x = keras.layers.Dropout(0.3)(x)\n",
    "x = keras.layers.Dense(16, activation='relu')(x)\n",
    "x = keras.layers.Dropout(0.3)(x)\n",
    "output = keras.layers.Dense(1, activation='linear')(x)\n",
    "\n",
    "model = keras.Model(inputs=input, outputs=output)\n",
    "model.summary()\n",
    "\n",
    "# Train the Model\n",
    "model.compile(optimizer='adam', loss='mse', metrics=[keras.metrics.RootMeanSquaredError()])\n",
    "history = model.fit(X_train, y_train, epochs=100, batch_size=64, \n",
    "                    validation_split=0.2, callbacks=[keras.callbacks.EarlyStopping(patience=5)])\n",
    "\n",
    "plt.plot(history.history[\"loss\"], label=\"train loss\")\n",
    "plt.plot(history.history[\"val_loss\"], label=\"validation loss\")\n",
    "plt.legend()\n",
    "plt.title(\"Loss\")\n",
    "plt.show()"
   ]
  },
  {
   "cell_type": "markdown",
   "metadata": {
    "_uuid": "842573936f8fbc2fc01cbbd7ca485be6cb3601bb"
   },
   "source": [
    "### Make Submissions"
   ]
  },
  {
   "cell_type": "code",
   "execution_count": 8,
   "metadata": {
    "_uuid": "7b6db88f3e4dee0f7f2264916edda431ac7bb72b"
   },
   "outputs": [
    {
     "name": "stdout",
     "output_type": "stream",
     "text": [
      "'AE_submission_06042056.csv' is ready to submit.\n"
     ]
    }
   ],
   "source": [
    "pred = model.predict(X_test).flatten()\n",
    "t = pd.Timestamp.now()\n",
    "fname = f\"AE_submission_{t.month:02}{t.day:02}{t.hour:02}{t.minute:02}.csv\"\n",
    "submissions = pd.concat([pd.Series(IDtest, name=\"custid\"), pd.Series(pred, name=\"age\")] ,axis=1)\n",
    "submissions.to_csv(fname, index=False)\n",
    "print(f\"'{fname}' is ready to submit.\")"
   ]
  },
  {
   "cell_type": "markdown",
   "metadata": {},
   "source": [
    "<font color='blue'><p>\n",
    "### 추가 고려사항\n",
    "- Denoising Autoencoder (DAE)가 더 성능이 좋다고 알려져 있음   \n",
    "- DAE 구현방식  \n",
    "    \n",
    "<img align='left' src='https://img1.daumcdn.net/thumb/R720x0.q80/?scode=mtistory2&fname=http%3A%2F%2Fcfile24.uf.tistory.com%2Fimage%2F992860505BDC99320A2AA2'>  "
   ]
  },
  {
   "cell_type": "markdown",
   "metadata": {
    "_uuid": "db6a418af5947fb6d1546dc8949ac55663504f18"
   },
   "source": [
    "<font color='tomato'><font color=\"#CC3D3D\"><p>\n",
    "# End"
   ]
  }
 ],
 "metadata": {
  "kernelspec": {
   "display_name": "Python 3",
   "language": "python",
   "name": "python3"
  },
  "language_info": {
   "codemirror_mode": {
    "name": "ipython",
    "version": 3
   },
   "file_extension": ".py",
   "mimetype": "text/x-python",
   "name": "python",
   "nbconvert_exporter": "python",
   "pygments_lexer": "ipython3",
   "version": "3.7.6"
  }
 },
 "nbformat": 4,
 "nbformat_minor": 1
}
