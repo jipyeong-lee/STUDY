{
 "cells": [
  {
   "cell_type": "code",
   "execution_count": 1,
   "metadata": {},
   "outputs": [],
   "source": [
    "###########################\n",
    "# 라이브러리 사용\n",
    "import tensorflow as tf\n",
    "import pandas as pd"
   ]
  },
  {
   "cell_type": "code",
   "execution_count": 2,
   "metadata": {},
   "outputs": [
    {
     "name": "stdout",
     "output_type": "stream",
     "text": [
      "(60000, 784) (60000, 10)\n"
     ]
    }
   ],
   "source": [
    "###########################\n",
    "# with reshape\n",
    " \n",
    "# 데이터를 준비하고\n",
    "(독립, 종속), _ = tf.keras.datasets.mnist.load_data()\n",
    "독립 = 독립.reshape(60000, 784)\n",
    "종속 = pd.get_dummies(종속)\n",
    "print(독립.shape, 종속.shape)"
   ]
  },
  {
   "cell_type": "code",
   "execution_count": 3,
   "metadata": {},
   "outputs": [],
   "source": [
    "# 모델을 만들고\n",
    "X = tf.keras.layers.Input(shape=[784])\n",
    "H = tf.keras.layers.Dense(84, activation='swish')(X)\n",
    "Y = tf.keras.layers.Dense(10, activation='softmax')(H)\n",
    "model = tf.keras.models.Model(X, Y)\n",
    "model.compile(loss='categorical_crossentropy', metrics='accuracy')"
   ]
  },
  {
   "cell_type": "code",
   "execution_count": 4,
   "metadata": {},
   "outputs": [
    {
     "name": "stdout",
     "output_type": "stream",
     "text": [
      "Epoch 1/10\n",
      "1875/1875 [==============================] - 2s 772us/step - loss: 6.7361 - accuracy: 0.7890\n",
      "Epoch 2/10\n",
      "1875/1875 [==============================] - 1s 792us/step - loss: 0.5946 - accuracy: 0.9120\n",
      "Epoch 3/10\n",
      "1875/1875 [==============================] - 1s 777us/step - loss: 0.4972 - accuracy: 0.9273\n",
      "Epoch 4/10\n",
      "1875/1875 [==============================] - 2s 810us/step - loss: 0.4319 - accuracy: 0.9347\n",
      "Epoch 5/10\n",
      "1875/1875 [==============================] - 2s 803us/step - loss: 0.4024 - accuracy: 0.9402\n",
      "Epoch 6/10\n",
      "1875/1875 [==============================] - 2s 804us/step - loss: 0.3925 - accuracy: 0.9435\n",
      "Epoch 7/10\n",
      "1875/1875 [==============================] - 2s 823us/step - loss: 0.3604 - accuracy: 0.9457\n",
      "Epoch 8/10\n",
      "1875/1875 [==============================] - 2s 912us/step - loss: 0.3456 - accuracy: 0.9505\n",
      "Epoch 9/10\n",
      "1875/1875 [==============================] - 1s 776us/step - loss: 0.3337 - accuracy: 0.9517\n",
      "Epoch 10/10\n",
      "1875/1875 [==============================] - 2s 802us/step - loss: 0.3407 - accuracy: 0.9532\n"
     ]
    },
    {
     "data": {
      "text/plain": [
       "<tensorflow.python.keras.callbacks.History at 0x1d207839790>"
      ]
     },
     "execution_count": 4,
     "metadata": {},
     "output_type": "execute_result"
    }
   ],
   "source": [
    "# 모델을 학습하고\n",
    "model.fit(독립, 종속, epochs=10)"
   ]
  },
  {
   "cell_type": "code",
   "execution_count": 5,
   "metadata": {},
   "outputs": [
    {
     "name": "stdout",
     "output_type": "stream",
     "text": [
      "     0    1    2    3    4    5    6    7    8    9\n",
      "0  0.0  0.0  0.0  0.0  0.0  1.0  0.0  0.0  0.0  0.0\n",
      "1  1.0  0.0  0.0  0.0  0.0  0.0  0.0  0.0  0.0  0.0\n",
      "2  0.0  0.0  0.0  0.0  1.0  0.0  0.0  0.0  0.0  0.0\n",
      "3  0.0  1.0  0.0  0.0  0.0  0.0  0.0  0.0  0.0  0.0\n",
      "4  0.0  0.0  0.0  0.0  0.0  0.0  0.0  0.0  0.0  1.0\n",
      "   0  1  2  3  4  5  6  7  8  9\n",
      "0  0  0  0  0  0  1  0  0  0  0\n",
      "1  1  0  0  0  0  0  0  0  0  0\n",
      "2  0  0  0  0  1  0  0  0  0  0\n",
      "3  0  1  0  0  0  0  0  0  0  0\n",
      "4  0  0  0  0  0  0  0  0  0  1\n"
     ]
    }
   ],
   "source": [
    "# 모델을 이용합니다. \n",
    "pred = model.predict(독립[0:5])\n",
    "print(pd.DataFrame(pred).round(2))\n",
    "print(종속[0:5])"
   ]
  },
  {
   "cell_type": "code",
   "execution_count": 6,
   "metadata": {},
   "outputs": [
    {
     "name": "stdout",
     "output_type": "stream",
     "text": [
      "(60000, 28, 28) (60000, 10)\n"
     ]
    }
   ],
   "source": [
    "###########################\n",
    "# with flatten\n",
    " \n",
    "# 데이터를 준비하고\n",
    "(독립, 종속), _ = tf.keras.datasets.mnist.load_data()\n",
    "# 독립 = 독립.reshape(60000, 784)\n",
    "종속 = pd.get_dummies(종속)\n",
    "print(독립.shape, 종속.shape)"
   ]
  },
  {
   "cell_type": "code",
   "execution_count": 7,
   "metadata": {},
   "outputs": [],
   "source": [
    "# 모델을 만들고\n",
    "X = tf.keras.layers.Input(shape=[28, 28])\n",
    "H = tf.keras.layers.Flatten()(X)\n",
    "H = tf.keras.layers.Dense(84, activation='swish')(H)\n",
    "Y = tf.keras.layers.Dense(10, activation='softmax')(H)\n",
    "model = tf.keras.models.Model(X, Y)\n",
    "model.compile(loss='categorical_crossentropy', metrics='accuracy')"
   ]
  },
  {
   "cell_type": "code",
   "execution_count": 8,
   "metadata": {},
   "outputs": [
    {
     "name": "stdout",
     "output_type": "stream",
     "text": [
      "Epoch 1/10\n",
      "1875/1875 [==============================] - 2s 818us/step - loss: 6.4876 - accuracy: 0.7915\n",
      "Epoch 2/10\n",
      "1875/1875 [==============================] - 2s 821us/step - loss: 0.5546 - accuracy: 0.9071\n",
      "Epoch 3/10\n",
      "1875/1875 [==============================] - 1s 772us/step - loss: 0.4874 - accuracy: 0.9275\n",
      "Epoch 4/10\n",
      "1875/1875 [==============================] - 2s 835us/step - loss: 0.4237 - accuracy: 0.9349\n",
      "Epoch 5/10\n",
      "1875/1875 [==============================] - 1s 780us/step - loss: 0.3759 - accuracy: 0.9414\n",
      "Epoch 6/10\n",
      "1875/1875 [==============================] - 1s 791us/step - loss: 0.3640 - accuracy: 0.9417\n",
      "Epoch 7/10\n",
      "1875/1875 [==============================] - 2s 812us/step - loss: 0.3756 - accuracy: 0.9470\n",
      "Epoch 8/10\n",
      "1875/1875 [==============================] - 1s 797us/step - loss: 0.3681 - accuracy: 0.9470\n",
      "Epoch 9/10\n",
      "1875/1875 [==============================] - 2s 857us/step - loss: 0.3509 - accuracy: 0.9512\n",
      "Epoch 10/10\n",
      "1875/1875 [==============================] - 1s 790us/step - loss: 0.3305 - accuracy: 0.9503\n"
     ]
    },
    {
     "data": {
      "text/plain": [
       "<tensorflow.python.keras.callbacks.History at 0x1d20eeb9b80>"
      ]
     },
     "execution_count": 8,
     "metadata": {},
     "output_type": "execute_result"
    }
   ],
   "source": [
    "# 모델을 학습하고\n",
    "model.fit(독립, 종속, epochs=10)"
   ]
  },
  {
   "cell_type": "code",
   "execution_count": 9,
   "metadata": {},
   "outputs": [
    {
     "name": "stdout",
     "output_type": "stream",
     "text": [
      "     0    1    2    3    4    5    6    7    8    9\n",
      "0  0.0  0.0  0.0  0.0  0.0  1.0  0.0  0.0  0.0  0.0\n",
      "1  1.0  0.0  0.0  0.0  0.0  0.0  0.0  0.0  0.0  0.0\n",
      "2  0.0  0.0  0.0  0.0  1.0  0.0  0.0  0.0  0.0  0.0\n",
      "3  0.0  1.0  0.0  0.0  0.0  0.0  0.0  0.0  0.0  0.0\n",
      "4  0.0  0.0  0.0  0.0  0.0  0.0  0.0  0.0  0.0  1.0\n",
      "   0  1  2  3  4  5  6  7  8  9\n",
      "0  0  0  0  0  0  1  0  0  0  0\n",
      "1  1  0  0  0  0  0  0  0  0  0\n",
      "2  0  0  0  0  1  0  0  0  0  0\n",
      "3  0  1  0  0  0  0  0  0  0  0\n",
      "4  0  0  0  0  0  0  0  0  0  1\n"
     ]
    }
   ],
   "source": [
    "# 모델을 이용합니다. \n",
    "pred = model.predict(독립[0:5])\n",
    "print(pd.DataFrame(pred).round(2))\n",
    "print(종속[0:5])"
   ]
  }
 ],
 "metadata": {
  "kernelspec": {
   "display_name": "Python 3",
   "language": "python",
   "name": "python3"
  },
  "language_info": {
   "codemirror_mode": {
    "name": "ipython",
    "version": 3
   },
   "file_extension": ".py",
   "mimetype": "text/x-python",
   "name": "python",
   "nbconvert_exporter": "python",
   "pygments_lexer": "ipython3",
   "version": "3.8.5"
  }
 },
 "nbformat": 4,
 "nbformat_minor": 4
}
