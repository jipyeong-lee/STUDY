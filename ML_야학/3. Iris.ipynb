{
 "cells": [
  {
   "cell_type": "code",
   "execution_count": 1,
   "metadata": {},
   "outputs": [],
   "source": [
    "###########################\n",
    "# 라이브러리 사용\n",
    "import tensorflow as tf\n",
    "import pandas as pd"
   ]
  },
  {
   "cell_type": "code",
   "execution_count": null,
   "metadata": {},
   "outputs": [],
   "source": [
    "import tensorflow as tf\n",
    "import pandas as pd"
   ]
  },
  {
   "cell_type": "code",
   "execution_count": 2,
   "metadata": {},
   "outputs": [
    {
     "data": {
      "text/html": [
       "<div>\n",
       "<style scoped>\n",
       "    .dataframe tbody tr th:only-of-type {\n",
       "        vertical-align: middle;\n",
       "    }\n",
       "\n",
       "    .dataframe tbody tr th {\n",
       "        vertical-align: top;\n",
       "    }\n",
       "\n",
       "    .dataframe thead th {\n",
       "        text-align: right;\n",
       "    }\n",
       "</style>\n",
       "<table border=\"1\" class=\"dataframe\">\n",
       "  <thead>\n",
       "    <tr style=\"text-align: right;\">\n",
       "      <th></th>\n",
       "      <th>꽃잎길이</th>\n",
       "      <th>꽃잎폭</th>\n",
       "      <th>꽃받침길이</th>\n",
       "      <th>꽃받침폭</th>\n",
       "      <th>품종</th>\n",
       "    </tr>\n",
       "  </thead>\n",
       "  <tbody>\n",
       "    <tr>\n",
       "      <th>0</th>\n",
       "      <td>5.1</td>\n",
       "      <td>3.5</td>\n",
       "      <td>1.4</td>\n",
       "      <td>0.2</td>\n",
       "      <td>setosa</td>\n",
       "    </tr>\n",
       "    <tr>\n",
       "      <th>1</th>\n",
       "      <td>4.9</td>\n",
       "      <td>3.0</td>\n",
       "      <td>1.4</td>\n",
       "      <td>0.2</td>\n",
       "      <td>setosa</td>\n",
       "    </tr>\n",
       "    <tr>\n",
       "      <th>2</th>\n",
       "      <td>4.7</td>\n",
       "      <td>3.2</td>\n",
       "      <td>1.3</td>\n",
       "      <td>0.2</td>\n",
       "      <td>setosa</td>\n",
       "    </tr>\n",
       "    <tr>\n",
       "      <th>3</th>\n",
       "      <td>4.6</td>\n",
       "      <td>3.1</td>\n",
       "      <td>1.5</td>\n",
       "      <td>0.2</td>\n",
       "      <td>setosa</td>\n",
       "    </tr>\n",
       "    <tr>\n",
       "      <th>4</th>\n",
       "      <td>5.0</td>\n",
       "      <td>3.6</td>\n",
       "      <td>1.4</td>\n",
       "      <td>0.2</td>\n",
       "      <td>setosa</td>\n",
       "    </tr>\n",
       "  </tbody>\n",
       "</table>\n",
       "</div>"
      ],
      "text/plain": [
       "   꽃잎길이  꽃잎폭  꽃받침길이  꽃받침폭      품종\n",
       "0   5.1  3.5    1.4   0.2  setosa\n",
       "1   4.9  3.0    1.4   0.2  setosa\n",
       "2   4.7  3.2    1.3   0.2  setosa\n",
       "3   4.6  3.1    1.5   0.2  setosa\n",
       "4   5.0  3.6    1.4   0.2  setosa"
      ]
     },
     "execution_count": 2,
     "metadata": {},
     "output_type": "execute_result"
    }
   ],
   "source": [
    "###########################\n",
    "# 1.과거의 데이터를 준비합니다.\n",
    "파일경로 = 'https://raw.githubusercontent.com/blackdew/tensorflow1/master/csv/iris.csv'\n",
    "아이리스 = pd.read_csv(파일경로)\n",
    "아이리스.head()"
   ]
  },
  {
   "cell_type": "code",
   "execution_count": 3,
   "metadata": {},
   "outputs": [],
   "source": [
    "# 원핫인코딩\n",
    "아이리스 = pd.get_dummies(아이리스)"
   ]
  },
  {
   "cell_type": "code",
   "execution_count": 5,
   "metadata": {},
   "outputs": [
    {
     "data": {
      "text/plain": [
       "Index(['꽃잎길이', '꽃잎폭', '꽃받침길이', '꽃받침폭', '품종_setosa', '품종_versicolor',\n",
       "       '품종_virginica'],\n",
       "      dtype='object')"
      ]
     },
     "execution_count": 5,
     "metadata": {},
     "output_type": "execute_result"
    }
   ],
   "source": [
    "아이리스.columns"
   ]
  },
  {
   "cell_type": "code",
   "execution_count": 6,
   "metadata": {},
   "outputs": [
    {
     "name": "stdout",
     "output_type": "stream",
     "text": [
      "(150, 4) (150, 3)\n"
     ]
    }
   ],
   "source": [
    "# 종속변수, 독립변수\n",
    "독립 = 아이리스[['꽃잎길이', '꽃잎폭', '꽃받침길이', '꽃받침폭']]\n",
    "종속 = 아이리스[['품종_setosa', '품종_versicolor', '품종_virginica']]\n",
    "print(독립.shape, 종속.shape)"
   ]
  },
  {
   "cell_type": "code",
   "execution_count": 7,
   "metadata": {},
   "outputs": [],
   "source": [
    "###########################\n",
    "# 2. 모델의 구조를 만듭니다\n",
    "X = tf.keras.layers.Input(shape=[4])\n",
    "Y = tf.keras.layers.Dense(3, activation='softmax')(X)\n",
    "model = tf.keras.models.Model(X, Y)\n",
    "model.compile(loss='categorical_crossentropy',\n",
    "              metrics='accuracy')"
   ]
  },
  {
   "cell_type": "code",
   "execution_count": null,
   "metadata": {},
   "outputs": [],
   "source": [
    "X = tf.keras.layers.Input(shape=[4])\n",
    "y = tf.keras.layers.Dense(3, activation='softmax')(X)\n",
    "model = tf.keras.models.Model(X, y)\n",
    "model.compile(loss='categorical_crossentropy',\n",
    "             metrics='accuracy')"
   ]
  },
  {
   "cell_type": "code",
   "execution_count": 8,
   "metadata": {},
   "outputs": [
    {
     "name": "stdout",
     "output_type": "stream",
     "text": [
      "Epoch 1/10\n",
      "5/5 [==============================] - 0s 1ms/step - loss: 0.1685 - accuracy: 0.9667\n",
      "Epoch 2/10\n",
      "5/5 [==============================] - 0s 1ms/step - loss: 0.1685 - accuracy: 0.9600\n",
      "Epoch 3/10\n",
      "5/5 [==============================] - 0s 1ms/step - loss: 0.1687 - accuracy: 0.9667\n",
      "Epoch 4/10\n",
      "5/5 [==============================] - 0s 2ms/step - loss: 0.1679 - accuracy: 0.9667\n",
      "Epoch 5/10\n",
      "5/5 [==============================] - 0s 2ms/step - loss: 0.1686 - accuracy: 0.9667\n",
      "Epoch 6/10\n",
      "5/5 [==============================] - 0s 1ms/step - loss: 0.1676 - accuracy: 0.9667\n",
      "Epoch 7/10\n",
      "5/5 [==============================] - 0s 2ms/step - loss: 0.1677 - accuracy: 0.9667\n",
      "Epoch 8/10\n",
      "5/5 [==============================] - 0s 2ms/step - loss: 0.1675 - accuracy: 0.9667\n",
      "Epoch 9/10\n",
      "5/5 [==============================] - 0s 2ms/step - loss: 0.1672 - accuracy: 0.9600\n",
      "Epoch 10/10\n",
      "5/5 [==============================] - 0s 1ms/step - loss: 0.1678 - accuracy: 0.9667\n"
     ]
    },
    {
     "data": {
      "text/plain": [
       "<tensorflow.python.keras.callbacks.History at 0x1cf7aa3a700>"
      ]
     },
     "execution_count": 8,
     "metadata": {},
     "output_type": "execute_result"
    }
   ],
   "source": [
    "###########################\n",
    "# 3.데이터로 모델을 학습(FIT)합니다.\n",
    "model.fit(독립, 종속, epochs=1000, verbose=0)"
   ]
  },
  {
   "cell_type": "code",
   "execution_count": 11,
   "metadata": {},
   "outputs": [
    {
     "name": "stdout",
     "output_type": "stream",
     "text": [
      "Epoch 1/100\n",
      "5/5 [==============================] - 0s 997us/step - loss: 0.1522 - accuracy: 0.9667\n",
      "Epoch 2/100\n",
      "5/5 [==============================] - 0s 1ms/step - loss: 0.1524 - accuracy: 0.9600\n",
      "Epoch 3/100\n",
      "5/5 [==============================] - 0s 998us/step - loss: 0.1524 - accuracy: 0.9667\n",
      "Epoch 4/100\n",
      "5/5 [==============================] - 0s 997us/step - loss: 0.1521 - accuracy: 0.9667\n",
      "Epoch 5/100\n",
      "5/5 [==============================] - 0s 499us/step - loss: 0.1521 - accuracy: 0.9667\n",
      "Epoch 6/100\n",
      "5/5 [==============================] - 0s 748us/step - loss: 0.1526 - accuracy: 0.9667\n",
      "Epoch 7/100\n",
      "5/5 [==============================] - 0s 746us/step - loss: 0.1518 - accuracy: 0.9667\n",
      "Epoch 8/100\n",
      "5/5 [==============================] - 0s 1ms/step - loss: 0.1517 - accuracy: 0.9667\n",
      "Epoch 9/100\n",
      "5/5 [==============================] - 0s 994us/step - loss: 0.1521 - accuracy: 0.9667\n",
      "Epoch 10/100\n",
      "5/5 [==============================] - 0s 740us/step - loss: 0.1519 - accuracy: 0.9667\n",
      "Epoch 11/100\n",
      "5/5 [==============================] - 0s 748us/step - loss: 0.1517 - accuracy: 0.9667\n",
      "Epoch 12/100\n",
      "5/5 [==============================] - 0s 998us/step - loss: 0.1513 - accuracy: 0.9667\n",
      "Epoch 13/100\n",
      "5/5 [==============================] - 0s 748us/step - loss: 0.1515 - accuracy: 0.9667\n",
      "Epoch 14/100\n",
      "5/5 [==============================] - 0s 997us/step - loss: 0.1512 - accuracy: 0.9600\n",
      "Epoch 15/100\n",
      "5/5 [==============================] - 0s 746us/step - loss: 0.1508 - accuracy: 0.9667\n",
      "Epoch 16/100\n",
      "5/5 [==============================] - 0s 999us/step - loss: 0.1515 - accuracy: 0.9600\n",
      "Epoch 17/100\n",
      "5/5 [==============================] - 0s 748us/step - loss: 0.1510 - accuracy: 0.9667\n",
      "Epoch 18/100\n",
      "5/5 [==============================] - 0s 748us/step - loss: 0.1510 - accuracy: 0.9667\n",
      "Epoch 19/100\n",
      "5/5 [==============================] - 0s 997us/step - loss: 0.1506 - accuracy: 0.9667\n",
      "Epoch 20/100\n",
      "5/5 [==============================] - 0s 994us/step - loss: 0.1505 - accuracy: 0.9667\n",
      "Epoch 21/100\n",
      "5/5 [==============================] - 0s 497us/step - loss: 0.1507 - accuracy: 0.9667\n",
      "Epoch 22/100\n",
      "5/5 [==============================] - 0s 997us/step - loss: 0.1501 - accuracy: 0.9667\n",
      "Epoch 23/100\n",
      "5/5 [==============================] - 0s 748us/step - loss: 0.1503 - accuracy: 0.9667\n",
      "Epoch 24/100\n",
      "5/5 [==============================] - 0s 746us/step - loss: 0.1504 - accuracy: 0.9667\n",
      "Epoch 25/100\n",
      "5/5 [==============================] - 0s 891us/step - loss: 0.1500 - accuracy: 0.9667\n",
      "Epoch 26/100\n",
      "5/5 [==============================] - 0s 1ms/step - loss: 0.1499 - accuracy: 0.9600\n",
      "Epoch 27/100\n",
      "5/5 [==============================] - 0s 1ms/step - loss: 0.1499 - accuracy: 0.9600\n",
      "Epoch 28/100\n",
      "5/5 [==============================] - 0s 1ms/step - loss: 0.1495 - accuracy: 0.9667\n",
      "Epoch 29/100\n",
      "5/5 [==============================] - 0s 997us/step - loss: 0.1497 - accuracy: 0.9667\n",
      "Epoch 30/100\n",
      "5/5 [==============================] - 0s 748us/step - loss: 0.1495 - accuracy: 0.9667\n",
      "Epoch 31/100\n",
      "5/5 [==============================] - 0s 998us/step - loss: 0.1493 - accuracy: 0.9667\n",
      "Epoch 32/100\n",
      "5/5 [==============================] - 0s 748us/step - loss: 0.1494 - accuracy: 0.9667\n",
      "Epoch 33/100\n",
      "5/5 [==============================] - 0s 997us/step - loss: 0.1494 - accuracy: 0.9667\n",
      "Epoch 34/100\n",
      "5/5 [==============================] - 0s 1ms/step - loss: 0.1491 - accuracy: 0.9667\n",
      "Epoch 35/100\n",
      "5/5 [==============================] - 0s 1ms/step - loss: 0.1489 - accuracy: 0.9667\n",
      "Epoch 36/100\n",
      "5/5 [==============================] - 0s 998us/step - loss: 0.1486 - accuracy: 0.9667\n",
      "Epoch 37/100\n",
      "5/5 [==============================] - 0s 997us/step - loss: 0.1485 - accuracy: 0.9667\n",
      "Epoch 38/100\n",
      "5/5 [==============================] - 0s 748us/step - loss: 0.1490 - accuracy: 0.9667\n",
      "Epoch 39/100\n",
      "5/5 [==============================] - 0s 1ms/step - loss: 0.1486 - accuracy: 0.9667\n",
      "Epoch 40/100\n",
      "5/5 [==============================] - 0s 1ms/step - loss: 0.1485 - accuracy: 0.9667\n",
      "Epoch 41/100\n",
      "5/5 [==============================] - 0s 997us/step - loss: 0.1483 - accuracy: 0.9667\n",
      "Epoch 42/100\n",
      "5/5 [==============================] - 0s 996us/step - loss: 0.1481 - accuracy: 0.9667\n",
      "Epoch 43/100\n",
      "5/5 [==============================] - 0s 997us/step - loss: 0.1481 - accuracy: 0.9667\n",
      "Epoch 44/100\n",
      "5/5 [==============================] - 0s 748us/step - loss: 0.1481 - accuracy: 0.9600\n",
      "Epoch 45/100\n",
      "5/5 [==============================] - 0s 997us/step - loss: 0.1479 - accuracy: 0.9667\n",
      "Epoch 46/100\n",
      "5/5 [==============================] - 0s 748us/step - loss: 0.1479 - accuracy: 0.9667\n",
      "Epoch 47/100\n",
      "5/5 [==============================] - 0s 748us/step - loss: 0.1480 - accuracy: 0.9667\n",
      "Epoch 48/100\n",
      "5/5 [==============================] - 0s 748us/step - loss: 0.1475 - accuracy: 0.9667\n",
      "Epoch 49/100\n",
      "5/5 [==============================] - 0s 997us/step - loss: 0.1476 - accuracy: 0.9600\n",
      "Epoch 50/100\n",
      "5/5 [==============================] - 0s 997us/step - loss: 0.1473 - accuracy: 0.9600\n",
      "Epoch 51/100\n",
      "5/5 [==============================] - 0s 748us/step - loss: 0.1475 - accuracy: 0.9667\n",
      "Epoch 52/100\n",
      "5/5 [==============================] - 0s 748us/step - loss: 0.1469 - accuracy: 0.9667\n",
      "Epoch 53/100\n",
      "5/5 [==============================] - 0s 748us/step - loss: 0.1468 - accuracy: 0.9667\n",
      "Epoch 54/100\n",
      "5/5 [==============================] - 0s 847us/step - loss: 0.1471 - accuracy: 0.9600\n",
      "Epoch 55/100\n",
      "5/5 [==============================] - 0s 1ms/step - loss: 0.1466 - accuracy: 0.9667\n",
      "Epoch 56/100\n",
      "5/5 [==============================] - 0s 997us/step - loss: 0.1467 - accuracy: 0.9667\n",
      "Epoch 57/100\n",
      "5/5 [==============================] - 0s 748us/step - loss: 0.1466 - accuracy: 0.9667\n",
      "Epoch 58/100\n",
      "5/5 [==============================] - 0s 998us/step - loss: 0.1469 - accuracy: 0.9667\n",
      "Epoch 59/100\n",
      "5/5 [==============================] - 0s 748us/step - loss: 0.1462 - accuracy: 0.9667\n",
      "Epoch 60/100\n",
      "5/5 [==============================] - 0s 748us/step - loss: 0.1462 - accuracy: 0.9667\n",
      "Epoch 61/100\n",
      "5/5 [==============================] - 0s 998us/step - loss: 0.1462 - accuracy: 0.9667\n",
      "Epoch 62/100\n",
      "5/5 [==============================] - 0s 997us/step - loss: 0.1459 - accuracy: 0.9667\n",
      "Epoch 63/100\n",
      "5/5 [==============================] - 0s 1ms/step - loss: 0.1457 - accuracy: 0.9667\n",
      "Epoch 64/100\n",
      "5/5 [==============================] - 0s 748us/step - loss: 0.1457 - accuracy: 0.9667\n",
      "Epoch 65/100\n",
      "5/5 [==============================] - 0s 997us/step - loss: 0.1464 - accuracy: 0.9667\n",
      "Epoch 66/100\n",
      "5/5 [==============================] - 0s 1ms/step - loss: 0.1456 - accuracy: 0.9733\n",
      "Epoch 67/100\n",
      "5/5 [==============================] - 0s 976us/step - loss: 0.1454 - accuracy: 0.9667\n",
      "Epoch 68/100\n",
      "5/5 [==============================] - 0s 749us/step - loss: 0.1458 - accuracy: 0.9667\n",
      "Epoch 69/100\n",
      "5/5 [==============================] - 0s 1ms/step - loss: 0.1453 - accuracy: 0.9600\n",
      "Epoch 70/100\n",
      "5/5 [==============================] - 0s 994us/step - loss: 0.1451 - accuracy: 0.9667\n",
      "Epoch 71/100\n",
      "5/5 [==============================] - 0s 999us/step - loss: 0.1452 - accuracy: 0.9667\n",
      "Epoch 72/100\n",
      "5/5 [==============================] - 0s 997us/step - loss: 0.1449 - accuracy: 0.9667\n",
      "Epoch 73/100\n",
      "5/5 [==============================] - 0s 1ms/step - loss: 0.1450 - accuracy: 0.9667\n",
      "Epoch 74/100\n",
      "5/5 [==============================] - 0s 1ms/step - loss: 0.1457 - accuracy: 0.9667\n",
      "Epoch 75/100\n",
      "5/5 [==============================] - 0s 997us/step - loss: 0.1447 - accuracy: 0.9600\n",
      "Epoch 76/100\n",
      "5/5 [==============================] - 0s 998us/step - loss: 0.1444 - accuracy: 0.9667\n",
      "Epoch 77/100\n",
      "5/5 [==============================] - 0s 998us/step - loss: 0.1443 - accuracy: 0.9667\n",
      "Epoch 78/100\n",
      "5/5 [==============================] - 0s 997us/step - loss: 0.1444 - accuracy: 0.9667\n",
      "Epoch 79/100\n",
      "5/5 [==============================] - ETA: 0s - loss: 0.1857 - accuracy: 0.96 - 0s 748us/step - loss: 0.1444 - accuracy: 0.9667\n",
      "Epoch 80/100\n",
      "5/5 [==============================] - 0s 994us/step - loss: 0.1441 - accuracy: 0.9667\n",
      "Epoch 81/100\n",
      "5/5 [==============================] - 0s 998us/step - loss: 0.1444 - accuracy: 0.9667\n",
      "Epoch 82/100\n"
     ]
    },
    {
     "name": "stdout",
     "output_type": "stream",
     "text": [
      "5/5 [==============================] - 0s 748us/step - loss: 0.1446 - accuracy: 0.9667\n",
      "Epoch 83/100\n",
      "5/5 [==============================] - 0s 748us/step - loss: 0.1437 - accuracy: 0.9667\n",
      "Epoch 84/100\n",
      "5/5 [==============================] - 0s 997us/step - loss: 0.1440 - accuracy: 0.9667\n",
      "Epoch 85/100\n",
      "5/5 [==============================] - 0s 997us/step - loss: 0.1439 - accuracy: 0.9667\n",
      "Epoch 86/100\n",
      "5/5 [==============================] - 0s 1ms/step - loss: 0.1438 - accuracy: 0.9667\n",
      "Epoch 87/100\n",
      "5/5 [==============================] - 0s 748us/step - loss: 0.1434 - accuracy: 0.9667\n",
      "Epoch 88/100\n",
      "5/5 [==============================] - 0s 499us/step - loss: 0.1436 - accuracy: 0.9600\n",
      "Epoch 89/100\n",
      "5/5 [==============================] - 0s 998us/step - loss: 0.1437 - accuracy: 0.9667\n",
      "Epoch 90/100\n",
      "5/5 [==============================] - 0s 748us/step - loss: 0.1431 - accuracy: 0.9667\n",
      "Epoch 91/100\n",
      "5/5 [==============================] - 0s 1ms/step - loss: 0.1435 - accuracy: 0.9667\n",
      "Epoch 92/100\n",
      "5/5 [==============================] - 0s 746us/step - loss: 0.1430 - accuracy: 0.9667\n",
      "Epoch 93/100\n",
      "5/5 [==============================] - 0s 748us/step - loss: 0.1429 - accuracy: 0.9667\n",
      "Epoch 94/100\n",
      "5/5 [==============================] - 0s 997us/step - loss: 0.1429 - accuracy: 0.9667\n",
      "Epoch 95/100\n",
      "5/5 [==============================] - 0s 748us/step - loss: 0.1431 - accuracy: 0.9667\n",
      "Epoch 96/100\n",
      "5/5 [==============================] - 0s 998us/step - loss: 0.1428 - accuracy: 0.9600\n",
      "Epoch 97/100\n",
      "5/5 [==============================] - 0s 975us/step - loss: 0.1430 - accuracy: 0.9667\n",
      "Epoch 98/100\n",
      "5/5 [==============================] - 0s 748us/step - loss: 0.1423 - accuracy: 0.9667\n",
      "Epoch 99/100\n",
      "5/5 [==============================] - 0s 1ms/step - loss: 0.1423 - accuracy: 0.9667\n",
      "Epoch 100/100\n",
      "5/5 [==============================] - 0s 747us/step - loss: 0.1425 - accuracy: 0.9667\n"
     ]
    },
    {
     "data": {
      "text/plain": [
       "<tensorflow.python.keras.callbacks.History at 0x1cf73680d90>"
      ]
     },
     "execution_count": 11,
     "metadata": {},
     "output_type": "execute_result"
    }
   ],
   "source": [
    "model.fit(독립, 종속, epochs=100)"
   ]
  },
  {
   "cell_type": "code",
   "execution_count": 12,
   "metadata": {},
   "outputs": [
    {
     "name": "stdout",
     "output_type": "stream",
     "text": [
      "[[9.9946755e-01 5.3248531e-04 1.3243922e-08]\n",
      " [9.9823260e-01 1.7673023e-03 1.2593239e-07]\n",
      " [9.9898618e-01 1.0137883e-03 5.0584084e-08]\n",
      " [9.9689853e-01 3.1012497e-03 2.5388428e-07]\n",
      " [9.9950635e-01 4.9360591e-04 1.0920978e-08]]\n",
      "   품종_setosa  품종_versicolor  품종_virginica\n",
      "0          1              0             0\n",
      "1          1              0             0\n",
      "2          1              0             0\n",
      "3          1              0             0\n",
      "4          1              0             0\n"
     ]
    }
   ],
   "source": [
    "###########################\n",
    "# 4. 모델을 이용합니다\n",
    "# 맨 처음 데이터 5개\n",
    "print(model.predict(독립[:5]))\n",
    "print(종속[:5])"
   ]
  },
  {
   "cell_type": "code",
   "execution_count": 13,
   "metadata": {},
   "outputs": [
    {
     "name": "stdout",
     "output_type": "stream",
     "text": [
      "[[1.15009115e-07 7.38802254e-02 9.26119685e-01]\n",
      " [3.93792135e-07 1.38749763e-01 8.61249864e-01]\n",
      " [5.97015514e-07 1.93283573e-01 8.06715846e-01]\n",
      " [7.12225088e-08 8.53525773e-02 9.14647400e-01]\n",
      " [1.23513382e-06 2.92151481e-01 7.07847238e-01]]\n",
      "     품종_setosa  품종_versicolor  품종_virginica\n",
      "145          0              0             1\n",
      "146          0              0             1\n",
      "147          0              0             1\n",
      "148          0              0             1\n",
      "149          0              0             1\n"
     ]
    }
   ],
   "source": [
    "# 맨 마지막 데이터 5개\n",
    "print(model.predict(독립[-5:]))\n",
    "print(종속[-5:])"
   ]
  },
  {
   "cell_type": "code",
   "execution_count": 14,
   "metadata": {},
   "outputs": [
    {
     "name": "stdout",
     "output_type": "stream",
     "text": [
      "[array([[ 1.0485132 , -0.12520804, -0.7928931 ],\n",
      "       [ 2.924284  ,  0.99199086, -0.84604174],\n",
      "       [-4.3134108 , -0.26540256,  0.95739657],\n",
      "       [-4.9312    , -1.8646547 ,  2.2462857 ]], dtype=float32), array([ 2.3315017,  1.2625626, -2.0350091], dtype=float32)]\n"
     ]
    }
   ],
   "source": [
    "###########################\n",
    "# weights & bias 출력\n",
    "print(model.get_weights())"
   ]
  }
 ],
 "metadata": {
  "kernelspec": {
   "display_name": "Python 3",
   "language": "python",
   "name": "python3"
  },
  "language_info": {
   "codemirror_mode": {
    "name": "ipython",
    "version": 3
   },
   "file_extension": ".py",
   "mimetype": "text/x-python",
   "name": "python",
   "nbconvert_exporter": "python",
   "pygments_lexer": "ipython3",
   "version": "3.8.5"
  }
 },
 "nbformat": 4,
 "nbformat_minor": 4
}
