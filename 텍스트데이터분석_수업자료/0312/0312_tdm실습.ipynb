{
 "cells": [
  {
   "cell_type": "markdown",
   "metadata": {},
   "source": [
    "## 데이터 열기"
   ]
  },
  {
   "cell_type": "code",
   "execution_count": 1,
   "metadata": {},
   "outputs": [],
   "source": [
    "import pandas as pd"
   ]
  },
  {
   "cell_type": "code",
   "execution_count": 3,
   "metadata": {},
   "outputs": [],
   "source": [
    "df = pd.read_excel('../imdb.xlsx', index_col=0)"
   ]
  },
  {
   "cell_type": "code",
   "execution_count": 4,
   "metadata": {},
   "outputs": [
    {
     "data": {
      "text/html": [
       "<div>\n",
       "<style scoped>\n",
       "    .dataframe tbody tr th:only-of-type {\n",
       "        vertical-align: middle;\n",
       "    }\n",
       "\n",
       "    .dataframe tbody tr th {\n",
       "        vertical-align: top;\n",
       "    }\n",
       "\n",
       "    .dataframe thead th {\n",
       "        text-align: right;\n",
       "    }\n",
       "</style>\n",
       "<table border=\"1\" class=\"dataframe\">\n",
       "  <thead>\n",
       "    <tr style=\"text-align: right;\">\n",
       "      <th></th>\n",
       "      <th>review</th>\n",
       "      <th>sentiment</th>\n",
       "    </tr>\n",
       "  </thead>\n",
       "  <tbody>\n",
       "    <tr>\n",
       "      <th>0</th>\n",
       "      <td>A very, very, very slow-moving, aimless movie ...</td>\n",
       "      <td>0</td>\n",
       "    </tr>\n",
       "    <tr>\n",
       "      <th>1</th>\n",
       "      <td>Not sure who was more lost - the flat characte...</td>\n",
       "      <td>0</td>\n",
       "    </tr>\n",
       "    <tr>\n",
       "      <th>2</th>\n",
       "      <td>Attempting artiness with black &amp; white and cle...</td>\n",
       "      <td>0</td>\n",
       "    </tr>\n",
       "    <tr>\n",
       "      <th>3</th>\n",
       "      <td>Very little music or anything to speak of.</td>\n",
       "      <td>0</td>\n",
       "    </tr>\n",
       "    <tr>\n",
       "      <th>4</th>\n",
       "      <td>The best scene in the movie was when Gerardo i...</td>\n",
       "      <td>1</td>\n",
       "    </tr>\n",
       "  </tbody>\n",
       "</table>\n",
       "</div>"
      ],
      "text/plain": [
       "                                              review  sentiment\n",
       "0  A very, very, very slow-moving, aimless movie ...          0\n",
       "1  Not sure who was more lost - the flat characte...          0\n",
       "2  Attempting artiness with black & white and cle...          0\n",
       "3       Very little music or anything to speak of.            0\n",
       "4  The best scene in the movie was when Gerardo i...          1"
      ]
     },
     "execution_count": 4,
     "metadata": {},
     "output_type": "execute_result"
    }
   ],
   "source": [
    "df.head()"
   ]
  },
  {
   "cell_type": "code",
   "execution_count": 5,
   "metadata": {},
   "outputs": [
    {
     "data": {
      "text/plain": [
       "(748, 2)"
      ]
     },
     "execution_count": 5,
     "metadata": {},
     "output_type": "execute_result"
    }
   ],
   "source": [
    "df.shape"
   ]
  },
  {
   "cell_type": "markdown",
   "metadata": {},
   "source": [
    "## TDM 만들기"
   ]
  },
  {
   "cell_type": "code",
   "execution_count": 9,
   "metadata": {},
   "outputs": [],
   "source": [
    "from sklearn.feature_extraction.text import CountVectorizer"
   ]
  },
  {
   "cell_type": "code",
   "execution_count": 10,
   "metadata": {},
   "outputs": [],
   "source": [
    "cv = CountVectorizer(max_features=500, stop_words='english')"
   ]
  },
  {
   "cell_type": "code",
   "execution_count": 11,
   "metadata": {},
   "outputs": [],
   "source": [
    "tdm = cv.fit_transform(df['review'])"
   ]
  },
  {
   "cell_type": "code",
   "execution_count": 12,
   "metadata": {},
   "outputs": [
    {
     "data": {
      "text/plain": [
       "<748x500 sparse matrix of type '<class 'numpy.int64'>'\n",
       "\twith 3434 stored elements in Compressed Sparse Row format>"
      ]
     },
     "execution_count": 12,
     "metadata": {},
     "output_type": "execute_result"
    }
   ],
   "source": [
    "tdm"
   ]
  },
  {
   "cell_type": "code",
   "execution_count": 13,
   "metadata": {},
   "outputs": [
    {
     "data": {
      "text/plain": [
       "0.009181818181818182"
      ]
     },
     "execution_count": 13,
     "metadata": {},
     "output_type": "execute_result"
    }
   ],
   "source": [
    "3434 / (748*500)"
   ]
  },
  {
   "cell_type": "markdown",
   "metadata": {},
   "source": [
    "## 단어목록"
   ]
  },
  {
   "cell_type": "code",
   "execution_count": 15,
   "metadata": {},
   "outputs": [
    {
     "data": {
      "text/plain": [
       "['10',\n",
       " '20',\n",
       " '90',\n",
       " 'absolutely',\n",
       " 'acted',\n",
       " 'acting',\n",
       " 'action',\n",
       " 'actor',\n",
       " 'actors',\n",
       " 'actress']"
      ]
     },
     "execution_count": 15,
     "metadata": {},
     "output_type": "execute_result"
    }
   ],
   "source": [
    "cv.get_feature_names()[:10]"
   ]
  },
  {
   "cell_type": "markdown",
   "metadata": {},
   "source": [
    "## 단어별 총빈도"
   ]
  },
  {
   "cell_type": "code",
   "execution_count": 16,
   "metadata": {},
   "outputs": [
    {
     "data": {
      "text/plain": [
       "3894"
      ]
     },
     "execution_count": 16,
     "metadata": {},
     "output_type": "execute_result"
    }
   ],
   "source": [
    "tdm.sum()"
   ]
  },
  {
   "cell_type": "code",
   "execution_count": 17,
   "metadata": {},
   "outputs": [
    {
     "data": {
      "text/plain": [
       "matrix([[ 29,   3,   6,   9,   3,  43,   7,  10,  19,   3,   3,  10,   3,\n",
       "           4,   3,   4,   9,   3,   3,   3,   6,   3,   4,   3,  13,   4,\n",
       "           3,   5,   3,   8,   5,   3,  14,  71,   4,  11,   4,   6,   8,\n",
       "          25,  18,  10,   5,  10,   4,   3,   4,  10,   3,   3,   6,   7,\n",
       "           3,   4,  10,   5,   3,  18,   6,   8,  24,  35,   4,   3,   7,\n",
       "           3,   4,   5,   8,  10,   6,   5,   5,   7,   4,   3,   3,   5,\n",
       "           3,   3,   4,   4,   7,   4,   5,   3,   4,   6,   4,   3,   5,\n",
       "           4,   3,   5,   4,   3,   9,   3,   4,   3,  13,  11,  22,   5,\n",
       "           3,   9,   5,  12,   6,   3,   9,  12,  26,   4,  10,   3,   3,\n",
       "           3,   3,   4,   4,   3,   6,   3,   9,  11,  11,   4,   5,   3,\n",
       "           9,   4,   6,   3,   8,   3,   3,  16,   4,   7,   4,   4,   5,\n",
       "           8,   5,   7,   5,   7,   5,   3,   3,  10,   5, 163,  24,   3,\n",
       "           3,   5,   6,   4,   5,  19,   3,   9,   3,   7,   5,   3,   4,\n",
       "           3,   6,   3,   7,   3,   6,   4,   4,  10,  58,   8,   3,   3,\n",
       "          41,   3,   5,   6,   3,   3,   4,   3,   6,   3,   3,  10,   6,\n",
       "           3,   6,   6,   6,   4,   6,   9,   5,   4,   3,   4,   6,   3,\n",
       "           4,   4,   3,   3,   6,   3,   3,   4,   4,   4,  12,   5,   4,\n",
       "           9,   7,   3,   5,  63,   8,   8,   3,  14,   6,   5,   3,   5,\n",
       "           3,   3,   5,   4,  12,  48,  10,  12,   7,   3,  17,   4,   7,\n",
       "           3,   8,  19,   4,   3,   3,   4,   9,   3,  22,  10,   4,   5,\n",
       "           3,  22,   8,   6,  13,   3,   3,   4,   3,   4,   4,   3,   4,\n",
       "           6,   3,   5,   8,   4,   5,   4,   8,   3,   3,   6, 182,  29,\n",
       "           4,  14,   3,   3,   5,   6,   5,   5,   3,   3,   3,   4,   5,\n",
       "           8,   4,   3,   5,   3,   5,   4,   5,  14,   6,  12,   6,   5,\n",
       "           4,  10,   4,   4,   9,  10,   7,  28,   4,   6,   6,   3,   3,\n",
       "          10,   4,   3,   4,  13,   8,   4,   3,   5,   3,   3,   3,   3,\n",
       "          10,   3,   3,   3,   3,   4,   4,  21,  41,  13,   6,   3,   3,\n",
       "           3,   6,   4,   5,  13,   4,   4,   3,   5,  12,  13,   3,   4,\n",
       "          14,  19,   3,  14,   3,  24,   3,   6,   7,  23,   7,   3,   8,\n",
       "           3,   3,   4,  11,   5,   5,  10,   5,   6,   4,   5,   4,   4,\n",
       "           6,   4,   3,   3,   3,   9,   3,   3,   3,   3,   4,   3,   5,\n",
       "           3,   4,  28,   4,   5,   3,  14,   6,   3,   7,   7,   8,   3,\n",
       "           5,   3,   3,   8,   4,   3,   5,   4,  12,   5,   4,   3,  13,\n",
       "          12,  21,   3,   3,  12,   5,   3,  43,   5,   4,   3,   5,   4,\n",
       "          15,   3,   4,   3,   4,   9,   4,   4,   3,   8,   3,   4,   3,\n",
       "           9,   4,   4,   6,   8,   4,   4,   3,  13,   4,   6,   3,   7,\n",
       "          14,   7,  17,   3,   9,  22,  23,   8,   3,   3,   3,   3,   5,\n",
       "          18,   3,   5,  20,   5,   6,  11,  11,  13,   3,   3,   3,  13,\n",
       "           7,   3,   5,  14,   3,   4]], dtype=int64)"
      ]
     },
     "execution_count": 17,
     "metadata": {},
     "output_type": "execute_result"
    }
   ],
   "source": [
    "tdm.sum(axis=0)"
   ]
  },
  {
   "cell_type": "code",
   "execution_count": 18,
   "metadata": {},
   "outputs": [],
   "source": [
    "word_count = pd.DataFrame({\n",
    "        '단어' : cv.get_feature_names(),\n",
    "        '빈도' : tdm.sum(axis=0).flat        \n",
    "})"
   ]
  },
  {
   "cell_type": "code",
   "execution_count": 21,
   "metadata": {},
   "outputs": [
    {
     "data": {
      "text/html": [
       "<div>\n",
       "<style scoped>\n",
       "    .dataframe tbody tr th:only-of-type {\n",
       "        vertical-align: middle;\n",
       "    }\n",
       "\n",
       "    .dataframe tbody tr th {\n",
       "        vertical-align: top;\n",
       "    }\n",
       "\n",
       "    .dataframe thead th {\n",
       "        text-align: right;\n",
       "    }\n",
       "</style>\n",
       "<table border=\"1\" class=\"dataframe\">\n",
       "  <thead>\n",
       "    <tr style=\"text-align: right;\">\n",
       "      <th></th>\n",
       "      <th>단어</th>\n",
       "      <th>빈도</th>\n",
       "    </tr>\n",
       "  </thead>\n",
       "  <tbody>\n",
       "    <tr>\n",
       "      <th>284</th>\n",
       "      <td>movie</td>\n",
       "      <td>182</td>\n",
       "    </tr>\n",
       "    <tr>\n",
       "      <th>153</th>\n",
       "      <td>film</td>\n",
       "      <td>163</td>\n",
       "    </tr>\n",
       "    <tr>\n",
       "      <th>33</th>\n",
       "      <td>bad</td>\n",
       "      <td>71</td>\n",
       "    </tr>\n",
       "    <tr>\n",
       "      <th>225</th>\n",
       "      <td>just</td>\n",
       "      <td>63</td>\n",
       "    </tr>\n",
       "    <tr>\n",
       "      <th>178</th>\n",
       "      <td>good</td>\n",
       "      <td>58</td>\n",
       "    </tr>\n",
       "    <tr>\n",
       "      <th>...</th>\n",
       "      <td>...</td>\n",
       "      <td>...</td>\n",
       "    </tr>\n",
       "    <tr>\n",
       "      <th>375</th>\n",
       "      <td>sense</td>\n",
       "      <td>3</td>\n",
       "    </tr>\n",
       "    <tr>\n",
       "      <th>377</th>\n",
       "      <td>seriously</td>\n",
       "      <td>3</td>\n",
       "    </tr>\n",
       "    <tr>\n",
       "      <th>378</th>\n",
       "      <td>set</td>\n",
       "      <td>3</td>\n",
       "    </tr>\n",
       "    <tr>\n",
       "      <th>173</th>\n",
       "      <td>given</td>\n",
       "      <td>3</td>\n",
       "    </tr>\n",
       "    <tr>\n",
       "      <th>396</th>\n",
       "      <td>spent</td>\n",
       "      <td>3</td>\n",
       "    </tr>\n",
       "  </tbody>\n",
       "</table>\n",
       "<p>500 rows × 2 columns</p>\n",
       "</div>"
      ],
      "text/plain": [
       "            단어   빈도\n",
       "284      movie  182\n",
       "153       film  163\n",
       "33         bad   71\n",
       "225       just   63\n",
       "178       good   58\n",
       "..         ...  ...\n",
       "375      sense    3\n",
       "377  seriously    3\n",
       "378        set    3\n",
       "173      given    3\n",
       "396      spent    3\n",
       "\n",
       "[500 rows x 2 columns]"
      ]
     },
     "execution_count": 21,
     "metadata": {},
     "output_type": "execute_result"
    }
   ],
   "source": [
    "word_count.sort_values('빈도', ascending=False)"
   ]
  },
  {
   "cell_type": "code",
   "execution_count": 22,
   "metadata": {},
   "outputs": [],
   "source": [
    "word_count.to_csv('word_count.csv')"
   ]
  },
  {
   "cell_type": "code",
   "execution_count": null,
   "metadata": {},
   "outputs": [],
   "source": []
  }
 ],
 "metadata": {
  "kernelspec": {
   "display_name": "Python 3",
   "language": "python",
   "name": "python3"
  },
  "language_info": {
   "codemirror_mode": {
    "name": "ipython",
    "version": 3
   },
   "file_extension": ".py",
   "mimetype": "text/x-python",
   "name": "python",
   "nbconvert_exporter": "python",
   "pygments_lexer": "ipython3",
   "version": "3.8.5"
  }
 },
 "nbformat": 4,
 "nbformat_minor": 4
}
