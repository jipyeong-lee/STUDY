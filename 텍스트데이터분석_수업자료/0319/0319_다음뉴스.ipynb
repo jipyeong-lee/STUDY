{
 "cells": [
  {
   "cell_type": "code",
   "execution_count": 1,
   "metadata": {},
   "outputs": [],
   "source": [
    "import requests"
   ]
  },
  {
   "cell_type": "code",
   "execution_count": 2,
   "metadata": {},
   "outputs": [],
   "source": [
    "import lxml.html"
   ]
  },
  {
   "cell_type": "code",
   "execution_count": 3,
   "metadata": {},
   "outputs": [],
   "source": [
    "import pandas as pd"
   ]
  },
  {
   "cell_type": "code",
   "execution_count": 4,
   "metadata": {},
   "outputs": [],
   "source": [
    "url = 'https://search.daum.net/search?w=news&nil_search=btn&DA=NTB&enc=utf8&cluster=y&cluster_page=1&q=%EC%9D%B8%EA%B3%B5%EC%A7%80%EB%8A%A5&p={}'"
   ]
  },
  {
   "cell_type": "code",
   "execution_count": 5,
   "metadata": {},
   "outputs": [],
   "source": [
    "res = requests.get(url)"
   ]
  },
  {
   "cell_type": "code",
   "execution_count": 6,
   "metadata": {},
   "outputs": [
    {
     "data": {
      "text/plain": [
       "'\\n\\n\\n\\n\\n\\n\\n\\n\\n\\n\\n\\n\\n\\n\\n\\n\\n\\n\\n\\n\\n\\n\\n\\n<!doctype html>\\n<html xmlns=\"http://www.w3.org/1999/xhtml\" lang=\"ko\" class=\"unix unknown \">\\n<head profile=\"http://a9.com/-/spec/opensearch/1.1/\">\\n<meta http-equiv=\"content-Type\" content=\"text/html;charset=utf-8\" />\\n<meta http-equiv=\"X-UA-Compatible\" content=\"IE=edge\" />\\n<meta name=\"autocomplete\" content=\"off\" />\\n<meta name=\"referrer\" content=\"always\">\\n<meta name=\"format-detection\" content=\"telephone=no\" />\\n<meta property=\"og:title\" content=\"인공지능 &ndash; Daum 검색\" />\\n<meta property=\"og:url\" content=\"https://search.daum.net/search?w=news&q=%EC%9D%B8%EA%B3%B5%EC%A7%80%EB%8A%A5\" />\\n<meta property=\"og:description\" content=\"Daum 검색에서 인공지능에 대한 최신정보를 찾아보세요.\" />\\n<meta property=\"og:image\" content=\"https://search1.daumcdn.net/search/statics/common/img/og_search.png\" />\\n<meta property=\"og:site_name\" content=\"다음검색\" />\\n<title>인공지능 &ndash; Daum 검색</title>\\n<link rel=\"search\" type=\"application/opensearchdescription+xml\" href=\"//search.daum.net/OpenSearch.xml\" title=\"Daum\">\\n<link rel=\"stylesheet\" type=\"text/css\" href=\"//search1.daumcdn.net/search/statics/common/css/2021/p_common.0915031150.css\" charset=\"utf-8\">\\n<link rel=\"stylesheet\" type=\"text/css\" href=\"//search1.daumcdn.net/search/statics/common/css/2021/p_component.0915091640.css\" charset=\"utf-8\">\\n\\n<link rel=\"stylesheet\" type=\"text/css\" href=\"//search1.daumcdn.net/search/statics/common/css/2021/p_collection.0915091640.css\" charset=\"utf-8\">\\n<link rel=\"stylesheet\" type=\"text/css\" href=\"//search1.daumcdn.net/search/statics/common/css/2021/p_collection2.0804114234.css\" charset=\"utf-8\">\\n\\n<link rel=\"stylesheet\" type=\"text/css\" href=\"//search1.daumcdn.net/search/statics/common/css/2021/p_coll_tab.0803041653.css\" charset=\"utf-8\">\\n\\n\\n\\n\\n<script type=\"text/javascript\">\\nvar SF, C, T;\\nvar uk = \"YVmOPqnpi7sl1sGyJS7y5wAAAGs\";\\nvar mk = \"YVmOPqnpi7sl1sGyJS7y5wAAAGs\";\\nvar ud = \"\";\\nvar uuid = \"\";\\nvar adid = \"\";\\nvar adid_enabled = \"N\";\\nvar viewio = \"i\";\\nvar viewsite = \"\";\\nvar ServerTime = \"20211003200430\";\\nvar EnQuery = \"%C0%CE%B0%F8%C1%F6%B4%C9\";\\nvar utf8Query = \"%EC%9D%B8%EA%B3%B5%EC%A7%80%EB%8A%A5\";\\nvar topQuery = \"인공지능\";\\nvar backQuery = \"%EC%9D%B8%EA%B3%B5%EC%A7%80%EB%8A%A5\";\\nvar login_yn = \"N\";\\nvar encodeType = \"2\";\\nvar refCode = \"\";\\nvar bucketType = \"\";\\nvar name_check = \"0\";\\nvar mobileDevice = \"N\";\\nvar param_w=\"news\";\\nvar param_da = \"NTB\";\\nvar paramCfg = \"\";\\nvar param_cnucc = \"\"; \\nvar tpl_cfg = \"\"; \\nvar cnucc = \"\";\\nvar usrIp = \"58.29.45.31\";\\nvar isDetailTab = \"N\"; \\nvar schSort = \"\";\\nvar width_over_620 = \"N\";\\n\\nvar isReleaseMode = \"\";\\n\\nvar KAKAO_ACCOUNT_ID_CONNECTED = \"N\";\\n\\nvar displayInfo = {\"SER\":[{\"code\":\"NNS\",\"doc_count\":10}],\"SGR\":[{\"code\":\"1MV\",\"doc_count\":0},{\"code\":\"TOG\",\"doc_count\":0},{\"code\":\"NSJ\",\"doc_count\":0},{\"code\":\"DCC\",\"doc_count\":0},{\"code\":\"EOA\",\"doc_count\":0},{\"code\":\"MBK\",\"doc_count\":0},{\"code\":\"DRU\",\"doc_count\":0}],\"SUI\":[]}\\n;\\nvar slCallType = \"sync\";\\nvar pageLoadedTime = 0;\\nvar startTime = new Date().getTime();\\nvar sugLocCode = \"\";\\nvar searchLog = {\\nuc: 0,\\nclickCount: 0,\\ndl: \"\"\\n};\\nvar SEARCHLOGDOMAIN = \"//sl.search.daum.net\"; \\n\\nvar CNUCC_URL = \"//harm.search.daum.net/api/harmRegister\";\\n</script>\\n\\n\\n<script type=\"text/html\" id=\"answer-korea-weather-template\">\\n<span class=\"weather_comp\">\\n<span class=\"txt_exact ico_suggest\" data-bind=\"css: icon40\">\\n<span class=\"tit\" data-bind=\"text: areaname\"></span>\\n<span class=\"cont\"><span class=\"txt_cont\" data-bind=\"text: wtext5s\"></span> <span class=\"txt_num1 ico_suggest2 ico_celsius\" data-bind=\"text: temp\"></span><span class=\"txt_unit\">℃</span></span>\\n</span>\\n<span class=\"txt_time\" data-bind=\"text: (announce + \\' 기준\\') \"></span>\\n</span>\\n</script>\\n\\n\\n\\n\\n\\n\\n\\n\\n\\n\\n\\n\\n\\n\\n\\n<script type=\"text/javascript\" src=\"//search1.daumcdn.net/search/statics/common/js/fe/tot-search/polyfill/p/polyfill.p.common.20200707150840.min.js\" charset=\"utf-8\"></script>\\n\\n\\n<script type=\"text/javascript\" src=\"//search1.daumcdn.net/search/statics/common/js/fe/tot-search/vendor/p/common/vendor.p.common.20210614193738.min.js\" charset=\"utf-8\"></script>\\n<script type=\"text/javascript\" src=\"//search1.daumcdn.net/search/statics/common/js/log/p_log.min.20210914172112.js\" charset=\"utf-8\"></script>\\n<script type=\"text/javascript\" src=\"//search1.daumcdn.net/search/statics/common/js/fe/tot-search/module/p/common/module.p.common.20210726112603.min.js\" charset=\"utf-8\"></script>\\n<script type=\"text/javascript\" src=\"//search1.daumcdn.net/search/statics/common/js/fe/tot-search/module/p/search/module.p.search.20210726112603.min.js\" charset=\"utf-8\"></script>\\n<script>\\n(function(SF, $, SL) {\\nObject.assign(SF, {\\nlogStaticErrors: {\\nisArgonUrl: function(url) {\\nreturn url.indexOf(\\'argon\\') !== -1;\\n},\\nextractArgonId: function(url) {\\nreturn url.split(\\'/\\').pop();\\n},\\ncreateFreeLogParams: function(ids) {\\nreturn {\\ntimg: ids.join(\\',\\')\\n};\\n},\\nchunkCall: function (fn, options) {\\nvar chunk = [];\\nvar debounced = $.debounce(function() {\\nif (chunk.length > 0) {\\nfn(chunk);\\nchunk = [];\\n}\\n}, options.timeout);\\nreturn function (arg) {\\nchunk.push(arg);\\nif (chunk.length >= options.chunkSize) {\\nfn(chunk);\\nchunk = [];\\n}\\ndebounced();\\n};\\n},\\ninit: function() {\\nthis.subscribe();\\n},\\nsubscribe: function() {\\nif (!(\\'addEventListener\\' in document)) {\\nreturn;\\n}\\nvar sendLog = this.chunkCall(this.sendLog.bind(this), {\\ntimeout: 1000,\\nchunkSize: 50\\n});\\nvar onError = this.onError.bind(this, sendLog);\\nthis.unsubscribe = function () {\\nwindow.removeEventListener(\\'error\\', onError);\\n};\\nwindow.addEventListener(\\'error\\', onError, true);\\n},\\nonError: function (callback, event) {\\nvar src = event.target.src;\\nif (typeof src === \\'string\\' && this.isArgonUrl(src)) {\\ncallback(this.extractArgonId(src));\\n}\\n},\\nsendLog: function(argonIds) {\\nvar params = this.createFreeLogParams(argonIds);\\nSL.freelog.send(params);\\n},\\nunsubscribe: $.noop\\n}\\n});\\n})(window.SF || {}, window.jQuery, window.SL || {});\\nSF.logStaticErrors.init();\\n</script>\\n<script type=\"text/javascript\">\\nSF.loadModuleList = {\\n\"amcharts\":\"//search1.daumcdn.net/search/statics/common/js/fe/tot-search/library/p/amcharts.20190321202015.min.js\",\\n\"calendar\":\"//search1.daumcdn.net/search/statics/common/js/fe/tot-search/module/p/calendar/module.p.calendar.20210312112039.min.js\",\\n\"chart\":\"//search1.daumcdn.net/search/statics/common/js/fe/tot-search/library/p/chart.20200602182334.min.js\",\\n\"kakaosdk\":\"//search1.daumcdn.net/search/statics/common/js/fe/tot-search/library/p/kakaosdk.20190321202015.min.js\",\\n\"kakaotv\":\"//tv.kakao.com/player/script/sdk/player_api.min.js\",\\n\"pagenavigation\":\"//search1.daumcdn.net/search/statics/common/js/fe/tot-search/module/p/pagenavigation/module.p.pagenavigation.20191016171910.min.js\",\\n\"youtube\":\"//www.youtube.com/player_api\"\\n};\\n</script>\\n<script type=\"text/javascript\">\\n(function(SF) {\\nObject.assign(SF, {\\nphase: \\'prod\\'\\n});\\n})(window.SF);\\n</script>\\n\\n\\n\\n\\n\\n\\n\\n\\n\\n\\n\\n\\n\\n\\n\\n\\n\\n\\n\\n\\n\\n\\n\\n\\n\\n\\n\\n\\n\\n\\n\\n\\n\\n\\n\\n\\n\\n\\n\\n\\n\\n\\n\\n\\n\\n\\n\\n\\n\\n\\n\\n\\n\\n\\n\\n\\n\\n\\n\\n\\n\\n\\n\\n\\n\\n\\n\\n\\n\\n\\n\\n\\n\\n\\n\\n\\n\\n\\n\\n\\n\\n\\n\\n\\n\\n\\n\\n\\n\\n\\n\\n\\n\\n\\n\\n\\n\\n\\n\\n\\n\\n\\n\\n\\n\\n\\n\\n\\n\\n\\n\\n\\n\\n\\n\\n\\n\\n\\n\\n\\n\\n\\n\\n\\n\\n\\n\\n\\n<style type=\"text/css\">\\n.daum #daumLogo {\\nbackground-image: url(//t1.kakaocdn.net/search/statics/common/pi/logo/3521b830017c00001.png);\\n}\\n@media only screen and (-webkit-min-device-pixel-ratio:1.5),only screen and (min-device-pixel-ratio:1.5),only screen and (min-resolution:1.5dppx),only screen and (min-resolution:144dpi) {\\n.daum #daumLogo { background-image:url(//t1.kakaocdn.net/search/statics/common/pi/logo/r2/3521c462017c00001.png) }\\n}\\n</style>\\n\\n\\n\\n\\n\\n\\n\\n\\n\\n\\n\\n\\n\\n\\n\\n\\n\\n\\n<!--[if IE]>\\n<script src=\"//search1.daumcdn.net/search/statics/common/js/g/html5.min.js\"></script>\\n<![endif]-->\\n</head>\\n\\n<body class=\"daum \">\\n\\n<script type=\"text/javascript\">\\nSL.mkeyLog();\\n</script>\\n<nav id=\"daumIndex\" class=\"d_direct\">\\n<a href=\"#daumBody\" class=\"link_direct\">본문 바로가기</a>\\n<a href=\"#daumGnb\" class=\"link_direct\">메뉴 바로가기</a>\\n<a href=\"#realtimeIssueTitle\" class=\"link_direct\">실시간이슈 바로가기</a>\\n</nav>\\n<div id=\"tooltipContent\"></div> <!-- TT -->\\n<div id=\"saq\" style=\"display:none\">인공지능</div>\\n<article id=\"daumWrap\" class=\"sch_tab_news\">\\n<header id=\"daumHead\">\\n<div id=\"innerHeader\" class=\"inner_header\">\\n<h1>\\n<a id=\"daumLogo\" href=\"https://www.daum.net/?nil_profile=daum&nil_src=search\" onclick=\\'smartLog(this, \"e=1&dc=MLC\", event);\\' title=\"Daum 메인페이지로 가기\" target=\"_top\">\\n<img src=\"//search1.daumcdn.net/search/statics/common/pi/logo/daumlogo_170324.png\" width=\"84\" height=\"34\" alt=\"Daum\">\\n</a>\\n<span id=\"daumServiceLogo\" class=\"screen_out\">검색</span>\\n</h1>\\n<form id=\"daumSearch\" name=\"search\" method=\"get\" class=\"d_sch\">\\n<fieldset class=\"fld_total\">\\n<legend class=\"screen_out\">검색폼</legend>\\n<input type=\"hidden\" id=\"nil_suggest\" name=\"nil_suggest\" value=\"btn\">\\n<input type=\"hidden\" id=\"nil_ch\" name=\"nil_ch\" value=\"\">\\n<input type=\"hidden\" name=\"rtupcoll\" value=\"\">\\n<input type=\"hidden\" name=\"w\" value=\"news\">\\n<input type=\"hidden\" name=\"m\" value=\"\">\\n<input type=\"hidden\" id=\"f\" name=\"f\" value=\"\">\\n<input type=\"hidden\" name=\"lpp\" value=\"\">\\n<input type=\"hidden\" name=\"DA\" value=\"SBC\">\\n<input type=\"hidden\" name=\"sug\" value=\"\">\\n<input type=\"hidden\" name=\"sq\" value=\"\">\\n<input type=\"hidden\" name=\"o\" value=\"\">\\n<input type=\"hidden\" name=\"sugo\" value=\"\">\\n\\n\\n\\n<input type=\"hidden\" name=\"cluster\" value=\"y\">\\n\\n\\n\\n\\n<div class=\"box_searchbar\">\\n<div class=\"inner_searchbar\">\\n<input type=\"text\" class=\"tf_keyword\" id=\"q\" name=\"q\" title=\"검색어 입력\" value=\"인공지능\" autocomplete=\"off\" spellcheck=\"false\" maxlength=\"255\" >\\n<button id=\"VKIBtn\" class=\"img_keyboard btn_key\" type=\"button\" onclick=\"SF.virtualKeyboardHandler.call();smartLog(this, \\'pg=1&p=1&r=1&rc=1&dc=BFJ&at=func\\',event);return false;\"><span class=\"ir_wa\">한글입력기</span></button>\\n<button type=\"submit\" id=\"daumBtnSearch\" class=\"ico_ksearch btn_ksearch\"><span class=\"ir_wa\">검색</span></button>\\n</div>\\n</div>\\n<div id=\"wrap_suggestBox\" class=\"wrap_suggestBox\"><div id=\"suggestBox\" class=\"suggestBox box_sub\"></div></div>\\n</fieldset>\\n</form>\\n<script type=\"text/javascript\">\\n(function(){\\nvar headerSearchModule = new SF.HeaderSearchForm();\\nheaderSearchModule.init();\\n})();\\n</script>\\n\\n<div id=\"wrapMinidaum\"></div>\\n<div id=\"VKILayout\" class=\"keyboard_layer\" style=\"display:none;\"></div>\\n<div class=\"cl_b\"></div>\\n</div>\\n<div id=\"daumGnb\">\\n<div class=\"wrap_gnb\">\\n<ul class=\"gnb_search\">\\n\\n<li class=\"\">\\n\\n<a href=\"?w=tot&q=%EC%9D%B8%EA%B3%B5%EC%A7%80%EB%8A%A5&DA=NTB\" class=\"tab tab_total\" onclick=\\'smartLog(this, \"pg=1&r=1&p=1&rc=1&dc=NTB&at=more\", event);\\'><span class=\"inner_tab\"><span class=\"txt_tab\">통합검색</span></span></a>\\n</li>\\n\\n\\n\\n\\n\\n\\n\\n<li class=\"\">\\n\\n\\n\\n<a href=\"?w=img&nil_search=btn&DA=NTB&enc=utf8&q=%EC%9D%B8%EA%B3%B5%EC%A7%80%EB%8A%A5\" class=\"tab tab_img\" onclick=\\'smartLog(this, \"pg=1&r=2&p=1&rc=1&dc=NTB&at=more\", event);\\'>\\n<span class=\"inner_tab\"><span class=\"txt_tab\">이미지</span></span>\\n</a>\\n\\n</li>\\n\\n\\n<li class=\"\">\\n\\n\\n\\n<a href=\"?w=vclip&nil_search=btn&DA=NTB&enc=utf8&q=%EC%9D%B8%EA%B3%B5%EC%A7%80%EB%8A%A5\" class=\"tab tab_vclip\" onclick=\\'smartLog(this, \"pg=1&r=3&p=1&rc=1&dc=NTB&at=more\", event);\\'>\\n<span class=\"inner_tab\"><span class=\"txt_tab\">동영상</span></span>\\n</a>\\n\\n</li>\\n\\n\\n<li class=\"on\">\\n<span class=\"screen_out\">선택된 항목</span>\\n\\n\\n<a href=\"?w=news&nil_search=btn&DA=NTB&enc=utf8&cluster=y&cluster_page=1&q=%EC%9D%B8%EA%B3%B5%EC%A7%80%EB%8A%A5\" class=\"tab tab_news\" onclick=\\'smartLog(this, \"pg=1&r=4&p=1&rc=1&dc=NTB&at=more\", event);\\'>\\n<span class=\"inner_tab\"><span class=\"txt_tab\">뉴스</span></span>\\n</a>\\n\\n</li>\\n\\n\\n<li class=\"\">\\n\\n\\n\\n<a href=\"?w=blog&nil_search=btn&DA=NTB&enc=utf8&q=%EC%9D%B8%EA%B3%B5%EC%A7%80%EB%8A%A5\" class=\"tab tab_blog\" onclick=\\'smartLog(this, \"pg=1&r=5&p=1&rc=1&dc=NTB&at=more\", event);\\'>\\n<span class=\"inner_tab\"><span class=\"txt_tab\">블로그</span></span>\\n</a>\\n\\n</li>\\n\\n\\n<li class=\"\">\\n\\n\\n\\n<a href=\"?w=cafe&nil_search=btn&DA=NTB&enc=utf8&ASearchType=1&lpp=10&rlang=0&q=%EC%9D%B8%EA%B3%B5%EC%A7%80%EB%8A%A5\" class=\"tab tab_cafe\" onclick=\\'smartLog(this, \"pg=1&r=6&p=1&rc=1&dc=NTB&at=more\", event);\\'>\\n<span class=\"inner_tab\"><span class=\"txt_tab\">카페</span></span>\\n</a>\\n\\n</li>\\n\\n\\n<li class=\"\">\\n\\n\\n\\n<a href=\"?w=web&nil_search=btn&DA=NTB&enc=utf8&lpp=10&q=%EC%9D%B8%EA%B3%B5%EC%A7%80%EB%8A%A5\" class=\"tab tab_webdoc\" onclick=\\'smartLog(this, \"pg=1&r=7&p=1&rc=1&dc=NTB&at=more\", event);\\'>\\n<span class=\"inner_tab\"><span class=\"txt_tab\">웹문서</span></span>\\n</a>\\n\\n</li>\\n\\n\\n<li class=\"\">\\n\\n\\n\\n<a href=\"?w=site&nil_search=btn&DA=NTB&enc=utf8&lpp=10&q=%EC%9D%B8%EA%B3%B5%EC%A7%80%EB%8A%A5\" class=\"tab tab_site\" onclick=\\'smartLog(this, \"pg=1&r=8&p=1&rc=1&dc=NTB&at=more\", event);\\'>\\n<span class=\"inner_tab\"><span class=\"txt_tab\">사이트</span></span>\\n</a>\\n\\n</li>\\n\\n</ul>\\n\\n<div class=\"more_search\">\\n<a id=\"gnbToggleBtn\" href=\"javascript:;\"  class=\"btn_tab\">\\n<span class=\"txt_btn\">더보기/접기</span>\\n</a>\\n<ul class=\"list_more\">\\n\\n\\n<li class=\"\">\\n\\n\\n<a target=\"_blank\" href=\"http://dic.daum.net/search.do?q=%EC%9D%B8%EA%B3%B5%EC%A7%80%EB%8A%A5\" class=\"link_more tab_dic\" onclick=\\'smartLog(this, \"pg=1&r=9&p=2&rc=1&e1=NS&e2=DICZ&dc=NTB&at=more\", event);\\'>\\n<span class=\"inner_tab\">\\n<span class=\"txt_tab\">어학사전</span>\\n<span class=\"ico_ksearch ico_outlink\">새창</span>\\n</span>\\n</a>\\n\\n</li>\\n\\n\\n<li class=\"\">\\n\\n\\n<a target=\"_blank\" href=\"http://map.daum.net/?from=total&nil_suggest=btn&tab=place&q=%EC%9D%B8%EA%B3%B5%EC%A7%80%EB%8A%A5\" class=\"link_more tab_map\" onclick=\\'smartLog(this, \"pg=1&r=10&p=2&rc=1&e1=NS&e2=GG1Z&dc=NTB&at=more\", event);\\'>\\n<span class=\"inner_tab\">\\n<span class=\"txt_tab\">지도</span>\\n<span class=\"ico_ksearch ico_outlink\">새창</span>\\n</span>\\n</a>\\n\\n</li>\\n\\n\\n<li class=\"\">\\n\\n\\n<a target=\"_blank\" href=\"http://100.daum.net/search/entry?q=%EC%9D%B8%EA%B3%B5%EC%A7%80%EB%8A%A5\" class=\"link_more tab_dic100\" onclick=\\'smartLog(this, \"pg=1&r=11&p=2&rc=1&e1=NS&e2=1DVZ&dc=NTB&at=more\", event);\\'>\\n<span class=\"inner_tab\">\\n<span class=\"txt_tab\">백과사전</span>\\n<span class=\"ico_ksearch ico_outlink\">새창</span>\\n</span>\\n</a>\\n\\n</li>\\n\\n\\n<li class=\"\">\\n\\n\\n<a target=\"_blank\" href=\"https://shoppinghow.kakao.com/search/%EC%9D%B8%EA%B3%B5%EC%A7%80%EB%8A%A5/&srchhow=Cexpo\" class=\"link_more tab_shop\" onclick=\\'smartLog(this, \"pg=1&r=12&p=2&rc=1&e1=NS&e2=SNPZ&dc=NTB&at=more\", event);\\'>\\n<span class=\"inner_tab\">\\n<span class=\"txt_tab\">쇼핑</span>\\n<span class=\"ico_ksearch ico_outlink\">새창</span>\\n</span>\\n</a>\\n\\n</li>\\n\\n\\n<li class=\"\">\\n\\n\\n<a href=\"?w=book&nil_search=btn&DA=NTB&enc=utf8&q=%EC%9D%B8%EA%B3%B5%EC%A7%80%EB%8A%A5\" class=\"link_more tab_book\" onclick=\\'smartLog(this, \"pg=1&r=13&p=2&rc=1&e1=NS&e2=LB0Z&dc=NTB&at=more\", event);\\'>\\n<span class=\"inner_tab\"><span class=\"txt_tab\">책</span></span>\\n</a>\\n\\n</li>\\n\\n\\n<li class=\"\">\\n\\n\\n<a href=\"?w=music&m=song&nil_search=btn&DA=NTB&q=%EC%9D%B8%EA%B3%B5%EC%A7%80%EB%8A%A5\" class=\"link_more tab_music\" onclick=\\'smartLog(this, \"pg=1&r=14&p=2&rc=1&e1=NS&e2=MS2Z&dc=NTB&at=more\", event);\\'>\\n<span class=\"inner_tab\"><span class=\"txt_tab\">멜론뮤직</span></span>\\n</a>\\n\\n</li>\\n\\n\\n<li class=\"\">\\n\\n\\n<a href=\"?w=brunch&nil_search=btn&DA=NTB&enc=utf8&q=%EC%9D%B8%EA%B3%B5%EC%A7%80%EB%8A%A5\" class=\"link_more tab_brunch\" onclick=\\'smartLog(this, \"pg=1&r=15&p=2&rc=1&e1=NS&e2=BRCZ&dc=NTB&at=more\", event);\\'>\\n<span class=\"inner_tab\"><span class=\"txt_tab\">브런치</span></span>\\n</a>\\n\\n</li>\\n\\n\\n<li class=\"\">\\n\\n\\n<a href=\"?w=kstory&nil_search=btn&DA=NTB&q=%EC%9D%B8%EA%B3%B5%EC%A7%80%EB%8A%A5\" class=\"link_more tab_kstory\" onclick=\\'smartLog(this, \"pg=1&r=16&p=2&rc=1&e1=NS&e2=KASZ&dc=NTB&at=more\", event);\\'>\\n<span class=\"inner_tab\"><span class=\"txt_tab\">카카오스토리</span></span>\\n</a>\\n\\n</li>\\n\\n</ul>\\n</div>\\n\\n\\n\\n\\n</div>\\n</div>\\n<script type=\"text/javascript\">\\n\\n_jsSetCookieNonEscape = function(name,value){\\ndocument.cookie = name+\"=\"+value+\"; path=/;\";\\n};\\n_jsSetCookieNonEscape(\"ODT\", \"IIMZ_VO2Z_NNSZ_BR1Z_CCBZ_WSAZ_IVRZ_\");\\n_jsSetCookieNonEscape(\"DDT\", \"DICZ_GG1Z_1DVZ_SNPZ_LB0Z_MS2Z_BRCZ_KASZ_\");\\n_jsSetCookieNonEscape(\"DTQUERY\", \"%EC%9D%B8%EA%B3%B5%EC%A7%80%EB%8A%A5\" );\\n\\n\\n</script>\\n<form name=\"cUccForm\" method=\"get\">\\n<input type=\"hidden\" name=\"kword\">\\n<input type=\"hidden\" name=\"colid\">\\n<input type=\"hidden\" name=\"docid\">\\n<input type=\"hidden\" name=\"backurl\">\\n</form>\\n<form name=\"urForm\" method=\"get\">\\n<input type=\"hidden\" name=\"q\">\\n</form>\\n<div class=\"clr\"></div>\\n<!-- // daumGnb -->\\n<div name=\"searchData\" id=\"searchData\" class=\"skiptonavi\"></div>\\n<!-- End Header -->\\n</header>\\n\\n\\n<script type=\"text/html\" id=\"suggest-footer-template\">\\n<div>\\n<span>\\n<div class=\"fr\">\\n<a href=\"http://cs.daum.net/faq/15/14957.html#28978\" class=\"isSuggest\" target=\"_blank\" onclick=\"smartLog(this, \\'dc=SUG&p=5&r=1\\', event);\">서제스트란?</a>\\n</div>\\n</span>\\n</div>\\n</script>\\n\\n<article id=\"daumContent\">\\n<div id=\"cMain\">\\n<script type=\"text/javascript\">\\nsearchLog.dl = \\'1MV0_TOG0_NSJ0_DCC0_NNS21_PGD1_RNN1_MNN1_RSN1_EOA1_DRU1_MBK1\\';\\t/* ISM DISPLAY_RESULT */\\nvar smDisCode = \"\";\\nvar smClickCode = \"\";\\nvar smCateCode = \"\";\\nvar totCollCount = \"1\";\\nvar sPageLoadedmsTime = 250;\\nvar requestTime = \"1633259070496\";\\n</script>\\n<article id=\"mArticle\">\\n<div class=\"inner_article\">\\n<span id=\"daumBody\" class=\"screen_out\">검색 본문</span>\\n\\n\\n\\n\\n\\n\\n\\n\\n\\n\\n\\n\\n\\n\\n\\n\\n\\n\\n\\n\\n\\n<div disp-attr=\\'NSJ\\' style=\"position: relative;\" class=\"g_comp\">\\n\\n\\n<script type=\"text/javascript\">\\n/**\\n* 관련검색어 pc용 스크립트\\n* 바로가기 니즈 키워드 (기준 CTR 50% 이상) 인 경우 관련검색어 노출을 확대해서(3줄 펼치기 형태) 관련검색어 클릭을 높인다 - 2013.11.5 로직 삭제\\n*/\\n(function (jq) {\\nC.netizenColl = C.netizenColl || {};\\nC.netizenColl = {\\napplyTopBottom: function (position) {\\nvar NetizenToggle = function (type) {\\nthis.type = (type) ? type : \"\";\\nthis.btnEl = jq(\"#netizen_more_btn_\" + type);\\nthis.btnTextEl = jq(\"#netizen_more_btn_\" + type + \" span.ico_rwd\");\\nthis.listsWrapper = jq(\"#netizen_lists_\" + this.type);\\nthis.lists = jq(\"#netizenColl_\" + this.type + \" .list_keyword span.wsn\");\\nthis.listKeywords = jq(\"#netizenColl_\" + this.type + \" .list_keyword span.wsn a.keyword\");\\nthis.tab = this.listsWrapper.data(\"w\");\\nthis.listFoldClass = (this.tab == \"img\") ? \"type1\" : \"type2\";   /* 이미지는 기본 1줄, 나머지는 기본 2줄 노출 */\\nthis.listOpenClass = \"type3\";   /* 쵀대 4줄 노출 */\\n};\\nNetizenToggle.prototype = {\\ninit: function () {\\nif (this.btnEl.length > 0) {\\nthis.setListType();\\nthis.btnEl.unbind(\"click\").bind(\"click\", jq.proxy(this.toggle, this));\\nthis.listKeywords.unbind(\"click\").bind(\"click\", jq.proxy(this.sendLog, this));\\njq(window).resize(jq.proxy(this.setListType, this));\\n}\\n},\\nsetListType: function () {\\nvar lineCount = this.getLineCount();\\nswitch (lineCount) {\\ncase 1:\\nthis.setBtnStatus(\"more\", \"hide\");\\nthis.listsWrapper[0].className = \"list_keyword\";\\nbreak;\\ncase 2:\\nif (this.tab == \"img\") {\\nif (this.listsWrapper.hasClass(\"type3\")) {\\nthis.setBtnStatus(\"fold\", \"show\");\\nthis.listsWrapper[0].className = \"list_keyword \" + this.listOpenClass;\\n} else {\\nthis.setBtnStatus(\"more\", \"show\");\\nthis.listsWrapper[0].className = \"list_keyword \" + this.listFoldClass;\\n}\\n} else {\\nthis.setBtnStatus(\"more\", \"hide\");\\nthis.listsWrapper[0].className = \"list_keyword\";\\n}\\nbreak;\\ncase 3:\\ncase 4:\\nif (this.tab == \"img\") {\\nif (this.listsWrapper.hasClass(\"type1\") || this.listsWrapper.hasClass(\"type2\")) {\\nthis.setBtnStatus(\"more\", \"show\");\\nthis.listsWrapper[0].className = \"list_keyword \" + this.listFoldClass;\\n} else {\\nthis.listsWrapper[0].className = \"list_keyword \" + this.listOpenClass;\\n}\\n} else {\\nthis.setBtnStatus(\"more\", \"show\");\\nthis.listsWrapper[0].className = \"list_keyword \" + this.listFoldClass;\\n}\\nbreak;\\n}\\n},\\nsetBtnStatus: function (opt1, opt2) {\\nif (opt1 == \"more\") {\\nthis.btnEl.removeClass(\"fold\");\\nthis.btnTextEl.text(\\'더보기\\');\\n} else if (opt1 == \"fold\") {\\nthis.btnEl.addClass(\"fold\");\\nthis.btnTextEl.text(\\'접기\\');\\n}\\nif (typeof(opt2) != \"undefined\") {\\nif (opt2 == \"hide\") {\\njq(this.btnEl).addClass(\"hide\");\\n} else if (opt2 == \"show\") {\\njq(this.btnEl).removeClass(\"hide\");\\n}\\n}\\n},\\ntoggle: function (e) {\\nvar lineCount = this.getLineCount();\\nvar logData = this.btnEl.data(\"log\");\\nif (lineCount > 1) {\\nif (this.btnEl.length > 0) {\\nif (this.btnEl.hasClass(\"fold\")) {\\nthis.setBtnStatus(\"more\");\\nthis.listsWrapper[0].className = \"list_keyword \" + this.listFoldClass;\\nsmartLog(this.btnEl, logData + \"&e=2\", e);\\n} else {\\nthis.setBtnStatus(\"fold\");\\nthis.listsWrapper[0].className = \"list_keyword \" + this.listOpenClass;\\nsmartLog(this.btnEl, logData + \"&e=1\", e);\\n}\\n}\\n}\\n},\\ngetLineCount: function () {\\nvar list = this.lists[this.lists.length - 1];\\nvar top = jq(list).position().top;\\nvar lineHeight = 25;\\nvar margin = 5;\\n/* 한 줄이 25 */\\nif (top >= lineHeight * 3 && top >= lineHeight * 3 - margin) {  /* 70~75 */\\nreturn 4;\\n} else if (top >= lineHeight * 2 && top >= lineHeight * 2 - margin) { /* 45~50 */\\nreturn 3;\\n} else if (top >= lineHeight && top >= lineHeight - margin) {    /* 20~25 */\\nreturn 2;\\n} else {    /* ~20 */\\nreturn 1;\\n}\\n},\\nsendLog: function (e) {\\ne.stopPropagation();\\nvar target = function () {\\nif (e.target.tagName.toLowerCase() == \"span\") {\\nreturn e.target.firstChild;\\n} else if (e.target.tagName.toLowerCase() == \"a\") {\\nreturn e.target;\\n}\\n}();\\nvar log = jq(target).data(\"log\");\\nvar extra = {\\n\"relkwd\": {\\n\"click_query\": jq(target).text()\\n}\\n};\\nsmartLog(target, log, e, extra);\\n}\\n};\\nvar netizenToggle;\\nnetizenToggle = new NetizenToggle(position);\\nnetizenToggle.init();\\n/* 이미지 탭에서 상단 관련검색어 미들 top 사이즈 체크할 때, 렌더링 타이밍 이슈로 넣어 둠. */\\nsetTimeout(function () {\\nnetizenToggle.setListType();\\n}, 0);\\n},\\napplyRight: function () {\\n/* ie6, ie7, ipad 가 아니면 */\\nif (!((SF.ua.browser.name == \"msie\" && (SF.ua.browser.version.major == \"6\" || SF.ua.browser.version.major == \"7\")) || (SF.ua.browser.name == \"ipad\"))) {\\nthis.fixTop();\\n}\\nvar listKeywords = jq(\"#netizenColl_right .list_keyword a.link_txt\");\\nlistKeywords.unbind(\"click\").bind(\"click\", jq.proxy(this.sendLog, this));\\n},\\nsendLog: function (e) {\\ne.stopPropagation();\\nvar target = function () {\\nif (e.target.tagName.toLowerCase() == \"span\") {\\nreturn e.target.parentNode;\\n} else if (e.target.tagName.toLowerCase() == \"a\") {\\nreturn e.target;\\n}\\n}();\\nvar log = jq(target).data(\"log\");\\nvar freeLog = {\\n\"relkwd\": {\\n\"click_query\": jq(target).text()\\n}\\n};\\nsmartLog(target, log, e, freeLog);\\n},\\nfixTop: function () {\\nvar netizenEl = jq(\"#netizenColl_right\")[0];\\nif (netizenEl) {\\nvar bodyHeight = jq(\"#daumWrap\")[0].clientHeight;\\nif (viewsite == \"0001L\") {\\n/* SA일경우 */\\nvar headerHeight = jq(\"#bingHead\")[0].clientHeight;\\nvar footerHeight = jq(\"#bingFoot\")[0].clientHeight;\\n} else {\\nvar headerHeight = jq(\"#daumHead\")[0].clientHeight;\\nvar footerHeight = jq(\"#daumFoot\")[0].clientHeight;\\n}\\nvar netizenHeight = netizenEl.clientHeight;\\nvar netizenTop = 0;\\nvar offset = 60;\\n/* 우하단 맨위로 버튼으로 인한 오프셋  */\\nvar prevHeight = 0;\\nvar browserHeight = 0;\\nvar checkNetizen = function () {\\nvar currentNetizenTop = jq(netizenEl).position().top;\\nif (currentNetizenTop !== -1) {\\nnetizenTop = currentNetizenTop;\\n}\\nvar isHorizontalScrollbar = document.documentElement.scrollWidth > document.documentElement.clientWidth;\\nvar scrollTop = getScrollOffsets().top;\\nbrowserHeight = getWindowSize().height;\\nvar fixMode = ((scrollTop - headerHeight) >= netizenTop) ? true : false;\\nif (isHorizontalScrollbar) {\\nfixMode = false;\\n}\\nif (fixMode) {\\njq(netizenEl).addClass(\"netizen_fixed\");\\nif (scrollTop > (bodyHeight - (netizenHeight + footerHeight + offset))) {\\nnetizenEl.style.top = bodyHeight - (footerHeight + offset + netizenHeight) - scrollTop + \"px\";\\n} else {\\nnetizenEl.style.top = \"-1px\";\\n}\\n} else {\\njq(netizenEl).removeClass(\"netizen_fixed\");\\n}\\n};\\nvar getScrollOffsets = function () {\\nreturn {\\n\\'left\\': window.pageXOffset || document.documentElement.scrollLeft || document.body.scrollLeft,\\n\\'top\\': window.pageYOffset || document.documentElement.scrollTop || document.body.scrollTop\\n};\\n};\\nvar getWindowSize = function () {\\nvar w = (window.innerWidth || document.documentElement.clientWidth || document.body.clientWidth || 1003) - 2,\\nh = (window.innerHeight || document.documentElement.clientHeight || document.body.clientHeight || 650) - 2;\\nreturn {\"width\": w, \"height\": h};\\n};\\ncheckNetizen();\\njq(window).scroll(checkNetizen);\\njq(window).resize(function () {\\n/* 브라우저 리사이즈시에는 높이가 달라졌을때는 클래스 순간 지움. (위치 새로 잡기위해) */\\nif (prevHeight == browserHeight) {\\njq(netizenEl).removeClass(\"netizen_fixed\");\\n}\\ncheckNetizen();\\nprevHeight = browserHeight;\\n});\\n}\\n}\\n};\\n/**\\n* pc 우측 박스용 말줄임\\n*/\\nC.netizenColl.ellipsis = {\\nFRONT_MARGIN: 0,\\nADDITIONAL_MARGIN: 15,\\n/**\\n1. 25byte 이상인 서브키가 몇개인지 측정\\n2. 그 글자들과 메인키의 일치비율 측정 => 편집거리 사용.\\n2-1. 키워드와 똑같이 잘라서 편집거리 측정\\n3. 일치비율 >= 0.5 이상이면 중간말줄임, 아니면 기본 말줄임\\n*/\\ndraw: function () {\\nvar _this = this;\\nvar keyword = decodeURIComponent(utf8Query).replace(/\\\\s/g, \"\");\\nvar longKeyword = this.getLongSubkey();\\nif (longKeyword.length > 0) {\\nvar editDistances = jq.map(longKeyword, function (subkey) {\\n/* 2-1 단계 */\\nvar cuttingSubkey = subkey.replace(/\\\\s/g, \"\").substring(0, keyword.length);\\nreturn _this.getEditDistance(_this.hangulToJaso(keyword), _this.hangulToJaso(cuttingSubkey));\\n});\\nvar sumOfEditDistances = 0;\\njq.each(editDistances, function (index, value) {\\nsumOfEditDistances += value;\\n});\\nvar avgOfEditDistances = sumOfEditDistances / editDistances.length;\\nvar zeroCnt = jq.grep(editDistances, function (dist) {\\nreturn dist <= avgOfEditDistances;\\n}).length;\\nvar sumOfDiffSquare = 0;\\njq.each(editDistances, function (index, dist) {\\nsumOfDiffSquare += Math.pow(dist - avgOfEditDistances, 2);\\n});\\nvar matchRatio = zeroCnt / longKeyword.length;\\nvar variance = sumOfDiffSquare / editDistances.length;\\n/* 일치비율이 0.5 이상이거나 0.3 이상이지만 분산이 2보다 작을때는 중간 말줄임 적용(프로그램명 n회 같은 쿼리는 일치비율이 작게 나오기 때문) */\\nif (matchRatio >= 0.5 || (matchRatio >= 0.3 && variance < 2)) {\\nthis.setMiddleEllipsis();\\n} else {\\nthis.setFullSubkey();\\n}\\n} else {\\nthis.setFullSubkey();\\n}\\n},\\n/**\\n* 25byte 이상인 키워드 몇개인지 측정\\n*/\\ngetLongSubkey: function () {\\nvar _this = this;\\nreturn jq.map(jq(\"#netizenColl_right .txt_keyword\"), function (elem, index) {\\nvar subkey = jq(elem).attr(\"data\");\\nif (_this.getByte(subkey) >= 25) {\\nreturn subkey;\\n}\\n});\\n},\\n/**\\n* 한글도 2byte로 계산하는 바이트 계산 함수\\n*/\\ngetByte: function (s, b, i, c) {\\nfor (b = i = 0; c = s.charCodeAt(i++); b += c >> 7 ? 2 : 1);\\nreturn b;\\n},\\n/**\\n* 한글 자소 분리\\n* brunch B.Util.js 의 hangulToJaso 가져와서 사용.\\n*/\\nhangulToJaso: function (text) {\\nvar ChoSeong = [0x3131, 0x3132, 0x3134, 0x3137, 0x3138,\\n0x3139, 0x3141, 0x3142, 0x3143, 0x3145, 0x3146, 0x3147, 0x3148,\\n0x3149, 0x314a, 0x314b, 0x314c, 0x314d, 0x314e];\\nvar JungSeong = [0x314f, 0x3150, 0x3151, 0x3152, 0x3153,\\n0x3154, 0x3155, 0x3156, 0x3157, 0x3158, 0x3159, 0x315a, 0x315b,\\n0x315c, 0x315d, 0x315e, 0x315f, 0x3160, 0x3161, 0x3162, 0x3163];\\nvar JongSeong = [0x0000, 0x3131, 0x3132, 0x3133, 0x3134,\\n0x3135, 0x3136, 0x3137, 0x3139, 0x313a, 0x313b, 0x313c, 0x313d,\\n0x313e, 0x313f, 0x3140, 0x3141, 0x3142, 0x3144, 0x3145, 0x3146,\\n0x3147, 0x3148, 0x314a, 0x314b, 0x314c, 0x314d, 0x314e];\\nvar chars = [];\\nvar v = [];\\nfor (var i = 0; i < text.length; i++) {\\nchars[i] = text.charCodeAt(i);\\nif (chars[i] >= 0xAC00 && chars[i] <= 0xD7A3) {\\nvar i1, i2, i3;\\ni3 = chars[i] - 0xAC00;\\ni1 = i3 / (21 * 28);\\ni3 = i3 % (21 * 28);\\ni2 = i3 / 28;\\ni3 = i3 % 28;\\nv.push(String.fromCharCode(ChoSeong[parseInt(i1)]));\\nv.push(String.fromCharCode(JungSeong[parseInt(i2)]));\\nif (i3 != 0x0000)\\nv.push(String.fromCharCode(JongSeong[parseInt(i3)]));\\n}\\nelse {\\nv.push(String.fromCharCode(chars[i]));\\n}\\n}\\nreturn v.join(\"\");\\n},\\n/**\\n* 편집거리 측정\\n*/\\ngetEditDistance: function (a, b) {\\nif (a.length === 0) return b.length;\\nif (b.length === 0) return a.length;\\nvar matrix = [];\\n/* increment along the first column of each row */\\nvar i;\\nfor (i = 0; i <= b.length; i++) {\\nmatrix[i] = [i];\\n}\\n/* increment each column in the first row */\\nvar j;\\nfor (j = 0; j <= a.length; j++) {\\nmatrix[0][j] = j;\\n}\\n/* Fill in the rest of the matrix */\\nfor (i = 1; i <= b.length; i++) {\\nfor (j = 1; j <= a.length; j++) {\\nif (b.charAt(i - 1) == a.charAt(j - 1)) {\\nmatrix[i][j] = matrix[i - 1][j - 1];\\n} else {\\nmatrix[i][j] = Math.min(matrix[i - 1][j - 1] + 1, /* substitution */\\nMath.min(matrix[i][j - 1] + 1, /* insertion */\\nmatrix[i - 1][j] + 1)); /* deletion */\\n}\\n}\\n}\\nreturn matrix[b.length][a.length];\\n},\\n/**\\n* 중간 말줄임 적용\\n*/\\nsetMiddleEllipsis: function () {\\nvar width = 0;\\nwidth = (jq(\"#netizenColl_right .list_keyword\").width()) / 2;\\nif (width <= 0) {\\nthis.setFullSubkey();\\nreturn;\\n}\\nwidth = width - this.FRONT_MARGIN - this.ADDITIONAL_MARGIN;\\n/* width 보다 넓으면 한글자씩 빼기 */\\njq.each(jq(\"#netizenColl_right .txt_keyword\"), function (index, elem) {\\nvar subkey = jq(elem).attr(\"data\");\\nvar len = subkey.length;\\njq(elem).text(subkey);\\nvar mid = len / 2;\\nvar removeLen = 2;\\nvar head, tail;\\nwhile (jq(elem).width() > width) {\\nhead = subkey.substring(0, mid - removeLen / 2);\\ntail = subkey.substring(mid + removeLen / 2, len);\\njq(elem).text(head + \"...\" + tail);\\nremoveLen++;\\n}\\n});\\n},\\nsetFullSubkey: function () {\\njq.each(jq(\"#netizenColl_right .txt_keyword\"), function (index, elem) {\\nvar subkey = jq(elem).attr(\"data\");\\njq(elem).text(subkey);\\n});\\n}\\n};\\njq(document).ready(function () {\\nif (jq(\"#netizenColl_top\").length > 0) {\\nC.netizenColl.applyTopBottom(\"top\");\\n}\\nif (jq(\"#netizenColl_bottom\").length > 0) {\\nC.netizenColl.applyTopBottom(\"bottom\");\\n}\\nif (jq(\"#netizenColl_right\").length > 0) {\\nC.netizenColl.applyRight();\\nC.netizenColl.ellipsis.draw();\\n}\\n});\\n})(jQuery);\\n</script>\\n<div id=\"netizenColl_top\" class=\"section_related\">\\n<div id=\"netizen_lists_top\" class=\"list_keyword type2\" data-w=\"news\">\\n<h2 class=\"tit\">\\n관련 <span class=\"screen_out\">검색어</span>\\n</h2>\\n<span class=\"wsn\"><a href=\"?w=news&m=&q=%EC%9D%B8%EA%B3%B5%EC%A7%80%EB%8A%A5%20%EC%9D%B4%EB%9E%80&nzq=%EC%9D%B8%EA%B3%B5%EC%A7%80%EB%8A%A5&DA=NSJ\" class=\"keyword\" data-log=\"dc=NSJ&pg=1&r=1&p=1&e1=%EC%9D%B8%EA%B3%B5%EC%A7%80%EB%8A%A5%20%EC%9D%B4%EB%9E%80&rc=1\">인공지능 이란</a></span>\\n<span class=\"wsn\"><a href=\"?w=news&m=&q=%EC%9D%B8%EA%B3%B5%EC%A7%80%EB%8A%A5%20%EB%A1%9C%EB%B4%87&nzq=%EC%9D%B8%EA%B3%B5%EC%A7%80%EB%8A%A5&DA=NSJ\" class=\"keyword\" data-log=\"dc=NSJ&pg=1&r=2&p=1&e1=%EC%9D%B8%EA%B3%B5%EC%A7%80%EB%8A%A5%20%EB%A1%9C%EB%B4%87&rc=1\">인공지능 로봇</a></span>\\n<span class=\"wsn\"><a href=\"?w=news&m=&q=ai&nzq=%EC%9D%B8%EA%B3%B5%EC%A7%80%EB%8A%A5&DA=NSJ\" class=\"keyword\" data-log=\"dc=NSJ&pg=1&r=3&p=1&e1=ai&rc=1\">ai</a></span>\\n<span class=\"wsn\"><a href=\"?w=news&m=&q=%EC%9D%B8%EA%B3%B5%EC%A7%80%EB%8A%A5%20%EA%B5%90%EC%9C%A1&nzq=%EC%9D%B8%EA%B3%B5%EC%A7%80%EB%8A%A5&DA=NSJ\" class=\"keyword\" data-log=\"dc=NSJ&pg=1&r=4&p=1&e1=%EC%9D%B8%EA%B3%B5%EC%A7%80%EB%8A%A5%20%EA%B5%90%EC%9C%A1&rc=1\">인공지능 교육</a></span>\\n<span class=\"wsn\"><a href=\"?w=news&m=&q=%EC%9D%B8%EA%B3%B5%EC%A7%80%EB%8A%A5%20%EB%9C%BB&nzq=%EC%9D%B8%EA%B3%B5%EC%A7%80%EB%8A%A5&DA=NSJ\" class=\"keyword\" data-log=\"dc=NSJ&pg=1&r=5&p=1&e1=%EC%9D%B8%EA%B3%B5%EC%A7%80%EB%8A%A5%20%EB%9C%BB&rc=1\">인공지능 뜻</a></span>\\n<span class=\"wsn\"><a href=\"?w=news&m=&q=%EC%9D%B8%EA%B3%B5%EC%A7%80%EB%8A%A5%20%EC%8A%A4%ED%94%BC%EC%BB%A4&nzq=%EC%9D%B8%EA%B3%B5%EC%A7%80%EB%8A%A5&DA=NSJ\" class=\"keyword\" data-log=\"dc=NSJ&pg=1&r=6&p=1&e1=%EC%9D%B8%EA%B3%B5%EC%A7%80%EB%8A%A5%20%EC%8A%A4%ED%94%BC%EC%BB%A4&rc=1\">인공지능 스피커</a></span>\\n<span class=\"wsn\"><a href=\"?w=news&m=&q=%EC%9D%B8%EA%B3%B5%EC%A7%80%EB%8A%A5%20%EA%B4%80%EB%A0%A8%EC%A3%BC&nzq=%EC%9D%B8%EA%B3%B5%EC%A7%80%EB%8A%A5&DA=NSJ\" class=\"keyword\" data-log=\"dc=NSJ&pg=1&r=7&p=1&e1=%EC%9D%B8%EA%B3%B5%EC%A7%80%EB%8A%A5%20%EA%B4%80%EB%A0%A8%EC%A3%BC&rc=1\">인공지능 관련주</a></span>\\n<span class=\"wsn\"><a href=\"?w=news&m=&q=%EC%9D%B8%EA%B3%B5%EC%A7%80%EB%8A%A5%20%EB%B0%94%EB%91%91&nzq=%EC%9D%B8%EA%B3%B5%EC%A7%80%EB%8A%A5&DA=NSJ\" class=\"keyword\" data-log=\"dc=NSJ&pg=1&r=8&p=1&e1=%EC%9D%B8%EA%B3%B5%EC%A7%80%EB%8A%A5%20%EB%B0%94%EB%91%91&rc=1\">인공지능 바둑</a></span>\\n<span class=\"wsn\"><a href=\"?w=news&m=&q=%EC%9D%B8%EA%B3%B5%EC%A7%80%EB%8A%A5%20%EC%98%81%ED%99%94&nzq=%EC%9D%B8%EA%B3%B5%EC%A7%80%EB%8A%A5&DA=NSJ\" class=\"keyword\" data-log=\"dc=NSJ&pg=1&r=9&p=1&e1=%EC%9D%B8%EA%B3%B5%EC%A7%80%EB%8A%A5%20%EC%98%81%ED%99%94&rc=1\">인공지능 영화</a></span>\\n<span class=\"wsn\"><a href=\"?w=news&m=&q=%EC%9D%B8%EA%B3%B5%EC%A7%80%EB%8A%A5%20%EC%9D%B4%EB%AF%B8%EC%A7%80&nzq=%EC%9D%B8%EA%B3%B5%EC%A7%80%EB%8A%A5&DA=NSJ\" class=\"keyword\" data-log=\"dc=NSJ&pg=1&r=10&p=1&e1=%EC%9D%B8%EA%B3%B5%EC%A7%80%EB%8A%A5%20%EC%9D%B4%EB%AF%B8%EC%A7%80&rc=1\">인공지능 이미지</a></span>\\n<span class=\"wsn\"><a href=\"?w=news&m=&q=%EC%9D%B8%EA%B3%B5%EC%A7%80%EB%8A%A5%20%EC%82%AC%EC%A7%84&nzq=%EC%9D%B8%EA%B3%B5%EC%A7%80%EB%8A%A5&DA=NSJ\" class=\"keyword\" data-log=\"dc=NSJ&pg=1&r=11&p=1&e1=%EC%9D%B8%EA%B3%B5%EC%A7%80%EB%8A%A5%20%EC%82%AC%EC%A7%84&rc=1\">인공지능 사진</a></span>\\n<span class=\"wsn\"><a href=\"?w=news&m=&q=%EC%9D%B8%EA%B3%B5%EC%A7%80%EB%8A%A5%20%EC%98%81%EC%96%B4%EB%A1%9C&nzq=%EC%9D%B8%EA%B3%B5%EC%A7%80%EB%8A%A5&DA=NSJ\" class=\"keyword\" data-log=\"dc=NSJ&pg=1&r=12&p=1&e1=%EC%9D%B8%EA%B3%B5%EC%A7%80%EB%8A%A5%20%EC%98%81%EC%96%B4%EB%A1%9C&rc=1\">인공지능 영어로</a></span>\\n<span class=\"wsn\"><a href=\"?w=news&m=&q=%EC%9D%B8%EA%B3%B5%EC%A7%80%EB%8A%A5%20%EC%9E%A5%EC%A0%90&nzq=%EC%9D%B8%EA%B3%B5%EC%A7%80%EB%8A%A5&DA=NSJ\" class=\"keyword\" data-log=\"dc=NSJ&pg=1&r=13&p=1&e1=%EC%9D%B8%EA%B3%B5%EC%A7%80%EB%8A%A5%20%EC%9E%A5%EC%A0%90&rc=1\">인공지능 장점</a></span>\\n<span class=\"wsn\"><a href=\"?w=news&m=&q=%EC%9D%B8%EA%B3%B5%EC%A7%80%EB%8A%A5%20%EC%8B%9C%EB%8C%80&nzq=%EC%9D%B8%EA%B3%B5%EC%A7%80%EB%8A%A5&DA=NSJ\" class=\"keyword\" data-log=\"dc=NSJ&pg=1&r=14&p=1&e1=%EC%9D%B8%EA%B3%B5%EC%A7%80%EB%8A%A5%20%EC%8B%9C%EB%8C%80&rc=1\">인공지능 시대</a></span>\\n<span class=\"wsn\"><a href=\"?w=news&m=&q=%EC%9D%B8%EA%B3%B5%EC%A7%80%EB%8A%A5%20%EC%B1%85&nzq=%EC%9D%B8%EA%B3%B5%EC%A7%80%EB%8A%A5&DA=NSJ\" class=\"keyword\" data-log=\"dc=NSJ&pg=1&r=15&p=1&e1=%EC%9D%B8%EA%B3%B5%EC%A7%80%EB%8A%A5%20%EC%B1%85&rc=1\">인공지능 책</a></span>\\n<span class=\"wsn\"><a href=\"?w=news&m=&q=%EC%9D%B8%EA%B3%B5%EC%A7%80%EB%8A%A5%20%ED%9A%8C%EC%82%AC&nzq=%EC%9D%B8%EA%B3%B5%EC%A7%80%EB%8A%A5&DA=NSJ\" class=\"keyword\" data-log=\"dc=NSJ&pg=1&r=16&p=1&e1=%EC%9D%B8%EA%B3%B5%EC%A7%80%EB%8A%A5%20%ED%9A%8C%EC%82%AC&rc=1\">인공지능 회사</a></span>\\n<span class=\"wsn\"><a href=\"?w=news&m=&q=%EC%9D%B8%EA%B3%B5%EC%A7%80%EB%8A%A5%20%EC%A2%85%EB%A5%98&nzq=%EC%9D%B8%EA%B3%B5%EC%A7%80%EB%8A%A5&DA=NSJ\" class=\"keyword\" data-log=\"dc=NSJ&pg=1&r=17&p=1&e1=%EC%9D%B8%EA%B3%B5%EC%A7%80%EB%8A%A5%20%EC%A2%85%EB%A5%98&rc=1\">인공지능 종류</a></span>\\n<span class=\"wsn\"><a href=\"?w=news&m=&q=%EC%9D%B8%EA%B3%B5%EC%A7%80%EB%8A%A5%20%ED%95%99%EA%B3%BC&nzq=%EC%9D%B8%EA%B3%B5%EC%A7%80%EB%8A%A5&DA=NSJ\" class=\"keyword\" data-log=\"dc=NSJ&pg=1&r=18&p=1&e1=%EC%9D%B8%EA%B3%B5%EC%A7%80%EB%8A%A5%20%ED%95%99%EA%B3%BC&rc=1\">인공지능 학과</a></span>\\n<span class=\"wsn\"><a href=\"?w=news&m=&q=%EC%9D%B8%EA%B3%B5%EC%A7%80%EB%8A%A5%20%EA%B8%B0%EC%88%A0&nzq=%EC%9D%B8%EA%B3%B5%EC%A7%80%EB%8A%A5&DA=NSJ\" class=\"keyword\" data-log=\"dc=NSJ&pg=1&r=19&p=1&e1=%EC%9D%B8%EA%B3%B5%EC%A7%80%EB%8A%A5%20%EA%B8%B0%EC%88%A0&rc=1\">인공지능 기술</a></span>\\n<span class=\"wsn\"><a href=\"?w=news&m=&q=AI%20%EC%9D%B8%EA%B3%B5%EC%A7%80%EB%8A%A5&nzq=%EC%9D%B8%EA%B3%B5%EC%A7%80%EB%8A%A5&DA=NSJ\" class=\"keyword\" data-log=\"dc=NSJ&pg=1&r=20&p=1&e1=AI%20%EC%9D%B8%EA%B3%B5%EC%A7%80%EB%8A%A5&rc=1\">AI 인공지능</a></span>\\n</div>\\n<a href=\"javascript:;\" id=\"netizen_more_btn_top\" class=\"expender hide\" data-log=\"dc=NSJ&at=func\">        <span class=\"ico_rwd\">더보기</span>\\n</a>\\n</div>\\n</div>\\n\\n\\n\\n\\n\\n\\n<div disp-attr=\\'(TAB)news\\' style=\"position: relative;\" class=\"g_comp\">\\n\\n\\n<div id=\"newsColl\"> <div class=\"cont_divider\"> <div class=\"coll_tit\"> <h2 class=\"tit\">뉴스</h2> <div class=\"info_adsch info_fairtrade\"> <a href=\"javascript:;\" class=\"ico_rwd ico_info\">서비스 안내</a> <div class=\"layer_ad\" style=\"display: none;\"> <p class=\"f_eb\">다음뉴스 안내 및 문의는 <a href=\"https://cs.daum.net/faq/63.html\" target=\"_blank\">다음뉴스 고객센터</a>를 이용해 주세요.</p> <button type=\"button\" class=\"btn_close\"><span class=\"ico_rwd ico_close_s\">서비스 안내 레이어 닫기</span></button> </div> </div> <div class=\"sort_comm\" data-option-type=\"sort\"> <a href=\"javascript:;\" class=\"btn_sort\" data-sort=\"accuracy\" data-log=\"dc=STC&pg=1&r=1&p=1&rc=1&at=func\">정확도순</a> <span class=\"ico_dot\"></span> <a href=\"javascript:;\" class=\"btn_sort\" data-sort=\"recency\" data-log=\"dc=STC&pg=1&r=1&p=2&rc=1&at=func\">최신순</a> <span class=\"ico_dot\"></span> <a href=\"javascript:;\" class=\"btn_sort\" data-sort=\"old\" data-log=\"dc=STC&pg=1&r=1&p=17&rc=1&at=func\">오래된순</a> </div> <div class=\"sub_expander\"> <span id=\"resultCntArea\" class=\"txt_info\">1-10 / 약 1,330,000건</span> <div class=\"wrap_btn\"> <a id=\"linkClusterClose\" href=\"?w=news&req=tab&q=%EC%9D%B8%EA%B3%B5%EC%A7%80%EB%8A%A5&cluster=n&viewio=i&repno=0&n=10&p=1&pattern_yn=n&DA=STC\" onclick=\\'smartLog(this, \"dc=STC&pg=1&r=1&p=11&rc=1&sd=&ed=\", event);\\' ><button class=\"btn_flex\"><span class=\"inner\">관련뉴스 닫기</span></button></a> <button class=\"btn_flex btn_search_option btn_fold\"> <span class=\"inner\">검색옵션<span class=\"ico_tabopt ico_arr\">닫기</span></span> </button> </div> </div> </div> <div class=\"compo-tabopt\"> <div class=\"box_opt\"> <div class=\"menu_opt\" data-option-type=\"period\"> <a href=\"javascript:;\" class=\"tit_menu\"> <span class=\"label\">기간</span><span class=\"ico_more\">옵션더보기</span> </a> <div class=\"layer_opt\"> <ul class=\"list_opt\"> <li> <a href=\"javascript:;\" data-period=\"\" data-label=\"전체\" class=\"tit_item\" data-log=\"dc=STC&pg=1&r=1&p=3&rc=1&at=func\"> 전체 </a> </li> <li> <a href=\"javascript:;\" data-period=\"d\" data-label=\"최근 1일\" class=\"tit_item\" data-log=\"dc=STC&pg=1&r=1&p=4&rc=1&at=func\"> 최근 1일 </a> </li> <li> <a href=\"javascript:;\" data-period=\"w\" data-label=\"최근 1주\" class=\"tit_item\" data-log=\"dc=STC&pg=1&r=1&p=5&rc=1&at=func\"> 최근 1주 </a> </li> <li> <a href=\"javascript:;\" data-period=\"m\" data-label=\"최근 1개월\" class=\"tit_item\" data-log=\"dc=STC&pg=1&r=1&p=6&rc=1&at=func\"> 최근 1개월 </a> </li> <li> <a href=\"javascript:;\" data-period=\"6m\" data-label=\"최근 6개월\" class=\"tit_item\" data-log=\"dc=STC&pg=1&r=1&p=13&rc=1&at=func\"> 최근 6개월 </a> </li> <li> <a href=\"javascript:;\" data-period=\"y\" data-label=\"최근 1년\" class=\"tit_item\" data-log=\"dc=STC&pg=1&r=1&p=14&rc=1&at=func\"> 최근 1년 </a> </li> </ul> <div class=\"box_sub box_date\" data-period=\"u\"> <strong class=\"tit_other\">직접입력</strong> <div class=\"item_date\"> <input type=\"text\" title=\"검색기간 시작일\" value=\"2016.01.01\" class=\"tf_txt\" id=\"datepicker\" /> <a href=\"javascript:;\" class=\"btn_date\"> <img class=\"ui-datepicker-trigger\" src=\"https://search1.daumcdn.net/search/statics/common/pi/ico/ico_calendar.gif\" alt=\"Select date\" title=\"Select date\" /> </a> </div> <div class=\"item_date\"> <input type=\"text\" title=\"검색기간 종료일\" value=\"2016.01.01\" class=\"tf_txt\" id=\"\" /> <a href=\"javascript:;\" class=\"btn_date\"> <img class=\"ui-datepicker-trigger\" src=\"https://search1.daumcdn.net/search/statics/common/pi/ico/ico_calendar.gif\" alt=\"Select date\" title=\"Select date\" /> </a> </div> <button type=\"submit\" class=\"btn_confirm\" data-log=\"dc=STC&pg=1&r=1&p=7&rc=1&at=func\">적용</button> </div> </div> </div> <div class=\"menu_opt\" data-option-type=\"cpname\"> <a href=\"javascript:;\" class=\"tit_menu\"> <span class=\"label\">언론사</span><span class=\"ico_more\">옵션더보기</span> </a> <div class=\"layer_opt ty_news\"> <div class=\"area_head\"> <strong class=\"tit ff_dot\">언론사</strong> <span class=\"info_select\">총<em class=\"f_blue fw_b\">0</em>개 선택(최대 5개)</span> <button class=\"btn_flex btn_cp\"> <span class=\"inner\">언론사 직접입력 <span class=\"ico_tabopt ico_arr\">펼침</span></span> </button> <div class=\"layer_opt ty_findcp\"> <label class=\"lab_item\" for=\"newsCollCpInp\">언론사 직접입력</label> <div class=\"box_sub list_opt\"> <input type=\"text\" title=\"언론사입력\" value=\"\" id=\"newsCollCpInp\" class=\"tf_txt\" autocomplete=\"off\" /> <div class=\"d_sgt simple_suggest\" style=\"display: none;\"></div> <button type=\"submit\" class=\"btn_confirm\" data-log=\"dc=STC&pg=1&r=1&p=9&rc=1&at=func\">적용</button> </div> </div> </div> <div class=\"area_tab\"> <strong class=\"screen_out\">초성별 언론사 목록</strong> <ul class=\"list_tab7\"> <li class=\"on\"><a href=\"javascript:\" data-cp-category=\"ㄱ\">ㄱ</a></li> <li><a href=\"javascript:\" data-cp-category=\"ㄴ\">ㄴ</a></li> <li><a href=\"javascript:\" data-cp-category=\"ㄷ\">ㄷ</a></li> <li><a href=\"javascript:\" data-cp-category=\"ㄹ\">ㄹ</a></li> <li><a href=\"javascript:\" data-cp-category=\"ㅁ\">ㅁ</a></li> <li><a href=\"javascript:\" data-cp-category=\"ㅂ\">ㅂ</a></li> <li><a href=\"javascript:\" data-cp-category=\"ㅅ\">ㅅ</a></li> <li><a href=\"javascript:\" data-cp-category=\"ㅇ\">ㅇ</a></li> <li><a href=\"javascript:\" data-cp-category=\"ㅈ\">ㅈ</a></li> <li><a href=\"javascript:\" data-cp-category=\"ㅊ\">ㅊ</a></li> <li><a href=\"javascript:\" data-cp-category=\"ㅋ\">ㅋ</a></li> <li><a href=\"javascript:\" data-cp-category=\"ㅌ\">ㅌ</a></li> <li><a href=\"javascript:\" data-cp-category=\"ㅍ\">ㅍ</a></li> <li><a href=\"javascript:\" data-cp-category=\"ㅎ\">ㅎ</a></li> <li><a href=\"javascript:\" data-cp-category=\"기타\">기타</a></li> </ul> </div> <div class=\"area_choice\"> <strong class=\"screen_out\">언론사 선택목록</strong> </div> <div class=\"area_submit\"> <button type=\"submit\" class=\"btn_confirm\">적용</button> <button type=\"button\" class=\"btn_cancle\">취소</button> </div> </div> </div> <div class=\"menu_opt\" data-option-type=\"article_type\"> <a href=\"javascript:;\" class=\"tit_menu\"> <span class=\"label\">유형</span><span class=\"ico_more\">옵션더보기</span> </a> <div class=\"layer_opt\"> <ul class=\"list_opt\"> <li> <a href=\"javascript:;\" class=\"tit_item\" data-article_type=\"\" data-label=\"전체\" data-log=\"dc=STC&pg=1&r=1&p=20&rc=1&at=func\"> 전체 </a> </li> <li> <a href=\"javascript:;\" class=\"tit_item\" data-article_type=\"photo\" data-label=\"포토\" data-log=\"dc=STC&pg=1&r=1&p=21&rc=1&at=func\"> 포토 </a> </li> <li> <a href=\"javascript:;\" class=\"tit_item\" data-article_type=\"video\" data-label=\"동영상\" data-log=\"dc=STC&pg=1&r=1&p=22&rc=1&at=func\"> 동영상 </a> </li> <li> <a href=\"javascript:;\" class=\"tit_item\" data-article_type=\"infographic\" data-label=\"인포그래픽\" data-log=\"dc=STC&pg=1&r=1&p=23&rc=1&at=func\"> 인포그래픽 </a> </li> <li> <a href=\"javascript:;\" class=\"tit_item\" data-article_type=\"robot\" data-label=\"자동생성기사\" data-log=\"dc=STC&pg=1&r=1&p=24&rc=1&at=func\"> 자동생성기사 </a> </li> <li> <a href=\"javascript:;\" class=\"tit_item\" data-article_type=\"report\" data-label=\"보도자료\" data-log=\"dc=STC&pg=1&r=1&p=25&rc=1&at=func\"> 보도자료 </a> </li> </ul> </div> </div> <label class=\"menu_opt opt_keep\"> <input type=\"checkbox\" class=\"inp_g\" data-log=\"dc=STC&pg=1&e=1\" /><span class=\"tit_menu\"><span class=\"txt_data\">옵션유지</span></span> </label> <button type=\"button\" class=\"btn_opt btn_reset\">초기화<span class=\"ico_tabopt\"></span></button> <button type=\"button\" class=\"btn_opt btn_close\"><span class=\"ico_tabopt\">검색옵션 닫기</span></button> </div> </div> <ul class=\"list_news\"> <li> <div class=\"wrap_thumb\" id=\"news_img_0\"> <a href=\"https://cp.news.search.daum.net/p/111290267\" class=\"thumb\" onclick=\\'smartLog(this, \"dc=NNS&d=260khG_zEBsjDz7vKi&pg=1&r=1&p=1&rc=10&e1=16rrHvQ6Q704afc10-&e3=0&ext=dsid=260khG_zEBsjDz7vKi\", event, {\"cpid\": {\"value\": \"16rrHvQ6Q704afc10-\"}});\\' target=\"_blank\"> <img src=\"https://search1.daumcdn.net/thumb/P200x200/?fname=https%3A%2F%2Fsearch2.kakaocdn.net%2Fargon%2F200x200_85_c%2FAViorOxfMYl0\" class=\"thumb_img\" width=\"80\" height=\"80\" alt=\"\" data-size=\"80x80\" onerror=\"SF.errorImage(this)\"> </a> </div> <div class=\"wrap_cont\"> <a href=\"https://cp.news.search.daum.net/p/111290267\" class=\"tit_main fn_tit_u\" onclick=\\'smartLog(this, \"dc=NNS&d=260khG_zEBsjDz7vKi&pg=1&r=1&p=4&rc=10&e1=16rrHvQ6Q704afc10-&e3=0&ext=dsid=260khG_zEBsjDz7vKi\", event, {\"cpid\": {\"value\": \"16rrHvQ6Q704afc10-\"}});\\' target=\"_blank\">판교 <b>인공지능</b> 챌린지 경진대회 연다</a> <p class=\"desc\">(미디어와이 = 이인희 기자) 경기도는 10월 6일까지 사회문제 해결을 위한 `판교 AI Challenge(<b>인공지능</b> 챌린지)` 접수를 진행한다고 밝혔다.`AI Challenge(<b>인공지능</b> 챌린지)`는 학습을 토대로 경기도 내 사회적 문제 해결을 위한 경진대회다.경진대회의 과제는...</p> <span class=\"cont_info\"> <span class=\"f_nb\">미디어와이</span> <span class=\"f_nb\">2시간전</span> </span> <span id=\"newsSQC_t1_0\" style=\"display:none;\">10301^https://cp.news.search.daum.net/p/111290267^260khG_zEBsjDz7vKi^news^mediaArticle^%EC%9D%B8%EA%B3%B5%EC%A7%80%EB%8A%A5^260khG_zEBsjDz7vKi</span> </div> </li> <li> <div class=\"wrap_thumb\" id=\"news_img_1\"> <a href=\"http://v.media.daum.net/v/20210923213638714?f=o\" class=\"thumb\" onclick=\\'smartLog(this, \"dc=NNS&d=26qRdjYX2CwcZvNh04&pg=1&r=2&p=1&rc=10&e1=16akMkKFDu6n8GTzZr&e3=0&ext=dsid=26qRdjYX2CwcZvNh04\", event, {\"cpid\": {\"value\": \"16akMkKFDu6n8GTzZr\"}});\\' target=\"_blank\"> <img src=\"https://search1.daumcdn.net/thumb/P200x200/?fname=https%3A%2F%2Fsearch3.kakaocdn.net%2Fargon%2F200x200_85_c%2FIOtqcnBBUGu0\" class=\"thumb_img\" width=\"80\" height=\"80\" alt=\"\" data-size=\"80x80\" onerror=\"SF.errorImage(this)\"> </a> </div> <div class=\"wrap_cont\"> <a href=\"http://v.media.daum.net/v/20210923213638714?f=o\" class=\"tit_main fn_tit_u\" onclick=\\'smartLog(this, \"dc=NNS&d=26qRdjYX2CwcZvNh04&pg=1&r=2&p=4&rc=10&e1=16akMkKFDu6n8GTzZr&e3=0&ext=dsid=26qRdjYX2CwcZvNh04\", event, {\"cpid\": {\"value\": \"16akMkKFDu6n8GTzZr\"}});\\' target=\"_blank\"><b>인공지능</b> 정치인을 뽑는 세상이 올까</a> <p class=\"tit_sub f_nb\">과기정통부 \\'인공지능의 법적 지위\\' 온라인 세미나</p> <p class=\"desc\">권력욕 등 인격 갖춰야”사회 인식·판단력…인정은 인간 몫 지난 2007년 개봉한 미국 영화 &lt;아이, 로봇&gt;에는 매우 높은 수준의 <b>인공지능</b>을 탑재하고 두 발로 걷는 인간형 로봇이 등장한다. 로봇들은 사람과 대화를 나누고, 외출할 때 동행을 하는가 하면 요리까지...</p> <span class=\"cont_info\"> <span class=\"f_nb\">경향신문</span> <span class=\"f_nb\">2021.09.23</span> <a href=\"http://v.media.daum.net/v/20210923213638714\" class=\"f_nb\" onclick=\\'smartLog(this, \"dc=NNS&d=26qRdjYX2CwcZvNh04&pg=1&r=2&p=3&rc=10&e1=16akMkKFDu6n8GTzZr&e3=0&ext=dsid=26qRdjYX2CwcZvNh04\", event, {\"cpid\": {\"value\": \"16akMkKFDu6n8GTzZr\"}});\\' target=\"_blank\">다음뉴스</a> </span> <span id=\"newsSQC_t1_1\" style=\"display:none;\">10301^http://v.media.daum.net/v/20210923213638714?f=o^26qRdjYX2CwcZvNh04^news^mediaArticle^%EC%9D%B8%EA%B3%B5%EC%A7%80%EB%8A%A5^26qRdjYX2CwcZvNh04</span> </div> </li> <li> <div class=\"wrap_thumb\" id=\"news_img_2\"> <a href=\"http://v.media.daum.net/v/20210928100043812?f=o\" class=\"thumb\" onclick=\\'smartLog(this, \"dc=NNS&d=26zaeoGeBHATsFQ4UT&pg=1&r=3&p=1&rc=10&e1=16EJqgUM0mYHaQpZZ-&e3=0&ext=dsid=26zaeoGeBHATsFQ4UT\", event, {\"cpid\": {\"value\": \"16EJqgUM0mYHaQpZZ-\"}});\\' target=\"_blank\"> <img src=\"https://search1.daumcdn.net/thumb/P200x200/?fname=https%3A%2F%2Fsearch1.kakaocdn.net%2Fargon%2F200x200_85_c%2F1oRtobxaQto0\" class=\"thumb_img\" width=\"80\" height=\"80\" alt=\"\" data-size=\"80x80\" onerror=\"SF.errorImage(this)\"> </a> </div> <div class=\"wrap_cont\"> <a href=\"http://v.media.daum.net/v/20210928100043812?f=o\" class=\"tit_main fn_tit_u\" onclick=\\'smartLog(this, \"dc=NNS&d=26zaeoGeBHATsFQ4UT&pg=1&r=3&p=4&rc=10&e1=16EJqgUM0mYHaQpZZ-&e3=0&ext=dsid=26zaeoGeBHATsFQ4UT\", event, {\"cpid\": {\"value\": \"16EJqgUM0mYHaQpZZ-\"}});\\' target=\"_blank\">미래엔, 고등 인정교과서 &#39;<b>인공지능</b> 기초&#39;·&#39;<b>인공지능</b> 수학&#39; 발간</a> <p class=\"desc\">유발하고 사진, 삽화 등 다양한 시각 자료를 구조화하여 수업 효과를 높였다. ‘AI 세상’ 코너에서는 현시대에 적용되고 있는 <b>인공지능</b> 관련 기술과 사례를 다양한 읽을거리로 제공하여 이해를 돕는다. 무엇보다 <b>인공지능</b> 구현 무료 플랫폼인 ‘머신러닝 포 키즈...</p> <span class=\"cont_info\"> <span class=\"f_nb\">이데일리</span> <span class=\"f_nb\">2021.09.28</span> <a href=\"http://v.media.daum.net/v/20210928100043812\" class=\"f_nb\" onclick=\\'smartLog(this, \"dc=NNS&d=26zaeoGeBHATsFQ4UT&pg=1&r=3&p=3&rc=10&e1=16EJqgUM0mYHaQpZZ-&e3=0&ext=dsid=26zaeoGeBHATsFQ4UT\", event, {\"cpid\": {\"value\": \"16EJqgUM0mYHaQpZZ-\"}});\\' target=\"_blank\">다음뉴스</a> </span> <div class=\"cont_rel\"> <dl> <dt class=\"screen_out\">관련기사</dt> <dd> <a href=\"https://cp.news.search.daum.net/p/111069739\" class=\"tit_rel f_link\" onclick=\\'smartLog(this, \"dc=NNS&d=26zqc7R6lWuuVvdH_Y&pg=1&r=3&p=5&rc=10&e1=16N-ZtmK4T7c7ekWR1&e3=0&ext=dsid=26zqc7R6lWuuVvdH_Y&rtt=parent&rtid=26zaeoGeBHATsFQ4UT&rtsc=\", event, {\"cpid\": {\"value\": \"16N-ZtmK4T7c7ekWR1\"}});\\' target=\"_blank\"> <b>인공지능</b>(AI) 과목 신설… 미래엔, &#39;<b>인공지능</b> 기초... </a> <span class=\"cont_info\"> <span class=\"f_nb\">에듀동아</span> <span class=\"f_nb\">2021.09.27</span> </span> </dd> </dl> </div> <span id=\"newsSQC_t1_2\" style=\"display:none;\">10301^http://v.media.daum.net/v/20210928100043812?f=o^26zaeoGeBHATsFQ4UT^news^mediaArticle^%EC%9D%B8%EA%B3%B5%EC%A7%80%EB%8A%A5^26zaeoGeBHATsFQ4UT</span> </div> </li> <li> <div class=\"wrap_thumb\" id=\"news_img_3\"> <a href=\"http://v.media.daum.net/v/20211001171442607?f=o\" class=\"thumb\" onclick=\\'smartLog(this, \"dc=NNS&d=26FUU6hT82qYCW3R77&pg=1&r=4&p=1&rc=10&e1=16xPi3xTTvS9eQchSd&e3=0&ext=dsid=26FUU6hT82qYCW3R77\", event, {\"cpid\": {\"value\": \"16xPi3xTTvS9eQchSd\"}});\\' target=\"_blank\"> <img src=\"https://search1.daumcdn.net/thumb/P200x200/?fname=https%3A%2F%2Fsearch3.kakaocdn.net%2Fargon%2F200x200_85_c%2FH23V4gerJqQ0\" class=\"thumb_img\" width=\"80\" height=\"80\" alt=\"\" data-size=\"80x80\" onerror=\"SF.errorImage(this)\"> </a> </div> <div class=\"wrap_cont\"> <a href=\"http://v.media.daum.net/v/20211001171442607?f=o\" class=\"tit_main fn_tit_u\" onclick=\\'smartLog(this, \"dc=NNS&d=26FUU6hT82qYCW3R77&pg=1&r=4&p=4&rc=10&e1=16xPi3xTTvS9eQchSd&e3=0&ext=dsid=26FUU6hT82qYCW3R77\", event, {\"cpid\": {\"value\": \"16xPi3xTTvS9eQchSd\"}});\\' target=\"_blank\">광주광역시, <b>인공지능</b>산업위원회 본격 가동</a> <p class=\"tit_sub f_nb\">산·학·연 각 분야 AI 전문가 14명 포함 총 16명 구성..1일 첫 회의</p> <p class=\"desc\">이용섭 광주광역시장이 1일 시청 영상회의실에서 열린 <b>인공지능</b>산업위원회 회의에 참석해 인사말을 하고 있다.사진=광주광역시 제공 【파이낸셜뉴스 광주=황태종 기자】광주광역시는 1일 시청 영상회의실에서 온라인으로 <b>인공지능</b>산업위원회 첫 회의를 개최하고 공식...</p> <span class=\"cont_info\"> <span class=\"f_nb\">파이낸셜뉴스</span> <span class=\"f_nb\">2021.10.01</span> <a href=\"http://v.media.daum.net/v/20211001171442607\" class=\"f_nb\" onclick=\\'smartLog(this, \"dc=NNS&d=26FUU6hT82qYCW3R77&pg=1&r=4&p=3&rc=10&e1=16xPi3xTTvS9eQchSd&e3=0&ext=dsid=26FUU6hT82qYCW3R77\", event, {\"cpid\": {\"value\": \"16xPi3xTTvS9eQchSd\"}});\\' target=\"_blank\">다음뉴스</a> </span> <span id=\"newsSQC_t1_3\" style=\"display:none;\">10301^http://v.media.daum.net/v/20211001171442607?f=o^26FUU6hT82qYCW3R77^news^mediaArticle^%EC%9D%B8%EA%B3%B5%EC%A7%80%EB%8A%A5^26FUU6hT82qYCW3R77</span> </div> </li> <li> <div class=\"wrap_thumb\" id=\"news_img_4\"> <a href=\"http://v.media.daum.net/v/20210930104414254?f=o\" class=\"thumb\" onclick=\\'smartLog(this, \"dc=NNS&d=26gqvtis40SD4RUpSs&pg=1&r=5&p=1&rc=10&e1=16Fbn8iLTIqdeOvaST&e3=0&ext=dsid=26gqvtis40SD4RUpSs\", event, {\"cpid\": {\"value\": \"16Fbn8iLTIqdeOvaST\"}});\\' target=\"_blank\"> <img src=\"https://search1.daumcdn.net/thumb/P200x200/?fname=https%3A%2F%2Fsearch1.kakaocdn.net%2Fargon%2F200x200_85_c%2FLtlFpbSOHGi0\" class=\"thumb_img\" width=\"80\" height=\"80\" alt=\"\" data-size=\"80x80\" onerror=\"SF.errorImage(this)\"> </a> </div> <div class=\"wrap_cont\"> <a href=\"http://v.media.daum.net/v/20210930104414254?f=o\" class=\"tit_main fn_tit_u\" onclick=\\'smartLog(this, \"dc=NNS&d=26gqvtis40SD4RUpSs&pg=1&r=5&p=4&rc=10&e1=16Fbn8iLTIqdeOvaST&e3=0&ext=dsid=26gqvtis40SD4RUpSs\", event, {\"cpid\": {\"value\": \"16Fbn8iLTIqdeOvaST\"}});\\' target=\"_blank\">UNIST, 동남권 <b>인공지능</b>(AI) 혁신 생태계 구축 속도</a> <p class=\"tit_sub f_nb\">30일 대학본부 대강당서 \\'인공지능(AI) 기술 오픈 워크숍\\' 개최최신기술 동향 및 연구 성과 공개..동남권 AI 혁신 생태계 구축 속도</p> <p class=\"desc\">이 동남권 지역 최초로 30일 대학본부에서 <b>인공지능</b>(AI) 전문 학술 대회인 ‘<b>인공지능</b> 기술 오픈 워크숍’을 개최했다. 지역 내 <b>인공지능</b> 혁신 생태계를 구축하고, 관련 산업 혁신을 앞당기기 위함이다. 워크숍에서는 16명의 <b>인공지능</b> 전문 교수들이 참여해 최신...</p> <span class=\"cont_info\"> <span class=\"f_nb\">서울경제</span> <span class=\"f_nb\">2021.09.30</span> <a href=\"http://v.media.daum.net/v/20210930104414254\" class=\"f_nb\" onclick=\\'smartLog(this, \"dc=NNS&d=26gqvtis40SD4RUpSs&pg=1&r=5&p=3&rc=10&e1=16Fbn8iLTIqdeOvaST&e3=0&ext=dsid=26gqvtis40SD4RUpSs\", event, {\"cpid\": {\"value\": \"16Fbn8iLTIqdeOvaST\"}});\\' target=\"_blank\">다음뉴스</a> </span> <div class=\"cont_rel\"> <dl> <dt class=\"screen_out\">관련기사</dt> <dd> <a href=\"https://cp.news.search.daum.net/p/111245323\" class=\"tit_rel f_link\" onclick=\\'smartLog(this, \"dc=NNS&d=26CKLm-snOoWYsrAPr&pg=1&r=5&p=5&rc=10&e1=16LCcWbu_th-HHdy13&e3=0&ext=dsid=26CKLm-snOoWYsrAPr&rtt=parent&rtid=26gqvtis40SD4RUpSs&rtsc=\", event, {\"cpid\": {\"value\": \"16LCcWbu_th-HHdy13\"}});\\' target=\"_blank\"> UNIST, 동남권 <b>인공지능</b> 혁신 생태계 중심으로 </a> <span class=\"cont_info\"> <span class=\"f_nb\">보안뉴스</span> <span class=\"f_nb\">2021.10.01</span> </span> </dd> <dd> <a href=\"https://cp.news.search.daum.net/p/111234816\" class=\"tit_rel f_link\" onclick=\\'smartLog(this, \"dc=NNS&d=26kJbIqr2q_e0ssu7i&pg=1&r=5&p=6&rc=10&e1=16KKd0jwCBP7VFnpu_&e3=0&ext=dsid=26kJbIqr2q_e0ssu7i&rtt=parent&rtid=26gqvtis40SD4RUpSs&rtsc=\", event, {\"cpid\": {\"value\": \"16KKd0jwCBP7VFnpu_\"}});\\' target=\"_blank\"> UNIST, 동남권 <b>인공지능</b>(AI) 혁신 생태계 중심으로 </a> <span class=\"cont_info\"> <span class=\"f_nb\">시사뉴스</span> <span class=\"f_nb\">2021.09.30</span> </span> </dd> <dd> <a href=\"https://cp.news.search.daum.net/p/111199190\" class=\"tit_rel f_link\" onclick=\\'smartLog(this, \"dc=NNS&d=26WqHFHq2RlVQ2hZjX&pg=1&r=5&p=7&rc=10&e1=16obOke6U5xVEqjB5D&e3=0&ext=dsid=26WqHFHq2RlVQ2hZjX&rtt=parent&rtid=26gqvtis40SD4RUpSs&rtsc=\", event, {\"cpid\": {\"value\": \"16obOke6U5xVEqjB5D\"}});\\' target=\"_blank\"> UNIST, 동남권 <b>인공지능</b>(AI) 혁신 생태계 중심으로! </a> <span class=\"cont_info\"> <span class=\"f_nb\">부산일보</span> <span class=\"f_nb\">2021.09.30</span> </span> </dd> </dl> </div> <span id=\"newsSQC_t1_4\" style=\"display:none;\">10301^http://v.media.daum.net/v/20210930104414254?f=o^26gqvtis40SD4RUpSs^news^mediaArticle^%EC%9D%B8%EA%B3%B5%EC%A7%80%EB%8A%A5^26gqvtis40SD4RUpSs</span> </div> </li> <li> <div class=\"wrap_thumb\" id=\"news_img_5\"> <a href=\"https://cp.news.search.daum.net/p/111274692\" class=\"thumb\" onclick=\\'smartLog(this, \"dc=NNS&d=26Jo1hq0HTEnUTVSHA&pg=1&r=6&p=1&rc=10&e1=16TtZuldMG3avdxu6u&e3=0&ext=dsid=26Jo1hq0HTEnUTVSHA\", event, {\"cpid\": {\"value\": \"16TtZuldMG3avdxu6u\"}});\\' target=\"_blank\"> <img src=\"https://search1.daumcdn.net/thumb/P200x200/?fname=https%3A%2F%2Fsearch1.kakaocdn.net%2Fargon%2F200x200_85_c%2FFR1ulWDEquP0\" class=\"thumb_img\" width=\"80\" height=\"80\" alt=\"\" data-size=\"80x80\" onerror=\"SF.errorImage(this)\"> </a> </div> <div class=\"wrap_cont\"> <a href=\"https://cp.news.search.daum.net/p/111274692\" class=\"tit_main fn_tit_u\" onclick=\\'smartLog(this, \"dc=NNS&d=26Jo1hq0HTEnUTVSHA&pg=1&r=6&p=4&rc=10&e1=16TtZuldMG3avdxu6u&e3=0&ext=dsid=26Jo1hq0HTEnUTVSHA\", event, {\"cpid\": {\"value\": \"16TtZuldMG3avdxu6u\"}});\\' target=\"_blank\">IITP, 글로벌 <b>인공지능</b> 포럼 개최</a> <p class=\"desc\">기술정보통신부가 주최하고, IITP, 한국전자통신연구원, 한국전자기술연구원, 한국과학기술원, 서울대학교와 공동으로 글로벌 <b>인공지능</b> 포럼’을 오는 10월 21일 온라인으로 개최한다. 이번 포럼은 ‘AI of a New Era’의 주제로 전 세계에서 주목하는 <b>인공지능</b> 기술...</p> <span class=\"cont_info\"> <span class=\"f_nb\">전자부품</span> <span class=\"f_nb\">2021.10.01</span> </span> <div class=\"cont_rel\"> <dl> <dt class=\"screen_out\">관련기사</dt> <dd> <a href=\"https://cp.news.search.daum.net/p/111244602\" class=\"tit_rel f_link\" onclick=\\'smartLog(this, \"dc=NNS&d=26Hc4K-mzBZcvqargL&pg=1&r=6&p=5&rc=10&e1=16tOgA88UFvoNvQ0Fz&e3=0&ext=dsid=26Hc4K-mzBZcvqargL&rtt=parent&rtid=26Jo1hq0HTEnUTVSHA&rtsc=\", event, {\"cpid\": {\"value\": \"16tOgA88UFvoNvQ0Fz\"}});\\' target=\"_blank\"> IITP, ‘글로벌 <b>인공지능</b> 포럼’ 21일 온라인 개최 </a> <span class=\"cont_info\"> <span class=\"f_nb\">정보통신신문</span> <span class=\"f_nb\">2021.10.01</span> </span> </dd> </dl> </div> <span id=\"newsSQC_t1_5\" style=\"display:none;\">10301^https://cp.news.search.daum.net/p/111274692^26Jo1hq0HTEnUTVSHA^news^mediaArticle^%EC%9D%B8%EA%B3%B5%EC%A7%80%EB%8A%A5^26Jo1hq0HTEnUTVSHA</span> </div> </li> <li> <div class=\"wrap_thumb\" id=\"news_img_6\"> <a href=\"https://cp.news.search.daum.net/p/111285528\" class=\"thumb\" onclick=\\'smartLog(this, \"dc=NNS&d=26bxRXcWIiTyw_Bhjd&pg=1&r=7&p=1&rc=10&e1=16GCbSP9tLkJcSSod7&e3=0&ext=dsid=26bxRXcWIiTyw_Bhjd\", event, {\"cpid\": {\"value\": \"16GCbSP9tLkJcSSod7\"}});\\' target=\"_blank\"> <img src=\"https://search1.daumcdn.net/thumb/P200x200/?fname=https%3A%2F%2Fsearch3.kakaocdn.net%2Fargon%2F200x200_85_c%2F879IBh8PWku0\" class=\"thumb_img\" width=\"80\" height=\"80\" alt=\"\" data-size=\"80x80\" onerror=\"SF.errorImage(this)\"> </a> </div> <div class=\"wrap_cont\"> <a href=\"https://cp.news.search.daum.net/p/111285528\" class=\"tit_main fn_tit_u\" onclick=\\'smartLog(this, \"dc=NNS&d=26bxRXcWIiTyw_Bhjd&pg=1&r=7&p=4&rc=10&e1=16GCbSP9tLkJcSSod7&e3=0&ext=dsid=26bxRXcWIiTyw_Bhjd\", event, {\"cpid\": {\"value\": \"16GCbSP9tLkJcSSod7\"}});\\' target=\"_blank\">광주시, <b>인공지능</b>산업위원회 첫 회의 개최</a> <p class=\"desc\">광주광역시는 1일 시청 영상회의실에서 온라인으로 <b>인공지능</b>산업위원회 첫 회의를 개최하고 공식적인 활동을 시작했다. <b>인공지능</b>산업위원회는 공동위원장을 맡은 이용섭 시장과 당연직 위원 손경종 <b>인공지능</b>산업국장을 비롯한 산업체, 대학, 연구기관 등 각 분야...</p> <span class=\"cont_info\"> <span class=\"f_nb\">데일리저널</span> <span class=\"f_nb\">14시간전</span> </span> <div class=\"cont_rel\"> <dl> <dt class=\"screen_out\">관련기사</dt> <dd> <a href=\"https://cp.news.search.daum.net/p/111283104\" class=\"tit_rel f_link\" onclick=\\'smartLog(this, \"dc=NNS&d=26yZDbWws89hTFwbnM&pg=1&r=7&p=5&rc=10&e1=16Q8CPtmHP1n7_o77G&e3=0&ext=dsid=26yZDbWws89hTFwbnM&rtt=parent&rtid=26bxRXcWIiTyw_Bhjd&rtsc=\", event, {\"cpid\": {\"value\": \"16Q8CPtmHP1n7_o77G\"}});\\' target=\"_blank\"> 광주시, <b>인공지능</b>산업위원회 첫 회의 개최 </a> <span class=\"cont_info\"> <span class=\"f_nb\">광주리포트</span> <span class=\"f_nb\">2021.10.02</span> </span> </dd> <dd> <a href=\"https://cp.news.search.daum.net/p/111280258\" class=\"tit_rel f_link\" onclick=\\'smartLog(this, \"dc=NNS&d=26E_XvekgtYxuqy6th&pg=1&r=7&p=6&rc=10&e1=16LCcWbu_th-HHdy13&e3=0&ext=dsid=26E_XvekgtYxuqy6th&rtt=parent&rtid=26bxRXcWIiTyw_Bhjd&rtsc=\", event, {\"cpid\": {\"value\": \"16LCcWbu_th-HHdy13\"}});\\' target=\"_blank\"> 광주시, <b>인공지능</b>산업위원회 첫 회의 개최 </a> <span class=\"cont_info\"> <span class=\"f_nb\">보안뉴스</span> <span class=\"f_nb\">2021.10.02</span> </span> </dd> <dd> <a href=\"https://cp.news.search.daum.net/p/111284547\" class=\"tit_rel f_link\" onclick=\\'smartLog(this, \"dc=NNS&d=26CKR0b5kibOaHQOAj&pg=1&r=7&p=7&rc=10&e1=16kxD5TDuOssi2U3tk&e3=0&ext=dsid=26CKR0b5kibOaHQOAj&rtt=parent&rtid=26bxRXcWIiTyw_Bhjd&rtsc=\", event, {\"cpid\": {\"value\": \"16kxD5TDuOssi2U3tk\"}});\\' target=\"_blank\"> 광주시, AI 전문가들과 &#39;<b>인공지능</b>산업위원회&#39; 첫 ... </a> <span class=\"cont_info\"> <span class=\"f_nb\">서울포스트</span> <span class=\"f_nb\">23시간전</span> </span> </dd> </dl> <a href=\"?w=news&req=tab&q=%EC%9D%B8%EA%B3%B5%EC%A7%80%EB%8A%A5&cluster=y&viewio=i&repno=0&n=10&p=1&related_page=1&cluster_docid=26bxRXcWIiTyw_Bhjd&DA=NTB\" class=\"link_cluster f_nb\" onclick=\\'smartLog(this, \"dc=NNS&ext=dsid=26bxRXcWIiTyw_Bhjd&d=26bxRXcWIiTyw_Bhjd&pg=1&r=7&p=19&rc=10&e1=16GCbSP9tLkJcSSod7\", event);\\'> 관련뉴스 <b>16</b>건 전체보기<span class=\"ico_rwd\"></span> </a> </div> <span id=\"newsSQC_t1_6\" style=\"display:none;\">10301^https://cp.news.search.daum.net/p/111285528^26bxRXcWIiTyw_Bhjd^news^mediaArticle^%EC%9D%B8%EA%B3%B5%EC%A7%80%EB%8A%A5^26bxRXcWIiTyw_Bhjd</span> </div> </li> <li> <div class=\"wrap_thumb\" id=\"news_img_7\"> <a href=\"https://cp.news.search.daum.net/p/111168994\" class=\"thumb\" onclick=\\'smartLog(this, \"dc=NNS&d=26UXruiSz5bjiAws5h&pg=1&r=8&p=1&rc=10&e1=16NDl_o7JcopGyljLV&e3=0&ext=dsid=26UXruiSz5bjiAws5h\", event, {\"cpid\": {\"value\": \"16NDl_o7JcopGyljLV\"}});\\' target=\"_blank\"> <img src=\"https://search1.daumcdn.net/thumb/P200x200/?fname=https%3A%2F%2Fsearch1.kakaocdn.net%2Fargon%2F200x200_85_c%2FKGI12IcNu7Y0\" class=\"thumb_img\" width=\"80\" height=\"80\" alt=\"\" data-size=\"80x80\" onerror=\"SF.errorImage(this)\"> </a> </div> <div class=\"wrap_cont\"> <a href=\"https://cp.news.search.daum.net/p/111168994\" class=\"tit_main fn_tit_u\" onclick=\\'smartLog(this, \"dc=NNS&d=26UXruiSz5bjiAws5h&pg=1&r=8&p=4&rc=10&e1=16NDl_o7JcopGyljLV&e3=0&ext=dsid=26UXruiSz5bjiAws5h\", event, {\"cpid\": {\"value\": \"16NDl_o7JcopGyljLV\"}});\\' target=\"_blank\"><b>인공지능</b>(AI) 적용과 문제점</a> <p class=\"desc\"><b>인공지능</b>(AI) 적용과 문제점 KIMA 뉴스레터 1089호(한국군사문제연구원 발행) 제4차 산업혁명 기술의 대표적 사례는 <b>인공지능</b>(AI)이며, 주요 목적은 인간이 하는 일의 전부 또는 일부를 기계가 대행하는 것으로, 현재는 단순한 수학적 논리에 의해 운용되나, 향후...</p> <span class=\"cont_info\"> <span class=\"f_nb\">국방일보</span> <span class=\"f_nb\">2021.09.29</span> </span> <span id=\"newsSQC_t1_7\" style=\"display:none;\">10301^https://cp.news.search.daum.net/p/111168994^26UXruiSz5bjiAws5h^news^mediaArticle^%EC%9D%B8%EA%B3%B5%EC%A7%80%EB%8A%A5^26UXruiSz5bjiAws5h</span> </div> </li> <li> <div class=\"wrap_thumb\" id=\"news_img_8\"> <a href=\"http://v.media.daum.net/v/20210930170914106?f=o\" class=\"thumb\" onclick=\\'smartLog(this, \"dc=NNS&d=26p_CZA-mCleFssHlQ&pg=1&r=9&p=1&rc=10&e1=16b9_Haq_djmtbOGBh&e3=0&ext=dsid=26p_CZA-mCleFssHlQ\", event, {\"cpid\": {\"value\": \"16b9_Haq_djmtbOGBh\"}});\\' target=\"_blank\"> <img src=\"https://search1.daumcdn.net/thumb/P200x200/?fname=https%3A%2F%2Fsearch1.kakaocdn.net%2Fargon%2F200x200_85_c%2F5JPy5pY7vcj0\" class=\"thumb_img\" width=\"80\" height=\"80\" alt=\"\" data-size=\"80x80\" onerror=\"SF.errorImage(this)\"> </a> </div> <div class=\"wrap_cont\"> <a href=\"http://v.media.daum.net/v/20210930170914106?f=o\" class=\"tit_main fn_tit_u\" onclick=\\'smartLog(this, \"dc=NNS&d=26p_CZA-mCleFssHlQ&pg=1&r=9&p=4&rc=10&e1=16b9_Haq_djmtbOGBh&e3=0&ext=dsid=26p_CZA-mCleFssHlQ\", event, {\"cpid\": {\"value\": \"16b9_Haq_djmtbOGBh\"}});\\' target=\"_blank\">UNIST, 동남권 최초 &#39;<b>인공지능</b> 기술 오픈 워크숍&#39; 개최</a> <p class=\"tit_sub f_nb\">동남권·서울·경기지역 등 80개 기업 관계자들 참석</p> <p class=\"desc\">UNIST는 30일 대학본부 대강당에서 동남권 지역 최초로 &#39;<b>인공지능</b> 기술 오픈 워크숍&#39;을 개최했다.(UNIST 제공)© 뉴스1 (울산=뉴스1) 이윤기 기자 = UNIST는 30일 대학본부 대강당에서 동남권 지역 최초로 &#39;<b>인공지능</b> 기술 오픈 워크숍&#39;을 개최했다. 이날 워크숍에는...</p> <span class=\"cont_info\"> <span class=\"f_nb\">뉴스1</span> <span class=\"f_nb\">2021.09.30</span> <a href=\"http://v.media.daum.net/v/20210930170914106\" class=\"f_nb\" onclick=\\'smartLog(this, \"dc=NNS&d=26p_CZA-mCleFssHlQ&pg=1&r=9&p=3&rc=10&e1=16b9_Haq_djmtbOGBh&e3=0&ext=dsid=26p_CZA-mCleFssHlQ\", event, {\"cpid\": {\"value\": \"16b9_Haq_djmtbOGBh\"}});\\' target=\"_blank\">다음뉴스</a> </span> <div class=\"cont_rel\"> <dl> <dt class=\"screen_out\">관련기사</dt> <dd> <a href=\"https://cp.news.search.daum.net/p/111274676\" class=\"tit_rel f_link\" onclick=\\'smartLog(this, \"dc=NNS&d=26p2EIvlHZFI75TmfD&pg=1&r=9&p=5&rc=10&e1=16TtZuldMG3avdxu6u&e3=0&ext=dsid=26p2EIvlHZFI75TmfD&rtt=parent&rtid=26p_CZA-mCleFssHlQ&rtsc=\", event, {\"cpid\": {\"value\": \"16TtZuldMG3avdxu6u\"}});\\' target=\"_blank\"> UNIST, <b>인공지능</b> 기술 오픈 워크숍 개최 </a> <span class=\"cont_info\"> <span class=\"f_nb\">전자부품</span> <span class=\"f_nb\">2021.10.01</span> </span> </dd> <dd> <a href=\"https://cp.news.search.daum.net/p/111216577\" class=\"tit_rel f_link\" onclick=\\'smartLog(this, \"dc=NNS&d=26LjsGVnDXugTrKdtf&pg=1&r=9&p=6&rc=10&e1=161wjUANxPcQI46tfg&e3=0&ext=dsid=26LjsGVnDXugTrKdtf&rtt=parent&rtid=26p_CZA-mCleFssHlQ&rtsc=\", event, {\"cpid\": {\"value\": \"161wjUANxPcQI46tfg\"}});\\' target=\"_blank\"> UNIST, <b>인공지능</b> 기술 오픈 워크숍 개최 </a> <span class=\"cont_info\"> <span class=\"f_nb\">헬로티</span> <span class=\"f_nb\">2021.09.30</span> </span> </dd> <dd> <a href=\"https://cp.news.search.daum.net/p/111222501\" class=\"tit_rel f_link\" onclick=\\'smartLog(this, \"dc=NNS&d=266yxS_Y2t0FraF6j5&pg=1&r=9&p=7&rc=10&e1=16Dd-DQKcv6x7KehPn&e3=0&ext=dsid=266yxS_Y2t0FraF6j5&rtt=parent&rtid=26p_CZA-mCleFssHlQ&rtsc=\", event, {\"cpid\": {\"value\": \"16Dd-DQKcv6x7KehPn\"}});\\' target=\"_blank\"> [캠퍼스소식] UNIST, 동남권 최초 <b>인공지능</b>(AI) 전... </a> <span class=\"cont_info\"> <span class=\"f_nb\">아주경제신문</span> <span class=\"f_nb\">2021.09.30</span> </span> </dd> </dl> <a href=\"?w=news&req=tab&q=%EC%9D%B8%EA%B3%B5%EC%A7%80%EB%8A%A5&cluster=y&viewio=i&repno=0&n=10&p=1&related_page=1&cluster_docid=26p_CZA-mCleFssHlQ&DA=NTB\" class=\"link_cluster f_nb\" onclick=\\'smartLog(this, \"dc=NNS&ext=dsid=26p_CZA-mCleFssHlQ&d=26p_CZA-mCleFssHlQ&pg=1&r=9&p=19&rc=10&e1=16b9_Haq_djmtbOGBh\", event);\\'> 관련뉴스 <b>8</b>건 전체보기<span class=\"ico_rwd\"></span> </a> </div> <span id=\"newsSQC_t1_8\" style=\"display:none;\">10301^http://v.media.daum.net/v/20210930170914106?f=o^26p_CZA-mCleFssHlQ^news^mediaArticle^%EC%9D%B8%EA%B3%B5%EC%A7%80%EB%8A%A5^26p_CZA-mCleFssHlQ</span> </div> </li> <li> <div class=\"wrap_thumb\" id=\"news_img_9\"> <a href=\"http://v.media.daum.net/v/20211003083604472?f=o\" class=\"thumb\" onclick=\\'smartLog(this, \"dc=NNS&d=26tuOws1hZjhaX3u2i&pg=1&r=10&p=1&rc=10&e1=16sIQ8rx97vi9RHx8w&e3=0&ext=dsid=26tuOws1hZjhaX3u2i\", event, {\"cpid\": {\"value\": \"16sIQ8rx97vi9RHx8w\"}});\\' target=\"_blank\"> <img src=\"https://search1.daumcdn.net/thumb/P200x200/?fname=https%3A%2F%2Fsearch2.kakaocdn.net%2Fargon%2F200x200_85_c%2F5M64LoWH3880\" class=\"thumb_img\" width=\"80\" height=\"80\" alt=\"\" data-size=\"80x80\" onerror=\"SF.errorImage(this)\"> </a> </div> <div class=\"wrap_cont\"> <a href=\"http://v.media.daum.net/v/20211003083604472?f=o\" class=\"tit_main fn_tit_u\" onclick=\\'smartLog(this, \"dc=NNS&d=26tuOws1hZjhaX3u2i&pg=1&r=10&p=4&rc=10&e1=16sIQ8rx97vi9RHx8w&e3=0&ext=dsid=26tuOws1hZjhaX3u2i\", event, {\"cpid\": {\"value\": \"16sIQ8rx97vi9RHx8w\"}});\\' target=\"_blank\">한국정보통신진흥협회 &#39;<b>인공지능</b>·블록체인 기술사업화 아이디어 경진대회&#39; 시상</a> <p class=\"desc\">한국정보통신진흥협회가 &#39;<b>인공지능</b>·블록체인 기술사업화 아이디어 경진대회&#39; 시상식을 메타버스 플랫폼 인게이지를 활용, 개최했다. 2회째인 대회는 부산·울산·경남 지역 학생과 일반인을 대상으로 <b>인공지능</b> 또는 블록체인 기술을 활용한 비즈니스 모델 아이디어...</p> <span class=\"cont_info\"> <span class=\"f_nb\">전자신문</span> <span class=\"f_nb\">11시간전</span> <a href=\"http://v.media.daum.net/v/20211003083604472\" class=\"f_nb\" onclick=\\'smartLog(this, \"dc=NNS&d=26tuOws1hZjhaX3u2i&pg=1&r=10&p=3&rc=10&e1=16sIQ8rx97vi9RHx8w&e3=0&ext=dsid=26tuOws1hZjhaX3u2i\", event, {\"cpid\": {\"value\": \"16sIQ8rx97vi9RHx8w\"}});\\' target=\"_blank\">다음뉴스</a> </span> <span id=\"newsSQC_t1_9\" style=\"display:none;\">10301^http://v.media.daum.net/v/20211003083604472?f=o^26tuOws1hZjhaX3u2i^news^mediaArticle^%EC%9D%B8%EA%B3%B5%EC%A7%80%EB%8A%A5^26tuOws1hZjhaX3u2i</span> </div> </li> </ul> </div> <div class=\"paging_comm\"></div> <div class=\"result_message mg_cont hide\"> <p class=\"f_eb message\"> 효과적으로 검색결과를 확인하실 수 있도록, 유사한 기사를 묶은 검색결과를 제공하고 있습니다.<br> 이 때문에 페이지 수에 변화가 있을 수 있습니다.<br> 원하시면 클러스터링되지 않은 결과를 확인하실 수 있습니다. &nbsp;<a href=\"?w=news&req=tab&q=%EC%9D%B8%EA%B3%B5%EC%A7%80%EB%8A%A5&cluster=n&viewio=i&repno=0&n=10&p=1&pattern_yn=n&DA=NNS\" class=\"f_link_u\">클러스터링되지 않은 결과보기</a> </p> </div> </div> <div id=\"tabNoResultArea\" class=\"hide\"></div> <script src=\"//search1.daumcdn.net/search/statics/common/js/fe/tot-search-collection/nns/p/news.nns.20210708133350.min.js\"></script> <script> var nnsNews = new C.nnsNews({ selector: { wrapperId: \"newsColl\", sameNameSelectBox: \"#selectSamename\", searchOption: { container: \".box_opt\", button: \".sub_expander .btn_search_option\", periodContainer: \\'div[data-option-type=\"period\"]\\', keepOptionButton: \".opt_keep input.inp_g\", closeButton: \".box_opt .btn_close\", resetButton: \".box_opt .btn_reset\", optionButton: \".menu_opt .tit_menu\", selectOptionLabel: \".tit_menu .label\", }, cpSuggest: { cpButton: \".btn_cp\", container: \\'div[data-option-type=\"cpname\"]\\', input: \"#newsCollCpInp\", layerSuggest: \".simple_suggest\", confirmButton: \".list_opt .btn_confirm\", label: \".tit_menu .label\", }, cpCategory: { container: \\'div[data-option-type=\"cpname\"]\\', categoryButton: \"a[data-cp-category]\", itemContainer: \".area_choice\", submitButton: \".area_submit .btn_confirm\", resetButton: \".area_submit .btn_cancle\", countLabel: \\'.info_select .fw_b\\', }, serviceInfoLayer: { container: \".coll_tit .info_fairtrade\", button: \".ico_info\", layer: \".layer_ad\", closeButton: \".btn_close\", }, }, data: { searchOption: { resetParam: { sd: \"\", ed: \"\", cp: \"\", sort: \"\", period: \"\", p: \"\", cpname: \"\", cluster: \"\", cluster_docid: \"\", article_type: \"\", }, }, paging: { displayCount: 10, totalCount: 716, currentPage: 1, wrapper: \".paging_comm\", pageName: \"p\", code: {}, }, }, logs: { suggestUserInput: \"dc=STC&pg=1&r=1&p=9&rc=1&at=func\", samenameSelTotal: \"dc=NNS&pg=1&r=1&p=20&rc=1&at=func\", samenameSelPerson: \"dc=NNS&pg=1&r=1&p=21&rc=1&at=func\", cpSelect: \"dc=STC&pg=1&r=1&p=16&rc=1&at=func\", }, }); nnsNews.init(); </script>\\n</div>\\n\\n\\n<div class=\"line\"></div><hr/>\\n\\n\\n\\n\\n\\n\\n\\n\\n\\n\\n\\n\\n\\n\\n\\n\\n\\n<div disp-attr=\\'DCC\\'>\\n\\n\\n<div id=\"netizenColl_bottom\" class=\"section_related\">\\n<div id=\"netizen_lists_bottom\" class=\"list_keyword type2\" data-w=\"news\">\\n<h2 class=\"tit\">\\n관련 <span class=\"screen_out\">검색어</span>\\n</h2>\\n<span class=\"wsn\"><a href=\"?w=news&m=&q=%EC%9D%B8%EA%B3%B5%EC%A7%80%EB%8A%A5%20%EC%9D%B4%EB%9E%80&nzq=%EC%9D%B8%EA%B3%B5%EC%A7%80%EB%8A%A5&DA=DCC\" class=\"keyword\" data-log=\"dc=DCC&pg=1&r=1&p=1&e1=%EC%9D%B8%EA%B3%B5%EC%A7%80%EB%8A%A5%20%EC%9D%B4%EB%9E%80&rc=1\">인공지능 이란</a></span>\\n<span class=\"wsn\"><a href=\"?w=news&m=&q=%EC%9D%B8%EA%B3%B5%EC%A7%80%EB%8A%A5%20%EB%A1%9C%EB%B4%87&nzq=%EC%9D%B8%EA%B3%B5%EC%A7%80%EB%8A%A5&DA=DCC\" class=\"keyword\" data-log=\"dc=DCC&pg=1&r=2&p=1&e1=%EC%9D%B8%EA%B3%B5%EC%A7%80%EB%8A%A5%20%EB%A1%9C%EB%B4%87&rc=1\">인공지능 로봇</a></span>\\n<span class=\"wsn\"><a href=\"?w=news&m=&q=ai&nzq=%EC%9D%B8%EA%B3%B5%EC%A7%80%EB%8A%A5&DA=DCC\" class=\"keyword\" data-log=\"dc=DCC&pg=1&r=3&p=1&e1=ai&rc=1\">ai</a></span>\\n<span class=\"wsn\"><a href=\"?w=news&m=&q=%EC%9D%B8%EA%B3%B5%EC%A7%80%EB%8A%A5%20%EA%B5%90%EC%9C%A1&nzq=%EC%9D%B8%EA%B3%B5%EC%A7%80%EB%8A%A5&DA=DCC\" class=\"keyword\" data-log=\"dc=DCC&pg=1&r=4&p=1&e1=%EC%9D%B8%EA%B3%B5%EC%A7%80%EB%8A%A5%20%EA%B5%90%EC%9C%A1&rc=1\">인공지능 교육</a></span>\\n<span class=\"wsn\"><a href=\"?w=news&m=&q=%EC%9D%B8%EA%B3%B5%EC%A7%80%EB%8A%A5%20%EB%9C%BB&nzq=%EC%9D%B8%EA%B3%B5%EC%A7%80%EB%8A%A5&DA=DCC\" class=\"keyword\" data-log=\"dc=DCC&pg=1&r=5&p=1&e1=%EC%9D%B8%EA%B3%B5%EC%A7%80%EB%8A%A5%20%EB%9C%BB&rc=1\">인공지능 뜻</a></span>\\n<span class=\"wsn\"><a href=\"?w=news&m=&q=%EC%9D%B8%EA%B3%B5%EC%A7%80%EB%8A%A5%20%EC%8A%A4%ED%94%BC%EC%BB%A4&nzq=%EC%9D%B8%EA%B3%B5%EC%A7%80%EB%8A%A5&DA=DCC\" class=\"keyword\" data-log=\"dc=DCC&pg=1&r=6&p=1&e1=%EC%9D%B8%EA%B3%B5%EC%A7%80%EB%8A%A5%20%EC%8A%A4%ED%94%BC%EC%BB%A4&rc=1\">인공지능 스피커</a></span>\\n<span class=\"wsn\"><a href=\"?w=news&m=&q=%EC%9D%B8%EA%B3%B5%EC%A7%80%EB%8A%A5%20%EA%B4%80%EB%A0%A8%EC%A3%BC&nzq=%EC%9D%B8%EA%B3%B5%EC%A7%80%EB%8A%A5&DA=DCC\" class=\"keyword\" data-log=\"dc=DCC&pg=1&r=7&p=1&e1=%EC%9D%B8%EA%B3%B5%EC%A7%80%EB%8A%A5%20%EA%B4%80%EB%A0%A8%EC%A3%BC&rc=1\">인공지능 관련주</a></span>\\n<span class=\"wsn\"><a href=\"?w=news&m=&q=%EC%9D%B8%EA%B3%B5%EC%A7%80%EB%8A%A5%20%EB%B0%94%EB%91%91&nzq=%EC%9D%B8%EA%B3%B5%EC%A7%80%EB%8A%A5&DA=DCC\" class=\"keyword\" data-log=\"dc=DCC&pg=1&r=8&p=1&e1=%EC%9D%B8%EA%B3%B5%EC%A7%80%EB%8A%A5%20%EB%B0%94%EB%91%91&rc=1\">인공지능 바둑</a></span>\\n<span class=\"wsn\"><a href=\"?w=news&m=&q=%EC%9D%B8%EA%B3%B5%EC%A7%80%EB%8A%A5%20%EC%98%81%ED%99%94&nzq=%EC%9D%B8%EA%B3%B5%EC%A7%80%EB%8A%A5&DA=DCC\" class=\"keyword\" data-log=\"dc=DCC&pg=1&r=9&p=1&e1=%EC%9D%B8%EA%B3%B5%EC%A7%80%EB%8A%A5%20%EC%98%81%ED%99%94&rc=1\">인공지능 영화</a></span>\\n<span class=\"wsn\"><a href=\"?w=news&m=&q=%EC%9D%B8%EA%B3%B5%EC%A7%80%EB%8A%A5%20%EC%9D%B4%EB%AF%B8%EC%A7%80&nzq=%EC%9D%B8%EA%B3%B5%EC%A7%80%EB%8A%A5&DA=DCC\" class=\"keyword\" data-log=\"dc=DCC&pg=1&r=10&p=1&e1=%EC%9D%B8%EA%B3%B5%EC%A7%80%EB%8A%A5%20%EC%9D%B4%EB%AF%B8%EC%A7%80&rc=1\">인공지능 이미지</a></span>\\n<span class=\"wsn\"><a href=\"?w=news&m=&q=%EC%9D%B8%EA%B3%B5%EC%A7%80%EB%8A%A5%20%EC%82%AC%EC%A7%84&nzq=%EC%9D%B8%EA%B3%B5%EC%A7%80%EB%8A%A5&DA=DCC\" class=\"keyword\" data-log=\"dc=DCC&pg=1&r=11&p=1&e1=%EC%9D%B8%EA%B3%B5%EC%A7%80%EB%8A%A5%20%EC%82%AC%EC%A7%84&rc=1\">인공지능 사진</a></span>\\n<span class=\"wsn\"><a href=\"?w=news&m=&q=%EC%9D%B8%EA%B3%B5%EC%A7%80%EB%8A%A5%20%EC%98%81%EC%96%B4%EB%A1%9C&nzq=%EC%9D%B8%EA%B3%B5%EC%A7%80%EB%8A%A5&DA=DCC\" class=\"keyword\" data-log=\"dc=DCC&pg=1&r=12&p=1&e1=%EC%9D%B8%EA%B3%B5%EC%A7%80%EB%8A%A5%20%EC%98%81%EC%96%B4%EB%A1%9C&rc=1\">인공지능 영어로</a></span>\\n<span class=\"wsn\"><a href=\"?w=news&m=&q=%EC%9D%B8%EA%B3%B5%EC%A7%80%EB%8A%A5%20%EC%9E%A5%EC%A0%90&nzq=%EC%9D%B8%EA%B3%B5%EC%A7%80%EB%8A%A5&DA=DCC\" class=\"keyword\" data-log=\"dc=DCC&pg=1&r=13&p=1&e1=%EC%9D%B8%EA%B3%B5%EC%A7%80%EB%8A%A5%20%EC%9E%A5%EC%A0%90&rc=1\">인공지능 장점</a></span>\\n<span class=\"wsn\"><a href=\"?w=news&m=&q=%EC%9D%B8%EA%B3%B5%EC%A7%80%EB%8A%A5%20%EC%8B%9C%EB%8C%80&nzq=%EC%9D%B8%EA%B3%B5%EC%A7%80%EB%8A%A5&DA=DCC\" class=\"keyword\" data-log=\"dc=DCC&pg=1&r=14&p=1&e1=%EC%9D%B8%EA%B3%B5%EC%A7%80%EB%8A%A5%20%EC%8B%9C%EB%8C%80&rc=1\">인공지능 시대</a></span>\\n<span class=\"wsn\"><a href=\"?w=news&m=&q=%EC%9D%B8%EA%B3%B5%EC%A7%80%EB%8A%A5%20%EC%B1%85&nzq=%EC%9D%B8%EA%B3%B5%EC%A7%80%EB%8A%A5&DA=DCC\" class=\"keyword\" data-log=\"dc=DCC&pg=1&r=15&p=1&e1=%EC%9D%B8%EA%B3%B5%EC%A7%80%EB%8A%A5%20%EC%B1%85&rc=1\">인공지능 책</a></span>\\n<span class=\"wsn\"><a href=\"?w=news&m=&q=%EC%9D%B8%EA%B3%B5%EC%A7%80%EB%8A%A5%20%ED%9A%8C%EC%82%AC&nzq=%EC%9D%B8%EA%B3%B5%EC%A7%80%EB%8A%A5&DA=DCC\" class=\"keyword\" data-log=\"dc=DCC&pg=1&r=16&p=1&e1=%EC%9D%B8%EA%B3%B5%EC%A7%80%EB%8A%A5%20%ED%9A%8C%EC%82%AC&rc=1\">인공지능 회사</a></span>\\n<span class=\"wsn\"><a href=\"?w=news&m=&q=%EC%9D%B8%EA%B3%B5%EC%A7%80%EB%8A%A5%20%EC%A2%85%EB%A5%98&nzq=%EC%9D%B8%EA%B3%B5%EC%A7%80%EB%8A%A5&DA=DCC\" class=\"keyword\" data-log=\"dc=DCC&pg=1&r=17&p=1&e1=%EC%9D%B8%EA%B3%B5%EC%A7%80%EB%8A%A5%20%EC%A2%85%EB%A5%98&rc=1\">인공지능 종류</a></span>\\n<span class=\"wsn\"><a href=\"?w=news&m=&q=%EC%9D%B8%EA%B3%B5%EC%A7%80%EB%8A%A5%20%ED%95%99%EA%B3%BC&nzq=%EC%9D%B8%EA%B3%B5%EC%A7%80%EB%8A%A5&DA=DCC\" class=\"keyword\" data-log=\"dc=DCC&pg=1&r=18&p=1&e1=%EC%9D%B8%EA%B3%B5%EC%A7%80%EB%8A%A5%20%ED%95%99%EA%B3%BC&rc=1\">인공지능 학과</a></span>\\n<span class=\"wsn\"><a href=\"?w=news&m=&q=%EC%9D%B8%EA%B3%B5%EC%A7%80%EB%8A%A5%20%EA%B8%B0%EC%88%A0&nzq=%EC%9D%B8%EA%B3%B5%EC%A7%80%EB%8A%A5&DA=DCC\" class=\"keyword\" data-log=\"dc=DCC&pg=1&r=19&p=1&e1=%EC%9D%B8%EA%B3%B5%EC%A7%80%EB%8A%A5%20%EA%B8%B0%EC%88%A0&rc=1\">인공지능 기술</a></span>\\n<span class=\"wsn\"><a href=\"?w=news&m=&q=AI%20%EC%9D%B8%EA%B3%B5%EC%A7%80%EB%8A%A5&nzq=%EC%9D%B8%EA%B3%B5%EC%A7%80%EB%8A%A5&DA=DCC\" class=\"keyword\" data-log=\"dc=DCC&pg=1&r=20&p=1&e1=AI%20%EC%9D%B8%EA%B3%B5%EC%A7%80%EB%8A%A5&rc=1\">AI 인공지능</a></span>\\n</div>\\n<a href=\"javascript:;\" id=\"netizen_more_btn_bottom\" class=\"expender hide\" data-log=\"dc=DCC&at=func\">        <span class=\"ico_rwd\">더보기</span>\\n</a>\\n</div>\\n</div>\\n\\n\\n\\n\\n\\n\\n</div> <!-- // inner_article -->\\n</article> <!-- // mArticle -->\\n\\n<aside id=\"mAside\">\\n\\n\\n\\n\\n\\n<div disp-attr=\\'(TAB)news_RIGHT_APPEND\\' class=\"g_comp_s\">\\n<div class=\"content_news\"> <div class=\"coll_tit\"> <h2 class=\"tit\">많이 본 뉴스</h2> </div> <div class=\"coll_cont mg_cont\" id=\"total_main_news_tabs\"> <div class=\"tab_comp tab_box\"> <ul class=\"list_tab tab_size3\" id=\"news_tab_wrapper\"> <li class=\"on\"> <a href=\"javascript:;\" class=\"tab_tit\" onclick=\"SF.C.news.changeTab(this,\\'news\\')\"> <span class=\"inner_tit\">뉴스</span> </a> </li> <li> <a href=\"javascript:;\" class=\"tab_tit\" onclick=\"SF.C.news.changeTab(this, \\'entertain\\')\"> <span class=\"inner_tit\">연예</span> </a> </li> <li> <a href=\"javascript:;\" class=\"tab_tit\" onclick=\"SF.C.news.changeTab(this, \\'sports\\')\"> <span class=\"inner_tit\">스포츠</span> </a> </li> </ul> </div> <ul class=\"list_major\" id=\"news_tab\"> <li> <a href=\"https://v.daum.net/v/20211003173301893\" target=\"_blank\" class=\"link_major\" onclick=\\'smartLog(this, \"s=NS&a=MNNS&dc=MNN&pg=1&hi=0&rc=1&p=1&r=1\", event);\\'>조선·동아일보 전면 실린 \"모든 여자들아 교회에서 잠잠하라\" 광고는?</a> </li> <li> <a href=\"https://v.daum.net/v/20211003180602408\" target=\"_blank\" class=\"link_major\" onclick=\\'smartLog(this, \"s=NS&a=MNNS&dc=MNN&pg=1&hi=0&rc=1&p=1&r=2\", event);\\'>싱가포르 \\'유흥업소\\' 업소녀 6명, 잡고보니 한국인이었다</a> </li> <li> <a href=\"https://v.daum.net/v/20211003174401062\" target=\"_blank\" class=\"link_major\" onclick=\\'smartLog(this, \"s=NS&a=MNNS&dc=MNN&pg=1&hi=0&rc=1&p=1&r=3\", event);\\'>\"中 포기 못해\" 풀무원의 뚝심..10년 만에 결국 일냈다</a> </li> <li> <a href=\"https://v.daum.net/v/20211003164531124\" target=\"_blank\" class=\"link_major\" onclick=\\'smartLog(this, \"s=NS&a=MNNS&dc=MNN&pg=1&hi=0&rc=1&p=1&r=4\", event);\\'>7억 해운대 아파트, 중국인이 17억에 사자 벌어진 \\'황당 호가\\'</a> </li> <li> <a href=\"https://v.daum.net/v/20211003183328829\" target=\"_blank\" class=\"link_major\" onclick=\\'smartLog(this, \"s=NS&a=MNNS&dc=MNN&pg=1&hi=0&rc=1&p=1&r=5\", event);\\'>\"퇴직금 50억? 삐~나도 안들려요\" 곽상도 아들 저격한 SNL</a> </li> <li> <a href=\"https://v.daum.net/v/20211003184339968\" target=\"_blank\" class=\"link_major\" onclick=\\'smartLog(this, \"s=NS&a=MNNS&dc=MNN&pg=1&hi=0&rc=1&p=1&r=6\", event);\\'>\\'2차 슈퍼위크 압승\\' 이재명 \"대장동이 나의 청렴함 증명해줘\"</a> </li> <li> <a href=\"https://v.daum.net/v/20211003165259238\" target=\"_blank\" class=\"link_major\" onclick=\\'smartLog(this, \"s=NS&a=MNNS&dc=MNN&pg=1&hi=0&rc=1&p=1&r=7\", event);\\'>이낙연 \"대장동 수사 급박하게 돌아가..결선투표 결단해달라\"</a> </li> <li> <a href=\"https://v.daum.net/v/20211003180045326\" target=\"_blank\" class=\"link_major\" onclick=\\'smartLog(this, \"s=NS&a=MNNS&dc=MNN&pg=1&hi=0&rc=1&p=1&r=8\", event);\\'>임용고시 합격했는데.. 1251명 초등학교 발령 못 받았다</a> </li> <li> <a href=\"https://v.daum.net/v/20211003174331057\" target=\"_blank\" class=\"link_major\" onclick=\\'smartLog(this, \"s=NS&a=MNNS&dc=MNN&pg=1&hi=0&rc=1&p=1&r=9\", event);\\'>洪 측, 尹 측 \\'개명\\' 공격 재반박 \"김건희 개명 과정 밝혀라\"</a> </li> <li> <a href=\"https://v.daum.net/v/20211003184742032\" target=\"_blank\" class=\"link_major\" onclick=\\'smartLog(this, \"s=NS&a=MNNS&dc=MNN&pg=1&hi=0&rc=1&p=1&r=10\", event);\\'>민주노총, 강경화 전 장관 ILO 사무총장 도전에 \"누울 자리 보고 다리 뻗어야\"</a> </li> </ul> <ul class=\"list_major\" style=\"display:none\" id=\"entertain_tab\"> <li> <a href=\"https://v.daum.net/v/20211003155625389\" target=\"_blank\" class=\"link_major\" onclick=\\'smartLog(this, \"s=NS&a=MNNS&dc=MNN&pg=1&hi=0&rc=1&p=2&r=1\", event);\\'>\"난 왕따 최가식\"..故최진실 유서→19살 딸 최준희 근황 공개 (은밀한뉴스룸) [종합]</a> </li> <li> <a href=\"https://v.daum.net/v/20211003141120613\" target=\"_blank\" class=\"link_major\" onclick=\\'smartLog(this, \"s=NS&a=MNNS&dc=MNN&pg=1&hi=0&rc=1&p=2&r=2\", event);\\'>이혜영, 재혼 너무 잘했네 \"예술적 영감=남편 영어 실력 덕분\" (동상이몽2)</a> </li> <li> <a href=\"https://v.daum.net/v/20211003190337307\" target=\"_blank\" class=\"link_major\" onclick=\\'smartLog(this, \"s=NS&a=MNNS&dc=MNN&pg=1&hi=0&rc=1&p=2&r=3\", event);\\'>연정훈 \"♥한가인에 도시락 부탁할 수 없었다\" (1박 2일)[종합]</a> </li> <li> <a href=\"https://v.daum.net/v/20211003140725550\" target=\"_blank\" class=\"link_major\" onclick=\\'smartLog(this, \"s=NS&a=MNNS&dc=MNN&pg=1&hi=0&rc=1&p=2&r=4\", event);\\'>양지은, \\'슈돌\\' 2대 슈퍼맘 합류..\\'훈남\\' 치과의사 남편 공개 [공식]</a> </li> <li> <a href=\"https://v.daum.net/v/20211003110357238\" target=\"_blank\" class=\"link_major\" onclick=\\'smartLog(this, \"s=NS&a=MNNS&dc=MNN&pg=1&hi=0&rc=1&p=2&r=5\", event);\\'>송종국, 10년 사이 이혼 두 번 \"이제는 말하고 싶다\" (\\'마이웨이\\')</a> </li> <li> <a href=\"https://v.daum.net/v/20211003185824198\" target=\"_blank\" class=\"link_major\" onclick=\\'smartLog(this, \"s=NS&a=MNNS&dc=MNN&pg=1&hi=0&rc=1&p=2&r=6\", event);\\'>\"성인 돼도 같은 방 쓴다\"..김민석X김우석 형제, 남다른 우애 자랑 (복면가왕) [종합]</a> </li> <li> <a href=\"https://v.daum.net/v/20211003132648923\" target=\"_blank\" class=\"link_major\" onclick=\\'smartLog(this, \"s=NS&a=MNNS&dc=MNN&pg=1&hi=0&rc=1&p=2&r=7\", event);\\'>\\'놀면+\\', 이러다간 \\'무도\\' 팬도 \\'놀면\\' 팬도 떠날까 무섭다</a> </li> <li> <a href=\"https://v.daum.net/v/20211003180140347\" target=\"_blank\" class=\"link_major\" onclick=\\'smartLog(this, \"s=NS&a=MNNS&dc=MNN&pg=1&hi=0&rc=1&p=2&r=8\", event);\\'>지석진, 화이자 부작용?..창백한 얼굴로 분노조절 장애 (\\'런닝맨\\')</a> </li> <li> <a href=\"https://v.daum.net/v/20211003133805030\" target=\"_blank\" class=\"link_major\" onclick=\\'smartLog(this, \"s=NS&a=MNNS&dc=MNN&pg=1&hi=0&rc=1&p=2&r=9\", event);\\'>\\'재혼\\' 류시원, 6년만에 TV 컴백..\\'프리한 닥터M\\' 전격 출연 [공식]</a> </li> <li> <a href=\"https://v.daum.net/v/20211003132834940\" target=\"_blank\" class=\"link_major\" onclick=\\'smartLog(this, \"s=NS&a=MNNS&dc=MNN&pg=1&hi=0&rc=1&p=2&r=10\", event);\\'>\\'개훌륭\\' 13개월 아기에 공격적인 시바견..강형욱 상담 \\'중단\\'</a> </li> </ul> <ul class=\"list_major\" style=\"display:none\" id=\"sports_tab\"> <li> <a href=\"https://v.daum.net/v/20211003182504732\" target=\"_blank\" class=\"link_major\" onclick=\\'smartLog(this, \"s=NS&a=MNNS&dc=MNN&pg=1&hi=0&rc=1&p=3&r=1\", event);\\'>[한준의 작전판] 아다마 벤치로 밀어 낸 황희찬, 히메네스와 강력한 시너지</a> </li> <li> <a href=\"https://v.daum.net/v/20211003171734632\" target=\"_blank\" class=\"link_major\" onclick=\\'smartLog(this, \"s=NS&a=MNNS&dc=MNN&pg=1&hi=0&rc=1&p=3&r=2\", event);\\'>우승상금 2억7000만 원 송가은, 여자골프 최초 \\'우승자 NFT\\'도 획득</a> </li> <li> <a href=\"https://v.daum.net/v/20211003143855107\" target=\"_blank\" class=\"link_major\" onclick=\\'smartLog(this, \"s=NS&a=MNNS&dc=MNN&pg=1&hi=0&rc=1&p=3&r=3\", event);\\'>英언론 \"황희찬 멀티골에 감동받은 울버햄튼 팬들, 기립박수 화답\"</a> </li> <li> <a href=\"https://v.daum.net/v/20211003170836463\" target=\"_blank\" class=\"link_major\" onclick=\\'smartLog(this, \"s=NS&a=MNNS&dc=MNN&pg=1&hi=0&rc=1&p=3&r=4\", event);\\'>\\'손-케 듀오 선발\\' 토트넘 아스톤 빌라전 예상 선발 라인업</a> </li> <li> <a href=\"https://v.daum.net/v/20211003153003024\" target=\"_blank\" class=\"link_major\" onclick=\\'smartLog(this, \"s=NS&a=MNNS&dc=MNN&pg=1&hi=0&rc=1&p=3&r=5\", event);\\'>황희찬 맹활약에 동료 늑대들도 반했다..코디-세메두 \\'인증샷\\'</a> </li> <li> <a href=\"https://v.daum.net/v/20211003173527931\" target=\"_blank\" class=\"link_major\" onclick=\\'smartLog(this, \"s=NS&a=MNNS&dc=MNN&pg=1&hi=0&rc=1&p=3&r=6\", event);\\'>\\'캡틴\\' 손흥민, 또 하루 늦게 합류..이틀 뒤 시리아전 걱정</a> </li> <li> <a href=\"https://v.daum.net/v/20211003174704116\" target=\"_blank\" class=\"link_major\" onclick=\\'smartLog(this, \"s=NS&a=MNNS&dc=MNN&pg=1&hi=0&rc=1&p=3&r=7\", event);\\'>155km 강속구가 맞다니..고우석의 홈런 블론세이브는 참 낯설다 [MD포인트]</a> </li> <li> <a href=\"https://v.daum.net/v/20211003180006319\" target=\"_blank\" class=\"link_major\" onclick=\\'smartLog(this, \"s=NS&a=MNNS&dc=MNN&pg=1&hi=0&rc=1&p=3&r=8\", event);\\'>[광주 리뷰]4실책→장단 18안타로 극복한 KIA 한화에 9대6 역전승, 한화 날아간 탈꼴찌의 꿈</a> </li> <li> <a href=\"https://v.daum.net/v/20211003182435724\" target=\"_blank\" class=\"link_major\" onclick=\\'smartLog(this, \"s=NS&a=MNNS&dc=MNN&pg=1&hi=0&rc=1&p=3&r=9\", event);\\'>\\'4연승\\' 롯데 서튼 감독, \"야수들 포기 않고 상대의 벽 뚫었다\" [부산 톡톡]</a> </li> <li> <a href=\"https://v.daum.net/v/20211003141505665\" target=\"_blank\" class=\"link_major\" onclick=\\'smartLog(this, \"s=NS&a=MNNS&dc=MNN&pg=1&hi=0&rc=1&p=3&r=10\", event);\\'>LAD 9연속 지구 우승·SEA 20년 만에 PS 진출..최종전서 결판</a> </li> </ul> </div> </div> <script type=\"text/javascript\"> jQuery(function() { (function($){ SF.C.news = { changeTab: function(elem, tab_name) { var target = $(elem), wrapper = target.parent().parent(); wrapper.find(\"li\").removeClass(\"on\"); target.parent().addClass(\"on\"); $(\"#total_main_news_tabs\").find(\".list_major\").css(\"display\", \"none\"); $(\"#\" + tab_name + \"_tab\").css(\"display\", \"block\"); } } }(jQuery)); }); </script></div>\\n\\n\\n\\n\\n\\n<div disp-attr=\\'1MV\\' class=\"g_comp_s\">\\n\\n\\n<div id=\"ratThemeColl\" class=\"content_realtime\"> <div class=\"coll_tit\"> <h2 class=\"tit\">영화 종합 검색어</h2> <div class=\"mg_expander\"><span class=\"f_nb\">10.03. 20:04</span></div> </div> <div class=\"coll_cont\"> <div class=\"wrap_rank\"> <ol class=\"list_rank\"> <li> <div class=\"inner_item\"> <span class=\"num_rank\">1</span> <span class=\"keyword_rank\"> <a href=\"?w=tot&rtupcate=38&f=38&rtmaxcoll=1MV,EM1&DA=1MV&q=007%20%EB%85%B8%20%ED%83%80%EC%9E%84%20%ED%88%AC%20%EB%8B%A4%EC%9D%B4&scckey=MV||119916\" class=\"link_txt\" onclick=\"smartLog(this,\\'a=RMTO&dc=1MV&pg=1&at=link&rc=10&p=1&r=1\\',event);\">007 노 타임 투 다이</a></span> </div> </li> <li> <div class=\"inner_item\"> <span class=\"num_rank\">2</span> <span class=\"keyword_rank\"> <a href=\"?w=tot&rtupcate=38&f=38&rtmaxcoll=1MV,EM1&DA=1MV&q=%EC%8B%9C%ED%8B%B0%20%EC%98%A4%EB%B8%8C%20%EC%97%94%EC%A0%A4&scckey=MV||1038\" class=\"link_txt\" onclick=\"smartLog(this,\\'a=RMTO&dc=1MV&pg=1&at=link&rc=10&p=1&r=2\\',event);\">시티 오브 엔젤</a></span> </div> </li> <li> <div class=\"inner_item\"> <span class=\"num_rank\">3</span> <span class=\"keyword_rank\"> <a href=\"?w=tot&rtupcate=38&f=38&rtmaxcoll=1MV,EM1&DA=1MV&q=%ED%8D%BC%ED%8E%99%ED%8A%B8%20%EC%BC%80%EC%96%B4&scckey=MV||144168\" class=\"link_txt\" onclick=\"smartLog(this,\\'a=RMTO&dc=1MV&pg=1&at=link&rc=10&p=1&r=3\\',event);\">퍼펙트 케어</a></span> </div> </li> <li> <div class=\"inner_item\"> <span class=\"num_rank\">4</span> <span class=\"keyword_rank\"> <a href=\"?w=tot&rtupcate=38&f=38&rtmaxcoll=1MV,EM1&DA=1MV&q=%EC%9D%B8%EC%A7%88&scckey=MV||127738\" class=\"link_txt\" onclick=\"smartLog(this,\\'a=RMTO&dc=1MV&pg=1&at=link&rc=10&p=1&r=4\\',event);\">인질</a></span> </div> </li> <li> <div class=\"inner_item\"> <span class=\"num_rank\">5</span> <span class=\"keyword_rank\"> <a href=\"?w=tot&rtupcate=38&f=38&rtmaxcoll=1MV,EM1&DA=1MV&q=%EB%8F%84%EA%B5%B4&scckey=MV||131516\" class=\"link_txt\" onclick=\"smartLog(this,\\'a=RMTO&dc=1MV&pg=1&at=link&rc=10&p=1&r=5\\',event);\">도굴</a></span> </div> </li> </ol> <ol class=\"list_rank\"> <li> <div class=\"inner_item\"> <span class=\"num_rank\">6</span> <span class=\"keyword_rank\"> <a href=\"?w=tot&rtupcate=38&f=38&rtmaxcoll=1MV,EM1&DA=1MV&q=%EB%8B%A4%EB%A7%8C%20%EC%95%85%EC%97%90%EC%84%9C%20%EA%B5%AC%ED%95%98%EC%86%8C%EC%84%9C&scckey=MV||127897\" class=\"link_txt\" onclick=\"smartLog(this,\\'a=RMTO&dc=1MV&pg=1&at=link&rc=10&p=1&r=6\\',event);\">다만 악에서 구하소서</a></span> </div> </li> <li> <div class=\"inner_item\"> <span class=\"num_rank\">7</span> <span class=\"keyword_rank\"> <a href=\"?w=tot&rtupcate=38&f=38&rtmaxcoll=1MV,EM1&DA=1MV&q=%EC%A0%95%EB%AC%B4%EB%AC%B8%20%3A%20100%EB%8C%80%201%EC%9D%98%20%EC%A0%84%EC%84%A4&scckey=MV||59079\" class=\"link_txt\" onclick=\"smartLog(this,\\'a=RMTO&dc=1MV&pg=1&at=link&rc=10&p=1&r=7\\',event);\">정무문 : 100대 1의 전설</a></span> </div> </li> <li> <div class=\"inner_item\"> <span class=\"num_rank\">8</span> <span class=\"keyword_rank\"> <a href=\"?w=tot&rtupcate=38&f=38&rtmaxcoll=1MV,EM1&DA=1MV&q=%EA%B8%B0%EC%A0%81&scckey=MV||143697\" class=\"link_txt\" onclick=\"smartLog(this,\\'a=RMTO&dc=1MV&pg=1&at=link&rc=10&p=1&r=8\\',event);\">기적</a></span> </div> </li> <li> <div class=\"inner_item\"> <span class=\"num_rank\">9</span> <span class=\"keyword_rank\"> <a href=\"?w=tot&rtupcate=38&f=38&rtmaxcoll=1MV,EM1&DA=1MV&q=%EB%B3%B4%EC%9D%B4%EC%8A%A4&scckey=MV||137628\" class=\"link_txt\" onclick=\"smartLog(this,\\'a=RMTO&dc=1MV&pg=1&at=link&rc=10&p=1&r=9\\',event);\">보이스</a></span> </div> </li> <li> <div class=\"inner_item\"> <span class=\"num_rank\">10</span> <span class=\"keyword_rank\"> <a href=\"?w=tot&rtupcate=38&f=38&rtmaxcoll=1MV,EM1&DA=1MV&q=007%20%EC%8A%A4%ED%8E%99%ED%84%B0&scckey=MV||79772\" class=\"link_txt\" onclick=\"smartLog(this,\\'a=RMTO&dc=1MV&pg=1&at=link&rc=10&p=1&r=10\\',event);\">007 스펙터</a></span> </div> </li> </ol> </div> </div> </div>\\n</div>\\n\\n\\n\\n\\n<div disp-attr=\\'TOG\\' class=\"g_comp_s\">\\n\\n\\n<div class=\"content_commend\"> <div class=\"coll_tit\"> <h2 class=\"tit\">같이가치 추천글</h2> </div> <div class=\"coll_cont\"> <ul class=\"list_major\"> <li> <a href=\"https://together.kakao.com/fundraisings/90199/story\" class=\"link_major\" target=\"_blank\" onclick=\"smartLog(this,\\'dc=TOG&d=toget-fundraising_project-90199&rc=10&at=link&pg=1&p=1&r=1\\',event);\">그거 아세요? 아이들은 벌써 성탄절을 기다려요</a> </li> <li> <a href=\"https://together.kakao.com/fundraisings/90537/story\" class=\"link_major\" target=\"_blank\" onclick=\"smartLog(this,\\'dc=TOG&d=toget-fundraising_project-90537&rc=10&at=link&pg=1&p=1&r=2\\',event);\">\"올해는 아무도 못 준다더라고..\"</a> </li> <li> <a href=\"https://together.kakao.com/fundraisings/90896/story\" class=\"link_major\" target=\"_blank\" onclick=\"smartLog(this,\\'dc=TOG&d=toget-fundraising_project-90896&rc=10&at=link&pg=1&p=1&r=3\\',event);\">설아! 엄마가 꼭 지켜줄게!</a> </li> <li> <a href=\"https://together.kakao.com/fundraisings/90256/story\" class=\"link_major\" target=\"_blank\" onclick=\"smartLog(this,\\'dc=TOG&d=toget-fundraising_project-90256&rc=10&at=link&pg=1&p=1&r=4\\',event);\">항암 치료에 양육의 책임까지, 수진 씨는..</a> </li> <li> <a href=\"https://together.kakao.com/fundraisings/90627/story\" class=\"link_major\" target=\"_blank\" onclick=\"smartLog(this,\\'dc=TOG&d=toget-fundraising_project-90627&rc=10&at=link&pg=1&p=1&r=5\\',event);\">‘김치 한조각으로, 채워지는 미소</a> </li> <li> <a href=\"https://together.kakao.com/fundraisings/90890/story\" class=\"link_major\" target=\"_blank\" onclick=\"smartLog(this,\\'dc=TOG&d=toget-fundraising_project-90890&rc=10&at=link&pg=1&p=1&r=6\\',event);\">독거어르신의 주방에 찾아온 \\'도마 요정\\'</a> </li> <li> <a href=\"https://together.kakao.com/fundraisings/90615/story\" class=\"link_major\" target=\"_blank\" onclick=\"smartLog(this,\\'dc=TOG&d=toget-fundraising_project-90615&rc=10&at=link&pg=1&p=1&r=7\\',event);\">학대로 고통 받은 어르신들에게..</a> </li> <li> <a href=\"https://together.kakao.com/fundraisings/90830/story\" class=\"link_major\" target=\"_blank\" onclick=\"smartLog(this,\\'dc=TOG&d=toget-fundraising_project-90830&rc=10&at=link&pg=1&p=1&r=8\\',event);\">독거어르신의 텅 빈 밥상, 사랑으로 채워요!</a> </li> <li> <a href=\"https://together.kakao.com/fundraisings/90696/story\" class=\"link_major\" target=\"_blank\" onclick=\"smartLog(this,\\'dc=TOG&d=toget-fundraising_project-90696&rc=10&at=link&pg=1&p=1&r=9\\',event);\">6.25 참전 유공자 분들께 드리는 선물</a> </li> <li> <a href=\"https://together.kakao.com/fundraisings/90800/story\" class=\"link_major\" target=\"_blank\" onclick=\"smartLog(this,\\'dc=TOG&d=toget-fundraising_project-90800&rc=10&at=link&pg=1&p=1&r=10\\',event);\">생리대, 왜 늘 부족할까?</a> </li> </ul> </div> </div>\\n</div>\\n\\n\\n\\n<div style=\"display:block;overflow:hidden;height:0;clear:both;font-size:0;line-height:0;visibility:hidden;\">\\\\00f0</div>\\n</aside>\\n\\n\\n</div>\\n\\n\\n<a href=\"javascript:;\" class=\"aside_quick\">맨위로<span class=\"ico_rwd\"></span></a>\\n\\n</article>\\n\\n<footer id=\"daumFoot\">\\n<div id=\"innerFooter\" class=\"inner_footer\">\\n<div id=\"suggestFooter\">\\n<form name=\"search1\" method=\"get\" id=\"daumSearchFoot\" class=\"d_sch\">\\n<fieldset class=\"fld_total\">\\n<legend class=\"screen_out\">검색폼</legend>\\n<input type=\"hidden\" name=\"nil_ch\" value=\"\">\\n<input type=\"hidden\" name=\"rtupcoll\" value=\"\">\\n<input type=\"hidden\" name=\"nil_suggest\" value=\"btn\">\\n<input type=\"hidden\" name=\"DA\" value=\"MEK\">\\n<input type=\"hidden\" name=\"w\" value=\"news\">\\n<input type=\"hidden\" name=\"sq\" value=\"\">\\n<input type=\"hidden\" name=\"o\" value=\"\">\\n<input type=\"hidden\" name=\"sugo\" value=\"\">\\n\\n\\n<input type=\"hidden\" name=\"m\" value=\"\">\\n\\n<div class=\"box_searchbar\">\\n<div class=\"inner_searchbar\">\\n<input type=\"text\" id=\"q1\" name=\"q\" class=\"tf_keyword\" autocomplete=\"off\" title=\"검색어 입력\" value=\"인공지능\" >\\n<button type=\"submit\" id=\"schFooterSubmitBtn\" class=\"ico_ksearch btn_ksearch\"><span class=\"ir_wa\">검색</span></button>\\n</div>\\n</div>\\n</fieldset>\\n</form>\\n<div class=\"wrap_suggestBox\"><div id=\"schFooterSuggestBox\" class=\"suggestBox box_sub reverseType\"></div></div>\\n</div>\\n<script type=\"text/javascript\">\\n(function(){\\nvar footerSearchModule = new SF.FooterSearchForm();\\nfooterSearchModule.init();\\n})();\\n</script>\\n\\n<div class=\"footer_comm\">\\n<a href=\"http://daumsearch.tistory.com\" target=\"_blank\" onclick=\"smartLog(this, \\'pg=1&p=10&dc=CCC&r=1\\', event);\" class=\"link_info\">검색블로그</a><span class=\"txt_bar\">|</span>\\n<a href=\"https://cs.daum.net/faq/15/15649.html\" target=\"_blank\" onclick=\"smartLog(this, \\'pg=1&p=15&dc=CCC&r=1\\', event);\" class=\"link_info\">검색원칙</a><span class=\"txt_bar\">|</span>\\n<a href=\"https://register.search.daum.net/\" target=\"_blank\" onclick=\"smartLog(this, \\'pg=1&p=9&dc=CCC&r=1\\', event);\" class=\"link_info\">사이트 등록 신청</a><span class=\"txt_bar\">|</span>\\n<a href=\"https://mystore.kakao.com/\" target=\"_blank\" onclick=\"smartLog(this, \\'pg=1&p=14&dc=CCC&r=1\\', event);\" class=\"link_info\">카카오맵 매장관리</a><span class=\"txt_bar\">|</span>\\n<a href=\"http://partner.search.daum.net/partner/index.daum\" target=\"_blank\" onclick=\"smartLog(this, \\'pg=1&p=12&dc=CCC&r=1\\', event);\" class=\"link_info\">검색제휴</a><span class=\"txt_bar\">|</span>\\n<a href=\"https://business.kakao.com/info/keywordad\" target=\"_blank\" onclick=\"smartLog(this, \\'pg=1&p=2&dc=CCC&r=1\\', event);\" class=\"link_info\">키워드광고</a><span class=\"txt_bar\">|</span>\\n<a href=\"http://local.biz.daum.net/\" target=\"_blank\" onclick=\"smartLog(this, \\'pg=1&p=3&dc=CCC&r=1\\', event);\" class=\"link_info\">로컬광고</a><span class=\"txt_bar\">|</span>\\n<a href=\"https://business.kakao.com/info/crossmedia\" target=\"_blank\" onclick=\"smartLog(this, \\'pg=1&p=8&dc=CCC&r=1\\', event);\" class=\"link_info\">크로스미디어</a><span class=\"txt_bar\">|</span>\\n<a href=\"http://cs.daum.net/faq/15.html\" target=\"_blank\" onclick=\"smartLog(this, \\'pg=1&p=6&dc=CCC&r=1\\', event);\" class=\"link_info\">고객센터</a>\\n\\n<address class=\"copyright\">&nbsp;&nbsp;&nbsp;ⓒ <a href=\"http://kakaocorp.com\" target=\"_blank\" onclick=\"smartLog(this, \\'pg=1&p=11&dc=CCC&r=1\\', event);\" class=\"link_daum\">Kakao Corp.</a></address>\\n</div>\\n\\n</div>\\n</footer>\\n</article>\\n\\n\\n<script type=\"text/javascript\" >\\nvar __MiniDaumObj = null;\\nvar minidaum_options = null;\\n(function() {\\nminidaum_options = {\\nbgType: \"\",\\nenableLogoutRetun: true,\\ndisableHotissue: true,\\ndisableLogo: true,\\ndisableTracker: true,\\nenableShield: false\\n};\\n})();\\n</script>\\n\\n\\n<script src=\"//go.daum.net/minidaum_pc.daum\" charset=\"utf-8\" type=\"text/javascript\" async defer></script>\\n\\n\\n<script type=\"text/javascript\">\\nSF.CommonModule && SF.CommonModule.init && SF.CommonModule.init();\\n</script>\\n\\n<script type=\"text/javascript\" src=\"//t1.daumcdn.net/tiara/js/v1/tiara.min.js\"></script>\\n<script type=\"text/javascript\">\\n(function() {\\nif (typeof TiaraTracker === \\'undefined\\') {\\nreturn;\\n}\\nvar svcdomain = window.viewio === \\'i\\' ? window.param_w + \\'.search.daum.net\\' : \\'nate.search.daum.net\\';\\nvar pageName = window.param_w === \\'tot\\' ? \\'통합검색\\' : window.param_w + \\'탭\\';\\nvar search = {\\nsearch_term: window.topQuery,\\nsearch_type:  window.param_da\\n};\\nTiaraTracker.getInstance()\\n.setSvcDomain(svcdomain)\\n.setPage(pageName)\\n.setSection(\\'검색결과\\')\\n.trackPage(\\'검색결과화면_조회\\')\\n.actionKind(\"Search\")\\n.search(search)\\n.track();\\n})();\\n</script>\\n<script type=\"text/javascript\">\\nwindow.roosevelt_params_queue = window.roosevelt_params_queue || [];\\nwindow.roosevelt_params_queue.push({\\nchannel_id: \"dk\", channel_label: \"search\", keyword: window.topQuery\\n});\\n</script>\\n<script type=\"text/javascript\" src=\"//t1.daumcdn.net/midas/rt/dk_se/roosevelt_dk_se.js\" async></script>\\n<script>\\n(function(SF) {\\nif (SF.compLogger && SF.compLogger.sendAllFromPage) {\\nSF.compLogger.sendAllFromPage({\\nref: \\'search\\'\\n});\\n}\\n})(window.SF || {});\\n</script>\\n<!-- SA 삭제 -->\\n\\n\\n<!-- end SA 삭제 -->\\n\\n\\n</body>\\n\\n</html>\\n'"
      ]
     },
     "execution_count": 6,
     "metadata": {},
     "output_type": "execute_result"
    }
   ],
   "source": [
    "res.text"
   ]
  },
  {
   "cell_type": "code",
   "execution_count": 7,
   "metadata": {},
   "outputs": [
    {
     "data": {
      "text/plain": [
       "<Element html at 0x2295690f2c0>"
      ]
     },
     "execution_count": 7,
     "metadata": {},
     "output_type": "execute_result"
    }
   ],
   "source": [
    "lxml.html.fromstring(res.text)"
   ]
  },
  {
   "cell_type": "code",
   "execution_count": 8,
   "metadata": {},
   "outputs": [],
   "source": [
    "root = lxml.html.fromstring(res.text)"
   ]
  },
  {
   "cell_type": "code",
   "execution_count": 9,
   "metadata": {},
   "outputs": [
    {
     "data": {
      "text/plain": [
       "<Element html at 0x2295690fd60>"
      ]
     },
     "execution_count": 9,
     "metadata": {},
     "output_type": "execute_result"
    }
   ],
   "source": [
    "root"
   ]
  },
  {
   "cell_type": "markdown",
   "metadata": {},
   "source": [
    "- HTML : 'class = f_nb date'\n",
    "- CSS : '.f_nb.date'"
   ]
  },
  {
   "cell_type": "code",
   "execution_count": 16,
   "metadata": {},
   "outputs": [],
   "source": [
    "links = root.cssselect('div.wrap_cont a') \n",
    "# 태그가 span 클래스 f_nb와 date에 포함된 태그 a, 클래스가 f_nb"
   ]
  },
  {
   "cell_type": "code",
   "execution_count": 17,
   "metadata": {},
   "outputs": [
    {
     "name": "stdout",
     "output_type": "stream",
     "text": [
      "판교 \n",
      "None\n",
      "다음뉴스\n",
      "미래엔, 고등 인정교과서 '\n",
      "다음뉴스\n",
      " \n",
      "광주광역시, \n",
      "다음뉴스\n",
      "UNIST, 동남권 \n",
      "다음뉴스\n",
      " UNIST, 동남권 \n",
      " UNIST, 동남권 \n",
      " UNIST, 동남권 \n",
      "IITP, 글로벌 \n",
      " IITP, ‘글로벌 \n",
      "광주시, \n",
      " 광주시, \n",
      " 광주시, \n",
      " 광주시, AI 전문가들과 '\n",
      " 관련뉴스 \n",
      "None\n",
      "UNIST, 동남권 최초 '\n",
      "다음뉴스\n",
      " UNIST, \n",
      " UNIST, \n",
      " [캠퍼스소식] UNIST, 동남권 최초 \n",
      " 관련뉴스 \n",
      "한국정보통신진흥협회 '\n",
      "다음뉴스\n"
     ]
    }
   ],
   "source": [
    "for link in links:\n",
    "    print(link.text)"
   ]
  },
  {
   "cell_type": "code",
   "execution_count": 18,
   "metadata": {},
   "outputs": [],
   "source": [
    "urls = []\n",
    "for link in links:\n",
    "    urls.append(link.attrib['href'])"
   ]
  },
  {
   "cell_type": "code",
   "execution_count": 19,
   "metadata": {},
   "outputs": [
    {
     "data": {
      "text/plain": [
       "['https://cp.news.search.daum.net/p/111290267',\n",
       " 'http://v.media.daum.net/v/20210923213638714?f=o',\n",
       " 'http://v.media.daum.net/v/20210923213638714',\n",
       " 'http://v.media.daum.net/v/20210928100043812?f=o',\n",
       " 'http://v.media.daum.net/v/20210928100043812',\n",
       " 'https://cp.news.search.daum.net/p/111069739',\n",
       " 'http://v.media.daum.net/v/20211001171442607?f=o',\n",
       " 'http://v.media.daum.net/v/20211001171442607',\n",
       " 'http://v.media.daum.net/v/20210930104414254?f=o',\n",
       " 'http://v.media.daum.net/v/20210930104414254',\n",
       " 'https://cp.news.search.daum.net/p/111245323',\n",
       " 'https://cp.news.search.daum.net/p/111234816',\n",
       " 'https://cp.news.search.daum.net/p/111199190',\n",
       " 'https://cp.news.search.daum.net/p/111274692',\n",
       " 'https://cp.news.search.daum.net/p/111244602',\n",
       " 'https://cp.news.search.daum.net/p/111285528',\n",
       " 'https://cp.news.search.daum.net/p/111283104',\n",
       " 'https://cp.news.search.daum.net/p/111280258',\n",
       " 'https://cp.news.search.daum.net/p/111284547',\n",
       " '?w=news&req=tab&q=%EC%9D%B8%EA%B3%B5%EC%A7%80%EB%8A%A5&cluster=y&viewio=i&repno=0&n=10&p=1&related_page=1&cluster_docid=26bxRXcWIiTyw_Bhjd&DA=NTB',\n",
       " 'https://cp.news.search.daum.net/p/111168994',\n",
       " 'http://v.media.daum.net/v/20210930170914106?f=o',\n",
       " 'http://v.media.daum.net/v/20210930170914106',\n",
       " 'https://cp.news.search.daum.net/p/111274676',\n",
       " 'https://cp.news.search.daum.net/p/111216577',\n",
       " 'https://cp.news.search.daum.net/p/111222501',\n",
       " '?w=news&req=tab&q=%EC%9D%B8%EA%B3%B5%EC%A7%80%EB%8A%A5&cluster=y&viewio=i&repno=0&n=10&p=1&related_page=1&cluster_docid=26p_CZA-mCleFssHlQ&DA=NTB',\n",
       " 'http://v.media.daum.net/v/20211003083604472?f=o',\n",
       " 'http://v.media.daum.net/v/20211003083604472']"
      ]
     },
     "execution_count": 19,
     "metadata": {},
     "output_type": "execute_result"
    }
   ],
   "source": [
    "urls"
   ]
  },
  {
   "cell_type": "code",
   "execution_count": 20,
   "metadata": {},
   "outputs": [],
   "source": [
    "url = urls[0]"
   ]
  },
  {
   "cell_type": "code",
   "execution_count": 34,
   "metadata": {},
   "outputs": [
    {
     "data": {
      "text/plain": [
       "'https://cp.news.search.daum.net/p/111290267'"
      ]
     },
     "execution_count": 34,
     "metadata": {},
     "output_type": "execute_result"
    }
   ],
   "source": [
    "url"
   ]
  },
  {
   "cell_type": "code",
   "execution_count": 35,
   "metadata": {},
   "outputs": [],
   "source": [
    "res = requests.get(url)"
   ]
  },
  {
   "cell_type": "code",
   "execution_count": 36,
   "metadata": {},
   "outputs": [],
   "source": [
    "root = lxml.html.fromstring(res.text)"
   ]
  },
  {
   "cell_type": "code",
   "execution_count": 37,
   "metadata": {},
   "outputs": [],
   "source": [
    "body = root.cssselect('td.view_r p')"
   ]
  },
  {
   "cell_type": "code",
   "execution_count": 27,
   "metadata": {},
   "outputs": [
    {
     "data": {
      "text/plain": [
       "'section'"
      ]
     },
     "execution_count": 27,
     "metadata": {},
     "output_type": "execute_result"
    }
   ],
   "source": [
    "'div#harmonyContainer' # id\n",
    "'div.article_view' # class\n",
    "'section'"
   ]
  },
  {
   "cell_type": "code",
   "execution_count": 38,
   "metadata": {},
   "outputs": [],
   "source": [
    "content = body[0].text_content()"
   ]
  },
  {
   "cell_type": "code",
   "execution_count": 39,
   "metadata": {},
   "outputs": [],
   "source": [
    "content = content.strip()"
   ]
  },
  {
   "cell_type": "code",
   "execution_count": 40,
   "metadata": {},
   "outputs": [],
   "source": [
    "import re"
   ]
  },
  {
   "cell_type": "code",
   "execution_count": 41,
   "metadata": {},
   "outputs": [],
   "source": [
    "content = re.sub(r'\\s+', ' ', content)"
   ]
  },
  {
   "cell_type": "code",
   "execution_count": 42,
   "metadata": {},
   "outputs": [
    {
     "ename": "IndexError",
     "evalue": "list index out of range",
     "output_type": "error",
     "traceback": [
      "\u001b[1;31m---------------------------------------------------------------------------\u001b[0m",
      "\u001b[1;31mIndexError\u001b[0m                                Traceback (most recent call last)",
      "\u001b[1;32m<ipython-input-42-971959b6d7d7>\u001b[0m in \u001b[0;36m<module>\u001b[1;34m\u001b[0m\n\u001b[0;32m      4\u001b[0m     \u001b[0mroot\u001b[0m \u001b[1;33m=\u001b[0m \u001b[0mlxml\u001b[0m\u001b[1;33m.\u001b[0m\u001b[0mhtml\u001b[0m\u001b[1;33m.\u001b[0m\u001b[0mfromstring\u001b[0m\u001b[1;33m(\u001b[0m\u001b[0mres\u001b[0m\u001b[1;33m.\u001b[0m\u001b[0mtext\u001b[0m\u001b[1;33m)\u001b[0m\u001b[1;33m\u001b[0m\u001b[1;33m\u001b[0m\u001b[0m\n\u001b[0;32m      5\u001b[0m     \u001b[0mbody\u001b[0m \u001b[1;33m=\u001b[0m \u001b[0mroot\u001b[0m\u001b[1;33m.\u001b[0m\u001b[0mcssselect\u001b[0m\u001b[1;33m(\u001b[0m\u001b[1;34m'section'\u001b[0m\u001b[1;33m)\u001b[0m\u001b[1;33m\u001b[0m\u001b[1;33m\u001b[0m\u001b[0m\n\u001b[1;32m----> 6\u001b[1;33m     \u001b[0mcontent\u001b[0m \u001b[1;33m=\u001b[0m \u001b[0mbody\u001b[0m\u001b[1;33m[\u001b[0m\u001b[1;36m0\u001b[0m\u001b[1;33m]\u001b[0m\u001b[1;33m.\u001b[0m\u001b[0mtext_content\u001b[0m\u001b[1;33m(\u001b[0m\u001b[1;33m)\u001b[0m\u001b[1;33m\u001b[0m\u001b[1;33m\u001b[0m\u001b[0m\n\u001b[0m\u001b[0;32m      7\u001b[0m     \u001b[0mcontent\u001b[0m \u001b[1;33m=\u001b[0m \u001b[0mcontent\u001b[0m\u001b[1;33m.\u001b[0m\u001b[0mstrip\u001b[0m\u001b[1;33m(\u001b[0m\u001b[1;33m)\u001b[0m\u001b[1;33m\u001b[0m\u001b[1;33m\u001b[0m\u001b[0m\n\u001b[0;32m      8\u001b[0m     \u001b[0mcontent\u001b[0m \u001b[1;33m=\u001b[0m \u001b[0mre\u001b[0m\u001b[1;33m.\u001b[0m\u001b[0msub\u001b[0m\u001b[1;33m(\u001b[0m\u001b[1;34mr'\\s+'\u001b[0m\u001b[1;33m,\u001b[0m \u001b[1;34m' '\u001b[0m\u001b[1;33m,\u001b[0m \u001b[0mcontent\u001b[0m\u001b[1;33m)\u001b[0m\u001b[1;33m\u001b[0m\u001b[1;33m\u001b[0m\u001b[0m\n",
      "\u001b[1;31mIndexError\u001b[0m: list index out of range"
     ]
    }
   ],
   "source": [
    "data = []\n",
    "for url in urls:\n",
    "    res = requests.get(url)\n",
    "    root = lxml.html.fromstring(res.text)\n",
    "    body = root.cssselect('section')\n",
    "    content = body[0].text_content()\n",
    "    content = content.strip()\n",
    "    content = re.sub(r'\\s+', ' ', content)\n",
    "    data.append((url, content))"
   ]
  },
  {
   "cell_type": "code",
   "execution_count": 24,
   "metadata": {},
   "outputs": [
    {
     "data": {
      "text/plain": [
       "[]"
      ]
     },
     "execution_count": 24,
     "metadata": {},
     "output_type": "execute_result"
    }
   ],
   "source": [
    "data"
   ]
  },
  {
   "cell_type": "code",
   "execution_count": 25,
   "metadata": {},
   "outputs": [],
   "source": [
    "df = pd.DataFrame(data, columns=['url', 'content'])"
   ]
  },
  {
   "cell_type": "code",
   "execution_count": 26,
   "metadata": {},
   "outputs": [
    {
     "data": {
      "text/html": [
       "<div>\n",
       "<style scoped>\n",
       "    .dataframe tbody tr th:only-of-type {\n",
       "        vertical-align: middle;\n",
       "    }\n",
       "\n",
       "    .dataframe tbody tr th {\n",
       "        vertical-align: top;\n",
       "    }\n",
       "\n",
       "    .dataframe thead th {\n",
       "        text-align: right;\n",
       "    }\n",
       "</style>\n",
       "<table border=\"1\" class=\"dataframe\">\n",
       "  <thead>\n",
       "    <tr style=\"text-align: right;\">\n",
       "      <th></th>\n",
       "      <th>url</th>\n",
       "      <th>content</th>\n",
       "    </tr>\n",
       "  </thead>\n",
       "  <tbody>\n",
       "  </tbody>\n",
       "</table>\n",
       "</div>"
      ],
      "text/plain": [
       "Empty DataFrame\n",
       "Columns: [url, content]\n",
       "Index: []"
      ]
     },
     "execution_count": 26,
     "metadata": {},
     "output_type": "execute_result"
    }
   ],
   "source": [
    "df.head()"
   ]
  },
  {
   "cell_type": "code",
   "execution_count": 27,
   "metadata": {},
   "outputs": [],
   "source": [
    "df.to_csv('기사.csv')"
   ]
  },
  {
   "cell_type": "markdown",
   "metadata": {},
   "source": [
    "## 여러 페이지 주소 수집"
   ]
  },
  {
   "cell_type": "code",
   "execution_count": 43,
   "metadata": {},
   "outputs": [],
   "source": [
    "url = 'https://search.daum.net/search?w=news&nil_search=btn&DA=NTB&enc=utf8&cluster=y&cluster_page=1&q=%EC%9D%B8%EA%B3%B5%EC%A7%80%EB%8A%A5&p={}'"
   ]
  },
  {
   "cell_type": "code",
   "execution_count": 44,
   "metadata": {},
   "outputs": [],
   "source": [
    "urls = []\n",
    "for page in range(1, 11):\n",
    "    res = requests.get(url.format(page))\n",
    "    root = lxml.html.fromstring(res.text)\n",
    "    for link in root.cssselect('div.wrap_cont a'):\n",
    "        urls.append(link.attrib['href'])"
   ]
  },
  {
   "cell_type": "code",
   "execution_count": 45,
   "metadata": {},
   "outputs": [
    {
     "data": {
      "text/plain": [
       "['https://cp.news.search.daum.net/p/111290267',\n",
       " 'http://v.media.daum.net/v/20210923213638714?f=o',\n",
       " 'http://v.media.daum.net/v/20210923213638714',\n",
       " 'http://v.media.daum.net/v/20210928100043812?f=o',\n",
       " 'http://v.media.daum.net/v/20210928100043812',\n",
       " 'https://cp.news.search.daum.net/p/111069739',\n",
       " 'http://v.media.daum.net/v/20210930104414254?f=o',\n",
       " 'http://v.media.daum.net/v/20210930104414254',\n",
       " 'https://cp.news.search.daum.net/p/111245323',\n",
       " 'https://cp.news.search.daum.net/p/111234816',\n",
       " 'https://cp.news.search.daum.net/p/111199190',\n",
       " 'http://v.media.daum.net/v/20211001171442607?f=o',\n",
       " 'http://v.media.daum.net/v/20211001171442607',\n",
       " 'https://cp.news.search.daum.net/p/111274692',\n",
       " 'https://cp.news.search.daum.net/p/111244602',\n",
       " 'https://cp.news.search.daum.net/p/111285528',\n",
       " 'https://cp.news.search.daum.net/p/111283104',\n",
       " 'https://cp.news.search.daum.net/p/111280258',\n",
       " 'https://cp.news.search.daum.net/p/111284547',\n",
       " '?w=news&req=tab&q=%EC%9D%B8%EA%B3%B5%EC%A7%80%EB%8A%A5&cluster=y&viewio=i&repno=0&n=10&p=1&related_page=1&cluster_docid=26bxRXcWIiTyw_Bhjd&DA=NTB',\n",
       " 'https://cp.news.search.daum.net/p/111168994',\n",
       " 'http://v.media.daum.net/v/20210930170914106?f=o',\n",
       " 'http://v.media.daum.net/v/20210930170914106',\n",
       " 'https://cp.news.search.daum.net/p/111274676',\n",
       " 'https://cp.news.search.daum.net/p/111216577',\n",
       " 'https://cp.news.search.daum.net/p/111222501',\n",
       " '?w=news&req=tab&q=%EC%9D%B8%EA%B3%B5%EC%A7%80%EB%8A%A5&cluster=y&viewio=i&repno=0&n=10&p=1&related_page=1&cluster_docid=26p_CZA-mCleFssHlQ&DA=NTB',\n",
       " 'http://v.media.daum.net/v/20211003083604472?f=o',\n",
       " 'http://v.media.daum.net/v/20211003083604472',\n",
       " 'http://v.media.daum.net/v/20210923140003249?f=o',\n",
       " 'http://v.media.daum.net/v/20210923140003249',\n",
       " 'http://v.media.daum.net/v/20210930160609880?f=o',\n",
       " 'http://v.media.daum.net/v/20210930160609880',\n",
       " 'http://v.media.daum.net/v/20211001150000986?f=o',\n",
       " 'http://v.media.daum.net/v/20211001150000986',\n",
       " 'https://cp.news.search.daum.net/p/111271402',\n",
       " 'https://cp.news.search.daum.net/p/111284396',\n",
       " 'https://cp.news.search.daum.net/p/111279805',\n",
       " '?w=news&req=tab&q=%EC%9D%B8%EA%B3%B5%EC%A7%80%EB%8A%A5&cluster=y&viewio=i&repno=0&n=10&p=1&related_page=2&cluster_docid=26oPdojqA9EUZwN5oe&DA=NTB',\n",
       " 'http://v.media.daum.net/v/20210929215951423?f=o',\n",
       " 'http://v.media.daum.net/v/20210929215951423',\n",
       " 'http://v.media.daum.net/v/20210929112701757?f=o',\n",
       " 'http://v.media.daum.net/v/20210929112701757',\n",
       " '?w=news&req=tab&q=%EC%9D%B8%EA%B3%B5%EC%A7%80%EB%8A%A5&cluster=y&viewio=i&repno=0&n=10&p=1&related_page=2&cluster_docid=26kDGKSYoKMZdLo5Ux&DA=NTB',\n",
       " 'http://v.media.daum.net/v/20210930094120228?f=o',\n",
       " 'http://v.media.daum.net/v/20210930094120228',\n",
       " 'http://v.media.daum.net/v/20210930095955052?f=o',\n",
       " 'http://v.media.daum.net/v/20210930095955052',\n",
       " 'http://v.media.daum.net/v/20210929140219780?f=o',\n",
       " 'http://v.media.daum.net/v/20210929140219780',\n",
       " 'https://cp.news.search.daum.net/p/111189376',\n",
       " 'https://cp.news.search.daum.net/p/111206797',\n",
       " 'https://cp.news.search.daum.net/p/111204243',\n",
       " '?w=news&req=tab&q=%EC%9D%B8%EA%B3%B5%EC%A7%80%EB%8A%A5&cluster=y&viewio=i&repno=0&n=10&p=1&related_page=2&cluster_docid=267NqUB1cSpZNPvOoy&DA=NTB',\n",
       " 'https://cp.news.search.daum.net/p/111241204',\n",
       " 'http://v.media.daum.net/v/20210923060044482?f=o',\n",
       " 'http://v.media.daum.net/v/20210923060044482',\n",
       " 'http://v.media.daum.net/v/20210916103428349?f=o',\n",
       " 'http://v.media.daum.net/v/20210916103428349',\n",
       " 'https://cp.news.search.daum.net/p/111110045',\n",
       " 'http://v.media.daum.net/v/20211001174217637?f=o',\n",
       " 'http://v.media.daum.net/v/20211001174217637',\n",
       " 'https://cp.news.search.daum.net/p/111283528',\n",
       " 'http://v.media.daum.net/v/20210923164124724?f=o',\n",
       " 'http://v.media.daum.net/v/20210923164124724',\n",
       " 'https://cp.news.search.daum.net/p/111276840',\n",
       " 'https://cp.news.search.daum.net/p/111271446',\n",
       " 'https://cp.news.search.daum.net/p/111238346',\n",
       " 'http://v.media.daum.net/v/20210929171725844?f=o',\n",
       " 'http://v.media.daum.net/v/20210929171725844',\n",
       " 'http://v.media.daum.net/v/20210929131759479?f=o',\n",
       " 'http://v.media.daum.net/v/20210929131759479',\n",
       " 'http://v.media.daum.net/v/20210927092417473?f=o',\n",
       " 'http://v.media.daum.net/v/20210927092417473',\n",
       " 'http://v.media.daum.net/v/20210929151849924?f=o',\n",
       " 'http://v.media.daum.net/v/20210929151849924',\n",
       " 'http://v.media.daum.net/v/20210930093338889?f=o',\n",
       " 'http://v.media.daum.net/v/20210930093338889',\n",
       " 'http://v.media.daum.net/v/20210930091446089?f=o',\n",
       " 'http://v.media.daum.net/v/20210930091446089',\n",
       " 'http://v.media.daum.net/v/20210930093801084?f=o',\n",
       " 'http://v.media.daum.net/v/20210930093801084',\n",
       " 'https://cp.news.search.daum.net/p/111203569',\n",
       " '?w=news&req=tab&q=%EC%9D%B8%EA%B3%B5%EC%A7%80%EB%8A%A5&cluster=y&viewio=i&repno=0&n=10&p=1&related_page=3&cluster_docid=267ekHAZwfnKU7y5lX&DA=NTB',\n",
       " 'http://v.media.daum.net/v/20210928101407372?f=o',\n",
       " 'http://v.media.daum.net/v/20210928101407372',\n",
       " 'https://cp.news.search.daum.net/p/111166669',\n",
       " 'https://cp.news.search.daum.net/p/111266097',\n",
       " 'https://cp.news.search.daum.net/p/111095527',\n",
       " 'https://cp.news.search.daum.net/p/111184464',\n",
       " 'http://v.media.daum.net/v/20210929171856916?f=o',\n",
       " 'http://v.media.daum.net/v/20210929171856916',\n",
       " 'https://cp.news.search.daum.net/p/111222135',\n",
       " 'http://v.media.daum.net/v/20210930105611859?f=o',\n",
       " 'http://v.media.daum.net/v/20210930105611859',\n",
       " 'http://v.media.daum.net/v/20210928095028297?f=o',\n",
       " 'http://v.media.daum.net/v/20210928095028297',\n",
       " 'http://v.media.daum.net/v/20210927155241412?f=o',\n",
       " 'http://v.media.daum.net/v/20210927155241412',\n",
       " 'https://cp.news.search.daum.net/p/111079336',\n",
       " 'https://cp.news.search.daum.net/p/111067652',\n",
       " 'https://cp.news.search.daum.net/p/111277106',\n",
       " 'https://cp.news.search.daum.net/p/111273672',\n",
       " 'https://cp.news.search.daum.net/p/111277068',\n",
       " 'https://cp.news.search.daum.net/p/111164811',\n",
       " 'https://cp.news.search.daum.net/p/111193251',\n",
       " 'https://cp.news.search.daum.net/p/111165366',\n",
       " 'http://v.media.daum.net/v/20210928194200450?f=o',\n",
       " 'http://v.media.daum.net/v/20210928194200450',\n",
       " 'http://v.media.daum.net/v/20210930143230546?f=o',\n",
       " 'http://v.media.daum.net/v/20210930143230546',\n",
       " 'http://v.media.daum.net/v/20210930172243592?f=o',\n",
       " 'http://v.media.daum.net/v/20210930172243592',\n",
       " 'http://v.media.daum.net/v/20210927120302797?f=o',\n",
       " 'http://v.media.daum.net/v/20210927120302797',\n",
       " 'https://cp.news.search.daum.net/p/111238889',\n",
       " 'https://cp.news.search.daum.net/p/111238736',\n",
       " 'https://cp.news.search.daum.net/p/111223007',\n",
       " 'https://cp.news.search.daum.net/p/111229110',\n",
       " '?w=news&req=tab&q=%EC%9D%B8%EA%B3%B5%EC%A7%80%EB%8A%A5&cluster=y&viewio=i&repno=0&n=10&p=1&related_page=4&cluster_docid=26KWumc97RyCFqPm7M&DA=NTB',\n",
       " 'https://cp.news.search.daum.net/p/111076764',\n",
       " 'https://cp.news.search.daum.net/p/111185910',\n",
       " 'https://cp.news.search.daum.net/p/111178886',\n",
       " 'https://cp.news.search.daum.net/p/111174990',\n",
       " 'https://cp.news.search.daum.net/p/111273968',\n",
       " 'https://cp.news.search.daum.net/p/111283379',\n",
       " 'http://v.media.daum.net/v/20210930090603790?f=o',\n",
       " 'http://v.media.daum.net/v/20210930090603790',\n",
       " 'https://cp.news.search.daum.net/p/111106593',\n",
       " 'http://v.media.daum.net/v/20210928145419161?f=o',\n",
       " 'http://v.media.daum.net/v/20210928145419161',\n",
       " 'https://cp.news.search.daum.net/p/111157389',\n",
       " '?w=news&req=tab&q=%EC%9D%B8%EA%B3%B5%EC%A7%80%EB%8A%A5&cluster=y&viewio=i&repno=0&n=10&p=1&related_page=5&cluster_docid=26rLewUMQsYwqv8HCB&DA=NTB',\n",
       " 'http://v.media.daum.net/v/20210929135817593?f=o',\n",
       " 'http://v.media.daum.net/v/20210929135817593',\n",
       " 'http://v.media.daum.net/v/20210929143033843?f=o',\n",
       " 'http://v.media.daum.net/v/20210929143033843',\n",
       " 'http://v.media.daum.net/v/20210928103819343?f=o',\n",
       " 'http://v.media.daum.net/v/20210928103819343',\n",
       " 'http://v.media.daum.net/v/20210929141127132?f=o',\n",
       " 'http://v.media.daum.net/v/20210929141127132',\n",
       " 'http://v.media.daum.net/v/20210930112406442?f=o',\n",
       " 'http://v.media.daum.net/v/20210930112406442',\n",
       " 'http://v.media.daum.net/v/20210930100023123?f=o',\n",
       " 'http://v.media.daum.net/v/20210930100023123',\n",
       " 'https://cp.news.search.daum.net/p/111283712',\n",
       " 'https://cp.news.search.daum.net/p/111187247',\n",
       " 'https://cp.news.search.daum.net/p/111180239',\n",
       " 'http://v.media.daum.net/v/20210928143401306?f=o',\n",
       " 'http://v.media.daum.net/v/20210928143401306',\n",
       " 'http://v.media.daum.net/v/20210929152521151?f=o',\n",
       " 'http://v.media.daum.net/v/20210929152521151',\n",
       " 'http://v.media.daum.net/v/20210930162531565?f=o',\n",
       " 'http://v.media.daum.net/v/20210930162531565',\n",
       " 'https://cp.news.search.daum.net/p/111142888',\n",
       " 'http://v.media.daum.net/v/20210926120226307?f=o',\n",
       " 'http://v.media.daum.net/v/20210926120226307',\n",
       " 'https://cp.news.search.daum.net/p/111243807',\n",
       " 'http://v.media.daum.net/v/20210930081849575?f=o',\n",
       " 'http://v.media.daum.net/v/20210930081849575',\n",
       " 'http://v.media.daum.net/v/20211001114031043?f=o',\n",
       " 'http://v.media.daum.net/v/20211001114031043',\n",
       " 'https://cp.news.search.daum.net/p/111285688',\n",
       " 'https://cp.news.search.daum.net/p/111267591',\n",
       " '?w=news&req=tab&q=%EC%9D%B8%EA%B3%B5%EC%A7%80%EB%8A%A5&cluster=y&viewio=i&repno=0&n=10&p=1&related_page=7&cluster_docid=260gm290LnTox0b2FE&DA=NTB',\n",
       " 'https://cp.news.search.daum.net/p/111043012',\n",
       " 'https://cp.news.search.daum.net/p/111279869',\n",
       " 'http://v.media.daum.net/v/20211001183902031?f=o',\n",
       " 'http://v.media.daum.net/v/20211001183902031',\n",
       " 'https://cp.news.search.daum.net/p/111210154',\n",
       " 'https://cp.news.search.daum.net/p/111234819',\n",
       " 'https://cp.news.search.daum.net/p/111287374',\n",
       " 'https://cp.news.search.daum.net/p/111237425',\n",
       " 'http://v.media.daum.net/v/20210930162611582?f=o',\n",
       " 'http://v.media.daum.net/v/20210930162611582',\n",
       " 'http://v.media.daum.net/v/20210928181901829?f=o',\n",
       " 'http://v.media.daum.net/v/20210928181901829',\n",
       " 'http://v.media.daum.net/v/20210922060503068?f=o',\n",
       " 'http://v.media.daum.net/v/20210922060503068',\n",
       " 'https://cp.news.search.daum.net/p/111164367',\n",
       " 'https://cp.news.search.daum.net/p/111237975',\n",
       " 'https://cp.news.search.daum.net/p/111254030',\n",
       " 'https://cp.news.search.daum.net/p/111250097',\n",
       " 'https://cp.news.search.daum.net/p/111093725',\n",
       " 'https://cp.news.search.daum.net/p/111237745',\n",
       " 'https://cp.news.search.daum.net/p/111229762',\n",
       " 'https://cp.news.search.daum.net/p/111178466',\n",
       " 'https://cp.news.search.daum.net/p/111265921',\n",
       " 'https://cp.news.search.daum.net/p/111068246',\n",
       " 'http://v.media.daum.net/v/20211001144003393?f=o',\n",
       " 'http://v.media.daum.net/v/20211001144003393',\n",
       " 'https://cp.news.search.daum.net/p/111267601',\n",
       " 'https://cp.news.search.daum.net/p/111274362',\n",
       " 'http://v.media.daum.net/v/20210906002422480?f=o',\n",
       " 'http://v.media.daum.net/v/20210906002422480',\n",
       " 'https://cp.news.search.daum.net/p/111262423',\n",
       " 'https://cp.news.search.daum.net/p/111152585',\n",
       " 'https://cp.news.search.daum.net/p/111249063',\n",
       " 'http://v.media.daum.net/v/20210930135444948?f=o',\n",
       " 'http://v.media.daum.net/v/20210930135444948',\n",
       " 'https://cp.news.search.daum.net/p/111252814',\n",
       " 'https://cp.news.search.daum.net/p/111208406',\n",
       " 'https://cp.news.search.daum.net/p/111280020',\n",
       " 'https://cp.news.search.daum.net/p/111039902',\n",
       " 'http://v.media.daum.net/v/20210928160905297?f=o',\n",
       " 'http://v.media.daum.net/v/20210928160905297',\n",
       " 'https://cp.news.search.daum.net/p/111275180',\n",
       " 'http://v.media.daum.net/v/20210923082410618?f=o',\n",
       " 'http://v.media.daum.net/v/20210923082410618',\n",
       " 'https://cp.news.search.daum.net/p/111253062',\n",
       " 'https://cp.news.search.daum.net/p/111174947',\n",
       " 'https://cp.news.search.daum.net/p/111067708',\n",
       " 'https://cp.news.search.daum.net/p/111043604']"
      ]
     },
     "execution_count": 45,
     "metadata": {},
     "output_type": "execute_result"
    }
   ],
   "source": [
    "urls"
   ]
  },
  {
   "cell_type": "code",
   "execution_count": 48,
   "metadata": {},
   "outputs": [
    {
     "ename": "IndexError",
     "evalue": "list index out of range",
     "output_type": "error",
     "traceback": [
      "\u001b[1;31m---------------------------------------------------------------------------\u001b[0m",
      "\u001b[1;31mIndexError\u001b[0m                                Traceback (most recent call last)",
      "\u001b[1;32m<ipython-input-48-971959b6d7d7>\u001b[0m in \u001b[0;36m<module>\u001b[1;34m\u001b[0m\n\u001b[0;32m      4\u001b[0m     \u001b[0mroot\u001b[0m \u001b[1;33m=\u001b[0m \u001b[0mlxml\u001b[0m\u001b[1;33m.\u001b[0m\u001b[0mhtml\u001b[0m\u001b[1;33m.\u001b[0m\u001b[0mfromstring\u001b[0m\u001b[1;33m(\u001b[0m\u001b[0mres\u001b[0m\u001b[1;33m.\u001b[0m\u001b[0mtext\u001b[0m\u001b[1;33m)\u001b[0m\u001b[1;33m\u001b[0m\u001b[1;33m\u001b[0m\u001b[0m\n\u001b[0;32m      5\u001b[0m     \u001b[0mbody\u001b[0m \u001b[1;33m=\u001b[0m \u001b[0mroot\u001b[0m\u001b[1;33m.\u001b[0m\u001b[0mcssselect\u001b[0m\u001b[1;33m(\u001b[0m\u001b[1;34m'section'\u001b[0m\u001b[1;33m)\u001b[0m\u001b[1;33m\u001b[0m\u001b[1;33m\u001b[0m\u001b[0m\n\u001b[1;32m----> 6\u001b[1;33m     \u001b[0mcontent\u001b[0m \u001b[1;33m=\u001b[0m \u001b[0mbody\u001b[0m\u001b[1;33m[\u001b[0m\u001b[1;36m0\u001b[0m\u001b[1;33m]\u001b[0m\u001b[1;33m.\u001b[0m\u001b[0mtext_content\u001b[0m\u001b[1;33m(\u001b[0m\u001b[1;33m)\u001b[0m\u001b[1;33m\u001b[0m\u001b[1;33m\u001b[0m\u001b[0m\n\u001b[0m\u001b[0;32m      7\u001b[0m     \u001b[0mcontent\u001b[0m \u001b[1;33m=\u001b[0m \u001b[0mcontent\u001b[0m\u001b[1;33m.\u001b[0m\u001b[0mstrip\u001b[0m\u001b[1;33m(\u001b[0m\u001b[1;33m)\u001b[0m\u001b[1;33m\u001b[0m\u001b[1;33m\u001b[0m\u001b[0m\n\u001b[0;32m      8\u001b[0m     \u001b[0mcontent\u001b[0m \u001b[1;33m=\u001b[0m \u001b[0mre\u001b[0m\u001b[1;33m.\u001b[0m\u001b[0msub\u001b[0m\u001b[1;33m(\u001b[0m\u001b[1;34mr'\\s+'\u001b[0m\u001b[1;33m,\u001b[0m \u001b[1;34m' '\u001b[0m\u001b[1;33m,\u001b[0m \u001b[0mcontent\u001b[0m\u001b[1;33m)\u001b[0m\u001b[1;33m\u001b[0m\u001b[1;33m\u001b[0m\u001b[0m\n",
      "\u001b[1;31mIndexError\u001b[0m: list index out of range"
     ]
    }
   ],
   "source": [
    "data = []\n",
    "for url in urls:\n",
    "    res = requests.get(url)\n",
    "    root = lxml.html.fromstring(res.text)\n",
    "    body = root.cssselect('section')\n",
    "    content = body[0].text_content()\n",
    "    content = content.strip()\n",
    "    content = re.sub(r'\\s+', ' ', content)\n",
    "    data.append((url, content))"
   ]
  },
  {
   "cell_type": "code",
   "execution_count": 11,
   "metadata": {},
   "outputs": [
    {
     "data": {
      "text/plain": [
       "[]"
      ]
     },
     "execution_count": 11,
     "metadata": {},
     "output_type": "execute_result"
    }
   ],
   "source": [
    "data"
   ]
  },
  {
   "cell_type": "code",
   "execution_count": 51,
   "metadata": {},
   "outputs": [],
   "source": [
    "pd.DataFrame(data, columns=['url', 'content']).to_csv('기사10페이지.csv')"
   ]
  },
  {
   "cell_type": "code",
   "execution_count": null,
   "metadata": {},
   "outputs": [],
   "source": []
  }
 ],
 "metadata": {
  "kernelspec": {
   "display_name": "Python 3",
   "language": "python",
   "name": "python3"
  },
  "language_info": {
   "codemirror_mode": {
    "name": "ipython",
    "version": 3
   },
   "file_extension": ".py",
   "mimetype": "text/x-python",
   "name": "python",
   "nbconvert_exporter": "python",
   "pygments_lexer": "ipython3",
   "version": "3.8.5"
  },
  "varInspector": {
   "cols": {
    "lenName": 16,
    "lenType": 16,
    "lenVar": 40
   },
   "kernels_config": {
    "python": {
     "delete_cmd_postfix": "",
     "delete_cmd_prefix": "del ",
     "library": "var_list.py",
     "varRefreshCmd": "print(var_dic_list())"
    },
    "r": {
     "delete_cmd_postfix": ") ",
     "delete_cmd_prefix": "rm(",
     "library": "var_list.r",
     "varRefreshCmd": "cat(var_dic_list()) "
    }
   },
   "types_to_exclude": [
    "module",
    "function",
    "builtin_function_or_method",
    "instance",
    "_Feature"
   ],
   "window_display": false
  }
 },
 "nbformat": 4,
 "nbformat_minor": 4
}
