{
 "cells": [
  {
   "cell_type": "code",
   "execution_count": 45,
   "metadata": {},
   "outputs": [
    {
     "data": {
      "text/html": [
       "<div>\n",
       "<style scoped>\n",
       "    .dataframe tbody tr th:only-of-type {\n",
       "        vertical-align: middle;\n",
       "    }\n",
       "\n",
       "    .dataframe tbody tr th {\n",
       "        vertical-align: top;\n",
       "    }\n",
       "\n",
       "    .dataframe thead th {\n",
       "        text-align: right;\n",
       "    }\n",
       "</style>\n",
       "<table border=\"1\" class=\"dataframe\">\n",
       "  <thead>\n",
       "    <tr style=\"text-align: right;\">\n",
       "      <th></th>\n",
       "      <th>review</th>\n",
       "      <th>sentiment</th>\n",
       "    </tr>\n",
       "  </thead>\n",
       "  <tbody>\n",
       "    <tr>\n",
       "      <th>0</th>\n",
       "      <td>A very, very, very slow-moving, aimless movie ...</td>\n",
       "      <td>0</td>\n",
       "    </tr>\n",
       "    <tr>\n",
       "      <th>1</th>\n",
       "      <td>Not sure who was more lost - the flat characte...</td>\n",
       "      <td>0</td>\n",
       "    </tr>\n",
       "    <tr>\n",
       "      <th>2</th>\n",
       "      <td>Attempting artiness with black &amp; white and cle...</td>\n",
       "      <td>0</td>\n",
       "    </tr>\n",
       "    <tr>\n",
       "      <th>3</th>\n",
       "      <td>Very little music or anything to speak of.</td>\n",
       "      <td>0</td>\n",
       "    </tr>\n",
       "    <tr>\n",
       "      <th>4</th>\n",
       "      <td>The best scene in the movie was when Gerardo i...</td>\n",
       "      <td>1</td>\n",
       "    </tr>\n",
       "  </tbody>\n",
       "</table>\n",
       "</div>"
      ],
      "text/plain": [
       "                                              review  sentiment\n",
       "0  A very, very, very slow-moving, aimless movie ...          0\n",
       "1  Not sure who was more lost - the flat characte...          0\n",
       "2  Attempting artiness with black & white and cle...          0\n",
       "3         Very little music or anything to speak of.          0\n",
       "4  The best scene in the movie was when Gerardo i...          1"
      ]
     },
     "execution_count": 45,
     "metadata": {},
     "output_type": "execute_result"
    }
   ],
   "source": [
    "import pandas as pd\n",
    "df = pd.read_csv('../dataset/imdb.zip')\n",
    "df.head()"
   ]
  },
  {
   "cell_type": "code",
   "execution_count": 46,
   "metadata": {},
   "outputs": [],
   "source": [
    "from sklearn.feature_extraction.text import TfidfVectorizer\n",
    "cv = TfidfVectorizer(max_features=2000, stop_words='english')\n",
    "m = cv.fit_transform(df.review)"
   ]
  },
  {
   "cell_type": "code",
   "execution_count": 47,
   "metadata": {},
   "outputs": [
    {
     "data": {
      "text/plain": [
       "(1000, 2000)"
      ]
     },
     "execution_count": 47,
     "metadata": {},
     "output_type": "execute_result"
    }
   ],
   "source": [
    "m.shape"
   ]
  },
  {
   "cell_type": "code",
   "execution_count": 48,
   "metadata": {},
   "outputs": [],
   "source": [
    "import tensorflow as tf"
   ]
  },
  {
   "cell_type": "code",
   "execution_count": 84,
   "metadata": {},
   "outputs": [],
   "source": [
    "model = tf.keras.Sequential()\n",
    "model.add(tf.keras.layers.Dense(128, input_shape=(2000,), activation='relu')) # 은닉층\n",
    "model.add(tf.keras.layers.Dense(1, activation='sigmoid')) # 출력층"
   ]
  },
  {
   "cell_type": "code",
   "execution_count": 85,
   "metadata": {},
   "outputs": [
    {
     "name": "stdout",
     "output_type": "stream",
     "text": [
      "Model: \"sequential_10\"\n",
      "_________________________________________________________________\n",
      "Layer (type)                 Output Shape              Param #   \n",
      "=================================================================\n",
      "dense_19 (Dense)             (None, 128)               256128    \n",
      "_________________________________________________________________\n",
      "dense_20 (Dense)             (None, 1)                 129       \n",
      "=================================================================\n",
      "Total params: 256,257\n",
      "Trainable params: 256,257\n",
      "Non-trainable params: 0\n",
      "_________________________________________________________________\n"
     ]
    }
   ],
   "source": [
    "model.summary()"
   ]
  },
  {
   "cell_type": "code",
   "execution_count": 86,
   "metadata": {},
   "outputs": [
    {
     "data": {
      "text/plain": [
       "256128"
      ]
     },
     "execution_count": 86,
     "metadata": {},
     "output_type": "execute_result"
    }
   ],
   "source": [
    "2001 * 128"
   ]
  },
  {
   "cell_type": "code",
   "execution_count": 87,
   "metadata": {},
   "outputs": [],
   "source": [
    "model.compile(\n",
    "    optimizer=tf.keras.optimizers.Adam(learning_rate=0.001),\n",
    "    loss='binary_crossentropy',\n",
    "    metrics=['accuracy']\n",
    ")"
   ]
  },
  {
   "cell_type": "code",
   "execution_count": 88,
   "metadata": {},
   "outputs": [],
   "source": [
    "result = model.fit(m.A, df['sentiment'].values, epochs=30, \n",
    "          batch_size=32, validation_split=0.2, verbose=0)"
   ]
  },
  {
   "cell_type": "code",
   "execution_count": 89,
   "metadata": {},
   "outputs": [
    {
     "data": {
      "text/plain": [
       "<matplotlib.legend.Legend at 0x1eeec6b5850>"
      ]
     },
     "execution_count": 89,
     "metadata": {},
     "output_type": "execute_result"
    },
    {
     "data": {
      "image/png": "[encoded data removed]",
      "text/plain": [
       "<Figure size 432x288 with 1 Axes>"
      ]
     },
     "metadata": {
      "needs_background": "light"
     },
     "output_type": "display_data"
    }
   ],
   "source": [
    "import matplotlib.pyplot as plt\n",
    "plt.plot(result.history['accuracy'], 'b-', label='accuracy')\n",
    "plt.plot(result.history['val_accuracy'], 'r--', label='val_accuracy')\n",
    "plt.legend()"
   ]
  },
  {
   "cell_type": "code",
   "execution_count": 90,
   "metadata": {},
   "outputs": [
    {
     "data": {
      "text/plain": [
       "<matplotlib.legend.Legend at 0x1eefbf62310>"
      ]
     },
     "execution_count": 90,
     "metadata": {},
     "output_type": "execute_result"
    },
    {
     "data": {
      "image/png": "[encoded data removed]",
      "text/plain": [
       "<Figure size 432x288 with 1 Axes>"
      ]
     },
     "metadata": {
      "needs_background": "light"
     },
     "output_type": "display_data"
    }
   ],
   "source": [
    "plt.plot(result.history['loss'], 'b-', label='loss')\n",
    "plt.plot(result.history['val_loss'], 'r--', label='val_loss')\n",
    "plt.legend()"
   ]
  },
  {
   "cell_type": "code",
   "execution_count": 91,
   "metadata": {},
   "outputs": [],
   "source": [
    "checkpoint = tf.keras.callbacks.ModelCheckpoint(filepath='model-{epoch:02d}', \n",
    "                                   monitor='val_loss',\n",
    "                                   save_best_only=True)"
   ]
  },
  {
   "cell_type": "code",
   "execution_count": 93,
   "metadata": {},
   "outputs": [
    {
     "name": "stdout",
     "output_type": "stream",
     "text": [
      "Epoch 1/30\n",
      "25/25 [==============================] - 0s 7ms/step - loss: 0.0209 - accuracy: 0.9937 - val_loss: 0.5254 - val_accuracy: 0.7950\n",
      "INFO:tensorflow:Assets written to: model-01\\assets\n",
      "Epoch 2/30\n",
      "25/25 [==============================] - 0s 10ms/step - loss: 0.0201 - accuracy: 0.9962 - val_loss: 0.5283 - val_accuracy: 0.7950\n",
      "Epoch 3/30\n",
      "25/25 [==============================] - 0s 8ms/step - loss: 0.0195 - accuracy: 0.9950 - val_loss: 0.5337 - val_accuracy: 0.7950\n",
      "Epoch 4/30\n",
      "25/25 [==============================] - 0s 7ms/step - loss: 0.0187 - accuracy: 0.9962 - val_loss: 0.5361 - val_accuracy: 0.7950\n",
      "Epoch 5/30\n",
      "25/25 [==============================] - 0s 7ms/step - loss: 0.0179 - accuracy: 0.9962 - val_loss: 0.5393 - val_accuracy: 0.7950\n",
      "Epoch 6/30\n",
      "25/25 [==============================] - 0s 11ms/step - loss: 0.0175 - accuracy: 0.9962 - val_loss: 0.5476 - val_accuracy: 0.7950\n",
      "Epoch 7/30\n",
      "25/25 [==============================] - 0s 6ms/step - loss: 0.0167 - accuracy: 0.9962 - val_loss: 0.5433 - val_accuracy: 0.7900\n",
      "Epoch 8/30\n",
      "25/25 [==============================] - 0s 5ms/step - loss: 0.0164 - accuracy: 0.9962 - val_loss: 0.5522 - val_accuracy: 0.7950\n",
      "Epoch 9/30\n",
      "25/25 [==============================] - 0s 5ms/step - loss: 0.0160 - accuracy: 0.9950 - val_loss: 0.5638 - val_accuracy: 0.7950\n",
      "Epoch 10/30\n",
      "25/25 [==============================] - 0s 5ms/step - loss: 0.0157 - accuracy: 0.9950 - val_loss: 0.5707 - val_accuracy: 0.7900\n",
      "Epoch 11/30\n",
      "25/25 [==============================] - 0s 5ms/step - loss: 0.0153 - accuracy: 0.9962 - val_loss: 0.5572 - val_accuracy: 0.7950\n",
      "Epoch 12/30\n",
      "25/25 [==============================] - 0s 5ms/step - loss: 0.0149 - accuracy: 0.9962 - val_loss: 0.5749 - val_accuracy: 0.8000\n",
      "Epoch 13/30\n",
      "25/25 [==============================] - 0s 5ms/step - loss: 0.0142 - accuracy: 0.9962 - val_loss: 0.5679 - val_accuracy: 0.8000\n",
      "Epoch 14/30\n",
      "25/25 [==============================] - 0s 5ms/step - loss: 0.0139 - accuracy: 0.9962 - val_loss: 0.5791 - val_accuracy: 0.7900\n",
      "Epoch 15/30\n",
      "25/25 [==============================] - 0s 5ms/step - loss: 0.0136 - accuracy: 0.9962 - val_loss: 0.5864 - val_accuracy: 0.7900\n",
      "Epoch 16/30\n",
      "25/25 [==============================] - 0s 5ms/step - loss: 0.0136 - accuracy: 0.9950 - val_loss: 0.5773 - val_accuracy: 0.7900\n",
      "Epoch 17/30\n",
      "25/25 [==============================] - 0s 5ms/step - loss: 0.0131 - accuracy: 0.9950 - val_loss: 0.5871 - val_accuracy: 0.7900\n",
      "Epoch 18/30\n",
      "25/25 [==============================] - 0s 5ms/step - loss: 0.0128 - accuracy: 0.9962 - val_loss: 0.5908 - val_accuracy: 0.7900\n",
      "Epoch 19/30\n",
      "25/25 [==============================] - 0s 6ms/step - loss: 0.0124 - accuracy: 0.9962 - val_loss: 0.5921 - val_accuracy: 0.7900\n",
      "Epoch 20/30\n",
      "25/25 [==============================] - 0s 5ms/step - loss: 0.0122 - accuracy: 0.9950 - val_loss: 0.6029 - val_accuracy: 0.7950\n",
      "Epoch 21/30\n",
      "25/25 [==============================] - 0s 6ms/step - loss: 0.0120 - accuracy: 0.9962 - val_loss: 0.6116 - val_accuracy: 0.7750\n",
      "Epoch 22/30\n",
      "25/25 [==============================] - 0s 5ms/step - loss: 0.0117 - accuracy: 0.9950 - val_loss: 0.6067 - val_accuracy: 0.7900\n",
      "Epoch 23/30\n",
      "25/25 [==============================] - 0s 4ms/step - loss: 0.0117 - accuracy: 0.9962 - val_loss: 0.6069 - val_accuracy: 0.7900\n",
      "Epoch 24/30\n",
      "25/25 [==============================] - 0s 5ms/step - loss: 0.0112 - accuracy: 0.9962 - val_loss: 0.6200 - val_accuracy: 0.7800\n",
      "Epoch 25/30\n",
      "25/25 [==============================] - 0s 5ms/step - loss: 0.0110 - accuracy: 0.9962 - val_loss: 0.6220 - val_accuracy: 0.7800\n",
      "Epoch 26/30\n",
      "25/25 [==============================] - 0s 5ms/step - loss: 0.0111 - accuracy: 0.9950 - val_loss: 0.6285 - val_accuracy: 0.7750\n",
      "Epoch 27/30\n",
      "25/25 [==============================] - 0s 5ms/step - loss: 0.0107 - accuracy: 0.9962 - val_loss: 0.6252 - val_accuracy: 0.7850\n",
      "Epoch 28/30\n",
      "25/25 [==============================] - 0s 5ms/step - loss: 0.0107 - accuracy: 0.9937 - val_loss: 0.6255 - val_accuracy: 0.7850\n",
      "Epoch 29/30\n",
      "25/25 [==============================] - 0s 5ms/step - loss: 0.0104 - accuracy: 0.9950 - val_loss: 0.6355 - val_accuracy: 0.7800\n",
      "Epoch 30/30\n",
      "25/25 [==============================] - 0s 5ms/step - loss: 0.0104 - accuracy: 0.9950 - val_loss: 0.6411 - val_accuracy: 0.7750\n"
     ]
    }
   ],
   "source": [
    "result = model.fit(m.A, df['sentiment'].values, epochs=30, batch_size=32, \n",
    "                   validation_split=0.2, callbacks=[checkpoint])"
   ]
  },
  {
   "cell_type": "code",
   "execution_count": 97,
   "metadata": {},
   "outputs": [],
   "source": [
    "import glob\n",
    "name = sorted(glob.glob('model-*'))[-1]"
   ]
  },
  {
   "cell_type": "code",
   "execution_count": 98,
   "metadata": {},
   "outputs": [
    {
     "data": {
      "text/plain": [
       "<tensorflow.python.keras.engine.sequential.Sequential at 0x1ee801f2a90>"
      ]
     },
     "execution_count": 98,
     "metadata": {},
     "output_type": "execute_result"
    }
   ],
   "source": [
    "tf.keras.models.load_model(name)"
   ]
  },
  {
   "cell_type": "code",
   "execution_count": null,
   "metadata": {},
   "outputs": [],
   "source": []
  }
 ],
 "metadata": {
  "kernelspec": {
   "display_name": "Python 3",
   "language": "python",
   "name": "python3"
  },
  "language_info": {
   "codemirror_mode": {
    "name": "ipython",
    "version": 3
   },
   "file_extension": ".py",
   "mimetype": "text/x-python",
   "name": "python",
   "nbconvert_exporter": "python",
   "pygments_lexer": "ipython3",
   "version": "3.8.5"
  }
 },
 "nbformat": 4,
 "nbformat_minor": 4
}
