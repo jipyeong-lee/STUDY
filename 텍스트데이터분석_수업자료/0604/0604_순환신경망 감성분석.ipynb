{
 "cells": [
  {
   "cell_type": "code",
   "execution_count": 1,
   "metadata": {},
   "outputs": [],
   "source": [
    "import pandas as pd\n",
    "df = pd.read_csv('../dataset/imdb.zip')"
   ]
  },
  {
   "cell_type": "code",
   "execution_count": 2,
   "metadata": {},
   "outputs": [],
   "source": [
    "import joblib\n",
    "tk = joblib.load('../0528/tokenizer.pkl')"
   ]
  },
  {
   "cell_type": "code",
   "execution_count": 3,
   "metadata": {},
   "outputs": [],
   "source": [
    "from sklearn.model_selection import train_test_split"
   ]
  },
  {
   "cell_type": "code",
   "execution_count": 4,
   "metadata": {},
   "outputs": [],
   "source": [
    "review_train, review_test, y_train, y_test = train_test_split(\n",
    "    df['review'], df['sentiment'], test_size=0.2, random_state=42)"
   ]
  },
  {
   "cell_type": "code",
   "execution_count": 5,
   "metadata": {},
   "outputs": [],
   "source": [
    "seqs = tk.texts_to_sequences(review_train)"
   ]
  },
  {
   "cell_type": "code",
   "execution_count": 6,
   "metadata": {},
   "outputs": [
    {
     "data": {
      "text/plain": [
       "[9, 6, 33, 1258, 214]"
      ]
     },
     "execution_count": 6,
     "metadata": {},
     "output_type": "execute_result"
    }
   ],
   "source": [
    "seqs[0]"
   ]
  },
  {
   "cell_type": "code",
   "execution_count": 7,
   "metadata": {},
   "outputs": [],
   "source": [
    "import tensorflow as tf"
   ]
  },
  {
   "cell_type": "code",
   "execution_count": 8,
   "metadata": {},
   "outputs": [],
   "source": [
    "pads = tf.keras.preprocessing.sequence.pad_sequences(seqs, maxlen=None, padding='pre', truncating='pre')\n",
    "# padding = 'pre'로 해야하는 이유 : 뒤에 해주면 문장은 끝나고 0이 입력이 되니까 조금씩 정보 손실이 됨\n",
    "# 학습효율 떨어짐"
   ]
  },
  {
   "cell_type": "code",
   "execution_count": 9,
   "metadata": {},
   "outputs": [],
   "source": [
    "NUM_WORDS = tk.num_words + 1"
   ]
  },
  {
   "cell_type": "code",
   "execution_count": 10,
   "metadata": {},
   "outputs": [],
   "source": [
    "#!pip install -U numpy==1.18.5"
   ]
  },
  {
   "cell_type": "markdown",
   "metadata": {},
   "source": [
    "### 순방향"
   ]
  },
  {
   "cell_type": "code",
   "execution_count": 11,
   "metadata": {},
   "outputs": [],
   "source": [
    "model = tf.keras.Sequential([\n",
    "    tf.keras.layers.Embedding(NUM_WORDS, 8, mask_zero=True),\n",
    "    tf.keras.layers.LSTM(8),\n",
    "    tf.keras.layers.Dense(1, activation='sigmoid')\n",
    "])"
   ]
  },
  {
   "cell_type": "code",
   "execution_count": 12,
   "metadata": {},
   "outputs": [
    {
     "name": "stdout",
     "output_type": "stream",
     "text": [
      "Model: \"sequential\"\n",
      "_________________________________________________________________\n",
      "Layer (type)                 Output Shape              Param #   \n",
      "=================================================================\n",
      "embedding (Embedding)        (None, None, 8)           16008     \n",
      "_________________________________________________________________\n",
      "lstm (LSTM)                  (None, 8)                 544       \n",
      "_________________________________________________________________\n",
      "dense (Dense)                (None, 1)                 9         \n",
      "=================================================================\n",
      "Total params: 16,561\n",
      "Trainable params: 16,561\n",
      "Non-trainable params: 0\n",
      "_________________________________________________________________\n"
     ]
    }
   ],
   "source": [
    "model.summary()"
   ]
  },
  {
   "cell_type": "code",
   "execution_count": 13,
   "metadata": {},
   "outputs": [],
   "source": [
    "model.compile(loss='binary_crossentropy', optimizer='adam', metrics=['accuracy'])"
   ]
  },
  {
   "cell_type": "code",
   "execution_count": 14,
   "metadata": {},
   "outputs": [
    {
     "name": "stdout",
     "output_type": "stream",
     "text": [
      "Epoch 1/10\n",
      "25/25 [==============================] - 5s 81ms/step - loss: 0.6932 - accuracy: 0.5119\n",
      "Epoch 2/10\n",
      "25/25 [==============================] - 2s 81ms/step - loss: 0.6894 - accuracy: 0.5696\n",
      "Epoch 3/10\n",
      "25/25 [==============================] - 2s 76ms/step - loss: 0.6820 - accuracy: 0.7421\n",
      "Epoch 4/10\n",
      "25/25 [==============================] - 2s 78ms/step - loss: 0.6582 - accuracy: 0.8354\n",
      "Epoch 5/10\n",
      "25/25 [==============================] - 2s 82ms/step - loss: 0.5605 - accuracy: 0.8660\n",
      "Epoch 6/10\n",
      "25/25 [==============================] - 2s 84ms/step - loss: 0.4298 - accuracy: 0.8844\n",
      "Epoch 7/10\n",
      "25/25 [==============================] - 2s 77ms/step - loss: 0.3486 - accuracy: 0.9132\n",
      "Epoch 8/10\n",
      "25/25 [==============================] - 2s 79ms/step - loss: 0.3101 - accuracy: 0.9344\n",
      "Epoch 9/10\n",
      "25/25 [==============================] - 2s 76ms/step - loss: 0.2460 - accuracy: 0.9587\n",
      "Epoch 10/10\n",
      "25/25 [==============================] - 2s 79ms/step - loss: 0.1871 - accuracy: 0.9787\n"
     ]
    },
    {
     "data": {
      "text/plain": [
       "<tensorflow.python.keras.callbacks.History at 0x1ec1fc18cd0>"
      ]
     },
     "execution_count": 14,
     "metadata": {},
     "output_type": "execute_result"
    }
   ],
   "source": [
    "model.fit(pads, y_train.values, epochs=10)"
   ]
  },
  {
   "cell_type": "markdown",
   "metadata": {},
   "source": [
    "### 역방향"
   ]
  },
  {
   "cell_type": "code",
   "execution_count": 18,
   "metadata": {},
   "outputs": [],
   "source": [
    "pads = tf.keras.preprocessing.sequence.pad_sequences(seqs, maxlen=None, \n",
    "                                                     padding='post', truncating='pre')\n"
   ]
  },
  {
   "cell_type": "code",
   "execution_count": 19,
   "metadata": {},
   "outputs": [],
   "source": [
    "model = tf.keras.Sequential([\n",
    "    tf.keras.layers.Embedding(NUM_WORDS, 8, mask_zero=True),\n",
    "    tf.keras.layers.LSTM(8, go_backwards=True),\n",
    "    tf.keras.layers.Dense(1, activation='sigmoid')\n",
    "])"
   ]
  },
  {
   "cell_type": "code",
   "execution_count": 20,
   "metadata": {},
   "outputs": [],
   "source": [
    "model.compile(loss='binary_crossentropy', optimizer='adam', metrics=['accuracy'])"
   ]
  },
  {
   "cell_type": "code",
   "execution_count": 21,
   "metadata": {},
   "outputs": [
    {
     "name": "stdout",
     "output_type": "stream",
     "text": [
      "Epoch 1/10\n",
      "25/25 [==============================] - 7s 7ms/step - loss: 0.6929 - accuracy: 0.5243\n",
      "Epoch 2/10\n",
      "25/25 [==============================] - 0s 7ms/step - loss: 0.6895 - accuracy: 0.6476\n",
      "Epoch 3/10\n",
      "25/25 [==============================] - 0s 7ms/step - loss: 0.6822 - accuracy: 0.7191\n",
      "Epoch 4/10\n",
      "25/25 [==============================] - 0s 7ms/step - loss: 0.6603 - accuracy: 0.7331\n",
      "Epoch 5/10\n",
      "25/25 [==============================] - 0s 7ms/step - loss: 0.6060 - accuracy: 0.8462\n",
      "Epoch 6/10\n",
      "25/25 [==============================] - 0s 8ms/step - loss: 0.5348 - accuracy: 0.8868\n",
      "Epoch 7/10\n",
      "25/25 [==============================] - 0s 7ms/step - loss: 0.4300 - accuracy: 0.9269\n",
      "Epoch 8/10\n",
      "25/25 [==============================] - 0s 8ms/step - loss: 0.3311 - accuracy: 0.9514\n",
      "Epoch 9/10\n",
      "25/25 [==============================] - 0s 7ms/step - loss: 0.2900 - accuracy: 0.9459\n",
      "Epoch 10/10\n",
      "25/25 [==============================] - 0s 8ms/step - loss: 0.2634 - accuracy: 0.9594\n"
     ]
    },
    {
     "data": {
      "text/plain": [
       "<tensorflow.python.keras.callbacks.History at 0x1ec3d077df0>"
      ]
     },
     "execution_count": 21,
     "metadata": {},
     "output_type": "execute_result"
    }
   ],
   "source": [
    "model.fit(pads, y_train.values, epochs=10)"
   ]
  },
  {
   "cell_type": "markdown",
   "metadata": {},
   "source": [
    "### 양방향"
   ]
  },
  {
   "cell_type": "code",
   "execution_count": 22,
   "metadata": {},
   "outputs": [],
   "source": [
    "model = tf.keras.Sequential([\n",
    "    tf.keras.layers.Embedding(NUM_WORDS, 8, mask_zero=True),\n",
    "    tf.keras.layers.Bidirectional(tf.keras.layers.LSTM(8)),\n",
    "    tf.keras.layers.Dense(1, activation='sigmoid')\n",
    "])"
   ]
  },
  {
   "cell_type": "code",
   "execution_count": 23,
   "metadata": {},
   "outputs": [
    {
     "name": "stdout",
     "output_type": "stream",
     "text": [
      "Model: \"sequential_3\"\n",
      "_________________________________________________________________\n",
      "Layer (type)                 Output Shape              Param #   \n",
      "=================================================================\n",
      "embedding_3 (Embedding)      (None, None, 8)           16008     \n",
      "_________________________________________________________________\n",
      "bidirectional (Bidirectional (None, 16)                1088      \n",
      "_________________________________________________________________\n",
      "dense_3 (Dense)              (None, 1)                 17        \n",
      "=================================================================\n",
      "Total params: 17,113\n",
      "Trainable params: 17,113\n",
      "Non-trainable params: 0\n",
      "_________________________________________________________________\n"
     ]
    }
   ],
   "source": [
    "model.summary()"
   ]
  },
  {
   "cell_type": "code",
   "execution_count": 24,
   "metadata": {},
   "outputs": [],
   "source": [
    "model.compile(loss='binary_crossentropy', optimizer='adam', metrics=['accuracy'])"
   ]
  },
  {
   "cell_type": "code",
   "execution_count": 25,
   "metadata": {},
   "outputs": [
    {
     "name": "stdout",
     "output_type": "stream",
     "text": [
      "Epoch 1/10\n",
      "25/25 [==============================] - 5s 12ms/step - loss: 0.6926 - accuracy: 0.5302\n",
      "Epoch 2/10\n",
      "25/25 [==============================] - 0s 12ms/step - loss: 0.6889 - accuracy: 0.6871\n",
      "Epoch 3/10\n",
      "25/25 [==============================] - 0s 12ms/step - loss: 0.6803 - accuracy: 0.7888\n",
      "Epoch 4/10\n",
      "25/25 [==============================] - 0s 12ms/step - loss: 0.6608 - accuracy: 0.7932\n",
      "Epoch 5/10\n",
      "25/25 [==============================] - 0s 12ms/step - loss: 0.5997 - accuracy: 0.8045\n",
      "Epoch 6/10\n",
      "25/25 [==============================] - 0s 12ms/step - loss: 0.4616 - accuracy: 0.8826\n",
      "Epoch 7/10\n",
      "25/25 [==============================] - 0s 11ms/step - loss: 0.3139 - accuracy: 0.9323\n",
      "Epoch 8/10\n",
      "25/25 [==============================] - 0s 12ms/step - loss: 0.2179 - accuracy: 0.9562\n",
      "Epoch 9/10\n",
      "25/25 [==============================] - 0s 12ms/step - loss: 0.1687 - accuracy: 0.9745\n",
      "Epoch 10/10\n",
      "25/25 [==============================] - 0s 12ms/step - loss: 0.1381 - accuracy: 0.9818\n"
     ]
    },
    {
     "data": {
      "text/plain": [
       "<tensorflow.python.keras.callbacks.History at 0x1ec5b556ac0>"
      ]
     },
     "execution_count": 25,
     "metadata": {},
     "output_type": "execute_result"
    }
   ],
   "source": [
    "model.fit(pads, y_train.values, epochs=10)"
   ]
  },
  {
   "cell_type": "code",
   "execution_count": null,
   "metadata": {},
   "outputs": [],
   "source": []
  }
 ],
 "metadata": {
  "kernelspec": {
   "display_name": "Python 3",
   "language": "python",
   "name": "python3"
  },
  "language_info": {
   "codemirror_mode": {
    "name": "ipython",
    "version": 3
   },
   "file_extension": ".py",
   "mimetype": "text/x-python",
   "name": "python",
   "nbconvert_exporter": "python",
   "pygments_lexer": "ipython3",
   "version": "3.8.5"
  }
 },
 "nbformat": 4,
 "nbformat_minor": 4
}
