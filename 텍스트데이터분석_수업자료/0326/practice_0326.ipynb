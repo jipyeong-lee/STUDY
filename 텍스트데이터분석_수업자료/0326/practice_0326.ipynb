{
 "cells": [
  {
   "cell_type": "code",
   "execution_count": 3,
   "metadata": {},
   "outputs": [],
   "source": [
    "from selenium.webdriver import Chrome"
   ]
  },
  {
   "cell_type": "code",
   "execution_count": 4,
   "metadata": {},
   "outputs": [],
   "source": [
    "browser = Chrome()"
   ]
  },
  {
   "cell_type": "code",
   "execution_count": 5,
   "metadata": {},
   "outputs": [],
   "source": [
    "browser.get('https://naver.com')"
   ]
  },
  {
   "cell_type": "code",
   "execution_count": 6,
   "metadata": {},
   "outputs": [],
   "source": [
    "url = 'https://www.tripadvisor.co.kr/Restaurant_Review-g641718-d9041949-Reviews-Odeng_Sikdang-Uijeongbu_Gyeonggi_do.html'"
   ]
  },
  {
   "cell_type": "code",
   "execution_count": 7,
   "metadata": {},
   "outputs": [],
   "source": [
    "import requests\n",
    "import lxml.html"
   ]
  },
  {
   "cell_type": "code",
   "execution_count": 8,
   "metadata": {},
   "outputs": [],
   "source": [
    "res = requests.get(url)"
   ]
  },
  {
   "cell_type": "code",
   "execution_count": 9,
   "metadata": {},
   "outputs": [],
   "source": [
    "root = lxml.html.fromstring(res.text)"
   ]
  },
  {
   "cell_type": "code",
   "execution_count": 10,
   "metadata": {},
   "outputs": [
    {
     "name": "stdout",
     "output_type": "stream",
     "text": [
      "거이 줄을 안서는날이없어요\n",
      "평일 애매한 시간 아니면 매번 줄서이뜸\n",
      "\n",
      "한두번은 먹을...만한데 서비스면에서는 그냥저냥이라는~더 보기\n",
      "15년전부터 가던식당인데 아침일찍 주인장할머님이 몇테이블 조리해주시면서 이야기해주...셔서 좋았는데 요즘에는 색깔없이 흔한식당이 되는것같아서 아쉽습니다. 시대변화는 어쩔수없지만 앞으로는 부대찌개를 위해서 멀리까지 아침일찍 찾아가기는 어려울것같아요.더 보기\n",
      "만화 식객에도 나온 맛집이라서 찾아갓어요. 허름한 노포?느낌이 살짝나는 곳이에요.... 점심에 사람이 너무 많아서 정신없지만 기다린만큼 값어치를 하는 깔끔한맛이에요 ^^~더 보기\n",
      "의정부 부대찌개골목 오뎅식당\n",
      "일욜 아침에 의정부 제일시장에 왔다가\n",
      "들렀어요\n",
      "부대찌...개 맛나요\n",
      "소주랑 아침에 먹었어요더 보기\n",
      "인천공항점에서 처음 먹어보고 맛이 괜찮아서 직접 찾아가봤는데, 부대찌개의 원조라고... 해서 기대를 했는데 역시나 맛있었어요. 근데 제 입맛엔 조금 짰네요. 같이 나오는 반찬들도 맛이 좋은데 조금 아쉬운 부분이예요.더 보기\n",
      "의정부 부대찌개에 시작은 바로 이집에서 였지요 원래 부대볶음 스타일 이었지만 국물...을 넣어서 찌개로 바뀌었지요 이제는 주변식당들도 다 고만 고만 하지만 그래도 원조집은 여기입니다. 그런데 서비스는 좋지 않습니다.더 보기\n",
      "가장 먼저 부대찌개를 시작한 집으로 의정부 사람이라 줄이 길때는 굳이 기다려 먹지... 않지만 한가하면 갑니다. 본점 보다는 깔끔한 신세계백화점 안 분점으로 갈때가 많습니다. 접객은 별로 친절한 편은 아니나 끝맛이 깔끔한 육수 맛이 좋습니다.더 보기\n",
      "개인적으로 부대찌개는 맛없기 힘든 음식이라고 생각하는데 이곳은 국물에 깊은맛도 없...고 일반 부대찌개집 보다 별로였어요\n",
      "대신 고기랑 햄 종류는 맛있더라구요더 보기\n",
      "의정부에 있는 부대찌개 가게 중 제가 제일 좋아하는 곳이에요. 이 가게가 신세계 ...백화점 의정부점에도 입점되었던데 너무 맛있어요더 보기\n",
      "맛은 무난한 편입니다.\n",
      "하지만 다른 가게들에 비해 복잡하고 꼭 이곳에 아야할 매리...트를 못느낍니다.\n",
      "웨이팅이 길거나 복잡한거 싫어하시는 분들은 주변 가게로 가셔도 크게 다르지 않습니다더 보기\n"
     ]
    }
   ],
   "source": [
    "for review in root.cssselect('.partial_entry'):\n",
    "    print(review.text_content())"
   ]
  },
  {
   "cell_type": "code",
   "execution_count": 11,
   "metadata": {},
   "outputs": [],
   "source": [
    "# 더보기 처리해주기\n",
    "from selenium.webdriver import Chrome"
   ]
  },
  {
   "cell_type": "code",
   "execution_count": 12,
   "metadata": {},
   "outputs": [],
   "source": [
    "browser = Chrome()"
   ]
  },
  {
   "cell_type": "code",
   "execution_count": 18,
   "metadata": {},
   "outputs": [],
   "source": [
    "browser.get(url)"
   ]
  },
  {
   "cell_type": "code",
   "execution_count": 19,
   "metadata": {},
   "outputs": [],
   "source": [
    "more_links = browser.find_elements_by_css_selector('.taLnk.ulBlueLinks')"
   ]
  },
  {
   "cell_type": "code",
   "execution_count": 20,
   "metadata": {},
   "outputs": [],
   "source": [
    "more = more_links[0]"
   ]
  },
  {
   "cell_type": "code",
   "execution_count": 21,
   "metadata": {},
   "outputs": [],
   "source": [
    "more.click()"
   ]
  },
  {
   "cell_type": "code",
   "execution_count": 22,
   "metadata": {},
   "outputs": [
    {
     "name": "stdout",
     "output_type": "stream",
     "text": [
      "거이 줄을 안서는날이없어요\n",
      "평일 애매한 시간 아니면 매번 줄서이뜸\n",
      "\n",
      "한두번은 먹을만한데 서비스면에서는 그냥저냥이라는~\n",
      "15년전부터 가던식당인데 아침일찍 주인장할머님이 몇테이블 조리해주시면서 이야기해주셔서 좋았는데 요즘에는 색깔없이 흔한식당이 되는것같아서 아쉽습니다. 시대변화는 어쩔수없지만 앞으로는 부대찌개를 위해서 멀리까지 아침일찍 찾아가기는 어려울것같아요.\n",
      "만화 식객에도 나온 맛집이라서 찾아갓어요. 허름한 노포?느낌이 살짝나는 곳이에요. 점심에 사람이 너무 많아서 정신없지만 기다린만큼 값어치를 하는 깔끔한맛이에요 ^^~\n",
      "의정부 부대찌개골목 오뎅식당\n",
      "일욜 아침에 의정부 제일시장에 왔다가\n",
      "들렀어요\n",
      "부대찌개 맛나요\n",
      "소주랑 아침에 먹었어요\n",
      "인천공항점에서 처음 먹어보고 맛이 괜찮아서 직접 찾아가봤는데, 부대찌개의 원조라고 해서 기대를 했는데 역시나 맛있었어요. 근데 제 입맛엔 조금 짰네요. 같이 나오는 반찬들도 맛이 좋은데 조금 아쉬운 부분이예요.\n",
      "의정부 부대찌개에 시작은 바로 이집에서 였지요 원래 부대볶음 스타일 이었지만 국물을 넣어서 찌개로 바뀌었지요 이제는 주변식당들도 다 고만 고만 하지만 그래도 원조집은 여기입니다. 그런데 서비스는 좋지 않습니다.\n",
      "가장 먼저 부대찌개를 시작한 집으로 의정부 사람이라 줄이 길때는 굳이 기다려 먹지 않지만 한가하면 갑니다. 본점 보다는 깔끔한 신세계백화점 안 분점으로 갈때가 많습니다. 접객은 별로 친절한 편은 아니나 끝맛이 깔끔한 육수 맛이 좋습니다.\n",
      "개인적으로 부대찌개는 맛없기 힘든 음식이라고 생각하는데 이곳은 국물에 깊은맛도 없고 일반 부대찌개집 보다 별로였어요\n",
      "대신 고기랑 햄 종류는 맛있더라구요\n",
      "의정부에 있는 부대찌개 가게 중 제가 제일 좋아하는 곳이에요. 이 가게가 신세계 백화점 의정부점에도 입점되었던데 너무 맛있어요\n",
      "맛은 무난한 편입니다.\n",
      "하지만 다른 가게들에 비해 복잡하고 꼭 이곳에 아야할 매리트를 못느낍니다.\n",
      "웨이팅이 길거나 복잡한거 싫어하시는 분들은 주변 가게로 가셔도 크게 다르지 않습니다\n"
     ]
    }
   ],
   "source": [
    "for review in browser.find_elements_by_css_selector('.partial_entry'):\n",
    "    print(review.text)"
   ]
  },
  {
   "cell_type": "code",
   "execution_count": 23,
   "metadata": {},
   "outputs": [],
   "source": [
    "from kiwipiepy import Kiwi"
   ]
  },
  {
   "cell_type": "code",
   "execution_count": 24,
   "metadata": {},
   "outputs": [],
   "source": [
    "kiwi = Kiwi()"
   ]
  },
  {
   "cell_type": "code",
   "execution_count": 25,
   "metadata": {},
   "outputs": [
    {
     "data": {
      "text/plain": [
       "0"
      ]
     },
     "execution_count": 25,
     "metadata": {},
     "output_type": "execute_result"
    }
   ],
   "source": [
    "kiwi.prepare()"
   ]
  },
  {
   "cell_type": "code",
   "execution_count": 26,
   "metadata": {},
   "outputs": [],
   "source": [
    "text = '오늘은 자연어 처리를 배우기 좋은 날이다. 자연어 처리는 재미있다.'"
   ]
  },
  {
   "cell_type": "code",
   "execution_count": 27,
   "metadata": {},
   "outputs": [],
   "source": [
    "result = kiwi.analyze(text)"
   ]
  },
  {
   "cell_type": "code",
   "execution_count": 32,
   "metadata": {},
   "outputs": [
    {
     "data": {
      "text/plain": [
       "[('오늘', 'NNG', 0, 2),\n",
       " ('은', 'JX', 2, 1),\n",
       " ('자연어', 'NNP', 4, 3),\n",
       " ('처리', 'NNG', 8, 2),\n",
       " ('를', 'JKO', 10, 1),\n",
       " ('배우', 'VV', 12, 2),\n",
       " ('기', 'ETN', 14, 1),\n",
       " ('좋', 'VA', 16, 1),\n",
       " ('은', 'ETM', 17, 1),\n",
       " ('날', 'NNG', 19, 1),\n",
       " ('이', 'VCP', 20, 1),\n",
       " ('다', 'EF', 21, 1),\n",
       " ('.', 'SF', 22, 1),\n",
       " ('자연어', 'NNP', 24, 3),\n",
       " ('처리', 'NNG', 28, 2),\n",
       " ('는', 'JX', 30, 1),\n",
       " ('재미있', 'VA', 32, 3),\n",
       " ('다', 'EF', 35, 1),\n",
       " ('.', 'SF', 36, 1)]"
      ]
     },
     "execution_count": 32,
     "metadata": {},
     "output_type": "execute_result"
    }
   ],
   "source": [
    "result[0][0]"
   ]
  },
  {
   "cell_type": "code",
   "execution_count": 33,
   "metadata": {},
   "outputs": [
    {
     "name": "stdout",
     "output_type": "stream",
     "text": [
      "오늘\n",
      "자연어\n",
      "처리\n",
      "날\n",
      "자연어\n",
      "처리\n"
     ]
    }
   ],
   "source": [
    "for token, pos, _, _ in result[0][0]:\n",
    "    if pos.startswith('N'):\n",
    "        print(token)"
   ]
  },
  {
   "cell_type": "code",
   "execution_count": 34,
   "metadata": {},
   "outputs": [],
   "source": [
    "def extract_noun(text):\n",
    "    nouns = []\n",
    "    result = kiwi.analyze(text)\n",
    "    for token, pos, _, _ in result[0][0]:\n",
    "        if pos[0] in 'NV':\n",
    "            yield token"
   ]
  },
  {
   "cell_type": "code",
   "execution_count": 35,
   "metadata": {},
   "outputs": [
    {
     "data": {
      "text/plain": [
       "['어제', '홍차', '마시', '오늘', '커피', '마시']"
      ]
     },
     "execution_count": 35,
     "metadata": {},
     "output_type": "execute_result"
    }
   ],
   "source": [
    "list(extract_noun('어제는 홍차를 마시고, 오늘은 커피를 마셨다.'))"
   ]
  },
  {
   "cell_type": "code",
   "execution_count": 36,
   "metadata": {},
   "outputs": [],
   "source": [
    "import stanza"
   ]
  },
  {
   "cell_type": "code",
   "execution_count": 37,
   "metadata": {},
   "outputs": [
    {
     "name": "stderr",
     "output_type": "stream",
     "text": [
      "2021-03-28 06:17:58 INFO: Loading these models for language: ko (Korean):\n",
      "=======================\n",
      "| Processor | Package |\n",
      "-----------------------\n",
      "| tokenize  | kaist   |\n",
      "| pos       | kaist   |\n",
      "| lemma     | kaist   |\n",
      "| depparse  | kaist   |\n",
      "=======================\n",
      "\n",
      "2021-03-28 06:17:59 INFO: Use device: gpu\n",
      "2021-03-28 06:17:59 INFO: Loading: tokenize\n",
      "2021-03-28 06:18:01 INFO: Loading: pos\n",
      "2021-03-28 06:18:02 INFO: Loading: lemma\n",
      "2021-03-28 06:18:02 INFO: Loading: depparse\n",
      "2021-03-28 06:18:02 INFO: Done loading processors!\n"
     ]
    }
   ],
   "source": [
    "nlp = stanza.Pipeline('ko')"
   ]
  },
  {
   "cell_type": "code",
   "execution_count": 38,
   "metadata": {},
   "outputs": [],
   "source": [
    "text = '지금은 일요일 오전 여섯시이다. 매우 졸린 상태이다.'"
   ]
  },
  {
   "cell_type": "code",
   "execution_count": 39,
   "metadata": {},
   "outputs": [],
   "source": [
    "doc = nlp(text)"
   ]
  },
  {
   "cell_type": "code",
   "execution_count": 40,
   "metadata": {
    "scrolled": true
   },
   "outputs": [
    {
     "data": {
      "text/plain": [
       "[\n",
       "  [\n",
       "    {\n",
       "      \"id\": 1,\n",
       "      \"text\": \"지금은\",\n",
       "      \"lemma\": \"지금+은\",\n",
       "      \"upos\": \"NOUN\",\n",
       "      \"xpos\": \"ncn+jxt\",\n",
       "      \"head\": 4,\n",
       "      \"deprel\": \"dislocated\",\n",
       "      \"misc\": \"start_char=0|end_char=3\"\n",
       "    },\n",
       "    {\n",
       "      \"id\": 2,\n",
       "      \"text\": \"일요일\",\n",
       "      \"lemma\": \"일요일\",\n",
       "      \"upos\": \"NOUN\",\n",
       "      \"xpos\": \"ncn\",\n",
       "      \"head\": 3,\n",
       "      \"deprel\": \"compound\",\n",
       "      \"misc\": \"start_char=4|end_char=7\"\n",
       "    },\n",
       "    {\n",
       "      \"id\": 3,\n",
       "      \"text\": \"오전\",\n",
       "      \"lemma\": \"오전\",\n",
       "      \"upos\": \"NOUN\",\n",
       "      \"xpos\": \"ncn\",\n",
       "      \"head\": 4,\n",
       "      \"deprel\": \"compound\",\n",
       "      \"misc\": \"start_char=8|end_char=10\"\n",
       "    },\n",
       "    {\n",
       "      \"id\": 4,\n",
       "      \"text\": \"여섯시이다\",\n",
       "      \"lemma\": \"여섯+시+이+다\",\n",
       "      \"upos\": \"VERB\",\n",
       "      \"xpos\": \"nnc+nbu+jp+ef\",\n",
       "      \"head\": 0,\n",
       "      \"deprel\": \"root\",\n",
       "      \"misc\": \"start_char=11|end_char=16\"\n",
       "    },\n",
       "    {\n",
       "      \"id\": 5,\n",
       "      \"text\": \".\",\n",
       "      \"lemma\": \".\",\n",
       "      \"upos\": \"PUNCT\",\n",
       "      \"xpos\": \"sf\",\n",
       "      \"head\": 4,\n",
       "      \"deprel\": \"punct\",\n",
       "      \"misc\": \"start_char=16|end_char=17\"\n",
       "    }\n",
       "  ],\n",
       "  [\n",
       "    {\n",
       "      \"id\": 1,\n",
       "      \"text\": \"매우\",\n",
       "      \"lemma\": \"매우\",\n",
       "      \"upos\": \"ADV\",\n",
       "      \"xpos\": \"mag\",\n",
       "      \"head\": 2,\n",
       "      \"deprel\": \"advmod\",\n",
       "      \"misc\": \"start_char=18|end_char=20\"\n",
       "    },\n",
       "    {\n",
       "      \"id\": 2,\n",
       "      \"text\": \"졸린\",\n",
       "      \"lemma\": \"졸리+ㄴ\",\n",
       "      \"upos\": \"ADJ\",\n",
       "      \"xpos\": \"paa+etm\",\n",
       "      \"head\": 3,\n",
       "      \"deprel\": \"amod\",\n",
       "      \"misc\": \"start_char=21|end_char=23\"\n",
       "    },\n",
       "    {\n",
       "      \"id\": 3,\n",
       "      \"text\": \"상태이다\",\n",
       "      \"lemma\": \"상태+이+다\",\n",
       "      \"upos\": \"VERB\",\n",
       "      \"xpos\": \"ncn+jp+ef\",\n",
       "      \"head\": 0,\n",
       "      \"deprel\": \"root\",\n",
       "      \"misc\": \"start_char=24|end_char=28\"\n",
       "    },\n",
       "    {\n",
       "      \"id\": 4,\n",
       "      \"text\": \".\",\n",
       "      \"lemma\": \".\",\n",
       "      \"upos\": \"PUNCT\",\n",
       "      \"xpos\": \"sf\",\n",
       "      \"head\": 3,\n",
       "      \"deprel\": \"punct\",\n",
       "      \"misc\": \"start_char=28|end_char=29\"\n",
       "    }\n",
       "  ]\n",
       "]"
      ]
     },
     "execution_count": 40,
     "metadata": {},
     "output_type": "execute_result"
    }
   ],
   "source": [
    "doc"
   ]
  },
  {
   "cell_type": "code",
   "execution_count": 41,
   "metadata": {},
   "outputs": [],
   "source": [
    "sentence = doc.sentences[0]"
   ]
  },
  {
   "cell_type": "code",
   "execution_count": 42,
   "metadata": {},
   "outputs": [],
   "source": [
    "word = sentence.words[0]"
   ]
  },
  {
   "cell_type": "code",
   "execution_count": 43,
   "metadata": {},
   "outputs": [
    {
     "data": {
      "text/plain": [
       "'지금+은'"
      ]
     },
     "execution_count": 43,
     "metadata": {},
     "output_type": "execute_result"
    }
   ],
   "source": [
    "word.lemma"
   ]
  },
  {
   "cell_type": "code",
   "execution_count": 44,
   "metadata": {},
   "outputs": [
    {
     "data": {
      "text/plain": [
       "'ncn+jxt'"
      ]
     },
     "execution_count": 44,
     "metadata": {},
     "output_type": "execute_result"
    }
   ],
   "source": [
    "word.xpos"
   ]
  },
  {
   "cell_type": "code",
   "execution_count": 45,
   "metadata": {},
   "outputs": [],
   "source": [
    "lemma = word.lemma.split('+')\n",
    "xpos = word.xpos.split('+')"
   ]
  },
  {
   "cell_type": "code",
   "execution_count": 46,
   "metadata": {},
   "outputs": [
    {
     "data": {
      "text/plain": [
       "[('지금', 'ncn'), ('은', 'jxt')]"
      ]
     },
     "execution_count": 46,
     "metadata": {},
     "output_type": "execute_result"
    }
   ],
   "source": [
    "list(zip(lemma, xpos))"
   ]
  },
  {
   "cell_type": "code",
   "execution_count": 48,
   "metadata": {},
   "outputs": [
    {
     "name": "stdout",
     "output_type": "stream",
     "text": [
      "지금 ncn\n",
      "은 jxt\n",
      "일요일 ncn\n",
      "오전 ncn\n",
      "여섯 nnc\n",
      "시 nbu\n",
      "이 jp\n",
      "다 ef\n",
      ". sf\n",
      "매우 mag\n",
      "졸리 paa\n",
      "ㄴ etm\n",
      "상태 ncn\n",
      "이 jp\n",
      "다 ef\n",
      ". sf\n"
     ]
    }
   ],
   "source": [
    "for sentence in doc.sentences:\n",
    "    for word in sentence.words:\n",
    "        lemma = word.lemma.split('+')\n",
    "        xpos = word.xpos.split('+')\n",
    "        for tok, pos in zip(lemma, xpos):\n",
    "            print(tok, pos)"
   ]
  },
  {
   "cell_type": "code",
   "execution_count": 49,
   "metadata": {},
   "outputs": [],
   "source": [
    "import stanza"
   ]
  },
  {
   "cell_type": "code",
   "execution_count": 50,
   "metadata": {},
   "outputs": [
    {
     "name": "stderr",
     "output_type": "stream",
     "text": [
      "2021-03-28 06:21:40 INFO: Loading these models for language: ko (Korean):\n",
      "=======================\n",
      "| Processor | Package |\n",
      "-----------------------\n",
      "| tokenize  | kaist   |\n",
      "| pos       | kaist   |\n",
      "| lemma     | kaist   |\n",
      "| depparse  | kaist   |\n",
      "=======================\n",
      "\n",
      "2021-03-28 06:21:40 INFO: Use device: gpu\n",
      "2021-03-28 06:21:40 INFO: Loading: tokenize\n",
      "2021-03-28 06:21:41 INFO: Loading: pos\n",
      "2021-03-28 06:21:41 INFO: Loading: lemma\n",
      "2021-03-28 06:21:41 INFO: Loading: depparse\n",
      "2021-03-28 06:21:42 INFO: Done loading processors!\n"
     ]
    }
   ],
   "source": [
    "nlp = stanza.Pipeline('ko')"
   ]
  },
  {
   "cell_type": "code",
   "execution_count": 51,
   "metadata": {},
   "outputs": [],
   "source": [
    "text = '지금은 일요일 오전 여섯시이다. 매우 졸린 상태이다.'"
   ]
  },
  {
   "cell_type": "code",
   "execution_count": 52,
   "metadata": {},
   "outputs": [],
   "source": [
    "doc = nlp(text)"
   ]
  },
  {
   "cell_type": "code",
   "execution_count": 53,
   "metadata": {
    "collapsed": true
   },
   "outputs": [
    {
     "data": {
      "text/plain": [
       "[\n",
       "  [\n",
       "    {\n",
       "      \"id\": 1,\n",
       "      \"text\": \"지금은\",\n",
       "      \"lemma\": \"지금+은\",\n",
       "      \"upos\": \"NOUN\",\n",
       "      \"xpos\": \"ncn+jxt\",\n",
       "      \"head\": 4,\n",
       "      \"deprel\": \"dislocated\",\n",
       "      \"misc\": \"start_char=0|end_char=3\"\n",
       "    },\n",
       "    {\n",
       "      \"id\": 2,\n",
       "      \"text\": \"일요일\",\n",
       "      \"lemma\": \"일요일\",\n",
       "      \"upos\": \"NOUN\",\n",
       "      \"xpos\": \"ncn\",\n",
       "      \"head\": 3,\n",
       "      \"deprel\": \"compound\",\n",
       "      \"misc\": \"start_char=4|end_char=7\"\n",
       "    },\n",
       "    {\n",
       "      \"id\": 3,\n",
       "      \"text\": \"오전\",\n",
       "      \"lemma\": \"오전\",\n",
       "      \"upos\": \"NOUN\",\n",
       "      \"xpos\": \"ncn\",\n",
       "      \"head\": 4,\n",
       "      \"deprel\": \"compound\",\n",
       "      \"misc\": \"start_char=8|end_char=10\"\n",
       "    },\n",
       "    {\n",
       "      \"id\": 4,\n",
       "      \"text\": \"여섯시이다\",\n",
       "      \"lemma\": \"여섯+시+이+다\",\n",
       "      \"upos\": \"VERB\",\n",
       "      \"xpos\": \"nnc+nbu+jp+ef\",\n",
       "      \"head\": 0,\n",
       "      \"deprel\": \"root\",\n",
       "      \"misc\": \"start_char=11|end_char=16\"\n",
       "    },\n",
       "    {\n",
       "      \"id\": 5,\n",
       "      \"text\": \".\",\n",
       "      \"lemma\": \".\",\n",
       "      \"upos\": \"PUNCT\",\n",
       "      \"xpos\": \"sf\",\n",
       "      \"head\": 4,\n",
       "      \"deprel\": \"punct\",\n",
       "      \"misc\": \"start_char=16|end_char=17\"\n",
       "    }\n",
       "  ],\n",
       "  [\n",
       "    {\n",
       "      \"id\": 1,\n",
       "      \"text\": \"매우\",\n",
       "      \"lemma\": \"매우\",\n",
       "      \"upos\": \"ADV\",\n",
       "      \"xpos\": \"mag\",\n",
       "      \"head\": 2,\n",
       "      \"deprel\": \"advmod\",\n",
       "      \"misc\": \"start_char=18|end_char=20\"\n",
       "    },\n",
       "    {\n",
       "      \"id\": 2,\n",
       "      \"text\": \"졸린\",\n",
       "      \"lemma\": \"졸리+ㄴ\",\n",
       "      \"upos\": \"ADJ\",\n",
       "      \"xpos\": \"paa+etm\",\n",
       "      \"head\": 3,\n",
       "      \"deprel\": \"amod\",\n",
       "      \"misc\": \"start_char=21|end_char=23\"\n",
       "    },\n",
       "    {\n",
       "      \"id\": 3,\n",
       "      \"text\": \"상태이다\",\n",
       "      \"lemma\": \"상태+이+다\",\n",
       "      \"upos\": \"VERB\",\n",
       "      \"xpos\": \"ncn+jp+ef\",\n",
       "      \"head\": 0,\n",
       "      \"deprel\": \"root\",\n",
       "      \"misc\": \"start_char=24|end_char=28\"\n",
       "    },\n",
       "    {\n",
       "      \"id\": 4,\n",
       "      \"text\": \".\",\n",
       "      \"lemma\": \".\",\n",
       "      \"upos\": \"PUNCT\",\n",
       "      \"xpos\": \"sf\",\n",
       "      \"head\": 3,\n",
       "      \"deprel\": \"punct\",\n",
       "      \"misc\": \"start_char=28|end_char=29\"\n",
       "    }\n",
       "  ]\n",
       "]"
      ]
     },
     "execution_count": 53,
     "metadata": {},
     "output_type": "execute_result"
    }
   ],
   "source": [
    "doc"
   ]
  },
  {
   "cell_type": "code",
   "execution_count": 54,
   "metadata": {},
   "outputs": [
    {
     "name": "stdout",
     "output_type": "stream",
     "text": [
      "지금\n",
      "일요일\n",
      "오전\n",
      "여섯\n",
      "시\n",
      "상태\n"
     ]
    }
   ],
   "source": [
    "for sentence in doc.sentences:\n",
    "    for word in sentence.words:\n",
    "        lemma = word.lemma.split('+')\n",
    "        xpos = word.xpos.split('+')\n",
    "        for tok, pos in zip(lemma, xpos):\n",
    "            if pos.startswith('n'):\n",
    "                print(tok)"
   ]
  },
  {
   "cell_type": "code",
   "execution_count": 55,
   "metadata": {},
   "outputs": [],
   "source": [
    "def extract_noun(text):\n",
    "    doc = nlp(text)\n",
    "    for sentence in doc.sentences:\n",
    "        for word in sentence.words:\n",
    "            lemma = word.lemma.split('+')\n",
    "            xpos = word.xpos.split('+')\n",
    "            \n",
    "            for tok, pos in zip(lemma, xpos):\n",
    "                if pos.startswith('n'):\n",
    "                    yield tok"
   ]
  },
  {
   "cell_type": "code",
   "execution_count": 56,
   "metadata": {},
   "outputs": [],
   "source": [
    "def extract_noun(text):\n",
    "    doc = nlp(text)\n",
    "    nouns = []\n",
    "    for sentence in doc.sentences:\n",
    "        for word in sentence.words:\n",
    "            lemma = word.lemma.split('+')\n",
    "            xpos = word.xpos.split('+')\n",
    "            \n",
    "            for tok, pos in zip(lemma, xpos):\n",
    "                if pos.startswith('n'):\n",
    "                    nouns.append(tok)\n",
    "    return nouns"
   ]
  },
  {
   "cell_type": "code",
   "execution_count": 57,
   "metadata": {},
   "outputs": [
    {
     "data": {
      "text/plain": [
       "['나', '지금', '배', '피곤', '상태']"
      ]
     },
     "execution_count": 57,
     "metadata": {},
     "output_type": "execute_result"
    }
   ],
   "source": [
    "list(extract_noun('나는 지금 배가 고프고 몹시 피곤한 상태이다.'))"
   ]
  },
  {
   "cell_type": "code",
   "execution_count": 58,
   "metadata": {},
   "outputs": [],
   "source": [
    "import requests\n",
    "\n",
    "res = requests.get('https://github.com/e9t/nsmc/raw/master/ratings_train.txt')\n",
    "\n",
    "with open('nsmc_train.csv', 'wb') as f:\n",
    "    f.write(res.content)"
   ]
  },
  {
   "cell_type": "code",
   "execution_count": 59,
   "metadata": {},
   "outputs": [],
   "source": [
    "import pandas as pd\n",
    "nsmc = pd.read_csv('nsmc_train.csv', sep='\\t')"
   ]
  },
  {
   "cell_type": "code",
   "execution_count": 60,
   "metadata": {},
   "outputs": [
    {
     "data": {
      "text/html": [
       "<div>\n",
       "<style scoped>\n",
       "    .dataframe tbody tr th:only-of-type {\n",
       "        vertical-align: middle;\n",
       "    }\n",
       "\n",
       "    .dataframe tbody tr th {\n",
       "        vertical-align: top;\n",
       "    }\n",
       "\n",
       "    .dataframe thead th {\n",
       "        text-align: right;\n",
       "    }\n",
       "</style>\n",
       "<table border=\"1\" class=\"dataframe\">\n",
       "  <thead>\n",
       "    <tr style=\"text-align: right;\">\n",
       "      <th></th>\n",
       "      <th>id</th>\n",
       "      <th>document</th>\n",
       "      <th>label</th>\n",
       "    </tr>\n",
       "  </thead>\n",
       "  <tbody>\n",
       "    <tr>\n",
       "      <th>0</th>\n",
       "      <td>9976970</td>\n",
       "      <td>아 더빙.. 진짜 짜증나네요 목소리</td>\n",
       "      <td>0</td>\n",
       "    </tr>\n",
       "    <tr>\n",
       "      <th>1</th>\n",
       "      <td>3819312</td>\n",
       "      <td>흠...포스터보고 초딩영화줄....오버연기조차 가볍지 않구나</td>\n",
       "      <td>1</td>\n",
       "    </tr>\n",
       "    <tr>\n",
       "      <th>2</th>\n",
       "      <td>10265843</td>\n",
       "      <td>너무재밓었다그래서보는것을추천한다</td>\n",
       "      <td>0</td>\n",
       "    </tr>\n",
       "    <tr>\n",
       "      <th>3</th>\n",
       "      <td>9045019</td>\n",
       "      <td>교도소 이야기구먼 ..솔직히 재미는 없다..평점 조정</td>\n",
       "      <td>0</td>\n",
       "    </tr>\n",
       "    <tr>\n",
       "      <th>4</th>\n",
       "      <td>6483659</td>\n",
       "      <td>사이몬페그의 익살스런 연기가 돋보였던 영화!스파이더맨에서 늙어보이기만 했던 커스틴 ...</td>\n",
       "      <td>1</td>\n",
       "    </tr>\n",
       "  </tbody>\n",
       "</table>\n",
       "</div>"
      ],
      "text/plain": [
       "         id                                           document  label\n",
       "0   9976970                                아 더빙.. 진짜 짜증나네요 목소리      0\n",
       "1   3819312                  흠...포스터보고 초딩영화줄....오버연기조차 가볍지 않구나      1\n",
       "2  10265843                                  너무재밓었다그래서보는것을추천한다      0\n",
       "3   9045019                      교도소 이야기구먼 ..솔직히 재미는 없다..평점 조정      0\n",
       "4   6483659  사이몬페그의 익살스런 연기가 돋보였던 영화!스파이더맨에서 늙어보이기만 했던 커스틴 ...      1"
      ]
     },
     "execution_count": 60,
     "metadata": {},
     "output_type": "execute_result"
    }
   ],
   "source": [
    "nsmc.head()"
   ]
  },
  {
   "cell_type": "code",
   "execution_count": 61,
   "metadata": {},
   "outputs": [],
   "source": [
    "import stanza"
   ]
  },
  {
   "cell_type": "code",
   "execution_count": 62,
   "metadata": {},
   "outputs": [
    {
     "name": "stderr",
     "output_type": "stream",
     "text": [
      "2021-03-28 06:32:30 INFO: Loading these models for language: ko (Korean):\n",
      "=======================\n",
      "| Processor | Package |\n",
      "-----------------------\n",
      "| tokenize  | kaist   |\n",
      "| pos       | kaist   |\n",
      "| lemma     | kaist   |\n",
      "| depparse  | kaist   |\n",
      "=======================\n",
      "\n",
      "2021-03-28 06:32:30 INFO: Use device: gpu\n",
      "2021-03-28 06:32:30 INFO: Loading: tokenize\n",
      "2021-03-28 06:32:30 INFO: Loading: pos\n",
      "2021-03-28 06:32:30 INFO: Loading: lemma\n",
      "2021-03-28 06:32:30 INFO: Loading: depparse\n",
      "2021-03-28 06:32:31 INFO: Done loading processors!\n"
     ]
    }
   ],
   "source": [
    "nlp = stanza.Pipeline('ko')"
   ]
  },
  {
   "cell_type": "code",
   "execution_count": 63,
   "metadata": {},
   "outputs": [],
   "source": [
    "text = '교도소 이야기구먼 ..솔직히 재미는 없다..평점 조정'"
   ]
  },
  {
   "cell_type": "code",
   "execution_count": 64,
   "metadata": {},
   "outputs": [],
   "source": [
    "doc = nlp(text)"
   ]
  },
  {
   "cell_type": "code",
   "execution_count": 65,
   "metadata": {},
   "outputs": [],
   "source": [
    "def extract_nouns(text):\n",
    "    doc = nlp(text)\n",
    "    for sentence in doc.sentences:\n",
    "        for word in sentence.words:\n",
    "            lemma = word.lemma.split('+')\n",
    "            xpos = word.xpos.split('+')\n",
    "            for w, p in zip(lemma, xpos):\n",
    "                if p.startswith('n'):\n",
    "                    yield w"
   ]
  },
  {
   "cell_type": "code",
   "execution_count": 66,
   "metadata": {},
   "outputs": [
    {
     "data": {
      "text/plain": [
       "['교도소', '이야기구먼', '..솔직히', '재미', '.평점', '조정']"
      ]
     },
     "execution_count": 66,
     "metadata": {},
     "output_type": "execute_result"
    }
   ],
   "source": [
    "list(extract_nouns(text))"
   ]
  },
  {
   "cell_type": "code",
   "execution_count": 67,
   "metadata": {},
   "outputs": [],
   "source": [
    "from sklearn.feature_extraction.text import CountVectorizer"
   ]
  },
  {
   "cell_type": "code",
   "execution_count": 68,
   "metadata": {},
   "outputs": [],
   "source": [
    "cv = CountVectorizer(max_features=100, tokenizer=extract_nouns)"
   ]
  },
  {
   "cell_type": "code",
   "execution_count": 69,
   "metadata": {},
   "outputs": [],
   "source": [
    "tdm = cv.fit_transform(nsmc.loc[0:500, 'document'])"
   ]
  },
  {
   "cell_type": "code",
   "execution_count": 70,
   "metadata": {},
   "outputs": [
    {
     "data": {
      "text/plain": [
       "(501, 100)"
      ]
     },
     "execution_count": 70,
     "metadata": {},
     "output_type": "execute_result"
    }
   ],
   "source": [
    "tdm.shape"
   ]
  },
  {
   "cell_type": "code",
   "execution_count": 71,
   "metadata": {},
   "outputs": [],
   "source": [
    "word_count = pd.DataFrame({\n",
    "    '단어' : cv.get_feature_names(),\n",
    "    '빈도' : tdm.sum(axis=0).flat\n",
    "})"
   ]
  },
  {
   "cell_type": "code",
   "execution_count": 72,
   "metadata": {},
   "outputs": [
    {
     "data": {
      "text/html": [
       "<div>\n",
       "<style scoped>\n",
       "    .dataframe tbody tr th:only-of-type {\n",
       "        vertical-align: middle;\n",
       "    }\n",
       "\n",
       "    .dataframe tbody tr th {\n",
       "        vertical-align: top;\n",
       "    }\n",
       "\n",
       "    .dataframe thead th {\n",
       "        text-align: right;\n",
       "    }\n",
       "</style>\n",
       "<table border=\"1\" class=\"dataframe\">\n",
       "  <thead>\n",
       "    <tr style=\"text-align: right;\">\n",
       "      <th></th>\n",
       "      <th>단어</th>\n",
       "      <th>빈도</th>\n",
       "    </tr>\n",
       "  </thead>\n",
       "  <tbody>\n",
       "    <tr>\n",
       "      <th>59</th>\n",
       "      <td>영화</td>\n",
       "      <td>126</td>\n",
       "    </tr>\n",
       "    <tr>\n",
       "      <th>57</th>\n",
       "      <td>연기</td>\n",
       "      <td>28</td>\n",
       "    </tr>\n",
       "    <tr>\n",
       "      <th>65</th>\n",
       "      <td>이</td>\n",
       "      <td>25</td>\n",
       "    </tr>\n",
       "    <tr>\n",
       "      <th>91</th>\n",
       "      <td>진짜</td>\n",
       "      <td>20</td>\n",
       "    </tr>\n",
       "    <tr>\n",
       "      <th>98</th>\n",
       "      <td>하나</td>\n",
       "      <td>18</td>\n",
       "    </tr>\n",
       "  </tbody>\n",
       "</table>\n",
       "</div>"
      ],
      "text/plain": [
       "    단어   빈도\n",
       "59  영화  126\n",
       "57  연기   28\n",
       "65   이   25\n",
       "91  진짜   20\n",
       "98  하나   18"
      ]
     },
     "execution_count": 72,
     "metadata": {},
     "output_type": "execute_result"
    }
   ],
   "source": [
    "word_count.sort_values('빈도', ascending=False).head()"
   ]
  },
  {
   "cell_type": "code",
   "execution_count": 73,
   "metadata": {},
   "outputs": [],
   "source": [
    "word_count.to_excel('nsmc-count.xlsx')"
   ]
  },
  {
   "cell_type": "code",
   "execution_count": 76,
   "metadata": {},
   "outputs": [],
   "source": [
    "import pandas as pd\n",
    "word_count = pd.read_excel('nsmc-count.xlsx', index_col=0)"
   ]
  },
  {
   "cell_type": "code",
   "execution_count": 77,
   "metadata": {},
   "outputs": [
    {
     "data": {
      "text/html": [
       "<div>\n",
       "<style scoped>\n",
       "    .dataframe tbody tr th:only-of-type {\n",
       "        vertical-align: middle;\n",
       "    }\n",
       "\n",
       "    .dataframe tbody tr th {\n",
       "        vertical-align: top;\n",
       "    }\n",
       "\n",
       "    .dataframe thead th {\n",
       "        text-align: right;\n",
       "    }\n",
       "</style>\n",
       "<table border=\"1\" class=\"dataframe\">\n",
       "  <thead>\n",
       "    <tr style=\"text-align: right;\">\n",
       "      <th></th>\n",
       "      <th>단어</th>\n",
       "      <th>빈도</th>\n",
       "    </tr>\n",
       "  </thead>\n",
       "  <tbody>\n",
       "    <tr>\n",
       "      <th>59</th>\n",
       "      <td>영화</td>\n",
       "      <td>126</td>\n",
       "    </tr>\n",
       "    <tr>\n",
       "      <th>57</th>\n",
       "      <td>연기</td>\n",
       "      <td>28</td>\n",
       "    </tr>\n",
       "    <tr>\n",
       "      <th>65</th>\n",
       "      <td>이</td>\n",
       "      <td>25</td>\n",
       "    </tr>\n",
       "    <tr>\n",
       "      <th>91</th>\n",
       "      <td>진짜</td>\n",
       "      <td>20</td>\n",
       "    </tr>\n",
       "    <tr>\n",
       "      <th>98</th>\n",
       "      <td>하나</td>\n",
       "      <td>18</td>\n",
       "    </tr>\n",
       "  </tbody>\n",
       "</table>\n",
       "</div>"
      ],
      "text/plain": [
       "    단어   빈도\n",
       "59  영화  126\n",
       "57  연기   28\n",
       "65   이   25\n",
       "91  진짜   20\n",
       "98  하나   18"
      ]
     },
     "execution_count": 77,
     "metadata": {},
     "output_type": "execute_result"
    }
   ],
   "source": [
    "word_count.sort_values('빈도', ascending=False).head()"
   ]
  },
  {
   "cell_type": "code",
   "execution_count": 78,
   "metadata": {},
   "outputs": [],
   "source": [
    "count_dic = word_count.set_index('단어')['빈도'].to_dict()"
   ]
  },
  {
   "cell_type": "code",
   "execution_count": 79,
   "metadata": {},
   "outputs": [],
   "source": [
    "from wordcloud import WordCloud"
   ]
  },
  {
   "cell_type": "code",
   "execution_count": 80,
   "metadata": {},
   "outputs": [],
   "source": [
    "wc = wc = WordCloud(font_path='C:/Users/leeji/Desktop/NanumFontSetup_TTF_GOTHIC/NanumGothic.ttf', background_color='white', width=400, height=300)"
   ]
  },
  {
   "cell_type": "code",
   "execution_count": 81,
   "metadata": {},
   "outputs": [],
   "source": [
    "cloud = wc.generate_from_frequencies(count_dic)"
   ]
  },
  {
   "cell_type": "code",
   "execution_count": 82,
   "metadata": {},
   "outputs": [
    {
     "data": {
      "image/png": "[encoded data removed]",
      "text/plain": [
       "<PIL.Image.Image image mode=RGB size=400x300 at 0x2017CB5E0A0>"
      ]
     },
     "execution_count": 82,
     "metadata": {},
     "output_type": "execute_result"
    }
   ],
   "source": [
    "cloud.to_image()"
   ]
  },
  {
   "cell_type": "code",
   "execution_count": null,
   "metadata": {},
   "outputs": [],
   "source": []
  }
 ],
 "metadata": {
  "kernelspec": {
   "display_name": "Python 3",
   "language": "python",
   "name": "python3"
  },
  "language_info": {
   "codemirror_mode": {
    "name": "ipython",
    "version": 3
   },
   "file_extension": ".py",
   "mimetype": "text/x-python",
   "name": "python",
   "nbconvert_exporter": "python",
   "pygments_lexer": "ipython3",
   "version": "3.8.5"
  }
 },
 "nbformat": 4,
 "nbformat_minor": 4
}
