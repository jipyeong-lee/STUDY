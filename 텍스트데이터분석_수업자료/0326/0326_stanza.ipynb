{
 "cells": [
  {
   "cell_type": "code",
   "execution_count": 4,
   "metadata": {},
   "outputs": [],
   "source": [
    "#!conda install -y -c pytorch pytorch torchvision"
   ]
  },
  {
   "cell_type": "code",
   "execution_count": 2,
   "metadata": {},
   "outputs": [],
   "source": [
    "#!pip install stanza"
   ]
  },
  {
   "cell_type": "code",
   "execution_count": 1,
   "metadata": {},
   "outputs": [],
   "source": [
    "import stanza"
   ]
  },
  {
   "cell_type": "code",
   "execution_count": 3,
   "metadata": {},
   "outputs": [],
   "source": [
    "#stanza.download('ko', package='kaist')"
   ]
  },
  {
   "cell_type": "code",
   "execution_count": 5,
   "metadata": {},
   "outputs": [
    {
     "name": "stderr",
     "output_type": "stream",
     "text": [
      "2021-03-28 02:11:54 INFO: Loading these models for language: ko (Korean):\n",
      "=======================\n",
      "| Processor | Package |\n",
      "-----------------------\n",
      "| tokenize  | kaist   |\n",
      "| pos       | kaist   |\n",
      "| lemma     | kaist   |\n",
      "| depparse  | kaist   |\n",
      "=======================\n",
      "\n",
      "2021-03-28 02:11:55 INFO: Use device: gpu\n",
      "2021-03-28 02:11:55 INFO: Loading: tokenize\n",
      "2021-03-28 02:11:57 INFO: Loading: pos\n",
      "2021-03-28 02:11:57 INFO: Loading: lemma\n",
      "2021-03-28 02:11:58 INFO: Loading: depparse\n",
      "2021-03-28 02:11:58 INFO: Done loading processors!\n"
     ]
    }
   ],
   "source": [
    "nlp = stanza.Pipeline('ko')"
   ]
  },
  {
   "cell_type": "code",
   "execution_count": 6,
   "metadata": {},
   "outputs": [],
   "source": [
    "text = '오늘은 자연어 처리를 배우기 좋은 날이다. 자연어 처리는 재미있다.'"
   ]
  },
  {
   "cell_type": "code",
   "execution_count": 7,
   "metadata": {},
   "outputs": [],
   "source": [
    "doc = nlp(text)"
   ]
  },
  {
   "cell_type": "code",
   "execution_count": 8,
   "metadata": {},
   "outputs": [
    {
     "data": {
      "text/plain": [
       "[\n",
       "  [\n",
       "    {\n",
       "      \"id\": 1,\n",
       "      \"text\": \"오늘은\",\n",
       "      \"lemma\": \"오늘+은\",\n",
       "      \"upos\": \"NOUN\",\n",
       "      \"xpos\": \"ncn+jxt\",\n",
       "      \"head\": 6,\n",
       "      \"deprel\": \"dislocated\",\n",
       "      \"misc\": \"start_char=0|end_char=3\"\n",
       "    },\n",
       "    {\n",
       "      \"id\": 2,\n",
       "      \"text\": \"자연어\",\n",
       "      \"lemma\": \"자연어\",\n",
       "      \"upos\": \"NOUN\",\n",
       "      \"xpos\": \"ncn\",\n",
       "      \"head\": 3,\n",
       "      \"deprel\": \"compound\",\n",
       "      \"misc\": \"start_char=4|end_char=7\"\n",
       "    },\n",
       "    {\n",
       "      \"id\": 3,\n",
       "      \"text\": \"처리를\",\n",
       "      \"lemma\": \"처리+를\",\n",
       "      \"upos\": \"NOUN\",\n",
       "      \"xpos\": \"ncpa+jco\",\n",
       "      \"head\": 4,\n",
       "      \"deprel\": \"obj\",\n",
       "      \"misc\": \"start_char=8|end_char=11\"\n",
       "    },\n",
       "    {\n",
       "      \"id\": 4,\n",
       "      \"text\": \"배우기\",\n",
       "      \"lemma\": \"배우+기\",\n",
       "      \"upos\": \"VERB\",\n",
       "      \"xpos\": \"pvg+etn\",\n",
       "      \"head\": 5,\n",
       "      \"deprel\": \"nmod\",\n",
       "      \"misc\": \"start_char=12|end_char=15\"\n",
       "    },\n",
       "    {\n",
       "      \"id\": 5,\n",
       "      \"text\": \"좋은\",\n",
       "      \"lemma\": \"좋+ㄴ\",\n",
       "      \"upos\": \"ADJ\",\n",
       "      \"xpos\": \"paa+etm\",\n",
       "      \"head\": 6,\n",
       "      \"deprel\": \"amod\",\n",
       "      \"misc\": \"start_char=16|end_char=18\"\n",
       "    },\n",
       "    {\n",
       "      \"id\": 6,\n",
       "      \"text\": \"날이다\",\n",
       "      \"lemma\": \"날+이+다\",\n",
       "      \"upos\": \"VERB\",\n",
       "      \"xpos\": \"ncn+jp+ef\",\n",
       "      \"head\": 0,\n",
       "      \"deprel\": \"root\",\n",
       "      \"misc\": \"start_char=19|end_char=22\"\n",
       "    },\n",
       "    {\n",
       "      \"id\": 7,\n",
       "      \"text\": \".\",\n",
       "      \"lemma\": \".\",\n",
       "      \"upos\": \"PUNCT\",\n",
       "      \"xpos\": \"sf\",\n",
       "      \"head\": 6,\n",
       "      \"deprel\": \"punct\",\n",
       "      \"misc\": \"start_char=22|end_char=23\"\n",
       "    }\n",
       "  ],\n",
       "  [\n",
       "    {\n",
       "      \"id\": 1,\n",
       "      \"text\": \"자연어\",\n",
       "      \"lemma\": \"자연어\",\n",
       "      \"upos\": \"NOUN\",\n",
       "      \"xpos\": \"ncn\",\n",
       "      \"head\": 2,\n",
       "      \"deprel\": \"compound\",\n",
       "      \"misc\": \"start_char=24|end_char=27\"\n",
       "    },\n",
       "    {\n",
       "      \"id\": 2,\n",
       "      \"text\": \"처리는\",\n",
       "      \"lemma\": \"처리+는\",\n",
       "      \"upos\": \"NOUN\",\n",
       "      \"xpos\": \"ncpa+jxt\",\n",
       "      \"head\": 3,\n",
       "      \"deprel\": \"dislocated\",\n",
       "      \"misc\": \"start_char=28|end_char=31\"\n",
       "    },\n",
       "    {\n",
       "      \"id\": 3,\n",
       "      \"text\": \"재미있다\",\n",
       "      \"lemma\": \"재미있+다\",\n",
       "      \"upos\": \"VERB\",\n",
       "      \"xpos\": \"ncps+xsm+ef\",\n",
       "      \"head\": 0,\n",
       "      \"deprel\": \"root\",\n",
       "      \"misc\": \"start_char=32|end_char=36\"\n",
       "    },\n",
       "    {\n",
       "      \"id\": 4,\n",
       "      \"text\": \".\",\n",
       "      \"lemma\": \".\",\n",
       "      \"upos\": \"PUNCT\",\n",
       "      \"xpos\": \"sf\",\n",
       "      \"head\": 3,\n",
       "      \"deprel\": \"punct\",\n",
       "      \"misc\": \"start_char=36|end_char=37\"\n",
       "    }\n",
       "  ]\n",
       "]"
      ]
     },
     "execution_count": 8,
     "metadata": {},
     "output_type": "execute_result"
    }
   ],
   "source": [
    "doc"
   ]
  },
  {
   "cell_type": "code",
   "execution_count": 9,
   "metadata": {},
   "outputs": [],
   "source": [
    "sentence = doc.sentences[0]"
   ]
  },
  {
   "cell_type": "code",
   "execution_count": 10,
   "metadata": {},
   "outputs": [],
   "source": [
    "word = sentence.words[0]"
   ]
  },
  {
   "cell_type": "code",
   "execution_count": 11,
   "metadata": {},
   "outputs": [
    {
     "data": {
      "text/plain": [
       "'오늘+은'"
      ]
     },
     "execution_count": 11,
     "metadata": {},
     "output_type": "execute_result"
    }
   ],
   "source": [
    "word.lemma"
   ]
  },
  {
   "cell_type": "code",
   "execution_count": 12,
   "metadata": {},
   "outputs": [
    {
     "data": {
      "text/plain": [
       "'ncn+jxt'"
      ]
     },
     "execution_count": 12,
     "metadata": {},
     "output_type": "execute_result"
    }
   ],
   "source": [
    "word.xpos"
   ]
  },
  {
   "cell_type": "markdown",
   "metadata": {},
   "source": [
    "## 단어와 품사 태그 짝짓기"
   ]
  },
  {
   "cell_type": "code",
   "execution_count": 13,
   "metadata": {},
   "outputs": [],
   "source": [
    "lemma = word.lemma.split('+')"
   ]
  },
  {
   "cell_type": "code",
   "execution_count": 14,
   "metadata": {},
   "outputs": [],
   "source": [
    "xpos = word.xpos.split('+')"
   ]
  },
  {
   "cell_type": "code",
   "execution_count": 15,
   "metadata": {},
   "outputs": [
    {
     "data": {
      "text/plain": [
       "[('오늘', 'ncn'), ('은', 'jxt')]"
      ]
     },
     "execution_count": 15,
     "metadata": {},
     "output_type": "execute_result"
    }
   ],
   "source": [
    "list(zip(lemma, xpos))"
   ]
  },
  {
   "cell_type": "code",
   "execution_count": 16,
   "metadata": {},
   "outputs": [
    {
     "name": "stdout",
     "output_type": "stream",
     "text": [
      "오늘 ncn\n",
      "은 jxt\n",
      "자연어 ncn\n",
      "처리 ncpa\n",
      "를 jco\n",
      "배우 pvg\n",
      "기 etn\n",
      "좋 paa\n",
      "ㄴ etm\n",
      "날 ncn\n",
      "이 jp\n",
      "다 ef\n",
      ". sf\n",
      "자연어 ncn\n",
      "처리 ncpa\n",
      "는 jxt\n",
      "재미있 ncps\n",
      "다 xsm\n",
      ". sf\n"
     ]
    }
   ],
   "source": [
    "for sentence in doc.sentences:\n",
    "    for word in sentence.words:\n",
    "        lemma = word.lemma.split('+')\n",
    "        xpos = word.xpos.split('+')\n",
    "        for tok, pos in zip(lemma, xpos):\n",
    "            print(tok, pos)"
   ]
  },
  {
   "cell_type": "markdown",
   "metadata": {},
   "source": [
    "## 명사 추출"
   ]
  },
  {
   "cell_type": "code",
   "execution_count": 17,
   "metadata": {},
   "outputs": [],
   "source": [
    "import stanza"
   ]
  },
  {
   "cell_type": "code",
   "execution_count": 18,
   "metadata": {},
   "outputs": [
    {
     "name": "stderr",
     "output_type": "stream",
     "text": [
      "2021-03-28 02:12:16 INFO: Loading these models for language: ko (Korean):\n",
      "=======================\n",
      "| Processor | Package |\n",
      "-----------------------\n",
      "| tokenize  | kaist   |\n",
      "| pos       | kaist   |\n",
      "| lemma     | kaist   |\n",
      "| depparse  | kaist   |\n",
      "=======================\n",
      "\n",
      "2021-03-28 02:12:16 INFO: Use device: gpu\n",
      "2021-03-28 02:12:16 INFO: Loading: tokenize\n",
      "2021-03-28 02:12:16 INFO: Loading: pos\n",
      "2021-03-28 02:12:17 INFO: Loading: lemma\n",
      "2021-03-28 02:12:17 INFO: Loading: depparse\n",
      "2021-03-28 02:12:17 INFO: Done loading processors!\n"
     ]
    }
   ],
   "source": [
    "nlp = stanza.Pipeline('ko')"
   ]
  },
  {
   "cell_type": "code",
   "execution_count": 19,
   "metadata": {},
   "outputs": [],
   "source": [
    "text = '오늘 커피를 마셨다.'"
   ]
  },
  {
   "cell_type": "code",
   "execution_count": 20,
   "metadata": {},
   "outputs": [],
   "source": [
    "doc = nlp(text)"
   ]
  },
  {
   "cell_type": "code",
   "execution_count": 21,
   "metadata": {
    "collapsed": true
   },
   "outputs": [
    {
     "data": {
      "text/plain": [
       "[\n",
       "  [\n",
       "    {\n",
       "      \"id\": 1,\n",
       "      \"text\": \"오늘\",\n",
       "      \"lemma\": \"오늘\",\n",
       "      \"upos\": \"NOUN\",\n",
       "      \"xpos\": \"ncn\",\n",
       "      \"head\": 3,\n",
       "      \"deprel\": \"advmod\",\n",
       "      \"misc\": \"start_char=0|end_char=2\"\n",
       "    },\n",
       "    {\n",
       "      \"id\": 2,\n",
       "      \"text\": \"커피를\",\n",
       "      \"lemma\": \"커피+를\",\n",
       "      \"upos\": \"NOUN\",\n",
       "      \"xpos\": \"ncn+jco\",\n",
       "      \"head\": 3,\n",
       "      \"deprel\": \"obj\",\n",
       "      \"misc\": \"start_char=3|end_char=6\"\n",
       "    },\n",
       "    {\n",
       "      \"id\": 3,\n",
       "      \"text\": \"마셨다\",\n",
       "      \"lemma\": \"마시+었+다\",\n",
       "      \"upos\": \"VERB\",\n",
       "      \"xpos\": \"pvg+ep+ef\",\n",
       "      \"head\": 0,\n",
       "      \"deprel\": \"root\",\n",
       "      \"misc\": \"start_char=7|end_char=10\"\n",
       "    },\n",
       "    {\n",
       "      \"id\": 4,\n",
       "      \"text\": \".\",\n",
       "      \"lemma\": \".\",\n",
       "      \"upos\": \"PUNCT\",\n",
       "      \"xpos\": \"sf\",\n",
       "      \"head\": 3,\n",
       "      \"deprel\": \"punct\",\n",
       "      \"misc\": \"start_char=10|end_char=11\"\n",
       "    }\n",
       "  ]\n",
       "]"
      ]
     },
     "execution_count": 21,
     "metadata": {},
     "output_type": "execute_result"
    }
   ],
   "source": [
    "doc"
   ]
  },
  {
   "cell_type": "code",
   "execution_count": 22,
   "metadata": {},
   "outputs": [
    {
     "name": "stdout",
     "output_type": "stream",
     "text": [
      "오늘\n",
      "커피\n"
     ]
    }
   ],
   "source": [
    "for sentence in doc.sentences:\n",
    "    for word in sentence.words:\n",
    "        lemma = word.lemma.split('+')\n",
    "        xpos = word.xpos.split('+')\n",
    "        for tok, pos in zip(lemma, xpos):\n",
    "            if pos.startswith('n'):\n",
    "                print(tok)"
   ]
  },
  {
   "cell_type": "code",
   "execution_count": 23,
   "metadata": {},
   "outputs": [],
   "source": [
    "def extract_noun(text):\n",
    "    doc = nlp(text)\n",
    "    for sentence in doc.sentences:\n",
    "        for word in sentence.words:\n",
    "            lemma = word.lemma.split('+')\n",
    "            xpos = word.xpos.split('+')\n",
    "            \n",
    "            for tok, pos in zip(lemma, xpos):\n",
    "                if pos.startswith('n'):\n",
    "                    yield tok"
   ]
  },
  {
   "cell_type": "code",
   "execution_count": 24,
   "metadata": {},
   "outputs": [],
   "source": [
    "def extract_noun(text):\n",
    "    doc = nlp(text)\n",
    "    nouns = []\n",
    "    for sentence in doc.sentences:\n",
    "        for word in sentence.words:\n",
    "            lemma = word.lemma.split('+')\n",
    "            xpos = word.xpos.split('+')\n",
    "            \n",
    "            for tok, pos in zip(lemma, xpos):\n",
    "                if pos.startswith('n'):\n",
    "                    nouns.append(tok)\n",
    "    return nouns"
   ]
  },
  {
   "cell_type": "code",
   "execution_count": 25,
   "metadata": {},
   "outputs": [
    {
     "data": {
      "text/plain": [
       "['편의점', '알바']"
      ]
     },
     "execution_count": 25,
     "metadata": {},
     "output_type": "execute_result"
    }
   ],
   "source": [
    "list(extract_noun('편의점에서 알바를 한다.'))"
   ]
  },
  {
   "cell_type": "code",
   "execution_count": null,
   "metadata": {},
   "outputs": [],
   "source": []
  },
  {
   "cell_type": "code",
   "execution_count": null,
   "metadata": {},
   "outputs": [],
   "source": []
  }
 ],
 "metadata": {
  "kernelspec": {
   "display_name": "Python 3",
   "language": "python",
   "name": "python3"
  },
  "language_info": {
   "codemirror_mode": {
    "name": "ipython",
    "version": 3
   },
   "file_extension": ".py",
   "mimetype": "text/x-python",
   "name": "python",
   "nbconvert_exporter": "python",
   "pygments_lexer": "ipython3",
   "version": "3.8.5"
  }
 },
 "nbformat": 4,
 "nbformat_minor": 4
}
