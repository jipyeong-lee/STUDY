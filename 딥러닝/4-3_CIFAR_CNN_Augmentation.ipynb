{
 "cells": [
  {
   "cell_type": "markdown",
   "metadata": {
    "id": "oH6-1Qpy5eWE"
   },
   "source": [
    "# CIFAR-10 데이터에 Augmentation 기법을 활용\n",
    "- Data augmentation : 기존 이미지에 변형을 주어 변형된 이미지를 이용해 모델 학습\n",
    "  - 자르기, 회전하기, 반전하기 등 사람의 눈으로 확인했을 때 동일한 클래스로 분류할 수 있는 수준의 변형을 가해야 함\n",
    "  "
   ]
  },
  {
   "cell_type": "code",
   "execution_count": 1,
   "metadata": {
    "executionInfo": {
     "elapsed": 25068,
     "status": "ok",
     "timestamp": 1634607863337,
     "user": {
      "displayName": "‍박종혁(교원-빅데이터경영통계전공)",
      "photoUrl": "https://lh3.googleusercontent.com/a/default-user=s64",
      "userId": "05107650215573502422"
     },
     "user_tz": -540
    },
    "id": "LeM_gT3j5ZPu"
   },
   "outputs": [],
   "source": [
    "''' 1. Module Import '''\n",
    "import numpy as np\n",
    "import matplotlib.pyplot as plt\n",
    "\n",
    "import torch\n",
    "import torch.nn as nn\n",
    "import torch.nn.functional as F\n",
    "from torchvision import transforms, datasets"
   ]
  },
  {
   "cell_type": "code",
   "execution_count": 2,
   "metadata": {
    "colab": {
     "base_uri": "https://localhost:8080/"
    },
    "executionInfo": {
     "elapsed": 276,
     "status": "ok",
     "timestamp": 1634607869347,
     "user": {
      "displayName": "‍박종혁(교원-빅데이터경영통계전공)",
      "photoUrl": "https://lh3.googleusercontent.com/a/default-user=s64",
      "userId": "05107650215573502422"
     },
     "user_tz": -540
    },
    "id": "zvwDl8345ZPw",
    "outputId": "8ddee80d-da3f-4f91-b730-5d692ea748e1"
   },
   "outputs": [
    {
     "name": "stdout",
     "output_type": "stream",
     "text": [
      "Using PyTorch version: 1.9.1  Device: cuda\n"
     ]
    }
   ],
   "source": [
    "''' 2. 딥러닝 모델을 설계할 때 활용하는 장비 확인 '''\n",
    "if torch.cuda.is_available():\n",
    "    DEVICE = torch.device('cuda')\n",
    "else:\n",
    "    DEVICE = torch.device('cpu')\n",
    "print('Using PyTorch version:', torch.__version__, ' Device:', DEVICE)"
   ]
  },
  {
   "cell_type": "code",
   "execution_count": 3,
   "metadata": {
    "executionInfo": {
     "elapsed": 272,
     "status": "ok",
     "timestamp": 1634607879975,
     "user": {
      "displayName": "‍박종혁(교원-빅데이터경영통계전공)",
      "photoUrl": "https://lh3.googleusercontent.com/a/default-user=s64",
      "userId": "05107650215573502422"
     },
     "user_tz": -540
    },
    "id": "6gtSwKZr5ZPx"
   },
   "outputs": [],
   "source": [
    "BATCH_SIZE = 32\n",
    "EPOCHS = 10"
   ]
  },
  {
   "cell_type": "markdown",
   "metadata": {
    "id": "0qNZxUO056wv"
   },
   "source": [
    "- torchvision 모듈 내 transforms 함수를 활용, augmentation 수행\n",
    "  - `transforms.Compose()` : 불러오는 이미지 데이터에 전처리 및 augmentation을 다양하게 적용할 때 이용하는 Method\n",
    "    - `Compose`의 ()안에 있는 처리 과정을 거친 데이터를 불러오게 됨\n",
    "  - `transforms.RandomHorizontalFlip()` : 해당 이미지를 50% 확률로 좌우 반전\n",
    "  - `transforms.ToTensor()` : 0-1 정규화(Normalization) + Input을 Tensor 형태로 변환\n",
    "  - `transforms.Normalize((0.5, 0.5, 0.5), (0.5, 0.5, 0.5))` : 평균과 표준편차 활용한 표준화(Standardization)\n",
    "    - input에서 앞 tuple이 RGB 각각 channel에 대한 평균, 뒤 tuple이 RGB 각각 channel에 대한 표준편차를 의미\n",
    "  - 예시 : https://pytorch.org/vision/stable/auto_examples/plot_transforms.html#sphx-glr-auto-examples-plot-transforms-py\n",
    "  - doc : https://pytorch.org/vision/stable/transforms.html"
   ]
  },
  {
   "cell_type": "code",
   "execution_count": 4,
   "metadata": {
    "colab": {
     "base_uri": "https://localhost:8080/",
     "height": 85
    },
    "executionInfo": {
     "elapsed": 7190,
     "status": "ok",
     "timestamp": 1634608270502,
     "user": {
      "displayName": "‍박종혁(교원-빅데이터경영통계전공)",
      "photoUrl": "https://lh3.googleusercontent.com/a/default-user=s64",
      "userId": "05107650215573502422"
     },
     "user_tz": -540
    },
    "id": "mPc4dRXc5ZPy",
    "outputId": "fac8d825-dde5-4329-ef27-734195a2e3f2"
   },
   "outputs": [
    {
     "name": "stdout",
     "output_type": "stream",
     "text": [
      "Files already downloaded and verified\n"
     ]
    }
   ],
   "source": [
    "''' 3. Data Augmentation이 적용된 CIFAR10 데이터 다운로드 (Train set, Test set 분리하기) '''\n",
    "train_dataset = datasets.CIFAR10(root = \"./data/CIFAR_10\",\n",
    "                                  train = True,\n",
    "                                  download = True,\n",
    "                                  transform = transforms.Compose([\n",
    "                                    transforms.RandomHorizontalFlip(),\n",
    "                                    transforms.ToTensor(), \n",
    "                                    transforms.Normalize((0.5, 0.5, 0.5), (0.5, 0.5, 0.5))]))\n",
    "\n",
    "test_dataset = datasets.CIFAR10(root = \"./data/CIFAR_10\",\n",
    "                                train = False,\n",
    "                                transform = transforms.Compose([\n",
    "                                    # transforms.RandomHorizontalFlip(), # validation / test 데이터셋에서는 augmentation을 수행할 필요가 없음\n",
    "                                    transforms.ToTensor(),\n",
    "                                    transforms.Normalize((0.5, 0.5, 0.5), (0.5, 0.5, 0.5))]))\n",
    "\n",
    "\n",
    "train_loader = torch.utils.data.DataLoader(dataset = train_dataset,\n",
    "                                            batch_size = BATCH_SIZE,\n",
    "                                            shuffle = True)\n",
    "\n",
    "test_loader = torch.utils.data.DataLoader(dataset = test_dataset,\n",
    "                                          batch_size = BATCH_SIZE,\n",
    "                                          shuffle = False)"
   ]
  },
  {
   "cell_type": "code",
   "execution_count": 5,
   "metadata": {
    "colab": {
     "base_uri": "https://localhost:8080/"
    },
    "executionInfo": {
     "elapsed": 633,
     "status": "ok",
     "timestamp": 1634608299053,
     "user": {
      "displayName": "‍박종혁(교원-빅데이터경영통계전공)",
      "photoUrl": "https://lh3.googleusercontent.com/a/default-user=s64",
      "userId": "05107650215573502422"
     },
     "user_tz": -540
    },
    "id": "SxoDcWqf5ZPy",
    "outputId": "c078f9a7-b75e-43eb-9bda-57c831971734"
   },
   "outputs": [
    {
     "name": "stdout",
     "output_type": "stream",
     "text": [
      "X_train: torch.Size([32, 3, 32, 32]) type: torch.FloatTensor\n",
      "y_train: torch.Size([32]) type: torch.LongTensor\n"
     ]
    }
   ],
   "source": [
    "''' 4. 데이터 확인하기 (1) '''\n",
    "for (X_train, y_train) in train_loader:\n",
    "    print('X_train:', X_train.size(), 'type:', X_train.type())\n",
    "    print('y_train:', y_train.size(), 'type:', y_train.type())\n",
    "    break"
   ]
  },
  {
   "cell_type": "code",
   "execution_count": 6,
   "metadata": {
    "colab": {
     "base_uri": "https://localhost:8080/",
     "height": 274
    },
    "executionInfo": {
     "elapsed": 902,
     "status": "ok",
     "timestamp": 1634608303240,
     "user": {
      "displayName": "‍박종혁(교원-빅데이터경영통계전공)",
      "photoUrl": "https://lh3.googleusercontent.com/a/default-user=s64",
      "userId": "05107650215573502422"
     },
     "user_tz": -540
    },
    "id": "dmgZVTyT5ZPz",
    "outputId": "5a81560c-6228-4523-8c77-6159d031c87b"
   },
   "outputs": [
    {
     "name": "stderr",
     "output_type": "stream",
     "text": [
      "Clipping input data to the valid range for imshow with RGB data ([0..1] for floats or [0..255] for integers).\n",
      "Clipping input data to the valid range for imshow with RGB data ([0..1] for floats or [0..255] for integers).\n",
      "Clipping input data to the valid range for imshow with RGB data ([0..1] for floats or [0..255] for integers).\n",
      "Clipping input data to the valid range for imshow with RGB data ([0..1] for floats or [0..255] for integers).\n",
      "Clipping input data to the valid range for imshow with RGB data ([0..1] for floats or [0..255] for integers).\n",
      "Clipping input data to the valid range for imshow with RGB data ([0..1] for floats or [0..255] for integers).\n",
      "Clipping input data to the valid range for imshow with RGB data ([0..1] for floats or [0..255] for integers).\n",
      "Clipping input data to the valid range for imshow with RGB data ([0..1] for floats or [0..255] for integers).\n",
      "Clipping input data to the valid range for imshow with RGB data ([0..1] for floats or [0..255] for integers).\n",
      "Clipping input data to the valid range for imshow with RGB data ([0..1] for floats or [0..255] for integers).\n"
     ]
    },
    {
     "data": {
      "image/png": "[encoded data removed]",
      "text/plain": [
       "<Figure size 720x72 with 10 Axes>"
      ]
     },
     "metadata": {
      "needs_background": "light"
     },
     "output_type": "display_data"
    }
   ],
   "source": [
    "''' 5. 데이터 확인하기 (2) '''\n",
    "pltsize = 1\n",
    "plt.figure(figsize=(10 * pltsize, pltsize))\n",
    "\n",
    "for i in range(10):\n",
    "    plt.subplot(1, 10, i + 1)\n",
    "    plt.axis('off')\n",
    "    plt.imshow(np.transpose(X_train[i], (1, 2, 0)))\n",
    "    plt.title('Class: ' + str(y_train[i].item()))"
   ]
  },
  {
   "cell_type": "code",
   "execution_count": 7,
   "metadata": {
    "executionInfo": {
     "elapsed": 253,
     "status": "ok",
     "timestamp": 1634608323572,
     "user": {
      "displayName": "‍박종혁(교원-빅데이터경영통계전공)",
      "photoUrl": "https://lh3.googleusercontent.com/a/default-user=s64",
      "userId": "05107650215573502422"
     },
     "user_tz": -540
    },
    "id": "wKqgoeM85ZPz"
   },
   "outputs": [],
   "source": [
    "''' 6. Convolutional Neural Network (CNN) 모델 설계하기 '''\n",
    "class CNN(nn.Module):\n",
    "    def __init__(self):\n",
    "        super(CNN, self).__init__()\n",
    "        self.conv1 = nn.Conv2d(in_channels = 3, out_channels = 8, kernel_size = 3, padding = 1)\n",
    "        self.conv2 = nn.Conv2d(in_channels = 8, out_channels = 16, kernel_size = 3, padding = 1)\n",
    "        self.pool = nn.MaxPool2d(kernel_size = 2, stride = 2)\n",
    "        self.fc1 = nn.Linear(8 * 8 * 16, 64)\n",
    "        self.fc2 = nn.Linear(64, 32)\n",
    "        self.fc3 = nn.Linear(32, 10)\n",
    "        \n",
    "    def forward(self, x):\n",
    "        x = self.conv1(x)\n",
    "        x = F.relu(x)\n",
    "        x = self.pool(x)\n",
    "        x = self.conv2(x)\n",
    "        x = F.relu(x)\n",
    "        x = self.pool(x)\n",
    "        \n",
    "        x = x.view(-1, 8 * 8 * 16)\n",
    "        x = self.fc1(x)\n",
    "        x = F.relu(x)\n",
    "        x = self.fc2(x)\n",
    "        x = F.relu(x)\n",
    "        x = self.fc3(x)\n",
    "        # x = F.log_softmax(x)\n",
    "        return x"
   ]
  },
  {
   "cell_type": "code",
   "execution_count": 8,
   "metadata": {
    "colab": {
     "base_uri": "https://localhost:8080/"
    },
    "executionInfo": {
     "elapsed": 14732,
     "status": "ok",
     "timestamp": 1634608340346,
     "user": {
      "displayName": "‍박종혁(교원-빅데이터경영통계전공)",
      "photoUrl": "https://lh3.googleusercontent.com/a/default-user=s64",
      "userId": "05107650215573502422"
     },
     "user_tz": -540
    },
    "id": "huwT1BIH5ZP0",
    "outputId": "02101c25-c8b1-4a74-f009-d6f9be22f1ef"
   },
   "outputs": [
    {
     "name": "stdout",
     "output_type": "stream",
     "text": [
      "CNN(\n",
      "  (conv1): Conv2d(3, 8, kernel_size=(3, 3), stride=(1, 1), padding=(1, 1))\n",
      "  (conv2): Conv2d(8, 16, kernel_size=(3, 3), stride=(1, 1), padding=(1, 1))\n",
      "  (pool): MaxPool2d(kernel_size=2, stride=2, padding=0, dilation=1, ceil_mode=False)\n",
      "  (fc1): Linear(in_features=1024, out_features=64, bias=True)\n",
      "  (fc2): Linear(in_features=64, out_features=32, bias=True)\n",
      "  (fc3): Linear(in_features=32, out_features=10, bias=True)\n",
      ")\n"
     ]
    }
   ],
   "source": [
    "''' 7. Optimizer, Objective Function 설정하기 '''\n",
    "model = CNN().to(DEVICE)\n",
    "optimizer = torch.optim.Adam(model.parameters(), lr = 0.001)\n",
    "criterion = nn.CrossEntropyLoss()\n",
    "\n",
    "print(model)"
   ]
  },
  {
   "cell_type": "code",
   "execution_count": 9,
   "metadata": {
    "executionInfo": {
     "elapsed": 273,
     "status": "ok",
     "timestamp": 1634608344781,
     "user": {
      "displayName": "‍박종혁(교원-빅데이터경영통계전공)",
      "photoUrl": "https://lh3.googleusercontent.com/a/default-user=s64",
      "userId": "05107650215573502422"
     },
     "user_tz": -540
    },
    "id": "FIPiwXLs5ZP1"
   },
   "outputs": [],
   "source": [
    "''' 8. CNN 모델 학습을 진행하며 학습 데이터에 대한 모델 성능을 확인하는 함수 정의 '''\n",
    "def train(model, train_loader, optimizer, log_interval):\n",
    "    model.train()\n",
    "    for batch_idx, (image, label) in enumerate(train_loader):\n",
    "        image = image.to(DEVICE)\n",
    "        label = label.to(DEVICE)\n",
    "        optimizer.zero_grad()\n",
    "        output = model(image)\n",
    "        loss = criterion(output, label)\n",
    "        loss.backward()\n",
    "        optimizer.step()\n",
    "\n",
    "        if batch_idx % log_interval == 0:\n",
    "            print(\"Train Epoch: {} [{}/{} ({:.0f}%)]\\tTrain Loss: {:.6f}\".format(\n",
    "                epoch, batch_idx * len(image), \n",
    "                len(train_loader.dataset), 100. * batch_idx / len(train_loader), \n",
    "                loss.item()))"
   ]
  },
  {
   "cell_type": "code",
   "execution_count": 10,
   "metadata": {
    "executionInfo": {
     "elapsed": 245,
     "status": "ok",
     "timestamp": 1634608350061,
     "user": {
      "displayName": "‍박종혁(교원-빅데이터경영통계전공)",
      "photoUrl": "https://lh3.googleusercontent.com/a/default-user=s64",
      "userId": "05107650215573502422"
     },
     "user_tz": -540
    },
    "id": "9AS101pM5ZP1"
   },
   "outputs": [],
   "source": [
    "''' 9. 학습되는 과정 속에서 검증 데이터에 대한 모델 성능을 확인하는 함수 정의 '''\n",
    "def evaluate(model, test_loader):\n",
    "    model.eval()\n",
    "    test_loss = 0\n",
    "    correct = 0\n",
    "\n",
    "    with torch.no_grad():\n",
    "        for image, label in test_loader:\n",
    "            image = image.to(DEVICE)\n",
    "            label = label.to(DEVICE)\n",
    "            output = model(image)\n",
    "            test_loss += criterion(output, label).item()\n",
    "            prediction = output.max(1, keepdim = True)[1]\n",
    "            correct += prediction.eq(label.view_as(prediction)).sum().item()\n",
    "    \n",
    "    test_loss /= len(test_loader.dataset)\n",
    "    test_accuracy = 100. * correct / len(test_loader.dataset)\n",
    "    return test_loss, test_accuracy"
   ]
  },
  {
   "cell_type": "code",
   "execution_count": 11,
   "metadata": {
    "colab": {
     "background_save": true,
     "base_uri": "https://localhost:8080/"
    },
    "id": "6TVnsAFZ5ZP2"
   },
   "outputs": [
    {
     "name": "stdout",
     "output_type": "stream",
     "text": [
      "Train Epoch: 1 [0/50000 (0%)]\tTrain Loss: 2.291409\n",
      "Train Epoch: 1 [6400/50000 (13%)]\tTrain Loss: 1.895636\n",
      "Train Epoch: 1 [12800/50000 (26%)]\tTrain Loss: 1.642756\n",
      "Train Epoch: 1 [19200/50000 (38%)]\tTrain Loss: 1.578758\n",
      "Train Epoch: 1 [25600/50000 (51%)]\tTrain Loss: 1.560674\n",
      "Train Epoch: 1 [32000/50000 (64%)]\tTrain Loss: 1.333961\n",
      "Train Epoch: 1 [38400/50000 (77%)]\tTrain Loss: 1.466373\n",
      "Train Epoch: 1 [44800/50000 (90%)]\tTrain Loss: 1.572250\n",
      "\n",
      "[EPOCH: 1], \tTest Loss: 0.0423, \tTest Accuracy: 51.51 % \n",
      "\n",
      "Train Epoch: 2 [0/50000 (0%)]\tTrain Loss: 1.405411\n",
      "Train Epoch: 2 [6400/50000 (13%)]\tTrain Loss: 1.380639\n",
      "Train Epoch: 2 [12800/50000 (26%)]\tTrain Loss: 1.256532\n",
      "Train Epoch: 2 [19200/50000 (38%)]\tTrain Loss: 1.569641\n",
      "Train Epoch: 2 [25600/50000 (51%)]\tTrain Loss: 1.316159\n",
      "Train Epoch: 2 [32000/50000 (64%)]\tTrain Loss: 1.252489\n",
      "Train Epoch: 2 [38400/50000 (77%)]\tTrain Loss: 1.226853\n",
      "Train Epoch: 2 [44800/50000 (90%)]\tTrain Loss: 1.187641\n",
      "\n",
      "[EPOCH: 2], \tTest Loss: 0.0386, \tTest Accuracy: 55.25 % \n",
      "\n",
      "Train Epoch: 3 [0/50000 (0%)]\tTrain Loss: 1.236155\n",
      "Train Epoch: 3 [6400/50000 (13%)]\tTrain Loss: 1.185984\n",
      "Train Epoch: 3 [12800/50000 (26%)]\tTrain Loss: 1.128527\n",
      "Train Epoch: 3 [19200/50000 (38%)]\tTrain Loss: 1.103393\n",
      "Train Epoch: 3 [25600/50000 (51%)]\tTrain Loss: 1.201663\n",
      "Train Epoch: 3 [32000/50000 (64%)]\tTrain Loss: 1.278188\n",
      "Train Epoch: 3 [38400/50000 (77%)]\tTrain Loss: 1.067261\n",
      "Train Epoch: 3 [44800/50000 (90%)]\tTrain Loss: 0.966981\n",
      "\n",
      "[EPOCH: 3], \tTest Loss: 0.0351, \tTest Accuracy: 60.11 % \n",
      "\n",
      "Train Epoch: 4 [0/50000 (0%)]\tTrain Loss: 0.904669\n",
      "Train Epoch: 4 [6400/50000 (13%)]\tTrain Loss: 1.163965\n",
      "Train Epoch: 4 [12800/50000 (26%)]\tTrain Loss: 1.277473\n",
      "Train Epoch: 4 [19200/50000 (38%)]\tTrain Loss: 1.040113\n",
      "Train Epoch: 4 [25600/50000 (51%)]\tTrain Loss: 1.224268\n",
      "Train Epoch: 4 [32000/50000 (64%)]\tTrain Loss: 0.918986\n",
      "Train Epoch: 4 [38400/50000 (77%)]\tTrain Loss: 0.875317\n",
      "Train Epoch: 4 [44800/50000 (90%)]\tTrain Loss: 0.834682\n",
      "\n",
      "[EPOCH: 4], \tTest Loss: 0.0339, \tTest Accuracy: 61.78 % \n",
      "\n",
      "Train Epoch: 5 [0/50000 (0%)]\tTrain Loss: 1.116332\n",
      "Train Epoch: 5 [6400/50000 (13%)]\tTrain Loss: 0.945341\n",
      "Train Epoch: 5 [12800/50000 (26%)]\tTrain Loss: 0.910836\n",
      "Train Epoch: 5 [19200/50000 (38%)]\tTrain Loss: 1.208500\n",
      "Train Epoch: 5 [25600/50000 (51%)]\tTrain Loss: 1.161769\n",
      "Train Epoch: 5 [32000/50000 (64%)]\tTrain Loss: 1.082698\n",
      "Train Epoch: 5 [38400/50000 (77%)]\tTrain Loss: 1.067341\n",
      "Train Epoch: 5 [44800/50000 (90%)]\tTrain Loss: 1.101304\n",
      "\n",
      "[EPOCH: 5], \tTest Loss: 0.0318, \tTest Accuracy: 64.36 % \n",
      "\n",
      "Train Epoch: 6 [0/50000 (0%)]\tTrain Loss: 0.941233\n",
      "Train Epoch: 6 [6400/50000 (13%)]\tTrain Loss: 1.189116\n",
      "Train Epoch: 6 [12800/50000 (26%)]\tTrain Loss: 0.780670\n",
      "Train Epoch: 6 [19200/50000 (38%)]\tTrain Loss: 0.902044\n",
      "Train Epoch: 6 [25600/50000 (51%)]\tTrain Loss: 1.109237\n",
      "Train Epoch: 6 [32000/50000 (64%)]\tTrain Loss: 0.847630\n",
      "Train Epoch: 6 [38400/50000 (77%)]\tTrain Loss: 0.577001\n",
      "Train Epoch: 6 [44800/50000 (90%)]\tTrain Loss: 1.061616\n",
      "\n",
      "[EPOCH: 6], \tTest Loss: 0.0307, \tTest Accuracy: 65.33 % \n",
      "\n",
      "Train Epoch: 7 [0/50000 (0%)]\tTrain Loss: 1.508734\n",
      "Train Epoch: 7 [6400/50000 (13%)]\tTrain Loss: 0.910971\n",
      "Train Epoch: 7 [12800/50000 (26%)]\tTrain Loss: 0.636999\n",
      "Train Epoch: 7 [19200/50000 (38%)]\tTrain Loss: 0.974194\n",
      "Train Epoch: 7 [25600/50000 (51%)]\tTrain Loss: 0.768267\n",
      "Train Epoch: 7 [32000/50000 (64%)]\tTrain Loss: 0.979384\n",
      "Train Epoch: 7 [38400/50000 (77%)]\tTrain Loss: 1.300187\n",
      "Train Epoch: 7 [44800/50000 (90%)]\tTrain Loss: 0.883088\n",
      "\n",
      "[EPOCH: 7], \tTest Loss: 0.0305, \tTest Accuracy: 65.78 % \n",
      "\n",
      "Train Epoch: 8 [0/50000 (0%)]\tTrain Loss: 0.540491\n",
      "Train Epoch: 8 [6400/50000 (13%)]\tTrain Loss: 1.034902\n",
      "Train Epoch: 8 [12800/50000 (26%)]\tTrain Loss: 0.641724\n",
      "Train Epoch: 8 [19200/50000 (38%)]\tTrain Loss: 1.201637\n",
      "Train Epoch: 8 [25600/50000 (51%)]\tTrain Loss: 0.614564\n",
      "Train Epoch: 8 [32000/50000 (64%)]\tTrain Loss: 0.873165\n",
      "Train Epoch: 8 [38400/50000 (77%)]\tTrain Loss: 0.881351\n",
      "Train Epoch: 8 [44800/50000 (90%)]\tTrain Loss: 0.896281\n",
      "\n",
      "[EPOCH: 8], \tTest Loss: 0.0303, \tTest Accuracy: 65.68 % \n",
      "\n",
      "Train Epoch: 9 [0/50000 (0%)]\tTrain Loss: 1.092919\n",
      "Train Epoch: 9 [6400/50000 (13%)]\tTrain Loss: 0.812573\n",
      "Train Epoch: 9 [12800/50000 (26%)]\tTrain Loss: 0.659184\n",
      "Train Epoch: 9 [19200/50000 (38%)]\tTrain Loss: 1.014082\n",
      "Train Epoch: 9 [25600/50000 (51%)]\tTrain Loss: 0.845702\n",
      "Train Epoch: 9 [32000/50000 (64%)]\tTrain Loss: 1.028904\n",
      "Train Epoch: 9 [38400/50000 (77%)]\tTrain Loss: 1.297996\n",
      "Train Epoch: 9 [44800/50000 (90%)]\tTrain Loss: 1.013551\n",
      "\n",
      "[EPOCH: 9], \tTest Loss: 0.0294, \tTest Accuracy: 67.16 % \n",
      "\n",
      "Train Epoch: 10 [0/50000 (0%)]\tTrain Loss: 0.462278\n",
      "Train Epoch: 10 [6400/50000 (13%)]\tTrain Loss: 0.884712\n",
      "Train Epoch: 10 [12800/50000 (26%)]\tTrain Loss: 1.061680\n",
      "Train Epoch: 10 [19200/50000 (38%)]\tTrain Loss: 1.057032\n",
      "Train Epoch: 10 [25600/50000 (51%)]\tTrain Loss: 1.226413\n",
      "Train Epoch: 10 [32000/50000 (64%)]\tTrain Loss: 0.991101\n",
      "Train Epoch: 10 [38400/50000 (77%)]\tTrain Loss: 0.700181\n",
      "Train Epoch: 10 [44800/50000 (90%)]\tTrain Loss: 0.990046\n",
      "\n",
      "[EPOCH: 10], \tTest Loss: 0.0292, \tTest Accuracy: 67.39 % \n",
      "\n"
     ]
    }
   ],
   "source": [
    "''' 10. CNN 학습 실행하며 Train, Test set의 Loss 및 Test set Accuracy 확인하기 '''\n",
    "for epoch in range(1, EPOCHS + 1):\n",
    "    train(model, train_loader, optimizer, log_interval = 200)\n",
    "    test_loss, test_accuracy = evaluate(model, test_loader)\n",
    "    print(\"\\n[EPOCH: {}], \\tTest Loss: {:.4f}, \\tTest Accuracy: {:.2f} % \\n\".format(\n",
    "        epoch, test_loss, test_accuracy))"
   ]
  },
  {
   "cell_type": "code",
   "execution_count": null,
   "metadata": {},
   "outputs": [],
   "source": []
  }
 ],
 "metadata": {
  "accelerator": "GPU",
  "colab": {
   "collapsed_sections": [],
   "name": "4-3_CIFAR_CNN_Augmentation.ipynb",
   "version": ""
  },
  "kernelspec": {
   "display_name": "Python 3",
   "language": "python",
   "name": "python3"
  },
  "language_info": {
   "codemirror_mode": {
    "name": "ipython",
    "version": 3
   },
   "file_extension": ".py",
   "mimetype": "text/x-python",
   "name": "python",
   "nbconvert_exporter": "python",
   "pygments_lexer": "ipython3",
   "version": "3.8.5"
  },
  "varInspector": {
   "cols": {
    "lenName": 16,
    "lenType": 16,
    "lenVar": 40
   },
   "kernels_config": {
    "python": {
     "delete_cmd_postfix": "",
     "delete_cmd_prefix": "del ",
     "library": "var_list.py",
     "varRefreshCmd": "print(var_dic_list())"
    },
    "r": {
     "delete_cmd_postfix": ") ",
     "delete_cmd_prefix": "rm(",
     "library": "var_list.r",
     "varRefreshCmd": "cat(var_dic_list()) "
    }
   },
   "types_to_exclude": [
    "module",
    "function",
    "builtin_function_or_method",
    "instance",
    "_Feature"
   ],
   "window_display": false
  },
  "widgets": {
   "application/vnd.jupyter.widget-state+json": {
    "427eda7ff8334029b303da130febf502": {
     "model_module": "@jupyter-widgets/controls",
     "model_module_version": "1.5.0",
     "model_name": "HBoxModel",
     "state": {
      "_dom_classes": [],
      "_model_module": "@jupyter-widgets/controls",
      "_model_module_version": "1.5.0",
      "_model_name": "HBoxModel",
      "_view_count": null,
      "_view_module": "@jupyter-widgets/controls",
      "_view_module_version": "1.5.0",
      "_view_name": "HBoxView",
      "box_style": "",
      "children": [
       "IPY_MODEL_b78c1adf2b184770bc7e22e0330201a6",
       "IPY_MODEL_751a8577c7a443a6b4d7c1f884df9b3a",
       "IPY_MODEL_b4d7e82ddc38461c8ca45a204730e7cd"
      ],
      "layout": "IPY_MODEL_b375693678384a0d867632b1abb63bbc"
     }
    },
    "475ac23d8e8d4f08b8a00393da64badb": {
     "model_module": "@jupyter-widgets/controls",
     "model_module_version": "1.5.0",
     "model_name": "DescriptionStyleModel",
     "state": {
      "_model_module": "@jupyter-widgets/controls",
      "_model_module_version": "1.5.0",
      "_model_name": "DescriptionStyleModel",
      "_view_count": null,
      "_view_module": "@jupyter-widgets/base",
      "_view_module_version": "1.2.0",
      "_view_name": "StyleView",
      "description_width": ""
     }
    },
    "55cf2510d5224dc08e9f6f71e2430319": {
     "model_module": "@jupyter-widgets/base",
     "model_module_version": "1.2.0",
     "model_name": "LayoutModel",
     "state": {
      "_model_module": "@jupyter-widgets/base",
      "_model_module_version": "1.2.0",
      "_model_name": "LayoutModel",
      "_view_count": null,
      "_view_module": "@jupyter-widgets/base",
      "_view_module_version": "1.2.0",
      "_view_name": "LayoutView",
      "align_content": null,
      "align_items": null,
      "align_self": null,
      "border": null,
      "bottom": null,
      "display": null,
      "flex": null,
      "flex_flow": null,
      "grid_area": null,
      "grid_auto_columns": null,
      "grid_auto_flow": null,
      "grid_auto_rows": null,
      "grid_column": null,
      "grid_gap": null,
      "grid_row": null,
      "grid_template_areas": null,
      "grid_template_columns": null,
      "grid_template_rows": null,
      "height": null,
      "justify_content": null,
      "justify_items": null,
      "left": null,
      "margin": null,
      "max_height": null,
      "max_width": null,
      "min_height": null,
      "min_width": null,
      "object_fit": null,
      "object_position": null,
      "order": null,
      "overflow": null,
      "overflow_x": null,
      "overflow_y": null,
      "padding": null,
      "right": null,
      "top": null,
      "visibility": null,
      "width": null
     }
    },
    "751a8577c7a443a6b4d7c1f884df9b3a": {
     "model_module": "@jupyter-widgets/controls",
     "model_module_version": "1.5.0",
     "model_name": "FloatProgressModel",
     "state": {
      "_dom_classes": [],
      "_model_module": "@jupyter-widgets/controls",
      "_model_module_version": "1.5.0",
      "_model_name": "FloatProgressModel",
      "_view_count": null,
      "_view_module": "@jupyter-widgets/controls",
      "_view_module_version": "1.5.0",
      "_view_name": "ProgressView",
      "bar_style": "success",
      "description": "",
      "description_tooltip": null,
      "layout": "IPY_MODEL_d4ec976c32cf4e068227b68edc9d142b",
      "max": 170498071,
      "min": 0,
      "orientation": "horizontal",
      "style": "IPY_MODEL_c190e1026dd24456b5576af14abfafcc",
      "value": 170498071
     }
    },
    "7bbaf39cecfb4c909eea515b3b68ec5b": {
     "model_module": "@jupyter-widgets/base",
     "model_module_version": "1.2.0",
     "model_name": "LayoutModel",
     "state": {
      "_model_module": "@jupyter-widgets/base",
      "_model_module_version": "1.2.0",
      "_model_name": "LayoutModel",
      "_view_count": null,
      "_view_module": "@jupyter-widgets/base",
      "_view_module_version": "1.2.0",
      "_view_name": "LayoutView",
      "align_content": null,
      "align_items": null,
      "align_self": null,
      "border": null,
      "bottom": null,
      "display": null,
      "flex": null,
      "flex_flow": null,
      "grid_area": null,
      "grid_auto_columns": null,
      "grid_auto_flow": null,
      "grid_auto_rows": null,
      "grid_column": null,
      "grid_gap": null,
      "grid_row": null,
      "grid_template_areas": null,
      "grid_template_columns": null,
      "grid_template_rows": null,
      "height": null,
      "justify_content": null,
      "justify_items": null,
      "left": null,
      "margin": null,
      "max_height": null,
      "max_width": null,
      "min_height": null,
      "min_width": null,
      "object_fit": null,
      "object_position": null,
      "order": null,
      "overflow": null,
      "overflow_x": null,
      "overflow_y": null,
      "padding": null,
      "right": null,
      "top": null,
      "visibility": null,
      "width": null
     }
    },
    "80a6643233974b57a5c342961f7be52d": {
     "model_module": "@jupyter-widgets/controls",
     "model_module_version": "1.5.0",
     "model_name": "DescriptionStyleModel",
     "state": {
      "_model_module": "@jupyter-widgets/controls",
      "_model_module_version": "1.5.0",
      "_model_name": "DescriptionStyleModel",
      "_view_count": null,
      "_view_module": "@jupyter-widgets/base",
      "_view_module_version": "1.2.0",
      "_view_name": "StyleView",
      "description_width": ""
     }
    },
    "b375693678384a0d867632b1abb63bbc": {
     "model_module": "@jupyter-widgets/base",
     "model_module_version": "1.2.0",
     "model_name": "LayoutModel",
     "state": {
      "_model_module": "@jupyter-widgets/base",
      "_model_module_version": "1.2.0",
      "_model_name": "LayoutModel",
      "_view_count": null,
      "_view_module": "@jupyter-widgets/base",
      "_view_module_version": "1.2.0",
      "_view_name": "LayoutView",
      "align_content": null,
      "align_items": null,
      "align_self": null,
      "border": null,
      "bottom": null,
      "display": null,
      "flex": null,
      "flex_flow": null,
      "grid_area": null,
      "grid_auto_columns": null,
      "grid_auto_flow": null,
      "grid_auto_rows": null,
      "grid_column": null,
      "grid_gap": null,
      "grid_row": null,
      "grid_template_areas": null,
      "grid_template_columns": null,
      "grid_template_rows": null,
      "height": null,
      "justify_content": null,
      "justify_items": null,
      "left": null,
      "margin": null,
      "max_height": null,
      "max_width": null,
      "min_height": null,
      "min_width": null,
      "object_fit": null,
      "object_position": null,
      "order": null,
      "overflow": null,
      "overflow_x": null,
      "overflow_y": null,
      "padding": null,
      "right": null,
      "top": null,
      "visibility": null,
      "width": null
     }
    },
    "b4d7e82ddc38461c8ca45a204730e7cd": {
     "model_module": "@jupyter-widgets/controls",
     "model_module_version": "1.5.0",
     "model_name": "HTMLModel",
     "state": {
      "_dom_classes": [],
      "_model_module": "@jupyter-widgets/controls",
      "_model_module_version": "1.5.0",
      "_model_name": "HTMLModel",
      "_view_count": null,
      "_view_module": "@jupyter-widgets/controls",
      "_view_module_version": "1.5.0",
      "_view_name": "HTMLView",
      "description": "",
      "description_tooltip": null,
      "layout": "IPY_MODEL_55cf2510d5224dc08e9f6f71e2430319",
      "placeholder": "​",
      "style": "IPY_MODEL_80a6643233974b57a5c342961f7be52d",
      "value": " 170499072/? [00:03&lt;00:00, 55352852.85it/s]"
     }
    },
    "b78c1adf2b184770bc7e22e0330201a6": {
     "model_module": "@jupyter-widgets/controls",
     "model_module_version": "1.5.0",
     "model_name": "HTMLModel",
     "state": {
      "_dom_classes": [],
      "_model_module": "@jupyter-widgets/controls",
      "_model_module_version": "1.5.0",
      "_model_name": "HTMLModel",
      "_view_count": null,
      "_view_module": "@jupyter-widgets/controls",
      "_view_module_version": "1.5.0",
      "_view_name": "HTMLView",
      "description": "",
      "description_tooltip": null,
      "layout": "IPY_MODEL_7bbaf39cecfb4c909eea515b3b68ec5b",
      "placeholder": "​",
      "style": "IPY_MODEL_475ac23d8e8d4f08b8a00393da64badb",
      "value": ""
     }
    },
    "c190e1026dd24456b5576af14abfafcc": {
     "model_module": "@jupyter-widgets/controls",
     "model_module_version": "1.5.0",
     "model_name": "ProgressStyleModel",
     "state": {
      "_model_module": "@jupyter-widgets/controls",
      "_model_module_version": "1.5.0",
      "_model_name": "ProgressStyleModel",
      "_view_count": null,
      "_view_module": "@jupyter-widgets/base",
      "_view_module_version": "1.2.0",
      "_view_name": "StyleView",
      "bar_color": null,
      "description_width": ""
     }
    },
    "d4ec976c32cf4e068227b68edc9d142b": {
     "model_module": "@jupyter-widgets/base",
     "model_module_version": "1.2.0",
     "model_name": "LayoutModel",
     "state": {
      "_model_module": "@jupyter-widgets/base",
      "_model_module_version": "1.2.0",
      "_model_name": "LayoutModel",
      "_view_count": null,
      "_view_module": "@jupyter-widgets/base",
      "_view_module_version": "1.2.0",
      "_view_name": "LayoutView",
      "align_content": null,
      "align_items": null,
      "align_self": null,
      "border": null,
      "bottom": null,
      "display": null,
      "flex": null,
      "flex_flow": null,
      "grid_area": null,
      "grid_auto_columns": null,
      "grid_auto_flow": null,
      "grid_auto_rows": null,
      "grid_column": null,
      "grid_gap": null,
      "grid_row": null,
      "grid_template_areas": null,
      "grid_template_columns": null,
      "grid_template_rows": null,
      "height": null,
      "justify_content": null,
      "justify_items": null,
      "left": null,
      "margin": null,
      "max_height": null,
      "max_width": null,
      "min_height": null,
      "min_width": null,
      "object_fit": null,
      "object_position": null,
      "order": null,
      "overflow": null,
      "overflow_x": null,
      "overflow_y": null,
      "padding": null,
      "right": null,
      "top": null,
      "visibility": null,
      "width": null
     }
    }
   }
  }
 },
 "nbformat": 4,
 "nbformat_minor": 1
}
