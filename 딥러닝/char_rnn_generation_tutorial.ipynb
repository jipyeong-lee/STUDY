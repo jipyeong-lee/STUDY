{
 "cells": [
  {
   "cell_type": "code",
   "execution_count": 2,
   "metadata": {
    "executionInfo": {
     "elapsed": 698,
     "status": "ok",
     "timestamp": 1638255574099,
     "user": {
      "displayName": "‍박종혁(교원-빅데이터경영통계전공)",
      "photoUrl": "https://lh3.googleusercontent.com/a/default-user=s64",
      "userId": "05107650215573502422"
     },
     "user_tz": -540
    },
    "id": "b7pKfjYdCVUs"
   },
   "outputs": [],
   "source": [
    "%matplotlib inline"
   ]
  },
  {
   "cell_type": "markdown",
   "metadata": {
    "id": "f5DDRWcBCVUu"
   },
   "source": [
    "\n",
    "기초부터 시작하는 NLP:  문자-단위 RNN으로 이름 생성하기\n",
    "********************************************************************************\n",
    "**Author**: `Sean Robertson <https://github.com/spro/practical-pytorch>`_\n",
    "  **번역**: `황성수 <https://github.com/adonisues>`_\n",
    "\n",
    "\n",
    "::\n",
    "\n",
    "    > python sample.py Russian RUS\n",
    "    Rovakov\n",
    "    Uantov\n",
    "    Shavakov\n",
    "\n",
    "    > python sample.py German GER\n",
    "    Gerren\n",
    "    Ereng\n",
    "    Rosher\n",
    "\n",
    "    > python sample.py Spanish SPA\n",
    "    Salla\n",
    "    Parer\n",
    "    Allan\n",
    "\n",
    "    > python sample.py Chinese CHI\n",
    "    Chan\n",
    "    Hang\n",
    "    Iun\n",
    "\n",
    "이번 실습은 언어를 입력하고 한 번에 한 글자를 생성하여 출력하는 것입니다.\n",
    "언어 형성(단어 또는 다른 고차원 구조로도 수행 될 수 있음)을 위해\n",
    "문자를 반복적으로 예측하는 것을 \"언어 모델\" 이라고 합니다.\n",
    "\n",
    "\n",
    "데이터 준비\n",
    "==================\n",
    "\n",
    ".. Note::\n",
    "   [여기](https://download.pytorch.org/tutorial/data.zip)\n",
    "   에서 데이터를 다운 받고, 현재 디렉토리에 압축을 푸십시오.\n",
    "\n",
    "이 과정의 더 자세한 사항은 지난 튜토리얼을 보십시오.\n",
    "요약하면, 줄마다 이름이 적힌 텍스트 파일 ``data/names/[Language].txt`` 있습니다.\n",
    "이것을 어레이로 분리하고, Unicode를 ASCII로 변경하고,\n",
    "사전 ``{language: [names ...]}`` 을 만들어서 마무리합니다.\n"
   ]
  },
  {
   "cell_type": "code",
   "execution_count": 3,
   "metadata": {
    "colab": {
     "base_uri": "https://localhost:8080/"
    },
    "executionInfo": {
     "elapsed": 798,
     "status": "ok",
     "timestamp": 1638255575478,
     "user": {
      "displayName": "‍박종혁(교원-빅데이터경영통계전공)",
      "photoUrl": "https://lh3.googleusercontent.com/a/default-user=s64",
      "userId": "05107650215573502422"
     },
     "user_tz": -540
    },
    "id": "281DNxyPDIId",
    "outputId": "a46640cd-8cf1-49b4-92be-a96b80a17fdd"
   },
   "outputs": [
    {
     "name": "stdout",
     "output_type": "stream",
     "text": [
      "--2021-11-30 06:59:34--  https://download.pytorch.org/tutorial/data.zip\n",
      "Resolving download.pytorch.org (download.pytorch.org)... 52.84.174.120, 52.84.174.38, 52.84.174.59, ...\n",
      "Connecting to download.pytorch.org (download.pytorch.org)|52.84.174.120|:443... connected.\n",
      "HTTP request sent, awaiting response... 200 OK\n",
      "Length: 2882130 (2.7M) [application/zip]\n",
      "Saving to: ‘data.zip’\n",
      "\n",
      "data.zip            100%[===================>]   2.75M  --.-KB/s    in 0.03s   \n",
      "\n",
      "2021-11-30 06:59:34 (82.1 MB/s) - ‘data.zip’ saved [2882130/2882130]\n",
      "\n",
      "Archive:  data.zip\n",
      "   creating: data/\n",
      "  inflating: data/eng-fra.txt        \n",
      "   creating: data/names/\n",
      "  inflating: data/names/Arabic.txt   \n",
      "  inflating: data/names/Chinese.txt  \n",
      "  inflating: data/names/Czech.txt    \n",
      "  inflating: data/names/Dutch.txt    \n",
      "  inflating: data/names/English.txt  \n",
      "  inflating: data/names/French.txt   \n",
      "  inflating: data/names/German.txt   \n",
      "  inflating: data/names/Greek.txt    \n",
      "  inflating: data/names/Irish.txt    \n",
      "  inflating: data/names/Italian.txt  \n",
      "  inflating: data/names/Japanese.txt  \n",
      "  inflating: data/names/Korean.txt   \n",
      "  inflating: data/names/Polish.txt   \n",
      "  inflating: data/names/Portuguese.txt  \n",
      "  inflating: data/names/Russian.txt  \n",
      "  inflating: data/names/Scottish.txt  \n",
      "  inflating: data/names/Spanish.txt  \n",
      "  inflating: data/names/Vietnamese.txt  \n"
     ]
    }
   ],
   "source": [
    "!wget https://download.pytorch.org/tutorial/data.zip\n",
    "!unzip data.zip"
   ]
  },
  {
   "cell_type": "code",
   "execution_count": 4,
   "metadata": {
    "colab": {
     "base_uri": "https://localhost:8080/"
    },
    "executionInfo": {
     "elapsed": 4,
     "status": "ok",
     "timestamp": 1638255575478,
     "user": {
      "displayName": "‍박종혁(교원-빅데이터경영통계전공)",
      "photoUrl": "https://lh3.googleusercontent.com/a/default-user=s64",
      "userId": "05107650215573502422"
     },
     "user_tz": -540
    },
    "id": "__d5aT_RCVUv",
    "outputId": "26bc30b5-a921-4ccf-a83d-139eac13477a"
   },
   "outputs": [
    {
     "name": "stdout",
     "output_type": "stream",
     "text": [
      "# categories: 18 ['Dutch', 'Greek', 'Polish', 'German', 'Portuguese', 'Spanish', 'Chinese', 'English', 'Arabic', 'Vietnamese', 'Russian', 'Japanese', 'Korean', 'Italian', 'Scottish', 'Czech', 'Irish', 'French']\n",
      "O'Neal\n"
     ]
    }
   ],
   "source": [
    "from __future__ import unicode_literals, print_function, division\n",
    "from io import open\n",
    "import glob\n",
    "import os\n",
    "import unicodedata\n",
    "import string\n",
    "\n",
    "all_letters = string.ascii_letters + \" .,;'-\"\n",
    "n_letters = len(all_letters) + 1 # EOS(end of sentence) 기호 추가\n",
    "\n",
    "def findFiles(path): return glob.glob(path)\n",
    "\n",
    "# 유니코드 문자열을 ASCII로 변환, https://stackoverflow.com/a/518232/2809427\n",
    "def unicodeToAscii(s):\n",
    "    return ''.join(\n",
    "        c for c in unicodedata.normalize('NFD', s)\n",
    "        if unicodedata.category(c) != 'Mn'\n",
    "        and c in all_letters\n",
    "    )\n",
    "\n",
    "# 파일을 읽고 줄 단위로 분리\n",
    "def readLines(filename):\n",
    "    with open(filename, encoding='utf-8') as some_file:\n",
    "        return [unicodeToAscii(line.strip()) for line in some_file]\n",
    "\n",
    "# 각 언어의 이름 목록인 category_lines 사전 생성\n",
    "category_lines = {}\n",
    "all_categories = []\n",
    "for filename in findFiles('data/names/*.txt'):\n",
    "    category = os.path.splitext(os.path.basename(filename))[0]\n",
    "    all_categories.append(category)\n",
    "    lines = readLines(filename)\n",
    "    category_lines[category] = lines\n",
    "\n",
    "n_categories = len(all_categories)\n",
    "\n",
    "if n_categories == 0:\n",
    "    raise RuntimeError('Data not found. Make sure that you downloaded data '\n",
    "        'from https://download.pytorch.org/tutorial/data.zip and extract it to '\n",
    "        'the current directory.')\n",
    "\n",
    "print('# categories:', n_categories, all_categories)\n",
    "print(unicodeToAscii(\"O'Néàl\"))"
   ]
  },
  {
   "cell_type": "markdown",
   "metadata": {
    "id": "t6_X7EIBCVUv"
   },
   "source": [
    "네트워크 생성\n",
    "====================\n",
    "\n",
    "이 네트워크는 RNN이 다른 입력들과 연결되는 category tensor를 추가 인자로 가지게 확장합니다. category tensor는 문자 입력과 마찬가지로 one-hot 벡터입니다.\n",
    "\n",
    "역자주: 기존 입력과 category tensor를 결합하여 입력으로 사용하기 때문에\n",
    "입력의 사이즈가 n_categories 만큼 커집니다.\n",
    "\n",
    "우리는 출력을 다음 문자의 확률로 해석 합니다. 샘플링 할 때,\n",
    "가장 확률이 높은 문자가 다음 입력 문자로 사용됩니다.\n",
    "\n",
    "더 나은 동작을 위해 두 번째 선형 레이어\n",
    "``o2o`` (은닉과 출력을 결합한 후) 를 추가했습니다 .\n",
    "또한 Drop-out 계층이 있습니다. 이 계층은 주어진 확률(여기서는 0.1)로\n",
    "`무작위로 입력을 0`으로 만듭니다.\n",
    "일반적으로 입력을 흐리게 해서 과적합을 막는 데 사용됩니다.\n",
    "여기서 우리는 고의로 일부 혼돈을 추가하고 샘플링 다양성을 높이기\n",
    "위해 네트워크의 마지막에 이것을 사용합니다.\n",
    "\n",
    "![image.png](data:image/png;base64,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)\n",
    "\n",
    "\n",
    "\n"
   ]
  },
  {
   "cell_type": "code",
   "execution_count": 5,
   "metadata": {
    "executionInfo": {
     "elapsed": 5849,
     "status": "ok",
     "timestamp": 1638255581325,
     "user": {
      "displayName": "‍박종혁(교원-빅데이터경영통계전공)",
      "photoUrl": "https://lh3.googleusercontent.com/a/default-user=s64",
      "userId": "05107650215573502422"
     },
     "user_tz": -540
    },
    "id": "0J3pVEtUCVUw"
   },
   "outputs": [],
   "source": [
    "import torch\n",
    "import torch.nn as nn\n",
    "\n",
    "class RNN(nn.Module):\n",
    "    def __init__(self, input_size, hidden_size, output_size):\n",
    "        super(RNN, self).__init__()\n",
    "        self.hidden_size = hidden_size\n",
    "\n",
    "        self.i2h = nn.Linear(n_categories + input_size + hidden_size, hidden_size)\n",
    "        self.i2o = nn.Linear(n_categories + input_size + hidden_size, output_size)\n",
    "        self.o2o = nn.Linear(hidden_size + output_size, output_size)\n",
    "        self.dropout = nn.Dropout(0.1)\n",
    "        self.softmax = nn.LogSoftmax(dim=1)\n",
    "\n",
    "    def forward(self, category, input, hidden):\n",
    "        input_combined = torch.cat((category, input, hidden), 1) # (batch_size, vector_size)\n",
    "        hidden = self.i2h(input_combined)\n",
    "        output = self.i2o(input_combined)\n",
    "        output_combined = torch.cat((hidden, output), 1)\n",
    "        output = self.o2o(output_combined)\n",
    "        output = self.dropout(output)\n",
    "        output = self.softmax(output)\n",
    "        return output, hidden\n",
    "\n",
    "    def initHidden(self):\n",
    "        return torch.zeros(1, self.hidden_size)"
   ]
  },
  {
   "cell_type": "markdown",
   "metadata": {
    "id": "sM1o5xDZCVUw"
   },
   "source": [
    "학습\n",
    "=========\n",
    "학습 준비\n",
    "----------------------\n",
    "\n",
    "제일 먼저 (category, line)의 무작위 쌍을 얻는 함수:\n",
    "\n",
    "\n"
   ]
  },
  {
   "cell_type": "code",
   "execution_count": 6,
   "metadata": {
    "executionInfo": {
     "elapsed": 16,
     "status": "ok",
     "timestamp": 1638255581325,
     "user": {
      "displayName": "‍박종혁(교원-빅데이터경영통계전공)",
      "photoUrl": "https://lh3.googleusercontent.com/a/default-user=s64",
      "userId": "05107650215573502422"
     },
     "user_tz": -540
    },
    "id": "SGUd2pgkCVUw"
   },
   "outputs": [],
   "source": [
    "import random\n",
    "\n",
    "# 목록에서 무작위 아이템 반환\n",
    "def randomChoice(l):\n",
    "    return l[random.randint(0, len(l) - 1)]\n",
    "\n",
    "# 임의의 category 및 그 category에서 무작위 줄(이름) 얻기\n",
    "def randomTrainingPair():\n",
    "    category = randomChoice(all_categories)\n",
    "    line = randomChoice(category_lines[category])\n",
    "    return category, line"
   ]
  },
  {
   "cell_type": "markdown",
   "metadata": {
    "id": "P5JEY-sNCVUx"
   },
   "source": [
    "각 시간 단계 마다 (즉, 학습 단어의 각 문자 마다) 네트워크의 입력은\n",
    "``(언어, 현재 문자, 은닉 상태)`` 가 되고, 출력은\n",
    "``(다음 문자, 다음 은닉 상태)`` 가 된다. 따라서 각 학습 세트 마다\n",
    "언어, 입력 문자의 세트, 출력/목표 문자의 세트가 필요하다.\n",
    "\n",
    "각 시간 단계마다 현재 문자에서 다음 문자를 예측하기 때문에,\n",
    "문자 쌍은 한 줄(하나의 이름)에서 연속된 문자 그룹입니다. - 예를 들어 ``\"ABCD<EOS>\"`` 는\n",
    "(\"A\", \"B\"), (\"B\", \"C\"), (\"C\", \"D\"), (\"D\", \"EOS\") 로 생성합니다.\n",
    "\n",
    "![image.png](data:image/png;base64,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)\n",
    "\n",
    "Category(언어) Tensor는 ``<1 x n_categories>`` 크기의 `One-hot\n",
    "Tensor` 입니다.\n",
    "학습시에 모든 시간 단계에서 네트워크에 이것을 전달합니다.\n",
    "- 이것은 설계 선택사항으로, 초기 은닉 상태 또는\n",
    "또 다른 전략의 부분으로 포함될 수 있습니다.\n",
    "\n",
    "\n"
   ]
  },
  {
   "cell_type": "code",
   "execution_count": 7,
   "metadata": {
    "executionInfo": {
     "elapsed": 16,
     "status": "ok",
     "timestamp": 1638255581326,
     "user": {
      "displayName": "‍박종혁(교원-빅데이터경영통계전공)",
      "photoUrl": "https://lh3.googleusercontent.com/a/default-user=s64",
      "userId": "05107650215573502422"
     },
     "user_tz": -540
    },
    "id": "zhoUJc3vCVUx"
   },
   "outputs": [],
   "source": [
    "# Category를 위한 One-hot 벡터\n",
    "def categoryTensor(category):\n",
    "    li = all_categories.index(category)\n",
    "    tensor = torch.zeros(1, n_categories)\n",
    "    tensor[0][li] = 1\n",
    "    return tensor\n",
    "\n",
    "# 입력을 위한 처음부터 마지막 문자(EOS 제외)까지의  One-hot 행렬\n",
    "def inputTensor(line):\n",
    "    tensor = torch.zeros(len(line), 1, n_letters)\n",
    "    for li in range(len(line)):\n",
    "        letter = line[li]\n",
    "        tensor[li][0][all_letters.find(letter)] = 1\n",
    "    return tensor\n",
    "\n",
    "# 목표를 위한 두번째 문자 부터 마지막(EOS) 까지의 LongTensor\n",
    "def targetTensor(line):\n",
    "    letter_indexes = [all_letters.find(line[li]) for li in range(1, len(line))]\n",
    "    letter_indexes.append(n_letters - 1) # EOS\n",
    "    return torch.LongTensor(letter_indexes)"
   ]
  },
  {
   "cell_type": "markdown",
   "metadata": {
    "id": "vCq3-rneCVUy"
   },
   "source": [
    "학습 동안 편의를 위해 무작위로 (category[언어], line[이름])을 가져오고\n",
    "그것을 필요한 형태 (category[언어], input[현재 문자], target[다음 문자]) Tensor로 바꾸는\n",
    "``randomTrainingExample`` 함수를 만들 예정입니다.\n",
    "\n",
    "\n"
   ]
  },
  {
   "cell_type": "code",
   "execution_count": 8,
   "metadata": {
    "executionInfo": {
     "elapsed": 17,
     "status": "ok",
     "timestamp": 1638255581327,
     "user": {
      "displayName": "‍박종혁(교원-빅데이터경영통계전공)",
      "photoUrl": "https://lh3.googleusercontent.com/a/default-user=s64",
      "userId": "05107650215573502422"
     },
     "user_tz": -540
    },
    "id": "CTTH5TJGCVUy"
   },
   "outputs": [],
   "source": [
    "# 임의의 Category에서 Category, Input, Target Tensor를 만듭니다.\n",
    "def randomTrainingExample():\n",
    "    category, line = randomTrainingPair()\n",
    "    category_tensor = categoryTensor(category)\n",
    "    input_line_tensor = inputTensor(line)\n",
    "    target_line_tensor = targetTensor(line)\n",
    "    return category_tensor, input_line_tensor, target_line_tensor"
   ]
  },
  {
   "cell_type": "markdown",
   "metadata": {
    "id": "r9ykGgl3CVUy"
   },
   "source": [
    "네트워크 학습\n",
    "--------------------\n",
    "\n",
    "마지막 출력만 사용하는 분류와 달리, 모든 단계에서 예측을 수행하므로\n",
    "모든 단계에서 손실을 계산합니다.\n",
    "\n",
    "Autograd의 마법이 각 단계의 손실들을 간단하게 합하고 마지막에\n",
    "역전파를 호출하게 해줍니다.\n",
    "\n",
    "\n"
   ]
  },
  {
   "cell_type": "code",
   "execution_count": 9,
   "metadata": {
    "executionInfo": {
     "elapsed": 17,
     "status": "ok",
     "timestamp": 1638255581327,
     "user": {
      "displayName": "‍박종혁(교원-빅데이터경영통계전공)",
      "photoUrl": "https://lh3.googleusercontent.com/a/default-user=s64",
      "userId": "05107650215573502422"
     },
     "user_tz": -540
    },
    "id": "sZHTDgTGCVUy"
   },
   "outputs": [],
   "source": [
    "criterion = nn.NLLLoss()\n",
    "\n",
    "learning_rate = 0.0005\n",
    "\n",
    "def train(category_tensor, input_line_tensor, target_line_tensor):\n",
    "    target_line_tensor.unsqueeze_(-1)\n",
    "    hidden = rnn.initHidden()\n",
    "\n",
    "    rnn.zero_grad()\n",
    "\n",
    "    loss = 0\n",
    "\n",
    "    for i in range(input_line_tensor.size(0)):\n",
    "        output, hidden = rnn(category_tensor, input_line_tensor[i], hidden)\n",
    "        l = criterion(output, target_line_tensor[i])\n",
    "        loss += l\n",
    "\n",
    "    loss.backward()\n",
    "\n",
    "    for p in rnn.parameters():\n",
    "        p.data.add_(p.grad.data, alpha=-learning_rate)\n",
    "\n",
    "    return output, loss.item() / input_line_tensor.size(0)"
   ]
  },
  {
   "cell_type": "markdown",
   "metadata": {
    "id": "3wO4j5KuCVUy"
   },
   "source": [
    "학습에 걸리는 시간을 추적하기 위해 사람이 읽을 수 있는 문자열을\n",
    "반환하는``timeSince (timestamp)`` 함수를 추가합니다:\n",
    "\n",
    "\n"
   ]
  },
  {
   "cell_type": "code",
   "execution_count": 10,
   "metadata": {
    "executionInfo": {
     "elapsed": 16,
     "status": "ok",
     "timestamp": 1638255581327,
     "user": {
      "displayName": "‍박종혁(교원-빅데이터경영통계전공)",
      "photoUrl": "https://lh3.googleusercontent.com/a/default-user=s64",
      "userId": "05107650215573502422"
     },
     "user_tz": -540
    },
    "id": "mGEMXCQ8CVUz"
   },
   "outputs": [],
   "source": [
    "import time\n",
    "import math\n",
    "\n",
    "def timeSince(since):\n",
    "    now = time.time()\n",
    "    s = now - since\n",
    "    m = math.floor(s / 60)\n",
    "    s -= m * 60\n",
    "    return '%dm %ds' % (m, s)"
   ]
  },
  {
   "cell_type": "markdown",
   "metadata": {
    "id": "24WGqxHPCVUz"
   },
   "source": [
    "학습은 일상적인 일입니다. - 몇번 train() 을 호출하고, 몇 분 정도\n",
    "기다렸다가 ``print_every`` 마다 현재 시간과 손실을 출력하고,\n",
    "나중에 도식화를 위해  ``plot_every`` 마다 ``all_losses`` 에\n",
    "평균 손실을 저장합니다.\n",
    "\n",
    "\n"
   ]
  },
  {
   "cell_type": "code",
   "execution_count": 11,
   "metadata": {
    "colab": {
     "base_uri": "https://localhost:8080/"
    },
    "executionInfo": {
     "elapsed": 172772,
     "status": "ok",
     "timestamp": 1638255754083,
     "user": {
      "displayName": "‍박종혁(교원-빅데이터경영통계전공)",
      "photoUrl": "https://lh3.googleusercontent.com/a/default-user=s64",
      "userId": "05107650215573502422"
     },
     "user_tz": -540
    },
    "id": "_h11ACuGCVUz",
    "outputId": "980dc399-dff7-4173-b79c-143757ab3295"
   },
   "outputs": [
    {
     "name": "stdout",
     "output_type": "stream",
     "text": [
      "0m 14s (5000 8%) 2.5374\n",
      "0m 29s (10000 16%) 3.3021\n",
      "0m 43s (15000 25%) 2.4110\n",
      "0m 58s (20000 33%) 3.4127\n",
      "1m 12s (25000 41%) 1.9975\n",
      "1m 27s (30000 50%) 1.7709\n",
      "1m 41s (35000 58%) 2.5522\n",
      "1m 56s (40000 66%) 1.7552\n",
      "2m 10s (45000 75%) 2.4235\n",
      "2m 24s (50000 83%) 2.1455\n",
      "2m 38s (55000 91%) 2.1340\n",
      "2m 52s (60000 100%) 2.8463\n"
     ]
    }
   ],
   "source": [
    "rnn = RNN(n_letters, 128, n_letters) # (input_size, hidden_size, output_size)\n",
    "\n",
    "# n_iters = 100000\n",
    "n_iters = 60000\n",
    "print_every = 5000\n",
    "plot_every = 500\n",
    "all_losses = []\n",
    "total_loss = 0 # plot_every 마다 초기화\n",
    "\n",
    "start = time.time()\n",
    "\n",
    "for iter in range(1, n_iters + 1):\n",
    "    output, loss = train(*randomTrainingExample())\n",
    "    total_loss += loss\n",
    "\n",
    "    if iter % print_every == 0:\n",
    "        print('%s (%d %d%%) %.4f' % (timeSince(start), iter, iter / n_iters * 100, loss))\n",
    "\n",
    "    if iter % plot_every == 0:\n",
    "        all_losses.append(total_loss / plot_every)\n",
    "        total_loss = 0"
   ]
  },
  {
   "cell_type": "markdown",
   "metadata": {
    "id": "Kih7HynnCVUz"
   },
   "source": [
    "손실 도식화\n",
    "-------------------\n",
    "\n",
    "all\\_losses를 이용한 손실의 도식화는\n",
    "네트워크의 학습 상태를 보여줍니다:\n",
    "\n",
    "\n"
   ]
  },
  {
   "cell_type": "code",
   "execution_count": 12,
   "metadata": {
    "colab": {
     "base_uri": "https://localhost:8080/",
     "height": 283
    },
    "executionInfo": {
     "elapsed": 903,
     "status": "ok",
     "timestamp": 1638255754981,
     "user": {
      "displayName": "‍박종혁(교원-빅데이터경영통계전공)",
      "photoUrl": "https://lh3.googleusercontent.com/a/default-user=s64",
      "userId": "05107650215573502422"
     },
     "user_tz": -540
    },
    "id": "NsVbxyg2CVUz",
    "outputId": "82240497-666d-4817-af02-9fe56ce03d28"
   },
   "outputs": [
    {
     "data": {
      "text/plain": [
       "[<matplotlib.lines.Line2D at 0x7fc442d65310>]"
      ]
     },
     "execution_count": 12,
     "metadata": {},
     "output_type": "execute_result"
    },
    {
     "data": {
      "image/png": "[encoded data removed]",
      "text/plain": [
       "<Figure size 432x288 with 1 Axes>"
      ]
     },
     "metadata": {
      "needs_background": "light"
     },
     "output_type": "display_data"
    }
   ],
   "source": [
    "import matplotlib.pyplot as plt\n",
    "\n",
    "plt.figure()\n",
    "plt.plot(all_losses)"
   ]
  },
  {
   "cell_type": "markdown",
   "metadata": {
    "id": "Y2WpvjfdCVUz"
   },
   "source": [
    "네트워크 샘플링\n",
    "====================\n",
    "\n",
    "샘플링을 위해서, 네트워크에 하나의 글자를 주고 다음 문자를 물어보고\n",
    "이것을 다음 문자로 전달하는 것을 EOS 토큰까지 반복합니다.\n",
    "\n",
    "-  입력 카테고리(언어), 시작 문자, 비어 있는 은닉 상태를 위한 Tensor를 생성하십시오\n",
    "-  시작 문자로 ``output_name`` 문자열을 생성하십시오\n",
    "-  최대 출력 길이까지,\n",
    "\n",
    "   -  현재 문자를 네트워크에 전달하십시오.\n",
    "   -  가장 높은 출력에서 다음 문자와 다음 은닉 상태를 얻으십시오\n",
    "   -  만일 문자가 EOS면, 여기서 멈추십시오\n",
    "   -  만일 일반적인 문자라면, ``output_name`` 에 추가하고 계속하십시오\n",
    "\n",
    "-  마지막 이름을 반환하십시오\n",
    "\n",
    ".. Note::\n",
    "   시작 문자를 주는 것 외에 \"문자열 시작\" 토큰을 학습에\n",
    "   포함되게 하고 네트워크가 자체적으로 시작 문자를 선택하게 하는\n",
    "   다른 방법도 있습니다.\n",
    "\n",
    "\n"
   ]
  },
  {
   "cell_type": "code",
   "execution_count": 13,
   "metadata": {
    "colab": {
     "base_uri": "https://localhost:8080/"
    },
    "executionInfo": {
     "elapsed": 4,
     "status": "ok",
     "timestamp": 1638255754982,
     "user": {
      "displayName": "‍박종혁(교원-빅데이터경영통계전공)",
      "photoUrl": "https://lh3.googleusercontent.com/a/default-user=s64",
      "userId": "05107650215573502422"
     },
     "user_tz": -540
    },
    "id": "MaHTcZnhCVU0",
    "outputId": "0f0c7827-c910-4af9-a44b-9f8553ad89f1"
   },
   "outputs": [
    {
     "name": "stdout",
     "output_type": "stream",
     "text": [
      "Rounov\n",
      "Uanovov\n",
      "Sallov\n",
      "Gerter\n",
      "Eerter\n",
      "Ronger\n",
      "Salla\n",
      "Pella\n",
      "Arane\n",
      "Chan\n",
      "Han\n",
      "Iou\n"
     ]
    }
   ],
   "source": [
    "max_length = 20\n",
    "\n",
    "# 카테고리와 시작 문자로 부터 샘플링 하기\n",
    "def sample(category, start_letter='A'):\n",
    "    with torch.no_grad():  # 샘플링에서 히스토리를 추적할 필요 없음\n",
    "        category_tensor = categoryTensor(category)\n",
    "        input = inputTensor(start_letter)\n",
    "        hidden = rnn.initHidden()\n",
    "\n",
    "        output_name = start_letter\n",
    "\n",
    "        for i in range(max_length):\n",
    "            output, hidden = rnn(category_tensor, input[0], hidden)\n",
    "            topv, topi = output.topk(1)\n",
    "            topi = topi[0][0]\n",
    "            if topi == n_letters - 1:\n",
    "                break\n",
    "            else:\n",
    "                letter = all_letters[topi]\n",
    "                output_name += letter\n",
    "            input = inputTensor(letter)\n",
    "\n",
    "        return output_name\n",
    "\n",
    "# 하나의 카테고리와 여러 시작 문자들로 여러 개의 샘플 얻기\n",
    "def samples(category, start_letters='ABC'):\n",
    "    for start_letter in start_letters:\n",
    "        print(sample(category, start_letter))\n",
    "\n",
    "samples('Russian', 'RUS')\n",
    "\n",
    "samples('German', 'GER')\n",
    "\n",
    "samples('Spanish', 'SPA')\n",
    "\n",
    "samples('Chinese', 'CHI')"
   ]
  }
 ],
 "metadata": {
  "accelerator": "GPU",
  "colab": {
   "collapsed_sections": [],
   "name": "char_rnn_generation_tutorial.ipynb",
   "provenance": [
    {
     "file_id": "https://github.com/9bow/PyTorch-Tutorials-kr/blob/master/docs/_downloads/c19e0c029051e907caf708762e47ed69/char_rnn_generation_tutorial.ipynb",
     "timestamp": 1638247505245
    }
   ]
  },
  "kernelspec": {
   "display_name": "Python 3",
   "language": "python",
   "name": "python3"
  },
  "language_info": {
   "codemirror_mode": {
    "name": "ipython",
    "version": 3
   },
   "file_extension": ".py",
   "mimetype": "text/x-python",
   "name": "python",
   "nbconvert_exporter": "python",
   "pygments_lexer": "ipython3",
   "version": "3.8.5"
  },
  "varInspector": {
   "cols": {
    "lenName": 16,
    "lenType": 16,
    "lenVar": 40
   },
   "kernels_config": {
    "python": {
     "delete_cmd_postfix": "",
     "delete_cmd_prefix": "del ",
     "library": "var_list.py",
     "varRefreshCmd": "print(var_dic_list())"
    },
    "r": {
     "delete_cmd_postfix": ") ",
     "delete_cmd_prefix": "rm(",
     "library": "var_list.r",
     "varRefreshCmd": "cat(var_dic_list()) "
    }
   },
   "types_to_exclude": [
    "module",
    "function",
    "builtin_function_or_method",
    "instance",
    "_Feature"
   ],
   "window_display": false
  }
 },
 "nbformat": 4,
 "nbformat_minor": 1
}
