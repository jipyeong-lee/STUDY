{
 "cells": [
  {
   "cell_type": "markdown",
   "metadata": {
    "id": "mR587KBag-nS"
   },
   "source": [
    "# 일반적인 딥러닝 모델의 학습 순서\n",
    "1. 모델 구조를 설계하고 설계된 모델 구조의 파라미터(=Weight, Bias) 값을 랜덤으로 샘플링\n",
    "2. 모델에 Input 데이터를 투입하고 Output을 계산\n",
    "3. 계산된 Output을 Input 값과 매칭되는 정답 값과 비교하여 Loss 계산\n",
    "4. 계산된 Loss를 통해 역전파(Back-propagation)을 수행하여 파라미터를 갱신\n",
    "5. 2.~4. 과정을 반복하여 학습을 진행하며, 중간중간 Validation dataset으로 모델의 성능을 평가하여 평가 지표를 바탕으로 최적의 모델 선택\n",
    "6. 5.에서 선택된 모델로 Test dataset의 성능 평가"
   ]
  },
  {
   "cell_type": "code",
   "execution_count": 1,
   "metadata": {
    "executionInfo": {
     "elapsed": 25157,
     "status": "ok",
     "timestamp": 1634002657793,
     "user": {
      "displayName": "‍박종혁(교원-빅데이터경영통계전공)",
      "photoUrl": "https://lh3.googleusercontent.com/a/default-user=s64",
      "userId": "05107650215573502422"
     },
     "user_tz": -540
    },
    "id": "B_1A5upieXvf"
   },
   "outputs": [],
   "source": [
    "''' 1. Module Import '''\n",
    "import numpy as np\n",
    "import matplotlib.pyplot as plt\n",
    "\n",
    "import torch\n",
    "import torch.nn as nn\n",
    "import torch.nn.functional as F\n",
    "from torchvision import transforms, datasets"
   ]
  },
  {
   "cell_type": "code",
   "execution_count": 2,
   "metadata": {
    "colab": {
     "base_uri": "https://localhost:8080/"
    },
    "executionInfo": {
     "elapsed": 240,
     "status": "ok",
     "timestamp": 1634002665949,
     "user": {
      "displayName": "‍박종혁(교원-빅데이터경영통계전공)",
      "photoUrl": "https://lh3.googleusercontent.com/a/default-user=s64",
      "userId": "05107650215573502422"
     },
     "user_tz": -540
    },
    "id": "2FVvME7CeXvi",
    "outputId": "686dc671-610d-432c-e223-2c2843e96d96"
   },
   "outputs": [
    {
     "name": "stdout",
     "output_type": "stream",
     "text": [
      "Using PyTorch version: 1.9.1  Device: cuda\n"
     ]
    }
   ],
   "source": [
    "''' 2. 딥러닝 모델을 설계할 때 활용하는 장비 확인 '''\n",
    "if torch.cuda.is_available():\n",
    "    DEVICE = torch.device('cuda')\n",
    "else:\n",
    "    DEVICE = torch.device('cpu')\n",
    "print('Using PyTorch version:', torch.__version__, ' Device:', DEVICE)"
   ]
  },
  {
   "cell_type": "code",
   "execution_count": 3,
   "metadata": {
    "executionInfo": {
     "elapsed": 228,
     "status": "ok",
     "timestamp": 1634002679797,
     "user": {
      "displayName": "‍박종혁(교원-빅데이터경영통계전공)",
      "photoUrl": "https://lh3.googleusercontent.com/a/default-user=s64",
      "userId": "05107650215573502422"
     },
     "user_tz": -540
    },
    "id": "dxMJtwskeXvj"
   },
   "outputs": [],
   "source": [
    "BATCH_SIZE = 32\n",
    "EPOCHS = 10"
   ]
  },
  {
   "cell_type": "code",
   "execution_count": 4,
   "metadata": {
    "colab": {
     "base_uri": "https://localhost:8080/",
     "height": 489
    },
    "executionInfo": {
     "elapsed": 1518,
     "status": "ok",
     "timestamp": 1634002696388,
     "user": {
      "displayName": "‍박종혁(교원-빅데이터경영통계전공)",
      "photoUrl": "https://lh3.googleusercontent.com/a/default-user=s64",
      "userId": "05107650215573502422"
     },
     "user_tz": -540
    },
    "id": "B0jzEbTIeXvj",
    "outputId": "99288429-6af4-4173-aebe-f7702c75a9e4"
   },
   "outputs": [
    {
     "name": "stderr",
     "output_type": "stream",
     "text": [
      "C:\\Users\\leeji\\anaconda3\\lib\\site-packages\\torchvision\\datasets\\mnist.py:498: UserWarning: The given NumPy array is not writeable, and PyTorch does not support non-writeable tensors. This means you can write to the underlying (supposedly non-writeable) NumPy array using the tensor. You may want to copy the array to protect its data or make it writeable before converting it to a tensor. This type of warning will be suppressed for the rest of this program. (Triggered internally at  ..\\torch\\csrc\\utils\\tensor_numpy.cpp:180.)\n",
      "  return torch.from_numpy(parsed.astype(m[2], copy=False)).view(*s)\n"
     ]
    }
   ],
   "source": [
    "''' 3. MNIST 데이터 다운로드 (Train set, Test set 분리하기) '''\n",
    "train_dataset = datasets.MNIST(root = \"./data/MNIST\",\n",
    "                               train = True,\n",
    "                               download = True,\n",
    "                               transform = transforms.ToTensor())\n",
    "\n",
    "test_dataset = datasets.MNIST(root = \"./data/MNIST\",\n",
    "                              train = False,\n",
    "                              transform = transforms.ToTensor())\n",
    "\n",
    "train_loader = torch.utils.data.DataLoader(dataset = train_dataset,\n",
    "                                           batch_size = BATCH_SIZE,\n",
    "                                           shuffle = True)\n",
    "\n",
    "test_loader = torch.utils.data.DataLoader(dataset = test_dataset,\n",
    "                                          batch_size = BATCH_SIZE,\n",
    "                                          shuffle = False)"
   ]
  },
  {
   "cell_type": "code",
   "execution_count": 5,
   "metadata": {
    "colab": {
     "base_uri": "https://localhost:8080/"
    },
    "executionInfo": {
     "elapsed": 227,
     "status": "ok",
     "timestamp": 1634002792600,
     "user": {
      "displayName": "‍박종혁(교원-빅데이터경영통계전공)",
      "photoUrl": "https://lh3.googleusercontent.com/a/default-user=s64",
      "userId": "05107650215573502422"
     },
     "user_tz": -540
    },
    "id": "VvNCE7RmeXvk",
    "outputId": "7f36b538-d75a-4cb4-ff28-abd36c365ab6"
   },
   "outputs": [
    {
     "name": "stdout",
     "output_type": "stream",
     "text": [
      "X_train: torch.Size([32, 1, 28, 28]) type: torch.FloatTensor\n",
      "y_train: torch.Size([32]) type: torch.LongTensor\n"
     ]
    }
   ],
   "source": [
    "''' 4. 데이터 확인하기 (1) '''\n",
    "for (X_train, y_train) in train_loader:\n",
    "    print('X_train:', X_train.size(), 'type:', X_train.type())\n",
    "    print('y_train:', y_train.size(), 'type:', y_train.type())\n",
    "    break"
   ]
  },
  {
   "cell_type": "code",
   "execution_count": 6,
   "metadata": {
    "colab": {
     "base_uri": "https://localhost:8080/",
     "height": 94
    },
    "executionInfo": {
     "elapsed": 821,
     "status": "ok",
     "timestamp": 1634002796691,
     "user": {
      "displayName": "‍박종혁(교원-빅데이터경영통계전공)",
      "photoUrl": "https://lh3.googleusercontent.com/a/default-user=s64",
      "userId": "05107650215573502422"
     },
     "user_tz": -540
    },
    "id": "FGviySw5eXvk",
    "outputId": "8d3861fe-8369-4be8-af32-b8db69e11cc4"
   },
   "outputs": [
    {
     "data": {
      "image/png": "[encoded data removed]",
      "text/plain": [
       "<Figure size 720x72 with 10 Axes>"
      ]
     },
     "metadata": {
      "needs_background": "light"
     },
     "output_type": "display_data"
    }
   ],
   "source": [
    "''' 5. 데이터 확인하기 (2) '''\n",
    "pltsize = 1\n",
    "plt.figure(figsize=(10 * pltsize, pltsize))\n",
    "for i in range(10):\n",
    "    plt.subplot(1, 10, i + 1)\n",
    "    plt.axis('off')\n",
    "    plt.imshow(X_train[i, :, :, :].numpy().reshape(28, 28), cmap = \"gray_r\")\n",
    "    plt.title('Class: ' + str(y_train[i].item()))"
   ]
  },
  {
   "cell_type": "code",
   "execution_count": 7,
   "metadata": {
    "executionInfo": {
     "elapsed": 228,
     "status": "ok",
     "timestamp": 1634003268239,
     "user": {
      "displayName": "‍박종혁(교원-빅데이터경영통계전공)",
      "photoUrl": "https://lh3.googleusercontent.com/a/default-user=s64",
      "userId": "05107650215573502422"
     },
     "user_tz": -540
    },
    "id": "ZHPB44UjeXvl"
   },
   "outputs": [],
   "source": [
    "''' 6. Multi Layer Perceptron (MLP) 모델 설계하기 '''\n",
    "class Net(nn.Module):\n",
    "    def __init__(self):\n",
    "        super(Net, self).__init__()\n",
    "        self.fc1 = nn.Linear(28 * 28, 512)\n",
    "        self.fc2 = nn.Linear(512, 256)\n",
    "        self.fc3 = nn.Linear(256, 10)\n",
    "        self.dropout_prob = 0.5 # dropout 적용 레이어의 노드 중 50% (=0.5)에 dropout을 적용, activation 값을 0으로 만듬\n",
    "        self.batch_norm1 = nn.BatchNorm1d(512) # 첫 fully-connected 레이어의 output 노드 수(=512)만큼 적용\n",
    "        self.batch_norm2 = nn.BatchNorm1d(256) # 두번째 fully-connected 레이어의 output 노드 수(=256)만큼 적용\n",
    "\n",
    "    def forward(self, x):\n",
    "        x = x.view(-1, 28 * 28)\n",
    "        x = self.fc1(x)\n",
    "        x = self.batch_norm1(x)\n",
    "        x = F.relu(x)\n",
    "        x = F.dropout(x, training = self.training, p = self.dropout_prob) # model.train() 혹은 model.eval()에 의해 self.training=True 혹은 self.training=False로 바뀜\n",
    "        x = self.fc2(x)\n",
    "        x = self.batch_norm2(x)\n",
    "        x = F.relu(x)\n",
    "        x = F.dropout(x, training = self.training, p = self.dropout_prob)\n",
    "        x = self.fc3(x)\n",
    "        # x = F.log_softmax(x, dim = 1) # 원본 파일에서는 softmax를 사용하는 것으로 되어있지만, nn.CrossEntropyLoss()의 내부에 log softmax + NLL loss가 포함되어 있기 때문에 제거\n",
    "        return x"
   ]
  },
  {
   "cell_type": "markdown",
   "metadata": {
    "id": "gM8fJ_MViGDy"
   },
   "source": [
    "- 모델 구조의 파라미터 값을 랜덤으로 샘플링하는 과정에서 어떤 분포에서 샘플링을 진행하는지에 따라 모델 학습이 좋은 방향으로 시작될 수도, 나쁜 방향으로 시작될 수도 있음\n",
    "  - ReLU 활성함수와 어울리는 `He initialization` 사용"
   ]
  },
  {
   "cell_type": "code",
   "execution_count": 8,
   "metadata": {
    "colab": {
     "base_uri": "https://localhost:8080/"
    },
    "executionInfo": {
     "elapsed": 14757,
     "status": "ok",
     "timestamp": 1634003477471,
     "user": {
      "displayName": "‍박종혁(교원-빅데이터경영통계전공)",
      "photoUrl": "https://lh3.googleusercontent.com/a/default-user=s64",
      "userId": "05107650215573502422"
     },
     "user_tz": -540
    },
    "id": "jK5JsVkPeXvl",
    "outputId": "01e0713c-3422-4892-d1ea-fb9552fc7762"
   },
   "outputs": [
    {
     "name": "stdout",
     "output_type": "stream",
     "text": [
      "Net(\n",
      "  (fc1): Linear(in_features=784, out_features=512, bias=True)\n",
      "  (fc2): Linear(in_features=512, out_features=256, bias=True)\n",
      "  (fc3): Linear(in_features=256, out_features=10, bias=True)\n",
      "  (batch_norm1): BatchNorm1d(512, eps=1e-05, momentum=0.1, affine=True, track_running_stats=True)\n",
      "  (batch_norm2): BatchNorm1d(256, eps=1e-05, momentum=0.1, affine=True, track_running_stats=True)\n",
      ")\n"
     ]
    }
   ],
   "source": [
    "''' 7. Optimizer, Objective Function 설정하기 '''\n",
    "import torch.nn.init as init # 초기화 관련 모듈인 init import\n",
    "def weight_init(m):\n",
    "    if isinstance(m, nn.Linear): # MLP 모델 중 nn.Linear에 해당하는 파라미터에 대해 초기화 수행\n",
    "        init.kaiming_uniform_(m.weight.data) # He initialization (init.kaiming_uniform_ 이 He initialization 의미)\n",
    "\n",
    "model = Net().to(DEVICE)\n",
    "model.apply(weight_init) # Net()의 instance인 model에 He initialization 적용\n",
    "optimizer = torch.optim.Adam(model.parameters(), lr = 0.01) # Adam optimizer 사용, Learning rate=0.01 적용\n",
    "criterion = nn.CrossEntropyLoss()\n",
    "\n",
    "print(model)"
   ]
  },
  {
   "cell_type": "code",
   "execution_count": 9,
   "metadata": {
    "executionInfo": {
     "elapsed": 218,
     "status": "ok",
     "timestamp": 1634003496821,
     "user": {
      "displayName": "‍박종혁(교원-빅데이터경영통계전공)",
      "photoUrl": "https://lh3.googleusercontent.com/a/default-user=s64",
      "userId": "05107650215573502422"
     },
     "user_tz": -540
    },
    "id": "KAvcGsczeXvm"
   },
   "outputs": [],
   "source": [
    "''' 8. MLP 모델 학습을 진행하며 학습 데이터에 대한 모델 성능을 확인하는 함수 정의 '''\n",
    "def train(model, train_loader, optimizer, log_interval):\n",
    "    model.train()\n",
    "    for batch_idx, (image, label) in enumerate(train_loader):\n",
    "        image = image.to(DEVICE)\n",
    "        label = label.to(DEVICE)\n",
    "        optimizer.zero_grad()\n",
    "        output = model(image)\n",
    "        loss = criterion(output, label)\n",
    "        loss.backward()\n",
    "        optimizer.step()\n",
    "\n",
    "        if batch_idx % log_interval == 0:\n",
    "            print(\"Train Epoch: {} [{}/{} ({:.0f}%)]\\tTrain Loss: {:.6f}\".format(\n",
    "                epoch, batch_idx * len(image), \n",
    "                len(train_loader.dataset), 100. * batch_idx / len(train_loader), \n",
    "                loss.item()))"
   ]
  },
  {
   "cell_type": "code",
   "execution_count": 10,
   "metadata": {
    "executionInfo": {
     "elapsed": 221,
     "status": "ok",
     "timestamp": 1634003517051,
     "user": {
      "displayName": "‍박종혁(교원-빅데이터경영통계전공)",
      "photoUrl": "https://lh3.googleusercontent.com/a/default-user=s64",
      "userId": "05107650215573502422"
     },
     "user_tz": -540
    },
    "id": "ZE5U8kmGeXvn"
   },
   "outputs": [],
   "source": [
    "''' 9. 학습되는 과정 속에서 검증 데이터에 대한 모델 성능을 확인하는 함수 정의 '''\n",
    "def evaluate(model, test_loader):\n",
    "    model.eval()\n",
    "    test_loss = 0\n",
    "    correct = 0\n",
    "\n",
    "    with torch.no_grad():\n",
    "        for image, label in test_loader:\n",
    "            image = image.to(DEVICE)\n",
    "            label = label.to(DEVICE)\n",
    "            output = model(image)\n",
    "            test_loss += criterion(output, label).item()\n",
    "            prediction = output.max(1, keepdim = True)[1]\n",
    "            correct += prediction.eq(label.view_as(prediction)).sum().item()\n",
    "    \n",
    "    test_loss /= len(test_loader.dataset)\n",
    "    test_accuracy = 100. * correct / len(test_loader.dataset)\n",
    "    return test_loss, test_accuracy"
   ]
  },
  {
   "cell_type": "code",
   "execution_count": 11,
   "metadata": {
    "colab": {
     "base_uri": "https://localhost:8080/"
    },
    "executionInfo": {
     "elapsed": 171850,
     "status": "ok",
     "timestamp": 1634003698544,
     "user": {
      "displayName": "‍박종혁(교원-빅데이터경영통계전공)",
      "photoUrl": "https://lh3.googleusercontent.com/a/default-user=s64",
      "userId": "05107650215573502422"
     },
     "user_tz": -540
    },
    "id": "p8G7vo0TeXvn",
    "outputId": "9028eb38-9114-433a-de8c-e531da05b6c1"
   },
   "outputs": [
    {
     "name": "stdout",
     "output_type": "stream",
     "text": [
      "Train Epoch: 1 [0/60000 (0%)]\tTrain Loss: 2.782845\n",
      "Train Epoch: 1 [6400/60000 (11%)]\tTrain Loss: 0.433909\n",
      "Train Epoch: 1 [12800/60000 (21%)]\tTrain Loss: 0.583029\n",
      "Train Epoch: 1 [19200/60000 (32%)]\tTrain Loss: 0.801009\n",
      "Train Epoch: 1 [25600/60000 (43%)]\tTrain Loss: 0.355182\n",
      "Train Epoch: 1 [32000/60000 (53%)]\tTrain Loss: 0.241314\n",
      "Train Epoch: 1 [38400/60000 (64%)]\tTrain Loss: 0.151671\n",
      "Train Epoch: 1 [44800/60000 (75%)]\tTrain Loss: 0.208384\n",
      "Train Epoch: 1 [51200/60000 (85%)]\tTrain Loss: 0.111868\n",
      "Train Epoch: 1 [57600/60000 (96%)]\tTrain Loss: 0.266437\n",
      "\n",
      "[EPOCH: 1], \tTest Loss: 0.0041, \tTest Accuracy: 95.96 % \n",
      "\n",
      "Train Epoch: 2 [0/60000 (0%)]\tTrain Loss: 0.389913\n",
      "Train Epoch: 2 [6400/60000 (11%)]\tTrain Loss: 0.461449\n",
      "Train Epoch: 2 [12800/60000 (21%)]\tTrain Loss: 0.187065\n",
      "Train Epoch: 2 [19200/60000 (32%)]\tTrain Loss: 0.226944\n",
      "Train Epoch: 2 [25600/60000 (43%)]\tTrain Loss: 0.211851\n",
      "Train Epoch: 2 [32000/60000 (53%)]\tTrain Loss: 0.423585\n",
      "Train Epoch: 2 [38400/60000 (64%)]\tTrain Loss: 0.277204\n",
      "Train Epoch: 2 [44800/60000 (75%)]\tTrain Loss: 0.782765\n",
      "Train Epoch: 2 [51200/60000 (85%)]\tTrain Loss: 0.308623\n",
      "Train Epoch: 2 [57600/60000 (96%)]\tTrain Loss: 0.228807\n",
      "\n",
      "[EPOCH: 2], \tTest Loss: 0.0034, \tTest Accuracy: 96.67 % \n",
      "\n",
      "Train Epoch: 3 [0/60000 (0%)]\tTrain Loss: 0.408380\n",
      "Train Epoch: 3 [6400/60000 (11%)]\tTrain Loss: 0.253797\n",
      "Train Epoch: 3 [12800/60000 (21%)]\tTrain Loss: 0.062335\n",
      "Train Epoch: 3 [19200/60000 (32%)]\tTrain Loss: 0.362863\n",
      "Train Epoch: 3 [25600/60000 (43%)]\tTrain Loss: 0.345407\n",
      "Train Epoch: 3 [32000/60000 (53%)]\tTrain Loss: 0.510165\n",
      "Train Epoch: 3 [38400/60000 (64%)]\tTrain Loss: 0.133063\n",
      "Train Epoch: 3 [44800/60000 (75%)]\tTrain Loss: 0.170031\n",
      "Train Epoch: 3 [51200/60000 (85%)]\tTrain Loss: 0.359811\n",
      "Train Epoch: 3 [57600/60000 (96%)]\tTrain Loss: 0.079821\n",
      "\n",
      "[EPOCH: 3], \tTest Loss: 0.0028, \tTest Accuracy: 97.17 % \n",
      "\n",
      "Train Epoch: 4 [0/60000 (0%)]\tTrain Loss: 0.049942\n",
      "Train Epoch: 4 [6400/60000 (11%)]\tTrain Loss: 0.126664\n",
      "Train Epoch: 4 [12800/60000 (21%)]\tTrain Loss: 0.260317\n",
      "Train Epoch: 4 [19200/60000 (32%)]\tTrain Loss: 0.074834\n",
      "Train Epoch: 4 [25600/60000 (43%)]\tTrain Loss: 0.363949\n",
      "Train Epoch: 4 [32000/60000 (53%)]\tTrain Loss: 0.158568\n",
      "Train Epoch: 4 [38400/60000 (64%)]\tTrain Loss: 0.069427\n",
      "Train Epoch: 4 [44800/60000 (75%)]\tTrain Loss: 0.230591\n",
      "Train Epoch: 4 [51200/60000 (85%)]\tTrain Loss: 0.220858\n",
      "Train Epoch: 4 [57600/60000 (96%)]\tTrain Loss: 0.360121\n",
      "\n",
      "[EPOCH: 4], \tTest Loss: 0.0027, \tTest Accuracy: 97.34 % \n",
      "\n",
      "Train Epoch: 5 [0/60000 (0%)]\tTrain Loss: 0.207807\n",
      "Train Epoch: 5 [6400/60000 (11%)]\tTrain Loss: 0.125600\n",
      "Train Epoch: 5 [12800/60000 (21%)]\tTrain Loss: 0.301667\n",
      "Train Epoch: 5 [19200/60000 (32%)]\tTrain Loss: 0.149590\n",
      "Train Epoch: 5 [25600/60000 (43%)]\tTrain Loss: 0.316431\n",
      "Train Epoch: 5 [32000/60000 (53%)]\tTrain Loss: 0.857834\n",
      "Train Epoch: 5 [38400/60000 (64%)]\tTrain Loss: 0.196375\n",
      "Train Epoch: 5 [44800/60000 (75%)]\tTrain Loss: 0.058761\n",
      "Train Epoch: 5 [51200/60000 (85%)]\tTrain Loss: 0.191572\n",
      "Train Epoch: 5 [57600/60000 (96%)]\tTrain Loss: 0.248296\n",
      "\n",
      "[EPOCH: 5], \tTest Loss: 0.0028, \tTest Accuracy: 97.21 % \n",
      "\n",
      "Train Epoch: 6 [0/60000 (0%)]\tTrain Loss: 0.060781\n",
      "Train Epoch: 6 [6400/60000 (11%)]\tTrain Loss: 0.082587\n",
      "Train Epoch: 6 [12800/60000 (21%)]\tTrain Loss: 0.200194\n",
      "Train Epoch: 6 [19200/60000 (32%)]\tTrain Loss: 0.106891\n",
      "Train Epoch: 6 [25600/60000 (43%)]\tTrain Loss: 0.055898\n",
      "Train Epoch: 6 [32000/60000 (53%)]\tTrain Loss: 0.034345\n",
      "Train Epoch: 6 [38400/60000 (64%)]\tTrain Loss: 0.121250\n",
      "Train Epoch: 6 [44800/60000 (75%)]\tTrain Loss: 0.060050\n",
      "Train Epoch: 6 [51200/60000 (85%)]\tTrain Loss: 0.169186\n",
      "Train Epoch: 6 [57600/60000 (96%)]\tTrain Loss: 0.462139\n",
      "\n",
      "[EPOCH: 6], \tTest Loss: 0.0024, \tTest Accuracy: 97.76 % \n",
      "\n",
      "Train Epoch: 7 [0/60000 (0%)]\tTrain Loss: 0.341543\n",
      "Train Epoch: 7 [6400/60000 (11%)]\tTrain Loss: 0.020439\n",
      "Train Epoch: 7 [12800/60000 (21%)]\tTrain Loss: 0.346914\n",
      "Train Epoch: 7 [19200/60000 (32%)]\tTrain Loss: 0.312546\n",
      "Train Epoch: 7 [25600/60000 (43%)]\tTrain Loss: 0.224076\n",
      "Train Epoch: 7 [32000/60000 (53%)]\tTrain Loss: 0.058573\n",
      "Train Epoch: 7 [38400/60000 (64%)]\tTrain Loss: 0.150121\n",
      "Train Epoch: 7 [44800/60000 (75%)]\tTrain Loss: 0.123138\n",
      "Train Epoch: 7 [51200/60000 (85%)]\tTrain Loss: 0.064135\n",
      "Train Epoch: 7 [57600/60000 (96%)]\tTrain Loss: 0.067971\n",
      "\n",
      "[EPOCH: 7], \tTest Loss: 0.0023, \tTest Accuracy: 97.66 % \n",
      "\n",
      "Train Epoch: 8 [0/60000 (0%)]\tTrain Loss: 0.112677\n",
      "Train Epoch: 8 [6400/60000 (11%)]\tTrain Loss: 0.025080\n",
      "Train Epoch: 8 [12800/60000 (21%)]\tTrain Loss: 0.099343\n",
      "Train Epoch: 8 [19200/60000 (32%)]\tTrain Loss: 0.069539\n",
      "Train Epoch: 8 [25600/60000 (43%)]\tTrain Loss: 0.316885\n",
      "Train Epoch: 8 [32000/60000 (53%)]\tTrain Loss: 0.076718\n",
      "Train Epoch: 8 [38400/60000 (64%)]\tTrain Loss: 0.396562\n",
      "Train Epoch: 8 [44800/60000 (75%)]\tTrain Loss: 0.285663\n",
      "Train Epoch: 8 [51200/60000 (85%)]\tTrain Loss: 0.064872\n",
      "Train Epoch: 8 [57600/60000 (96%)]\tTrain Loss: 0.655593\n",
      "\n",
      "[EPOCH: 8], \tTest Loss: 0.0022, \tTest Accuracy: 97.91 % \n",
      "\n",
      "Train Epoch: 9 [0/60000 (0%)]\tTrain Loss: 0.218189\n",
      "Train Epoch: 9 [6400/60000 (11%)]\tTrain Loss: 0.017040\n",
      "Train Epoch: 9 [12800/60000 (21%)]\tTrain Loss: 0.077485\n",
      "Train Epoch: 9 [19200/60000 (32%)]\tTrain Loss: 0.080816\n",
      "Train Epoch: 9 [25600/60000 (43%)]\tTrain Loss: 0.549683\n",
      "Train Epoch: 9 [32000/60000 (53%)]\tTrain Loss: 0.165265\n",
      "Train Epoch: 9 [38400/60000 (64%)]\tTrain Loss: 0.170374\n",
      "Train Epoch: 9 [44800/60000 (75%)]\tTrain Loss: 0.145916\n",
      "Train Epoch: 9 [51200/60000 (85%)]\tTrain Loss: 0.101693\n",
      "Train Epoch: 9 [57600/60000 (96%)]\tTrain Loss: 0.305747\n",
      "\n",
      "[EPOCH: 9], \tTest Loss: 0.0024, \tTest Accuracy: 97.77 % \n",
      "\n",
      "Train Epoch: 10 [0/60000 (0%)]\tTrain Loss: 0.125230\n",
      "Train Epoch: 10 [6400/60000 (11%)]\tTrain Loss: 0.133556\n",
      "Train Epoch: 10 [12800/60000 (21%)]\tTrain Loss: 0.057203\n",
      "Train Epoch: 10 [19200/60000 (32%)]\tTrain Loss: 0.105440\n",
      "Train Epoch: 10 [25600/60000 (43%)]\tTrain Loss: 0.203068\n",
      "Train Epoch: 10 [32000/60000 (53%)]\tTrain Loss: 0.022378\n",
      "Train Epoch: 10 [38400/60000 (64%)]\tTrain Loss: 0.187675\n",
      "Train Epoch: 10 [44800/60000 (75%)]\tTrain Loss: 0.276944\n",
      "Train Epoch: 10 [51200/60000 (85%)]\tTrain Loss: 0.125993\n",
      "Train Epoch: 10 [57600/60000 (96%)]\tTrain Loss: 0.238475\n",
      "\n",
      "[EPOCH: 10], \tTest Loss: 0.0021, \tTest Accuracy: 98.10 % \n",
      "\n"
     ]
    }
   ],
   "source": [
    "''' 10. MLP 학습 실행하며 Train, Test set의 Loss 및 Test set Accuracy 확인하기 '''\n",
    "for epoch in range(1, EPOCHS + 1):\n",
    "    train(model, train_loader, optimizer, log_interval = 200)\n",
    "    test_loss, test_accuracy = evaluate(model, test_loader)\n",
    "    print(\"\\n[EPOCH: {}], \\tTest Loss: {:.4f}, \\tTest Accuracy: {:.2f} % \\n\".format(\n",
    "        epoch, test_loss, test_accuracy))"
   ]
  },
  {
   "cell_type": "code",
   "execution_count": null,
   "metadata": {},
   "outputs": [],
   "source": []
  }
 ],
 "metadata": {
  "accelerator": "GPU",
  "colab": {
   "collapsed_sections": [],
   "name": "3-5_MNIST_MLP_Dropout_ReLU_BN_HE_Adam.ipynb",
   "provenance": []
  },
  "kernelspec": {
   "display_name": "Python 3",
   "language": "python",
   "name": "python3"
  },
  "language_info": {
   "codemirror_mode": {
    "name": "ipython",
    "version": 3
   },
   "file_extension": ".py",
   "mimetype": "text/x-python",
   "name": "python",
   "nbconvert_exporter": "python",
   "pygments_lexer": "ipython3",
   "version": "3.8.5"
  },
  "varInspector": {
   "cols": {
    "lenName": 16,
    "lenType": 16,
    "lenVar": 40
   },
   "kernels_config": {
    "python": {
     "delete_cmd_postfix": "",
     "delete_cmd_prefix": "del ",
     "library": "var_list.py",
     "varRefreshCmd": "print(var_dic_list())"
    },
    "r": {
     "delete_cmd_postfix": ") ",
     "delete_cmd_prefix": "rm(",
     "library": "var_list.r",
     "varRefreshCmd": "cat(var_dic_list()) "
    }
   },
   "types_to_exclude": [
    "module",
    "function",
    "builtin_function_or_method",
    "instance",
    "_Feature"
   ],
   "window_display": false
  }
 },
 "nbformat": 4,
 "nbformat_minor": 1
}
