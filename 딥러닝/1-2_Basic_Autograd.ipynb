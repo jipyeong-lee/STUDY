{
 "cells": [
  {
   "cell_type": "code",
   "execution_count": 1,
   "metadata": {
    "executionInfo": {
     "elapsed": 3857,
     "status": "ok",
     "timestamp": 1631864926036,
     "user": {
      "displayName": "‍박종혁(교원-빅데이터경영통계전공)",
      "photoUrl": "https://lh3.googleusercontent.com/a/default-user=s64",
      "userId": "05107650215573502422"
     },
     "user_tz": -540
    },
    "id": "bK4mcADph0Hf"
   },
   "outputs": [],
   "source": [
    "import torch"
   ]
  },
  {
   "cell_type": "markdown",
   "metadata": {
    "id": "LKGzBgY-h0Hg"
   },
   "source": [
    "# Scalar\n",
    "- 상수값\n",
    "- `torch.tensor` 함수를 통해 정의할 수 있음"
   ]
  },
  {
   "cell_type": "code",
   "execution_count": 2,
   "metadata": {
    "colab": {
     "base_uri": "https://localhost:8080/"
    },
    "executionInfo": {
     "elapsed": 375,
     "status": "ok",
     "timestamp": 1631864964519,
     "user": {
      "displayName": "‍박종혁(교원-빅데이터경영통계전공)",
      "photoUrl": "https://lh3.googleusercontent.com/a/default-user=s64",
      "userId": "05107650215573502422"
     },
     "user_tz": -540
    },
    "id": "YbFWfndCh0Hh",
    "outputId": "269f0964-dc2d-4c2a-ebb8-0eec5d9fe5f7"
   },
   "outputs": [
    {
     "name": "stdout",
     "output_type": "stream",
     "text": [
      "tensor([1.])\n"
     ]
    }
   ],
   "source": [
    "scalar1 = torch.tensor([1.])\n",
    "print(scalar1)"
   ]
  },
  {
   "cell_type": "code",
   "execution_count": 3,
   "metadata": {
    "colab": {
     "base_uri": "https://localhost:8080/"
    },
    "executionInfo": {
     "elapsed": 490,
     "status": "ok",
     "timestamp": 1631864967854,
     "user": {
      "displayName": "‍박종혁(교원-빅데이터경영통계전공)",
      "photoUrl": "https://lh3.googleusercontent.com/a/default-user=s64",
      "userId": "05107650215573502422"
     },
     "user_tz": -540
    },
    "id": "LAtpfdQ4h0Hi",
    "outputId": "6da7ef44-fe9a-4d59-cbc1-34bed14fe4a2"
   },
   "outputs": [
    {
     "name": "stdout",
     "output_type": "stream",
     "text": [
      "tensor([3.])\n"
     ]
    }
   ],
   "source": [
    "scalar2 = torch.tensor([3.])    \n",
    "print(scalar2)"
   ]
  },
  {
   "cell_type": "markdown",
   "metadata": {
    "id": "Ypz-N5R8iGaS"
   },
   "source": [
    "- 정의한 `tensor`(상수값)을 갖고 사칙연산 수행 가능"
   ]
  },
  {
   "cell_type": "code",
   "execution_count": 4,
   "metadata": {
    "colab": {
     "base_uri": "https://localhost:8080/"
    },
    "executionInfo": {
     "elapsed": 397,
     "status": "ok",
     "timestamp": 1631864996684,
     "user": {
      "displayName": "‍박종혁(교원-빅데이터경영통계전공)",
      "photoUrl": "https://lh3.googleusercontent.com/a/default-user=s64",
      "userId": "05107650215573502422"
     },
     "user_tz": -540
    },
    "id": "KE-IJjMch0Hj",
    "outputId": "3d387cd2-77e9-4e3d-f433-98c172049c3d"
   },
   "outputs": [
    {
     "name": "stdout",
     "output_type": "stream",
     "text": [
      "tensor([4.])\n"
     ]
    }
   ],
   "source": [
    "add_scalar = scalar1 + scalar2\n",
    "print(add_scalar)"
   ]
  },
  {
   "cell_type": "code",
   "execution_count": 5,
   "metadata": {
    "colab": {
     "base_uri": "https://localhost:8080/"
    },
    "executionInfo": {
     "elapsed": 365,
     "status": "ok",
     "timestamp": 1631865001508,
     "user": {
      "displayName": "‍박종혁(교원-빅데이터경영통계전공)",
      "photoUrl": "https://lh3.googleusercontent.com/a/default-user=s64",
      "userId": "05107650215573502422"
     },
     "user_tz": -540
    },
    "id": "YjLBCWKdh0Hk",
    "outputId": "b635d0cc-8286-45af-e206-f16e32a230bf"
   },
   "outputs": [
    {
     "name": "stdout",
     "output_type": "stream",
     "text": [
      "tensor([-2.])\n"
     ]
    }
   ],
   "source": [
    "sub_scalar = scalar1 - scalar2\n",
    "print(sub_scalar)"
   ]
  },
  {
   "cell_type": "code",
   "execution_count": 6,
   "metadata": {
    "colab": {
     "base_uri": "https://localhost:8080/"
    },
    "executionInfo": {
     "elapsed": 376,
     "status": "ok",
     "timestamp": 1631865006335,
     "user": {
      "displayName": "‍박종혁(교원-빅데이터경영통계전공)",
      "photoUrl": "https://lh3.googleusercontent.com/a/default-user=s64",
      "userId": "05107650215573502422"
     },
     "user_tz": -540
    },
    "id": "TnY9FVT_h0Hk",
    "outputId": "4321c06c-88d3-4c45-a4a5-e639c8d4d356"
   },
   "outputs": [
    {
     "name": "stdout",
     "output_type": "stream",
     "text": [
      "tensor([3.])\n"
     ]
    }
   ],
   "source": [
    "mul_scalar = scalar1 * scalar2\n",
    "print(mul_scalar)"
   ]
  },
  {
   "cell_type": "code",
   "execution_count": 7,
   "metadata": {
    "colab": {
     "base_uri": "https://localhost:8080/"
    },
    "executionInfo": {
     "elapsed": 376,
     "status": "ok",
     "timestamp": 1631865012517,
     "user": {
      "displayName": "‍박종혁(교원-빅데이터경영통계전공)",
      "photoUrl": "https://lh3.googleusercontent.com/a/default-user=s64",
      "userId": "05107650215573502422"
     },
     "user_tz": -540
    },
    "id": "z9OaAElGh0Hk",
    "outputId": "694357bb-93fc-4190-a883-a0389f6dff4c"
   },
   "outputs": [
    {
     "name": "stdout",
     "output_type": "stream",
     "text": [
      "tensor([0.3333])\n"
     ]
    }
   ],
   "source": [
    "div_scalar = scalar1 / scalar2\n",
    "print(div_scalar)"
   ]
  },
  {
   "cell_type": "markdown",
   "metadata": {
    "id": "5vAEA3BLiRkh"
   },
   "source": [
    "- `torch` 모듈의 내장 함수를 통해서도 사칙연산 수행 가능"
   ]
  },
  {
   "cell_type": "code",
   "execution_count": 8,
   "metadata": {
    "colab": {
     "base_uri": "https://localhost:8080/"
    },
    "executionInfo": {
     "elapsed": 508,
     "status": "ok",
     "timestamp": 1631865038441,
     "user": {
      "displayName": "‍박종혁(교원-빅데이터경영통계전공)",
      "photoUrl": "https://lh3.googleusercontent.com/a/default-user=s64",
      "userId": "05107650215573502422"
     },
     "user_tz": -540
    },
    "id": "liZrGfNth0Hl",
    "outputId": "95890937-ef0c-4f92-f593-7160a5e8bcfb"
   },
   "outputs": [
    {
     "data": {
      "text/plain": [
       "tensor([4.])"
      ]
     },
     "execution_count": 8,
     "metadata": {},
     "output_type": "execute_result"
    }
   ],
   "source": [
    "torch.add(scalar1, scalar2)"
   ]
  },
  {
   "cell_type": "code",
   "execution_count": 9,
   "metadata": {
    "colab": {
     "base_uri": "https://localhost:8080/"
    },
    "executionInfo": {
     "elapsed": 519,
     "status": "ok",
     "timestamp": 1631865044645,
     "user": {
      "displayName": "‍박종혁(교원-빅데이터경영통계전공)",
      "photoUrl": "https://lh3.googleusercontent.com/a/default-user=s64",
      "userId": "05107650215573502422"
     },
     "user_tz": -540
    },
    "id": "VL8l4fS_h0Hl",
    "outputId": "ebd8aec5-9f3a-47d8-9f2a-16410d92c67f"
   },
   "outputs": [
    {
     "data": {
      "text/plain": [
       "tensor([-2.])"
      ]
     },
     "execution_count": 9,
     "metadata": {},
     "output_type": "execute_result"
    }
   ],
   "source": [
    "torch.sub(scalar1, scalar2)"
   ]
  },
  {
   "cell_type": "code",
   "execution_count": 10,
   "metadata": {
    "colab": {
     "base_uri": "https://localhost:8080/"
    },
    "executionInfo": {
     "elapsed": 518,
     "status": "ok",
     "timestamp": 1631865052372,
     "user": {
      "displayName": "‍박종혁(교원-빅데이터경영통계전공)",
      "photoUrl": "https://lh3.googleusercontent.com/a/default-user=s64",
      "userId": "05107650215573502422"
     },
     "user_tz": -540
    },
    "id": "aZL_byFEh0Hm",
    "outputId": "0178befe-c2cd-46c7-9f78-e5b65ca3be4e"
   },
   "outputs": [
    {
     "data": {
      "text/plain": [
       "tensor([3.])"
      ]
     },
     "execution_count": 10,
     "metadata": {},
     "output_type": "execute_result"
    }
   ],
   "source": [
    "torch.mul(scalar1, scalar2)"
   ]
  },
  {
   "cell_type": "code",
   "execution_count": 11,
   "metadata": {
    "colab": {
     "base_uri": "https://localhost:8080/"
    },
    "executionInfo": {
     "elapsed": 493,
     "status": "ok",
     "timestamp": 1631865063526,
     "user": {
      "displayName": "‍박종혁(교원-빅데이터경영통계전공)",
      "photoUrl": "https://lh3.googleusercontent.com/a/default-user=s64",
      "userId": "05107650215573502422"
     },
     "user_tz": -540
    },
    "id": "eM6Vhqa2h0Hm",
    "outputId": "5fee9185-745f-4fa6-a3da-9703f5542ce0"
   },
   "outputs": [
    {
     "data": {
      "text/plain": [
       "tensor([0.3333])"
      ]
     },
     "execution_count": 11,
     "metadata": {},
     "output_type": "execute_result"
    }
   ],
   "source": [
    "torch.div(scalar1, scalar2)"
   ]
  },
  {
   "cell_type": "markdown",
   "metadata": {
    "id": "BOfRPjySh0Hm"
   },
   "source": [
    "# Vector\n",
    "- `torch.tensor`를 통해 벡터를 정의하는 것 또한 가능"
   ]
  },
  {
   "cell_type": "code",
   "execution_count": 12,
   "metadata": {
    "colab": {
     "base_uri": "https://localhost:8080/"
    },
    "executionInfo": {
     "elapsed": 369,
     "status": "ok",
     "timestamp": 1631865087754,
     "user": {
      "displayName": "‍박종혁(교원-빅데이터경영통계전공)",
      "photoUrl": "https://lh3.googleusercontent.com/a/default-user=s64",
      "userId": "05107650215573502422"
     },
     "user_tz": -540
    },
    "id": "Rg6Mdx8-h0Hm",
    "outputId": "abfcd43a-9d96-447c-ea40-53e7b53112fc"
   },
   "outputs": [
    {
     "name": "stdout",
     "output_type": "stream",
     "text": [
      "tensor([1., 2., 3.])\n"
     ]
    }
   ],
   "source": [
    "vector1 = torch.tensor([1., 2., 3.])\n",
    "print(vector1)"
   ]
  },
  {
   "cell_type": "code",
   "execution_count": 13,
   "metadata": {
    "colab": {
     "base_uri": "https://localhost:8080/"
    },
    "executionInfo": {
     "elapsed": 370,
     "status": "ok",
     "timestamp": 1631865093956,
     "user": {
      "displayName": "‍박종혁(교원-빅데이터경영통계전공)",
      "photoUrl": "https://lh3.googleusercontent.com/a/default-user=s64",
      "userId": "05107650215573502422"
     },
     "user_tz": -540
    },
    "id": "y2ps0PQ2h0Hn",
    "outputId": "54813163-1459-4ce9-d585-f94c0f316468"
   },
   "outputs": [
    {
     "name": "stdout",
     "output_type": "stream",
     "text": [
      "tensor([4., 5., 6.])\n"
     ]
    }
   ],
   "source": [
    "vector2 = torch.tensor([4., 5., 6.])\n",
    "print(vector2)"
   ]
  },
  {
   "cell_type": "markdown",
   "metadata": {
    "id": "MZ5hHKSiisA6"
   },
   "source": [
    "- 사칙연산 또한 Scalar와 같은 방식으로 수행 가능"
   ]
  },
  {
   "cell_type": "code",
   "execution_count": 14,
   "metadata": {
    "colab": {
     "base_uri": "https://localhost:8080/"
    },
    "executionInfo": {
     "elapsed": 706,
     "status": "ok",
     "timestamp": 1631865101272,
     "user": {
      "displayName": "‍박종혁(교원-빅데이터경영통계전공)",
      "photoUrl": "https://lh3.googleusercontent.com/a/default-user=s64",
      "userId": "05107650215573502422"
     },
     "user_tz": -540
    },
    "id": "8sMjSw7Yh0Hn",
    "outputId": "3cc258dd-9039-47f5-c34c-c34deab68c08"
   },
   "outputs": [
    {
     "name": "stdout",
     "output_type": "stream",
     "text": [
      "tensor([5., 7., 9.])\n"
     ]
    }
   ],
   "source": [
    "add_vector = vector1 + vector2\n",
    "print(add_vector)"
   ]
  },
  {
   "cell_type": "code",
   "execution_count": 15,
   "metadata": {
    "colab": {
     "base_uri": "https://localhost:8080/"
    },
    "executionInfo": {
     "elapsed": 384,
     "status": "ok",
     "timestamp": 1631865124309,
     "user": {
      "displayName": "‍박종혁(교원-빅데이터경영통계전공)",
      "photoUrl": "https://lh3.googleusercontent.com/a/default-user=s64",
      "userId": "05107650215573502422"
     },
     "user_tz": -540
    },
    "id": "SsxSyHGah0Hn",
    "outputId": "80edab13-4434-4a3c-afe3-6cda64eb1b8d"
   },
   "outputs": [
    {
     "name": "stdout",
     "output_type": "stream",
     "text": [
      "tensor([-3., -3., -3.])\n"
     ]
    }
   ],
   "source": [
    "sub_vector = vector1 - vector2\n",
    "print(sub_vector)"
   ]
  },
  {
   "cell_type": "code",
   "execution_count": 16,
   "metadata": {
    "colab": {
     "base_uri": "https://localhost:8080/"
    },
    "executionInfo": {
     "elapsed": 1302,
     "status": "ok",
     "timestamp": 1631865134575,
     "user": {
      "displayName": "‍박종혁(교원-빅데이터경영통계전공)",
      "photoUrl": "https://lh3.googleusercontent.com/a/default-user=s64",
      "userId": "05107650215573502422"
     },
     "user_tz": -540
    },
    "id": "5pxirxLzh0Hn",
    "outputId": "7d330d54-bcc0-4611-fb97-552bf54321de"
   },
   "outputs": [
    {
     "name": "stdout",
     "output_type": "stream",
     "text": [
      "tensor([ 4., 10., 18.])\n"
     ]
    }
   ],
   "source": [
    "mul_vector = vector1 * vector2\n",
    "print(mul_vector)"
   ]
  },
  {
   "cell_type": "code",
   "execution_count": 17,
   "metadata": {
    "colab": {
     "base_uri": "https://localhost:8080/"
    },
    "executionInfo": {
     "elapsed": 2,
     "status": "ok",
     "timestamp": 1631865137041,
     "user": {
      "displayName": "‍박종혁(교원-빅데이터경영통계전공)",
      "photoUrl": "https://lh3.googleusercontent.com/a/default-user=s64",
      "userId": "05107650215573502422"
     },
     "user_tz": -540
    },
    "id": "nF-36BAnh0Hn",
    "outputId": "a19d060a-b216-4ad3-89ab-06934112c833"
   },
   "outputs": [
    {
     "name": "stdout",
     "output_type": "stream",
     "text": [
      "tensor([0.2500, 0.4000, 0.5000])\n"
     ]
    }
   ],
   "source": [
    "div_vector = vector1 / vector2\n",
    "print(div_vector)"
   ]
  },
  {
   "cell_type": "code",
   "execution_count": 18,
   "metadata": {
    "colab": {
     "base_uri": "https://localhost:8080/"
    },
    "executionInfo": {
     "elapsed": 503,
     "status": "ok",
     "timestamp": 1631865153251,
     "user": {
      "displayName": "‍박종혁(교원-빅데이터경영통계전공)",
      "photoUrl": "https://lh3.googleusercontent.com/a/default-user=s64",
      "userId": "05107650215573502422"
     },
     "user_tz": -540
    },
    "id": "nNW8NS6Kh0Ho",
    "outputId": "74860908-db5e-4783-b552-205e76f6a100"
   },
   "outputs": [
    {
     "data": {
      "text/plain": [
       "tensor([5., 7., 9.])"
      ]
     },
     "execution_count": 18,
     "metadata": {},
     "output_type": "execute_result"
    }
   ],
   "source": [
    "torch.add(vector1, vector2)"
   ]
  },
  {
   "cell_type": "code",
   "execution_count": 19,
   "metadata": {
    "colab": {
     "base_uri": "https://localhost:8080/"
    },
    "executionInfo": {
     "elapsed": 2,
     "status": "ok",
     "timestamp": 1631865156107,
     "user": {
      "displayName": "‍박종혁(교원-빅데이터경영통계전공)",
      "photoUrl": "https://lh3.googleusercontent.com/a/default-user=s64",
      "userId": "05107650215573502422"
     },
     "user_tz": -540
    },
    "id": "APra0xdFh0Ho",
    "outputId": "1c1396a6-2e6a-4ec9-e78c-9cd97ab83176"
   },
   "outputs": [
    {
     "data": {
      "text/plain": [
       "tensor([-3., -3., -3.])"
      ]
     },
     "execution_count": 19,
     "metadata": {},
     "output_type": "execute_result"
    }
   ],
   "source": [
    "torch.sub(vector1, vector2)"
   ]
  },
  {
   "cell_type": "code",
   "execution_count": 20,
   "metadata": {
    "colab": {
     "base_uri": "https://localhost:8080/"
    },
    "executionInfo": {
     "elapsed": 1230,
     "status": "ok",
     "timestamp": 1631865159439,
     "user": {
      "displayName": "‍박종혁(교원-빅데이터경영통계전공)",
      "photoUrl": "https://lh3.googleusercontent.com/a/default-user=s64",
      "userId": "05107650215573502422"
     },
     "user_tz": -540
    },
    "id": "vt1Y3v3ph0Ho",
    "outputId": "ffc61677-6fdb-46fd-e3be-89b0ba141a83"
   },
   "outputs": [
    {
     "data": {
      "text/plain": [
       "tensor([ 4., 10., 18.])"
      ]
     },
     "execution_count": 20,
     "metadata": {},
     "output_type": "execute_result"
    }
   ],
   "source": [
    "torch.mul(vector1, vector2)"
   ]
  },
  {
   "cell_type": "code",
   "execution_count": 21,
   "metadata": {
    "colab": {
     "base_uri": "https://localhost:8080/"
    },
    "executionInfo": {
     "elapsed": 709,
     "status": "ok",
     "timestamp": 1631865162716,
     "user": {
      "displayName": "‍박종혁(교원-빅데이터경영통계전공)",
      "photoUrl": "https://lh3.googleusercontent.com/a/default-user=s64",
      "userId": "05107650215573502422"
     },
     "user_tz": -540
    },
    "id": "4EGdSs3Nh0Ho",
    "outputId": "115a356c-7201-4af1-b7e1-a771cbbf11c0"
   },
   "outputs": [
    {
     "data": {
      "text/plain": [
       "tensor([0.2500, 0.4000, 0.5000])"
      ]
     },
     "execution_count": 21,
     "metadata": {},
     "output_type": "execute_result"
    }
   ],
   "source": [
    "torch.div(vector1, vector2)"
   ]
  },
  {
   "cell_type": "code",
   "execution_count": 22,
   "metadata": {
    "colab": {
     "base_uri": "https://localhost:8080/"
    },
    "executionInfo": {
     "elapsed": 522,
     "status": "ok",
     "timestamp": 1631865182353,
     "user": {
      "displayName": "‍박종혁(교원-빅데이터경영통계전공)",
      "photoUrl": "https://lh3.googleusercontent.com/a/default-user=s64",
      "userId": "05107650215573502422"
     },
     "user_tz": -540
    },
    "id": "hlixf1x1h0Ho",
    "outputId": "d9a00603-1336-493c-df15-81b1b5ea4b61"
   },
   "outputs": [
    {
     "data": {
      "text/plain": [
       "tensor(32.)"
      ]
     },
     "execution_count": 22,
     "metadata": {},
     "output_type": "execute_result"
    }
   ],
   "source": [
    "torch.dot(vector1, vector2)"
   ]
  },
  {
   "cell_type": "markdown",
   "metadata": {
    "id": "Bj1aaNCeh0Ho"
   },
   "source": [
    "# Matrix\n",
    "- 행렬 (2개 이상의 벡터로 구성된 선형 대수의 기본 단위)\n",
    "- `torch.tensor`를 통해 행렬 정의 가능\n"
   ]
  },
  {
   "cell_type": "code",
   "execution_count": 23,
   "metadata": {
    "colab": {
     "base_uri": "https://localhost:8080/"
    },
    "executionInfo": {
     "elapsed": 382,
     "status": "ok",
     "timestamp": 1631865215784,
     "user": {
      "displayName": "‍박종혁(교원-빅데이터경영통계전공)",
      "photoUrl": "https://lh3.googleusercontent.com/a/default-user=s64",
      "userId": "05107650215573502422"
     },
     "user_tz": -540
    },
    "id": "yhGAI9dBh0Ho",
    "outputId": "b01e7257-25eb-4704-9504-225935f8d2e4"
   },
   "outputs": [
    {
     "name": "stdout",
     "output_type": "stream",
     "text": [
      "tensor([[1., 2.],\n",
      "        [3., 4.]])\n"
     ]
    }
   ],
   "source": [
    "matrix1 = torch.tensor([[1., 2.], [3., 4.]])\n",
    "print(matrix1)"
   ]
  },
  {
   "cell_type": "code",
   "execution_count": 24,
   "metadata": {
    "colab": {
     "base_uri": "https://localhost:8080/"
    },
    "executionInfo": {
     "elapsed": 393,
     "status": "ok",
     "timestamp": 1631865219153,
     "user": {
      "displayName": "‍박종혁(교원-빅데이터경영통계전공)",
      "photoUrl": "https://lh3.googleusercontent.com/a/default-user=s64",
      "userId": "05107650215573502422"
     },
     "user_tz": -540
    },
    "id": "ZtxFEyDJh0Hp",
    "outputId": "4d8f33a8-092d-4663-954f-9e4acc1d5d42"
   },
   "outputs": [
    {
     "name": "stdout",
     "output_type": "stream",
     "text": [
      "tensor([[5., 6.],\n",
      "        [7., 8.]])\n"
     ]
    }
   ],
   "source": [
    "matrix2 = torch.tensor([[5., 6.], [7., 8.]])\n",
    "print(matrix2)"
   ]
  },
  {
   "cell_type": "markdown",
   "metadata": {
    "id": "eN2SaB_qjCwi"
   },
   "source": [
    "- Scalar, Vector tensor와 같은 방식으로 사칙연산 수행 가능"
   ]
  },
  {
   "cell_type": "code",
   "execution_count": 25,
   "metadata": {
    "colab": {
     "base_uri": "https://localhost:8080/"
    },
    "executionInfo": {
     "elapsed": 519,
     "status": "ok",
     "timestamp": 1631865262197,
     "user": {
      "displayName": "‍박종혁(교원-빅데이터경영통계전공)",
      "photoUrl": "https://lh3.googleusercontent.com/a/default-user=s64",
      "userId": "05107650215573502422"
     },
     "user_tz": -540
    },
    "id": "HPprWMAyh0Hp",
    "outputId": "5ae015f1-e6d4-45da-e9dc-cbb079732885"
   },
   "outputs": [
    {
     "name": "stdout",
     "output_type": "stream",
     "text": [
      "tensor([[ 6.,  8.],\n",
      "        [10., 12.]])\n"
     ]
    }
   ],
   "source": [
    "sum_matrix = matrix1 + matrix2\n",
    "print(sum_matrix)"
   ]
  },
  {
   "cell_type": "code",
   "execution_count": 26,
   "metadata": {
    "colab": {
     "base_uri": "https://localhost:8080/"
    },
    "executionInfo": {
     "elapsed": 399,
     "status": "ok",
     "timestamp": 1631865264406,
     "user": {
      "displayName": "‍박종혁(교원-빅데이터경영통계전공)",
      "photoUrl": "https://lh3.googleusercontent.com/a/default-user=s64",
      "userId": "05107650215573502422"
     },
     "user_tz": -540
    },
    "id": "oyhOHLvGh0Hp",
    "outputId": "294426d1-7438-4785-dda0-2bc4592294bb"
   },
   "outputs": [
    {
     "name": "stdout",
     "output_type": "stream",
     "text": [
      "tensor([[-4., -4.],\n",
      "        [-4., -4.]])\n"
     ]
    }
   ],
   "source": [
    "sub_matrix = matrix1 - matrix2\n",
    "print(sub_matrix)"
   ]
  },
  {
   "cell_type": "markdown",
   "metadata": {
    "id": "RFnzzO6TjVTy"
   },
   "source": [
    "- `*` 와 `/`의 경우, 행렬의 같은 위치에 존재하는 값들끼리 연산이 수행됨 (element-wise operation)"
   ]
  },
  {
   "cell_type": "code",
   "execution_count": 27,
   "metadata": {
    "colab": {
     "base_uri": "https://localhost:8080/"
    },
    "executionInfo": {
     "elapsed": 379,
     "status": "ok",
     "timestamp": 1631865266769,
     "user": {
      "displayName": "‍박종혁(교원-빅데이터경영통계전공)",
      "photoUrl": "https://lh3.googleusercontent.com/a/default-user=s64",
      "userId": "05107650215573502422"
     },
     "user_tz": -540
    },
    "id": "kAHdTBfsh0Hp",
    "outputId": "10ebbccc-8101-4bc2-f0fa-0ceb25725c78"
   },
   "outputs": [
    {
     "name": "stdout",
     "output_type": "stream",
     "text": [
      "tensor([[ 5., 12.],\n",
      "        [21., 32.]])\n"
     ]
    }
   ],
   "source": [
    "mul_matrix = matrix1 * matrix2\n",
    "print(mul_matrix)"
   ]
  },
  {
   "cell_type": "code",
   "execution_count": 28,
   "metadata": {
    "colab": {
     "base_uri": "https://localhost:8080/"
    },
    "executionInfo": {
     "elapsed": 2,
     "status": "ok",
     "timestamp": 1631865268294,
     "user": {
      "displayName": "‍박종혁(교원-빅데이터경영통계전공)",
      "photoUrl": "https://lh3.googleusercontent.com/a/default-user=s64",
      "userId": "05107650215573502422"
     },
     "user_tz": -540
    },
    "id": "L2UhlNFeh0Hp",
    "outputId": "c71e9508-9364-49d8-bce4-ce33c7a1b86d"
   },
   "outputs": [
    {
     "name": "stdout",
     "output_type": "stream",
     "text": [
      "tensor([[0.2000, 0.3333],\n",
      "        [0.4286, 0.5000]])\n"
     ]
    }
   ],
   "source": [
    "div_matrix = matrix1 / matrix2\n",
    "print(div_matrix)"
   ]
  },
  {
   "cell_type": "code",
   "execution_count": 29,
   "metadata": {
    "colab": {
     "base_uri": "https://localhost:8080/"
    },
    "executionInfo": {
     "elapsed": 382,
     "status": "ok",
     "timestamp": 1631865282624,
     "user": {
      "displayName": "‍박종혁(교원-빅데이터경영통계전공)",
      "photoUrl": "https://lh3.googleusercontent.com/a/default-user=s64",
      "userId": "05107650215573502422"
     },
     "user_tz": -540
    },
    "id": "-hxhzg6Lh0Hp",
    "outputId": "da25effb-8a7d-4e25-c2ba-4559a52f4ea9"
   },
   "outputs": [
    {
     "data": {
      "text/plain": [
       "tensor([[ 6.,  8.],\n",
       "        [10., 12.]])"
      ]
     },
     "execution_count": 29,
     "metadata": {},
     "output_type": "execute_result"
    }
   ],
   "source": [
    "torch.add(matrix1, matrix2)"
   ]
  },
  {
   "cell_type": "code",
   "execution_count": 30,
   "metadata": {
    "colab": {
     "base_uri": "https://localhost:8080/"
    },
    "executionInfo": {
     "elapsed": 3,
     "status": "ok",
     "timestamp": 1631865284807,
     "user": {
      "displayName": "‍박종혁(교원-빅데이터경영통계전공)",
      "photoUrl": "https://lh3.googleusercontent.com/a/default-user=s64",
      "userId": "05107650215573502422"
     },
     "user_tz": -540
    },
    "id": "BoKjwVr1h0Hp",
    "outputId": "527424a8-231a-41fb-b1c2-8627f83d3423"
   },
   "outputs": [
    {
     "data": {
      "text/plain": [
       "tensor([[-4., -4.],\n",
       "        [-4., -4.]])"
      ]
     },
     "execution_count": 30,
     "metadata": {},
     "output_type": "execute_result"
    }
   ],
   "source": [
    "torch.sub(matrix1, matrix2)"
   ]
  },
  {
   "cell_type": "code",
   "execution_count": 31,
   "metadata": {
    "colab": {
     "base_uri": "https://localhost:8080/"
    },
    "executionInfo": {
     "elapsed": 3,
     "status": "ok",
     "timestamp": 1631865286464,
     "user": {
      "displayName": "‍박종혁(교원-빅데이터경영통계전공)",
      "photoUrl": "https://lh3.googleusercontent.com/a/default-user=s64",
      "userId": "05107650215573502422"
     },
     "user_tz": -540
    },
    "id": "_q8tSfNkh0Hp",
    "outputId": "9672795f-18a5-4ee0-ff97-8172e07d3467"
   },
   "outputs": [
    {
     "data": {
      "text/plain": [
       "tensor([[ 5., 12.],\n",
       "        [21., 32.]])"
      ]
     },
     "execution_count": 31,
     "metadata": {},
     "output_type": "execute_result"
    }
   ],
   "source": [
    "torch.mul(matrix1, matrix2)"
   ]
  },
  {
   "cell_type": "code",
   "execution_count": 32,
   "metadata": {
    "colab": {
     "base_uri": "https://localhost:8080/"
    },
    "executionInfo": {
     "elapsed": 3,
     "status": "ok",
     "timestamp": 1631865288101,
     "user": {
      "displayName": "‍박종혁(교원-빅데이터경영통계전공)",
      "photoUrl": "https://lh3.googleusercontent.com/a/default-user=s64",
      "userId": "05107650215573502422"
     },
     "user_tz": -540
    },
    "id": "cAiBmNYQh0Hq",
    "outputId": "37d893b6-6066-4ee1-cf97-170218286f0d"
   },
   "outputs": [
    {
     "data": {
      "text/plain": [
       "tensor([[0.2000, 0.3333],\n",
       "        [0.4286, 0.5000]])"
      ]
     },
     "execution_count": 32,
     "metadata": {},
     "output_type": "execute_result"
    }
   ],
   "source": [
    "torch.div(matrix1, matrix2)"
   ]
  },
  {
   "cell_type": "markdown",
   "metadata": {
    "id": "Lw5YtV4QjrgS"
   },
   "source": [
    "- 행렬 곱을 위해서는 `@` 연산 기호나 `torch.matmul` 함수를 사용하여야 함"
   ]
  },
  {
   "cell_type": "code",
   "execution_count": 33,
   "metadata": {
    "colab": {
     "base_uri": "https://localhost:8080/"
    },
    "executionInfo": {
     "elapsed": 515,
     "status": "ok",
     "timestamp": 1631865317754,
     "user": {
      "displayName": "‍박종혁(교원-빅데이터경영통계전공)",
      "photoUrl": "https://lh3.googleusercontent.com/a/default-user=s64",
      "userId": "05107650215573502422"
     },
     "user_tz": -540
    },
    "id": "cUvQgZw-j7Ah",
    "outputId": "ab50ea8a-a363-4372-b9b3-4ee0442498b8"
   },
   "outputs": [
    {
     "name": "stdout",
     "output_type": "stream",
     "text": [
      "tensor([[19., 22.],\n",
      "        [43., 50.]])\n"
     ]
    }
   ],
   "source": [
    "matmul_matrix = matrix1 @ matrix2\n",
    "print(matmul_matrix)"
   ]
  },
  {
   "cell_type": "code",
   "execution_count": 34,
   "metadata": {
    "colab": {
     "base_uri": "https://localhost:8080/"
    },
    "executionInfo": {
     "elapsed": 415,
     "status": "ok",
     "timestamp": 1631865326690,
     "user": {
      "displayName": "‍박종혁(교원-빅데이터경영통계전공)",
      "photoUrl": "https://lh3.googleusercontent.com/a/default-user=s64",
      "userId": "05107650215573502422"
     },
     "user_tz": -540
    },
    "id": "4pMMhzhXh0Hq",
    "outputId": "ba1cb0a7-3c17-4ba3-a07a-d818d70d003e"
   },
   "outputs": [
    {
     "data": {
      "text/plain": [
       "tensor([[19., 22.],\n",
       "        [43., 50.]])"
      ]
     },
     "execution_count": 34,
     "metadata": {},
     "output_type": "execute_result"
    }
   ],
   "source": [
    "torch.matmul(matrix1, matrix2)"
   ]
  },
  {
   "cell_type": "markdown",
   "metadata": {
    "id": "Cbee6sIlh0Hq"
   },
   "source": [
    "# Tensor\n",
    "- Vector를 1차원, Matrix를 2차원이라고 한다면, **Tensor는 3차원 이상의 배열을 의미**\n",
    "  - 그냥 Vector, Matrix, Tensor를 전부 Tensor로 지칭하기도 함"
   ]
  },
  {
   "cell_type": "code",
   "execution_count": 35,
   "metadata": {
    "colab": {
     "base_uri": "https://localhost:8080/"
    },
    "executionInfo": {
     "elapsed": 390,
     "status": "ok",
     "timestamp": 1631865362638,
     "user": {
      "displayName": "‍박종혁(교원-빅데이터경영통계전공)",
      "photoUrl": "https://lh3.googleusercontent.com/a/default-user=s64",
      "userId": "05107650215573502422"
     },
     "user_tz": -540
    },
    "id": "ULZR9qPmh0Hq",
    "outputId": "f7f689bd-2af1-4eaa-b695-67bc910a6734"
   },
   "outputs": [
    {
     "name": "stdout",
     "output_type": "stream",
     "text": [
      "tensor([[[1., 2.],\n",
      "         [3., 4.]],\n",
      "\n",
      "        [[5., 6.],\n",
      "         [7., 8.]]])\n"
     ]
    }
   ],
   "source": [
    "tensor1 = torch.tensor([[[1., 2.], [3., 4.]], [[5., 6.], [7., 8.]]])\n",
    "print(tensor1)"
   ]
  },
  {
   "cell_type": "code",
   "execution_count": 36,
   "metadata": {
    "colab": {
     "base_uri": "https://localhost:8080/"
    },
    "executionInfo": {
     "elapsed": 2,
     "status": "ok",
     "timestamp": 1631865365564,
     "user": {
      "displayName": "‍박종혁(교원-빅데이터경영통계전공)",
      "photoUrl": "https://lh3.googleusercontent.com/a/default-user=s64",
      "userId": "05107650215573502422"
     },
     "user_tz": -540
    },
    "id": "6JN5K_khh0Hq",
    "outputId": "dc1c94df-0494-47e0-9dfd-1e8a427b7d74"
   },
   "outputs": [
    {
     "name": "stdout",
     "output_type": "stream",
     "text": [
      "tensor([[[ 9., 10.],\n",
      "         [11., 12.]],\n",
      "\n",
      "        [[13., 14.],\n",
      "         [15., 16.]]])\n"
     ]
    }
   ],
   "source": [
    "tensor2 = torch.tensor([[[9., 10.], [11., 12.]], [[13., 14.], [15., 16.]]])\n",
    "print(tensor2)"
   ]
  },
  {
   "cell_type": "markdown",
   "metadata": {
    "id": "gMR1c2WtkzZ1"
   },
   "source": [
    "- Element-wise 사칙연산"
   ]
  },
  {
   "cell_type": "code",
   "execution_count": 37,
   "metadata": {
    "colab": {
     "base_uri": "https://localhost:8080/"
    },
    "executionInfo": {
     "elapsed": 4,
     "status": "ok",
     "timestamp": 1631865368073,
     "user": {
      "displayName": "‍박종혁(교원-빅데이터경영통계전공)",
      "photoUrl": "https://lh3.googleusercontent.com/a/default-user=s64",
      "userId": "05107650215573502422"
     },
     "user_tz": -540
    },
    "id": "az6mZgQyh0Hq",
    "outputId": "7311f9c1-05bf-4dc1-d0aa-332b625d92ed"
   },
   "outputs": [
    {
     "name": "stdout",
     "output_type": "stream",
     "text": [
      "tensor([[[10., 12.],\n",
      "         [14., 16.]],\n",
      "\n",
      "        [[18., 20.],\n",
      "         [22., 24.]]])\n"
     ]
    }
   ],
   "source": [
    "sum_tensor = tensor1 + tensor2\n",
    "print(sum_tensor)"
   ]
  },
  {
   "cell_type": "code",
   "execution_count": 38,
   "metadata": {
    "colab": {
     "base_uri": "https://localhost:8080/"
    },
    "executionInfo": {
     "elapsed": 524,
     "status": "ok",
     "timestamp": 1631865372579,
     "user": {
      "displayName": "‍박종혁(교원-빅데이터경영통계전공)",
      "photoUrl": "https://lh3.googleusercontent.com/a/default-user=s64",
      "userId": "05107650215573502422"
     },
     "user_tz": -540
    },
    "id": "I-QjH1UDh0Hq",
    "outputId": "b0cc307f-717e-49cf-ffa2-f83b41b5b448"
   },
   "outputs": [
    {
     "name": "stdout",
     "output_type": "stream",
     "text": [
      "tensor([[[-8., -8.],\n",
      "         [-8., -8.]],\n",
      "\n",
      "        [[-8., -8.],\n",
      "         [-8., -8.]]])\n"
     ]
    }
   ],
   "source": [
    "sub_tensor = tensor1 - tensor2\n",
    "print(sub_tensor)"
   ]
  },
  {
   "cell_type": "code",
   "execution_count": 39,
   "metadata": {
    "colab": {
     "base_uri": "https://localhost:8080/"
    },
    "executionInfo": {
     "elapsed": 5,
     "status": "ok",
     "timestamp": 1631865374403,
     "user": {
      "displayName": "‍박종혁(교원-빅데이터경영통계전공)",
      "photoUrl": "https://lh3.googleusercontent.com/a/default-user=s64",
      "userId": "05107650215573502422"
     },
     "user_tz": -540
    },
    "id": "eYWg5Ii9h0Hq",
    "outputId": "956ee282-86e4-4570-ec3e-a062d53f2565"
   },
   "outputs": [
    {
     "name": "stdout",
     "output_type": "stream",
     "text": [
      "tensor([[[  9.,  20.],\n",
      "         [ 33.,  48.]],\n",
      "\n",
      "        [[ 65.,  84.],\n",
      "         [105., 128.]]])\n"
     ]
    }
   ],
   "source": [
    "mul_tensor = tensor1 * tensor2\n",
    "print(mul_tensor)"
   ]
  },
  {
   "cell_type": "code",
   "execution_count": 40,
   "metadata": {
    "colab": {
     "base_uri": "https://localhost:8080/"
    },
    "executionInfo": {
     "elapsed": 2,
     "status": "ok",
     "timestamp": 1631865376163,
     "user": {
      "displayName": "‍박종혁(교원-빅데이터경영통계전공)",
      "photoUrl": "https://lh3.googleusercontent.com/a/default-user=s64",
      "userId": "05107650215573502422"
     },
     "user_tz": -540
    },
    "id": "E4XBAyf-h0Hq",
    "outputId": "d9fc839f-4052-4feb-8044-f6e0adbff806"
   },
   "outputs": [
    {
     "name": "stdout",
     "output_type": "stream",
     "text": [
      "tensor([[[0.1111, 0.2000],\n",
      "         [0.2727, 0.3333]],\n",
      "\n",
      "        [[0.3846, 0.4286],\n",
      "         [0.4667, 0.5000]]])\n"
     ]
    }
   ],
   "source": [
    "div_tensor = tensor1 / tensor2\n",
    "print(div_tensor)"
   ]
  },
  {
   "cell_type": "code",
   "execution_count": 41,
   "metadata": {
    "colab": {
     "base_uri": "https://localhost:8080/"
    },
    "executionInfo": {
     "elapsed": 532,
     "status": "ok",
     "timestamp": 1631865381780,
     "user": {
      "displayName": "‍박종혁(교원-빅데이터경영통계전공)",
      "photoUrl": "https://lh3.googleusercontent.com/a/default-user=s64",
      "userId": "05107650215573502422"
     },
     "user_tz": -540
    },
    "id": "5iNi2S49h0Hr",
    "outputId": "28acaf93-7e77-42b3-e6c4-5e7ad039f667"
   },
   "outputs": [
    {
     "data": {
      "text/plain": [
       "tensor([[[ 31.,  34.],\n",
       "         [ 71.,  78.]],\n",
       "\n",
       "        [[155., 166.],\n",
       "         [211., 226.]]])"
      ]
     },
     "execution_count": 41,
     "metadata": {},
     "output_type": "execute_result"
    }
   ],
   "source": [
    "torch.matmul(tensor1, tensor2)"
   ]
  },
  {
   "cell_type": "code",
   "execution_count": 42,
   "metadata": {
    "colab": {
     "base_uri": "https://localhost:8080/"
    },
    "executionInfo": {
     "elapsed": 523,
     "status": "ok",
     "timestamp": 1631865386160,
     "user": {
      "displayName": "‍박종혁(교원-빅데이터경영통계전공)",
      "photoUrl": "https://lh3.googleusercontent.com/a/default-user=s64",
      "userId": "05107650215573502422"
     },
     "user_tz": -540
    },
    "id": "iQ4NBXqmh0Hr",
    "outputId": "4deaca32-8ad1-457b-a23a-8d3f27cd1b1c"
   },
   "outputs": [
    {
     "data": {
      "text/plain": [
       "tensor([[[10., 12.],\n",
       "         [14., 16.]],\n",
       "\n",
       "        [[18., 20.],\n",
       "         [22., 24.]]])"
      ]
     },
     "execution_count": 42,
     "metadata": {},
     "output_type": "execute_result"
    }
   ],
   "source": [
    "torch.add(tensor1, tensor2)"
   ]
  },
  {
   "cell_type": "code",
   "execution_count": 43,
   "metadata": {
    "colab": {
     "base_uri": "https://localhost:8080/"
    },
    "executionInfo": {
     "elapsed": 378,
     "status": "ok",
     "timestamp": 1631865392963,
     "user": {
      "displayName": "‍박종혁(교원-빅데이터경영통계전공)",
      "photoUrl": "https://lh3.googleusercontent.com/a/default-user=s64",
      "userId": "05107650215573502422"
     },
     "user_tz": -540
    },
    "id": "S97rtjAoh0Hr",
    "outputId": "18f18f2b-34c1-4819-fe93-f33ceee38fbe"
   },
   "outputs": [
    {
     "data": {
      "text/plain": [
       "tensor([[[-8., -8.],\n",
       "         [-8., -8.]],\n",
       "\n",
       "        [[-8., -8.],\n",
       "         [-8., -8.]]])"
      ]
     },
     "execution_count": 43,
     "metadata": {},
     "output_type": "execute_result"
    }
   ],
   "source": [
    "torch.sub(tensor1, tensor2)"
   ]
  },
  {
   "cell_type": "code",
   "execution_count": 44,
   "metadata": {
    "colab": {
     "base_uri": "https://localhost:8080/"
    },
    "executionInfo": {
     "elapsed": 439,
     "status": "ok",
     "timestamp": 1631865396366,
     "user": {
      "displayName": "‍박종혁(교원-빅데이터경영통계전공)",
      "photoUrl": "https://lh3.googleusercontent.com/a/default-user=s64",
      "userId": "05107650215573502422"
     },
     "user_tz": -540
    },
    "id": "HEzzxxxIh0Hr",
    "outputId": "2d94515b-7c0f-4be3-ccb7-d828fa604750"
   },
   "outputs": [
    {
     "data": {
      "text/plain": [
       "tensor([[[  9.,  20.],\n",
       "         [ 33.,  48.]],\n",
       "\n",
       "        [[ 65.,  84.],\n",
       "         [105., 128.]]])"
      ]
     },
     "execution_count": 44,
     "metadata": {},
     "output_type": "execute_result"
    }
   ],
   "source": [
    "torch.mul(tensor1, tensor2)"
   ]
  },
  {
   "cell_type": "code",
   "execution_count": 45,
   "metadata": {
    "colab": {
     "base_uri": "https://localhost:8080/"
    },
    "executionInfo": {
     "elapsed": 508,
     "status": "ok",
     "timestamp": 1631865398909,
     "user": {
      "displayName": "‍박종혁(교원-빅데이터경영통계전공)",
      "photoUrl": "https://lh3.googleusercontent.com/a/default-user=s64",
      "userId": "05107650215573502422"
     },
     "user_tz": -540
    },
    "id": "sMArUNJPh0Hr",
    "outputId": "e589e440-ab91-4c55-8dd9-ef82458743f7"
   },
   "outputs": [
    {
     "data": {
      "text/plain": [
       "tensor([[[0.1111, 0.2000],\n",
       "         [0.2727, 0.3333]],\n",
       "\n",
       "        [[0.3846, 0.4286],\n",
       "         [0.4667, 0.5000]]])"
      ]
     },
     "execution_count": 45,
     "metadata": {},
     "output_type": "execute_result"
    }
   ],
   "source": [
    "torch.div(tensor1, tensor2)"
   ]
  },
  {
   "cell_type": "code",
   "execution_count": 46,
   "metadata": {
    "id": "HTXChd2kh0Hr",
    "outputId": "f6e73627-1721-405f-aa35-7ded3e7b0bed"
   },
   "outputs": [
    {
     "data": {
      "text/plain": [
       "tensor([[[1., 2.],\n",
       "         [3., 4.]],\n",
       "\n",
       "        [[5., 6.],\n",
       "         [7., 8.]]])"
      ]
     },
     "execution_count": 46,
     "metadata": {},
     "output_type": "execute_result"
    }
   ],
   "source": [
    "tensor1"
   ]
  },
  {
   "cell_type": "code",
   "execution_count": 47,
   "metadata": {
    "id": "-Ts3SkMfh0Hr",
    "outputId": "b383ad83-c9a1-41fa-dd5c-b11fde36cdbe"
   },
   "outputs": [
    {
     "data": {
      "text/plain": [
       "tensor([[[ 9., 10.],\n",
       "         [11., 12.]],\n",
       "\n",
       "        [[13., 14.],\n",
       "         [15., 16.]]])"
      ]
     },
     "execution_count": 47,
     "metadata": {},
     "output_type": "execute_result"
    }
   ],
   "source": [
    "tensor2"
   ]
  },
  {
   "cell_type": "code",
   "execution_count": 48,
   "metadata": {
    "id": "b4UbNqRth0Hr",
    "outputId": "b41eeb44-b6b5-4b21-8cc3-0003bff884ab"
   },
   "outputs": [
    {
     "data": {
      "text/plain": [
       "tensor([[[ 31.,  34.],\n",
       "         [ 71.,  78.]],\n",
       "\n",
       "        [[155., 166.],\n",
       "         [211., 226.]]])"
      ]
     },
     "execution_count": 48,
     "metadata": {},
     "output_type": "execute_result"
    }
   ],
   "source": [
    "torch.matmul(tensor1, tensor2)"
   ]
  },
  {
   "cell_type": "markdown",
   "metadata": {
    "id": "4xGy9fx8lXvS"
   },
   "source": [
    "# 역전파를 통해 MLP의 Parameter를 Update하는 코드 예시"
   ]
  },
  {
   "cell_type": "code",
   "execution_count": 2,
   "metadata": {
    "code_folding": [],
    "colab": {
     "base_uri": "https://localhost:8080/"
    },
    "executionInfo": {
     "elapsed": 10197,
     "status": "ok",
     "timestamp": 1631866211728,
     "user": {
      "displayName": "‍박종혁(교원-빅데이터경영통계전공)",
      "photoUrl": "https://lh3.googleusercontent.com/a/default-user=s64",
      "userId": "05107650215573502422"
     },
     "user_tz": -540
    },
    "id": "NGFiZ7Mph0Hr",
    "outputId": "35af71b4-0400-4866-e5ae-e13ef01f43e8"
   },
   "outputs": [
    {
     "name": "stdout",
     "output_type": "stream",
     "text": [
      "Iteration:  100 \t Loss:  448.6169738769531\n",
      "Iteration:  200 \t Loss:  1.7451035976409912\n",
      "Iteration:  300 \t Loss:  0.014249494299292564\n",
      "Iteration:  400 \t Loss:  0.00035948085132986307\n",
      "Iteration:  500 \t Loss:  5.676805812981911e-05\n"
     ]
    }
   ],
   "source": [
    "import torch\n",
    "\n",
    "if torch.cuda.is_available(): # 현재 파이썬이 실행되고 있는 환경에서 torch 모듈을 이용할 때 GPU를 이용할 수 있는지 확인하는 함수\n",
    "    DEVICE = torch.device('cuda') # 참이면 'cuda' 이용\n",
    "else:\n",
    "    DEVICE = torch.device('cpu') # 거짓이면 'cpu' 이용\n",
    "\n",
    "BATCH_SIZE = 64 # 파라미터를 업데이트할 때 계산되는 데이터의 개수. 즉, 64개의 데이터로 Output을 계산하여 이를 바탕으로 Loss를 산출하여 파라미터를 1회 Update함\n",
    "INPUT_SIZE = 1000 # Input 레이어의 노드 수. BATCH_SIZE와 혼동하지 말 것. 크기가 1000인 벡터 64개로 Output 계산\n",
    "HIDDEN_SIZE = 100 # Hidden 레이어의 노드 수\n",
    "OUTPUT_SIZE = 10 # Output 레이어의 노드 수\n",
    "\n",
    "# (BATCH_SIZE, INPUT_SIZE)의 크기를 갖는 Input 데이터를 생성하기 위해 torch.randn 함수 활용(표준정규분포를 따르는 Element들로 Tensor(행렬, 벡터 등)가 구성되도록 하는 함수)\n",
    "# device는 위에서 정의한 DEVICE 활용, 데이터 Type은 실수(torch.float)\n",
    "# Gradient 계산이 필요 없는 부분이기 때문에 requires_grad = False (Gradient 계산은 Parameter update 할 때 필요) \n",
    "x = torch.randn(BATCH_SIZE, \n",
    "                INPUT_SIZE, \n",
    "                device = DEVICE, \n",
    "                dtype = torch.float, \n",
    "                requires_grad = False)  \n",
    "\n",
    "# (BATCH_SIZE, OUTPUT_SIZE)의 크기를 갖는 정답 데이터도 같은 방식으로 임의로 생성\n",
    "y = torch.randn(BATCH_SIZE, \n",
    "                OUTPUT_SIZE, \n",
    "                device = DEVICE,\n",
    "                dtype = torch.float, \n",
    "                requires_grad = False)  \n",
    "\n",
    "# (INPUT_SIZE, HIDDEN_SIZE)의 크기를 갖는 가중치 행렬 생성\n",
    "# x와 w1의 행렬 곱을 통해 Hidden 레이어의 노드 수 만큼 연산값이 만들어지게\n",
    "# Update를 해야하는 대상이기 때문에 requires_grad = True 로 설정\n",
    "w1 = torch.randn(INPUT_SIZE, \n",
    "                 HIDDEN_SIZE, \n",
    "                 device = DEVICE, \n",
    "                 dtype = torch.float,\n",
    "                 requires_grad = True)\n",
    "\n",
    "# (HIDDEN_SIZE, OUTPUT_SIZE)의 크기를 갖는 가중치 행렬 생성\n",
    "# x와 w1의 행렬 곱을 통해 만들어진 Hidden 레이어의 연산 값들과 w2를 행렬 곱하여 Output 레이어의 노드 수 만큼 Output 생성\n",
    "# Update를 해야하는 대상이기 때문에 requires_grad = True 로 설정\n",
    "w2 = torch.randn(HIDDEN_SIZE,\n",
    "                 OUTPUT_SIZE, \n",
    "                 device = DEVICE,\n",
    "                 dtype = torch.float,\n",
    "                 requires_grad = True)  \n",
    "\n",
    "# 학습 정도를 결정하는 learning_rate 설정\n",
    "learning_rate = 1e-6                                           \n",
    "for t in range(1, 501): # 500번 반복\n",
    "    y_pred = x.mm(w1).clamp(min = 0).mm(w2) # x.mm(w1) : x와 w1의 행렬곱을 의미, clamp : min 값보다 작으면 min값으로 (ReLU와 같음)\n",
    "\n",
    "    loss = (y_pred - y).pow(2).sum() # pow(2) : 제곱, sum() : 행렬(Tensor)의 모든 element를 더함\n",
    "    if t % 100 == 0:\n",
    "        print(\"Iteration: \", t, \"\\t\", \"Loss: \", loss.item()) # loss.item(): tensor type을 Python number type으로 바꿔줌\n",
    "    loss.backward() # Parameter Update에 사용되는 Gradient 계산                                          \n",
    "\n",
    "    with torch.no_grad(): # 아래 코드들은 Gradient를 추가 계산하지 않고 고정시킨 상태에서 실행됨                                     \n",
    "        w1 -= learning_rate * w1.grad # w1 Update\n",
    "        w2 -= learning_rate * w2.grad # w2 Update              \n",
    "\n",
    "        w1.grad.zero_() # w1에 저장되어 있는 Gradient를 0으로 초기화             \n",
    "        w2.grad.zero_() # w2에 저장되어 있는 Gradient를 0으로 초기화"
   ]
  },
  {
   "cell_type": "code",
   "execution_count": null,
   "metadata": {},
   "outputs": [],
   "source": [
    "# Iteration:  100 \t Loss:  976.0719604492188\n",
    "# Iteration:  200 \t Loss:  5.061180114746094\n",
    "# Iteration:  300 \t Loss:  0.04102771729230881\n",
    "# Iteration:  400 \t Loss:  0.0006718397489748895\n",
    "# Iteration:  500 \t Loss:  6.94335249136202e-05"
   ]
  },
  {
   "cell_type": "code",
   "execution_count": 3,
   "metadata": {},
   "outputs": [
    {
     "name": "stdout",
     "output_type": "stream",
     "text": [
      "1 step loss:  tensor(0.3272, grad_fn=<SumBackward0>)\n",
      "2 step loss:  tensor(0.2770, grad_fn=<SumBackward0>)\n"
     ]
    }
   ],
   "source": [
    "# 예제 풀이\n",
    "import torch\n",
    "\n",
    "if torch.cuda.is_available(): # 현재 파이썬이 실행되고 있는 환경에서 torch 모듈을 이용할 때 GPU를 이용할 수 있는지 확인하는 함수\n",
    "    DEVICE = torch.device('cuda') # 참이면 'cuda' 이용\n",
    "else:\n",
    "    DEVICE = torch.device('cpu') # 거짓이면 'cpu' 이용\n",
    "\n",
    "x = torch.tensor([[2.0, 3.0]], requires_grad=False)\n",
    "y = torch.tensor([[1.0]], requires_grad=False)\n",
    "\n",
    "w1 = torch.tensor([[0.11, 0.12],\n",
    "                   [0.21, 0.08]], requires_grad=True)\n",
    "w2 = torch.tensor([[0.14],\n",
    "                   [0.15]], requires_grad=True)\n",
    "\n",
    "# 학습 정도를 결정하는 learning_rate 설정\n",
    "learning_rate = 0.05                                          \n",
    "for t in range(2): \n",
    "    h = torch.matmul(x, w1)\n",
    "    out = torch.matmul(h, w2)\n",
    "\n",
    "    loss = torch.sum((out-y).pow(2) * (1/2))\n",
    "    loss.backward() # Parameter Update에 사용되는 Gradient 계산                                          \n",
    "    \n",
    "    print(str(t+1)+\" step loss: \", loss)\n",
    "\n",
    "    with torch.no_grad(): # 아래 코드들은 Gradient를 추가 계산하지 않고 고정시킨 상태에서 실행됨                                     \n",
    "        w1 -= learning_rate * w1.grad # w1 Update\n",
    "        w2 -= learning_rate * w2.grad # w2 Update              \n",
    "\n",
    "        w1.grad.zero_() # w1에 저장되어 있는 Gradient를 0으로 초기화             \n",
    "        w2.grad.zero_() # w2에 저장되어 있는 Gradient를 0으로 초기화"
   ]
  },
  {
   "cell_type": "code",
   "execution_count": 4,
   "metadata": {},
   "outputs": [
    {
     "name": "stdout",
     "output_type": "stream",
     "text": [
      "tensor([[0.1343, 0.1447],\n",
      "        [0.2465, 0.1171]], requires_grad=True)\n",
      "tensor([[0.2088],\n",
      "        [0.1902]], requires_grad=True)\n",
      "tensor([[0.2557]], grad_fn=<MmBackward>)\n",
      "tensor(0.2770, grad_fn=<SumBackward0>)\n"
     ]
    }
   ],
   "source": [
    "print(w1)\n",
    "print(w2)\n",
    "print(out)\n",
    "print(loss)"
   ]
  },
  {
   "cell_type": "code",
   "execution_count": 2,
   "metadata": {
    "code_folding": []
   },
   "outputs": [
    {
     "name": "stdout",
     "output_type": "stream",
     "text": [
      "tensor([[0.8500, 0.4800]], grad_fn=<MmBackward>)\n",
      "tensor([[0.1910]], grad_fn=<MmBackward>)\n",
      "Iteration:  0 \t Loss:  0.327240526676178\n",
      "tensor([[0.1100, 0.1200],\n",
      "        [0.2100, 0.0800]], requires_grad=True)\n",
      "tensor([[0.1400],\n",
      "        [0.1500]], requires_grad=True)\n",
      "y_pred :  tensor([[0.1910]], grad_fn=<MmBackward>)\n",
      "1 step loss:  tensor(0.3272, grad_fn=<SumBackward0>)\n",
      "tensor([[0.9236, 0.5589]], grad_fn=<MmBackward>)\n",
      "tensor([[0.2557]], grad_fn=<MmBackward>)\n",
      "tensor([[0.1213, 0.1321],\n",
      "        [0.2270, 0.0982]], requires_grad=True)\n",
      "tensor([[0.1744],\n",
      "        [0.1694]], requires_grad=True)\n",
      "y_pred :  tensor([[0.2557]], grad_fn=<MmBackward>)\n",
      "2 step loss:  tensor(0.2770, grad_fn=<SumBackward0>)\n"
     ]
    }
   ],
   "source": [
    "# 예제 - 교수님\n",
    "import torch\n",
    "\n",
    "if torch.cuda.is_available(): # 현재 파이썬이 실행되고 있는 환경에서 torch 모듈을 이용할 때 GPU를 이용할 수 있는지 확인하는 함수\n",
    "    DEVICE = torch.device('cuda') # 참이면 'cuda' 이용\n",
    "else:\n",
    "    DEVICE = torch.device('cpu') # 거짓이면 'cpu' 이용\n",
    "    \n",
    "x = torch.tensor([[2.0, 3.0]], requires_grad=False)\n",
    "y = torch.tensor([[1.0]], requires_grad=False)\n",
    "\n",
    "w1 = torch.tensor([[0.11, 0.12],\n",
    "                   [0.21, 0.08]], requires_grad=True)\n",
    "w2 = torch.tensor([[0.14],\n",
    "                   [0.15]], requires_grad=True)\n",
    "\n",
    "learning_rate = 0.05\n",
    "\n",
    "for t in range(2):\n",
    "    hidden = x @ w1\n",
    "    print(hidden)\n",
    "    y_pred = hidden @ w2\n",
    "    print(y_pred)\n",
    "\n",
    "    loss = torch.sum((y_pred - y).pow(2) * (1/2))\n",
    "    if t % 100 == 0:\n",
    "        print(\"Iteration: \", t, \"\\t\", \"Loss: \", loss.item()) # loss.item(): tensor type을 Python number type으로 바꿔줌\n",
    "    print(w1)\n",
    "    print(w2)\n",
    "    print('y_pred : ', y_pred)\n",
    "    print(str(t+1)+\" step loss: \", loss)\n",
    "    \n",
    "    if t == 0:\n",
    "        loss.backward() # Parameter Update에 사용되는 Gradient 계산                                          \n",
    "        with torch.no_grad(): # 아래 코드들은 Gradient를 추가 계산하지 않고 고정시킨 상태에서 실행됨                                     \n",
    "            w1 -= learning_rate * w1.grad # w1 Update\n",
    "            w2 -= learning_rate * w2.grad # w2 Update              \n",
    "\n",
    "            w1.grad.zero_() # w1에 저장되어 있는 Gradient를 0으로 초기화             \n",
    "            w2.grad.zero_() # w2에 저장되어 있는 Gradient를 0으로 초기화"
   ]
  },
  {
   "cell_type": "code",
   "execution_count": 8,
   "metadata": {
    "code_folding": []
   },
   "outputs": [],
   "source": [
    "# 예제 - 성장원형\n",
    "x = torch.tensor([[2.0, 3.0]], requires_grad=False)\n",
    "y = torch.tensor([[1.0]], requires_grad=False)\n",
    "\n",
    "w1 = torch.tensor([[0.11, 0.12],\n",
    "                   [0.21, 0.08]], requires_grad=True)\n",
    "w2 = torch.tensor([[0.14],\n",
    "                   [0.12]], requires_grad=True)\n",
    "\n",
    "h = torch.matmul(x, w1)\n",
    "out = torch.matmul(h, w2)\n",
    "loss = 1/2 * (out-y).pow(2)\n",
    "loss.backward()\n",
    "\n",
    "with torch.no_grad(): # 아래 코드들은 Gradient를 추가 계산하지 않고 고정시킨 상태에서 실행됨\n",
    "    w1 -= learning_rate * w1.grad # w1 Update\n",
    "    w2 -= learning_rate * w2.grad # w2 Update              \n",
    "\n",
    "    w1.grad.zero_() # w1에 저장되어 있는 Gradient를 0으로 초기화             \n",
    "    w2.grad.zero_() # w2에 저장되어 있는 Gradient를 0으로 초기화"
   ]
  },
  {
   "cell_type": "code",
   "execution_count": 9,
   "metadata": {},
   "outputs": [
    {
     "name": "stdout",
     "output_type": "stream",
     "text": [
      "tensor([[0.1215, 0.1299],\n",
      "        [0.2273, 0.0948]], requires_grad=True)\n",
      "tensor([[0.1750],\n",
      "        [0.1398]], requires_grad=True)\n",
      "tensor([[0.1766]], grad_fn=<MmBackward>)\n",
      "tensor([[0.3390]], grad_fn=<MulBackward0>)\n"
     ]
    }
   ],
   "source": [
    "print(w1)\n",
    "print(w2)\n",
    "print(out)\n",
    "print(loss)"
   ]
  },
  {
   "cell_type": "code",
   "execution_count": 2,
   "metadata": {},
   "outputs": [
    {
     "name": "stdout",
     "output_type": "stream",
     "text": [
      "h1 : 0.85  h2 : 0.48  y_hat : 0.191\n"
     ]
    }
   ],
   "source": [
    "# 역전파 복습\n",
    "h1 = 0.11 * 2 + 0.21 * 3\n",
    "h2 = 0.12 * 2 + 0.08 * 3\n",
    "y_hat = 0.14 * h1 + 0.15 * h2\n",
    "print('h1 :', h1, ' h2 :', h2, ' y_hat :', y_hat)"
   ]
  },
  {
   "cell_type": "code",
   "execution_count": 3,
   "metadata": {},
   "outputs": [
    {
     "data": {
      "text/plain": [
       "0.32724049999999993"
      ]
     },
     "execution_count": 3,
     "metadata": {},
     "output_type": "execute_result"
    }
   ],
   "source": [
    "L = (y_hat-1)**2 / 2\n",
    "L"
   ]
  },
  {
   "cell_type": "code",
   "execution_count": 9,
   "metadata": {},
   "outputs": [
    {
     "data": {
      "text/plain": [
       "-0.36405"
      ]
     },
     "execution_count": 9,
     "metadata": {},
     "output_type": "execute_result"
    }
   ],
   "source": [
    "(y_hat-1) * 0.15 * 3"
   ]
  },
  {
   "cell_type": "code",
   "execution_count": 10,
   "metadata": {},
   "outputs": [
    {
     "name": "stdout",
     "output_type": "stream",
     "text": [
      "0.1215\n",
      "0.22699999999999998\n",
      "0.132\n",
      "0.098\n",
      "0.17450000000000002\n",
      "0.16949999999999998\n"
     ]
    }
   ],
   "source": [
    "w1_ = 0.11 + 0.05*0.23\n",
    "w2_ = 0.21 + 0.05*0.34\n",
    "w3_ = 0.12 + 0.05*0.24\n",
    "w4_ = 0.08 + 0.05*0.36\n",
    "w5_ = 0.14 + 0.05*0.69\n",
    "w6_ = 0.15 + 0.05*0.39\n",
    "\n",
    "print(w1_)\n",
    "print(w2_)\n",
    "print(w3_)\n",
    "print(w4_)\n",
    "print(w5_)\n",
    "print(w6_)"
   ]
  },
  {
   "cell_type": "code",
   "execution_count": 11,
   "metadata": {},
   "outputs": [
    {
     "name": "stdout",
     "output_type": "stream",
     "text": [
      "h1 : 0.93  h2 : 0.56  y_hat : 0.2533\n"
     ]
    }
   ],
   "source": [
    "# 역전파 복습\n",
    "h1 = 0.12 * 2 + 0.23 * 3\n",
    "h2 = 0.13 * 2 + 0.10 * 3\n",
    "y_hat = 0.17 * h1 + 0.17 * h2\n",
    "print('h1 :', h1, ' h2 :', h2, ' y_hat :', y_hat)"
   ]
  },
  {
   "cell_type": "code",
   "execution_count": 12,
   "metadata": {},
   "outputs": [
    {
     "data": {
      "text/plain": [
       "0.27878044499999993"
      ]
     },
     "execution_count": 12,
     "metadata": {},
     "output_type": "execute_result"
    }
   ],
   "source": [
    "L = (y_hat-1)**2 / 2\n",
    "L"
   ]
  },
  {
   "cell_type": "code",
   "execution_count": null,
   "metadata": {},
   "outputs": [],
   "source": []
  },
  {
   "cell_type": "code",
   "execution_count": null,
   "metadata": {},
   "outputs": [],
   "source": []
  },
  {
   "cell_type": "code",
   "execution_count": null,
   "metadata": {},
   "outputs": [],
   "source": []
  },
  {
   "cell_type": "code",
   "execution_count": null,
   "metadata": {},
   "outputs": [],
   "source": []
  },
  {
   "cell_type": "code",
   "execution_count": null,
   "metadata": {},
   "outputs": [],
   "source": []
  },
  {
   "cell_type": "code",
   "execution_count": null,
   "metadata": {},
   "outputs": [],
   "source": []
  },
  {
   "cell_type": "code",
   "execution_count": null,
   "metadata": {},
   "outputs": [],
   "source": []
  },
  {
   "cell_type": "code",
   "execution_count": null,
   "metadata": {},
   "outputs": [],
   "source": []
  }
 ],
 "metadata": {
  "accelerator": "GPU",
  "colab": {
   "name": "1-2_Basic_Autograd.ipynb의 사본",
   "provenance": [
    {
     "file_id": "https://github.com/Justin-A/DeepLearning101/blob/master/1-2_Basic_Autograd.ipynb",
     "timestamp": 1631864585015
    }
   ]
  },
  "kernelspec": {
   "display_name": "Python 3",
   "language": "python",
   "name": "python3"
  },
  "language_info": {
   "codemirror_mode": {
    "name": "ipython",
    "version": 3
   },
   "file_extension": ".py",
   "mimetype": "text/x-python",
   "name": "python",
   "nbconvert_exporter": "python",
   "pygments_lexer": "ipython3",
   "version": "3.8.5"
  },
  "varInspector": {
   "cols": {
    "lenName": 16,
    "lenType": 16,
    "lenVar": 40
   },
   "kernels_config": {
    "python": {
     "delete_cmd_postfix": "",
     "delete_cmd_prefix": "del ",
     "library": "var_list.py",
     "varRefreshCmd": "print(var_dic_list())"
    },
    "r": {
     "delete_cmd_postfix": ") ",
     "delete_cmd_prefix": "rm(",
     "library": "var_list.r",
     "varRefreshCmd": "cat(var_dic_list()) "
    }
   },
   "types_to_exclude": [
    "module",
    "function",
    "builtin_function_or_method",
    "instance",
    "_Feature"
   ],
   "window_display": false
  }
 },
 "nbformat": 4,
 "nbformat_minor": 1
}
