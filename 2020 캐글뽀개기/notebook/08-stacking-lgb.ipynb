{
 "cells": [
  {
   "cell_type": "markdown",
   "metadata": {},
   "source": [
    "# 데모"
   ]
  },
  {
   "cell_type": "markdown",
   "metadata": {},
   "source": [
    "## 라이브러리 import 및 설정"
   ]
  },
  {
   "cell_type": "code",
   "execution_count": 1,
   "metadata": {
    "ExecuteTime": {
     "end_time": "2020-09-28T05:43:14.031289Z",
     "start_time": "2020-09-28T05:43:13.691075Z"
    }
   },
   "outputs": [],
   "source": [
    "%reload_ext autoreload\n",
    "%autoreload 2\n",
    "%matplotlib inline"
   ]
  },
  {
   "cell_type": "code",
   "execution_count": 2,
   "metadata": {
    "ExecuteTime": {
     "end_time": "2020-09-28T05:43:15.027358Z",
     "start_time": "2020-09-28T05:43:14.033429Z"
    }
   },
   "outputs": [],
   "source": [
    "import lightgbm as lgb\n",
    "from matplotlib import pyplot as plt\n",
    "from matplotlib import rcParams\n",
    "import numpy as np\n",
    "from pathlib import Path\n",
    "import pandas as pd\n",
    "from sklearn.metrics import accuracy_score\n",
    "from sklearn.model_selection import StratifiedKFold\n",
    "import seaborn as sns\n",
    "import warnings"
   ]
  },
  {
   "cell_type": "code",
   "execution_count": 3,
   "metadata": {
    "ExecuteTime": {
     "end_time": "2020-09-28T05:43:15.051234Z",
     "start_time": "2020-09-28T05:43:15.031049Z"
    }
   },
   "outputs": [],
   "source": [
    "rcParams['figure.figsize'] = (16, 8)\n",
    "plt.style.use('fivethirtyeight')\n",
    "pd.set_option('max_columns', 100)\n",
    "pd.set_option(\"display.precision\", 4)\n",
    "warnings.simplefilter('ignore')"
   ]
  },
  {
   "cell_type": "markdown",
   "metadata": {},
   "source": [
    "## 학습데이터 로드"
   ]
  },
  {
   "cell_type": "markdown",
   "metadata": {},
   "source": [
    "[03-pandas-eda.ipynb](https://github.com/kaggler-tv/dku-kaggle-class/blob/master/notebook/03-pandas-eda.ipynb)에서 생성한 `feature.csv` 피처파일 사용"
   ]
  },
  {
   "cell_type": "code",
   "execution_count": 4,
   "metadata": {
    "ExecuteTime": {
     "end_time": "2020-09-28T05:43:15.074207Z",
     "start_time": "2020-09-28T05:43:15.054223Z"
    }
   },
   "outputs": [],
   "source": [
    "data_dir = Path('../data/dacon-dku')\n",
    "feature_dir = Path('../build/feature')\n",
    "val_dir = Path('../build/val')\n",
    "tst_dir = Path('../build/tst')\n",
    "sub_dir = Path('../build/sub')\n",
    "\n",
    "trn_file = data_dir / 'train.csv'\n",
    "tst_file = data_dir / 'test.csv'\n",
    "sample_file = data_dir / 'sample_submission.csv'\n",
    "\n",
    "target_col = 'class'\n",
    "n_fold = 5\n",
    "n_class = 3\n",
    "seed = 42"
   ]
  },
  {
   "cell_type": "code",
   "execution_count": 6,
   "metadata": {
    "ExecuteTime": {
     "end_time": "2020-09-28T05:43:15.114867Z",
     "start_time": "2020-09-28T05:43:15.095929Z"
    }
   },
   "outputs": [],
   "source": [
    "algo_name = 'lgbcv'\n",
    "feature_name = 'stacking1'\n",
    "model_name = f'{algo_name}_{feature_name}'\n",
    "\n",
    "feature_file = feature_dir / f'{feature_name}.csv'\n",
    "p_val_file = val_dir / f'{model_name}.val.csv'\n",
    "p_tst_file = tst_dir / f'{model_name}.tst.csv'\n",
    "sub_file = sub_dir / f'{model_name}.csv'"
   ]
  },
  {
   "cell_type": "markdown",
   "metadata": {},
   "source": [
    "## Stacking Feature 생성"
   ]
  },
  {
   "cell_type": "code",
   "execution_count": 8,
   "metadata": {
    "ExecuteTime": {
     "end_time": "2020-09-28T05:43:21.585056Z",
     "start_time": "2020-09-28T05:43:21.562310Z"
    }
   },
   "outputs": [
    {
     "data": {
      "text/plain": [
       "['lrcv_polyfeature_class0',\n",
       " 'lrcv_polyfeature_class1',\n",
       " 'lrcv_polyfeature_class2',\n",
       " 'rfcv_feature_class0',\n",
       " 'rfcv_feature_class1',\n",
       " 'rfcv_feature_class2',\n",
       " 'lgbcv_feature_class0',\n",
       " 'lgbcv_feature_class1',\n",
       " 'lgbcv_feature_class2']"
      ]
     },
     "execution_count": 8,
     "metadata": {},
     "output_type": "execute_result"
    }
   ],
   "source": [
    "model_names = ['lrcv_polyfeature', 'rfcv_feature', 'lgbcv_feature']\n",
    "trn = []\n",
    "tst = []\n",
    "feature_names = []\n",
    "for model in model_names:\n",
    "    trn.append(np.loadtxt(val_dir / f'{model}.val.csv', delimiter=','))\n",
    "    tst.append(np.loadtxt(tst_dir / f'{model}.tst.csv', delimiter=','))\n",
    "    feature_names += [f'{model}_class0', f'{model}_class1', f'{model}_class2']\n",
    "    \n",
    "trn = np.hstack(trn)\n",
    "tst = np.hstack(tst)\n",
    "feature_names"
   ]
  },
  {
   "cell_type": "code",
   "execution_count": 9,
   "metadata": {
    "ExecuteTime": {
     "end_time": "2020-09-28T05:43:22.033040Z",
     "start_time": "2020-09-28T05:43:21.587165Z"
    }
   },
   "outputs": [
    {
     "data": {
      "text/plain": [
       "(320000,)"
      ]
     },
     "execution_count": 9,
     "metadata": {},
     "output_type": "execute_result"
    }
   ],
   "source": [
    "y = pd.read_csv(trn_file, index_col=0, usecols=['id', target_col]).values.flatten()\n",
    "y.shape"
   ]
  },
  {
   "cell_type": "markdown",
   "metadata": {},
   "source": [
    "## Stratified K-Fold Cross Validation"
   ]
  },
  {
   "cell_type": "code",
   "execution_count": 10,
   "metadata": {
    "ExecuteTime": {
     "end_time": "2020-09-28T05:43:22.058304Z",
     "start_time": "2020-09-28T05:43:22.034882Z"
    }
   },
   "outputs": [],
   "source": [
    "cv = StratifiedKFold(n_splits=n_fold, shuffle=True, random_state=seed)"
   ]
  },
  {
   "cell_type": "markdown",
   "metadata": {},
   "source": [
    "## LightGBM 모델 학습"
   ]
  },
  {
   "cell_type": "code",
   "execution_count": 11,
   "metadata": {
    "ExecuteTime": {
     "end_time": "2020-09-28T05:43:37.381222Z",
     "start_time": "2020-09-28T05:43:22.061038Z"
    }
   },
   "outputs": [
    {
     "name": "stdout",
     "output_type": "stream",
     "text": [
      "training model for CV #1\n",
      "[1]\tvalid_0's multi_logloss: 0.872561\n",
      "Training until validation scores don't improve for 10 rounds\n",
      "[2]\tvalid_0's multi_logloss: 0.781259\n",
      "[3]\tvalid_0's multi_logloss: 0.705565\n",
      "[4]\tvalid_0's multi_logloss: 0.641647\n",
      "[5]\tvalid_0's multi_logloss: 0.586861\n",
      "[6]\tvalid_0's multi_logloss: 0.539686\n",
      "[7]\tvalid_0's multi_logloss: 0.498697\n",
      "[8]\tvalid_0's multi_logloss: 0.462928\n",
      "[9]\tvalid_0's multi_logloss: 0.431543\n",
      "[10]\tvalid_0's multi_logloss: 0.403925\n",
      "[11]\tvalid_0's multi_logloss: 0.379427\n",
      "[12]\tvalid_0's multi_logloss: 0.357745\n",
      "[13]\tvalid_0's multi_logloss: 0.33846\n",
      "[14]\tvalid_0's multi_logloss: 0.321341\n",
      "[15]\tvalid_0's multi_logloss: 0.306008\n",
      "[16]\tvalid_0's multi_logloss: 0.292285\n",
      "[17]\tvalid_0's multi_logloss: 0.280025\n",
      "[18]\tvalid_0's multi_logloss: 0.269093\n",
      "[19]\tvalid_0's multi_logloss: 0.259231\n",
      "[20]\tvalid_0's multi_logloss: 0.250454\n",
      "[21]\tvalid_0's multi_logloss: 0.242495\n",
      "[22]\tvalid_0's multi_logloss: 0.235348\n",
      "[23]\tvalid_0's multi_logloss: 0.228915\n",
      "[24]\tvalid_0's multi_logloss: 0.223113\n",
      "[25]\tvalid_0's multi_logloss: 0.217877\n",
      "[26]\tvalid_0's multi_logloss: 0.21314\n",
      "[27]\tvalid_0's multi_logloss: 0.208835\n",
      "[28]\tvalid_0's multi_logloss: 0.204941\n",
      "[29]\tvalid_0's multi_logloss: 0.201432\n",
      "[30]\tvalid_0's multi_logloss: 0.198208\n",
      "[31]\tvalid_0's multi_logloss: 0.19532\n",
      "[32]\tvalid_0's multi_logloss: 0.192669\n",
      "[33]\tvalid_0's multi_logloss: 0.190273\n",
      "[34]\tvalid_0's multi_logloss: 0.188068\n",
      "[35]\tvalid_0's multi_logloss: 0.186113\n",
      "[36]\tvalid_0's multi_logloss: 0.184264\n",
      "[37]\tvalid_0's multi_logloss: 0.182672\n",
      "[38]\tvalid_0's multi_logloss: 0.181179\n",
      "[39]\tvalid_0's multi_logloss: 0.179791\n",
      "[40]\tvalid_0's multi_logloss: 0.178508\n",
      "[41]\tvalid_0's multi_logloss: 0.177326\n",
      "[42]\tvalid_0's multi_logloss: 0.176257\n",
      "[43]\tvalid_0's multi_logloss: 0.175299\n",
      "[44]\tvalid_0's multi_logloss: 0.174391\n",
      "[45]\tvalid_0's multi_logloss: 0.173569\n",
      "[46]\tvalid_0's multi_logloss: 0.172829\n",
      "[47]\tvalid_0's multi_logloss: 0.172107\n",
      "[48]\tvalid_0's multi_logloss: 0.171481\n",
      "[49]\tvalid_0's multi_logloss: 0.170876\n",
      "[50]\tvalid_0's multi_logloss: 0.170352\n",
      "[51]\tvalid_0's multi_logloss: 0.169814\n",
      "[52]\tvalid_0's multi_logloss: 0.169338\n",
      "[53]\tvalid_0's multi_logloss: 0.168891\n",
      "[54]\tvalid_0's multi_logloss: 0.168508\n",
      "[55]\tvalid_0's multi_logloss: 0.168146\n",
      "[56]\tvalid_0's multi_logloss: 0.167838\n",
      "[57]\tvalid_0's multi_logloss: 0.167517\n",
      "[58]\tvalid_0's multi_logloss: 0.167205\n",
      "[59]\tvalid_0's multi_logloss: 0.16696\n",
      "[60]\tvalid_0's multi_logloss: 0.166668\n",
      "[61]\tvalid_0's multi_logloss: 0.166455\n",
      "[62]\tvalid_0's multi_logloss: 0.166238\n",
      "[63]\tvalid_0's multi_logloss: 0.166082\n",
      "[64]\tvalid_0's multi_logloss: 0.16592\n",
      "[65]\tvalid_0's multi_logloss: 0.165746\n",
      "[66]\tvalid_0's multi_logloss: 0.165551\n",
      "[67]\tvalid_0's multi_logloss: 0.165416\n",
      "[68]\tvalid_0's multi_logloss: 0.165258\n",
      "[69]\tvalid_0's multi_logloss: 0.165123\n",
      "[70]\tvalid_0's multi_logloss: 0.165009\n",
      "[71]\tvalid_0's multi_logloss: 0.164925\n",
      "[72]\tvalid_0's multi_logloss: 0.164826\n",
      "[73]\tvalid_0's multi_logloss: 0.164745\n",
      "[74]\tvalid_0's multi_logloss: 0.164649\n",
      "[75]\tvalid_0's multi_logloss: 0.164562\n",
      "[76]\tvalid_0's multi_logloss: 0.164544\n",
      "[77]\tvalid_0's multi_logloss: 0.164477\n",
      "[78]\tvalid_0's multi_logloss: 0.164384\n",
      "[79]\tvalid_0's multi_logloss: 0.16433\n",
      "[80]\tvalid_0's multi_logloss: 0.164247\n",
      "[81]\tvalid_0's multi_logloss: 0.164178\n",
      "[82]\tvalid_0's multi_logloss: 0.16412\n",
      "[83]\tvalid_0's multi_logloss: 0.164029\n",
      "[84]\tvalid_0's multi_logloss: 0.16399\n",
      "[85]\tvalid_0's multi_logloss: 0.163989\n",
      "[86]\tvalid_0's multi_logloss: 0.163934\n",
      "[87]\tvalid_0's multi_logloss: 0.163912\n",
      "[88]\tvalid_0's multi_logloss: 0.163863\n",
      "[89]\tvalid_0's multi_logloss: 0.163824\n",
      "[90]\tvalid_0's multi_logloss: 0.163786\n",
      "[91]\tvalid_0's multi_logloss: 0.163764\n",
      "[92]\tvalid_0's multi_logloss: 0.163741\n",
      "[93]\tvalid_0's multi_logloss: 0.163714\n",
      "[94]\tvalid_0's multi_logloss: 0.163693\n",
      "[95]\tvalid_0's multi_logloss: 0.163672\n",
      "[96]\tvalid_0's multi_logloss: 0.163659\n",
      "[97]\tvalid_0's multi_logloss: 0.163627\n",
      "[98]\tvalid_0's multi_logloss: 0.163612\n",
      "[99]\tvalid_0's multi_logloss: 0.163636\n",
      "[100]\tvalid_0's multi_logloss: 0.16364\n",
      "[101]\tvalid_0's multi_logloss: 0.163627\n",
      "[102]\tvalid_0's multi_logloss: 0.163662\n",
      "[103]\tvalid_0's multi_logloss: 0.163649\n",
      "[104]\tvalid_0's multi_logloss: 0.163668\n",
      "[105]\tvalid_0's multi_logloss: 0.163675\n",
      "[106]\tvalid_0's multi_logloss: 0.163678\n",
      "[107]\tvalid_0's multi_logloss: 0.163689\n",
      "[108]\tvalid_0's multi_logloss: 0.163684\n",
      "Early stopping, best iteration is:\n",
      "[98]\tvalid_0's multi_logloss: 0.163612\n",
      "training model for CV #2\n",
      "[1]\tvalid_0's multi_logloss: 0.87104\n",
      "Training until validation scores don't improve for 10 rounds\n",
      "[2]\tvalid_0's multi_logloss: 0.779017\n",
      "[3]\tvalid_0's multi_logloss: 0.702984\n",
      "[4]\tvalid_0's multi_logloss: 0.638549\n",
      "[5]\tvalid_0's multi_logloss: 0.583572\n",
      "[6]\tvalid_0's multi_logloss: 0.536297\n",
      "[7]\tvalid_0's multi_logloss: 0.495139\n",
      "[8]\tvalid_0's multi_logloss: 0.459251\n",
      "[9]\tvalid_0's multi_logloss: 0.427733\n",
      "[10]\tvalid_0's multi_logloss: 0.399993\n",
      "[11]\tvalid_0's multi_logloss: 0.375475\n",
      "[12]\tvalid_0's multi_logloss: 0.353711\n",
      "[13]\tvalid_0's multi_logloss: 0.334478\n",
      "[14]\tvalid_0's multi_logloss: 0.317348\n",
      "[15]\tvalid_0's multi_logloss: 0.302085\n",
      "[16]\tvalid_0's multi_logloss: 0.288467\n",
      "[17]\tvalid_0's multi_logloss: 0.276335\n",
      "[18]\tvalid_0's multi_logloss: 0.265425\n",
      "[19]\tvalid_0's multi_logloss: 0.255703\n",
      "[20]\tvalid_0's multi_logloss: 0.246887\n",
      "[21]\tvalid_0's multi_logloss: 0.238999\n",
      "[22]\tvalid_0's multi_logloss: 0.231934\n",
      "[23]\tvalid_0's multi_logloss: 0.225559\n",
      "[24]\tvalid_0's multi_logloss: 0.219843\n",
      "[25]\tvalid_0's multi_logloss: 0.214677\n",
      "[26]\tvalid_0's multi_logloss: 0.210019\n",
      "[27]\tvalid_0's multi_logloss: 0.205789\n",
      "[28]\tvalid_0's multi_logloss: 0.201973\n",
      "[29]\tvalid_0's multi_logloss: 0.198476\n",
      "[30]\tvalid_0's multi_logloss: 0.195345\n",
      "[31]\tvalid_0's multi_logloss: 0.192493\n",
      "[32]\tvalid_0's multi_logloss: 0.189909\n",
      "[33]\tvalid_0's multi_logloss: 0.187561\n",
      "[34]\tvalid_0's multi_logloss: 0.185438\n",
      "[35]\tvalid_0's multi_logloss: 0.18355\n",
      "[36]\tvalid_0's multi_logloss: 0.181804\n",
      "[37]\tvalid_0's multi_logloss: 0.180169\n",
      "[38]\tvalid_0's multi_logloss: 0.17873\n",
      "[39]\tvalid_0's multi_logloss: 0.177354\n",
      "[40]\tvalid_0's multi_logloss: 0.176112\n",
      "[41]\tvalid_0's multi_logloss: 0.174967\n",
      "[42]\tvalid_0's multi_logloss: 0.173916\n",
      "[43]\tvalid_0's multi_logloss: 0.172939\n",
      "[44]\tvalid_0's multi_logloss: 0.172071\n",
      "[45]\tvalid_0's multi_logloss: 0.171285\n",
      "[46]\tvalid_0's multi_logloss: 0.170578\n",
      "[47]\tvalid_0's multi_logloss: 0.169946\n",
      "[48]\tvalid_0's multi_logloss: 0.169335\n",
      "[49]\tvalid_0's multi_logloss: 0.168798\n",
      "[50]\tvalid_0's multi_logloss: 0.168302\n",
      "[51]\tvalid_0's multi_logloss: 0.167796\n",
      "[52]\tvalid_0's multi_logloss: 0.167393\n",
      "[53]\tvalid_0's multi_logloss: 0.166924\n",
      "[54]\tvalid_0's multi_logloss: 0.166532\n",
      "[55]\tvalid_0's multi_logloss: 0.166144\n",
      "[56]\tvalid_0's multi_logloss: 0.165817\n",
      "[57]\tvalid_0's multi_logloss: 0.165534\n",
      "[58]\tvalid_0's multi_logloss: 0.165274\n",
      "[59]\tvalid_0's multi_logloss: 0.165049\n",
      "[60]\tvalid_0's multi_logloss: 0.164807\n",
      "[61]\tvalid_0's multi_logloss: 0.164894\n",
      "[62]\tvalid_0's multi_logloss: 0.164639\n",
      "[63]\tvalid_0's multi_logloss: 0.164447\n",
      "[64]\tvalid_0's multi_logloss: 0.164277\n",
      "[65]\tvalid_0's multi_logloss: 0.16499\n",
      "[66]\tvalid_0's multi_logloss: 0.163987\n",
      "[67]\tvalid_0's multi_logloss: 0.163847\n",
      "[68]\tvalid_0's multi_logloss: 0.166748\n",
      "[69]\tvalid_0's multi_logloss: 0.163951\n",
      "[70]\tvalid_0's multi_logloss: 0.165424\n",
      "[71]\tvalid_0's multi_logloss: 0.164133\n",
      "[72]\tvalid_0's multi_logloss: 0.170719\n",
      "[73]\tvalid_0's multi_logloss: 0.164874\n",
      "[74]\tvalid_0's multi_logloss: 0.167003\n",
      "[75]\tvalid_0's multi_logloss: 0.163835\n",
      "[76]\tvalid_0's multi_logloss: 0.163779\n",
      "[77]\tvalid_0's multi_logloss: 0.169687\n",
      "[78]\tvalid_0's multi_logloss: 0.16437\n",
      "[79]\tvalid_0's multi_logloss: 0.167214\n",
      "[80]\tvalid_0's multi_logloss: 0.165725\n",
      "[81]\tvalid_0's multi_logloss: 0.166933\n",
      "[82]\tvalid_0's multi_logloss: 0.165532\n",
      "[83]\tvalid_0's multi_logloss: 0.16543\n",
      "[84]\tvalid_0's multi_logloss: 0.169679\n",
      "[85]\tvalid_0's multi_logloss: 0.165332\n",
      "[86]\tvalid_0's multi_logloss: 0.165313\n",
      "Early stopping, best iteration is:\n",
      "[76]\tvalid_0's multi_logloss: 0.163779\n",
      "training model for CV #3\n",
      "[1]\tvalid_0's multi_logloss: 0.8728\n",
      "Training until validation scores don't improve for 10 rounds\n",
      "[2]\tvalid_0's multi_logloss: 0.78198\n",
      "[3]\tvalid_0's multi_logloss: 0.706436\n",
      "[4]\tvalid_0's multi_logloss: 0.642692\n",
      "[5]\tvalid_0's multi_logloss: 0.588198\n",
      "[6]\tvalid_0's multi_logloss: 0.541148\n",
      "[7]\tvalid_0's multi_logloss: 0.500206\n",
      "[8]\tvalid_0's multi_logloss: 0.464501\n",
      "[9]\tvalid_0's multi_logloss: 0.433164\n",
      "[10]\tvalid_0's multi_logloss: 0.405452\n",
      "[11]\tvalid_0's multi_logloss: 0.380965\n"
     ]
    },
    {
     "name": "stdout",
     "output_type": "stream",
     "text": [
      "[12]\tvalid_0's multi_logloss: 0.359351\n",
      "[13]\tvalid_0's multi_logloss: 0.340064\n",
      "[14]\tvalid_0's multi_logloss: 0.322961\n",
      "[15]\tvalid_0's multi_logloss: 0.30769\n",
      "[16]\tvalid_0's multi_logloss: 0.294058\n",
      "[17]\tvalid_0's multi_logloss: 0.281866\n",
      "[18]\tvalid_0's multi_logloss: 0.270968\n",
      "[19]\tvalid_0's multi_logloss: 0.261074\n",
      "[20]\tvalid_0's multi_logloss: 0.252274\n",
      "[21]\tvalid_0's multi_logloss: 0.244306\n",
      "[22]\tvalid_0's multi_logloss: 0.237134\n",
      "[23]\tvalid_0's multi_logloss: 0.230648\n",
      "[24]\tvalid_0's multi_logloss: 0.224885\n",
      "[25]\tvalid_0's multi_logloss: 0.219671\n",
      "[26]\tvalid_0's multi_logloss: 0.214968\n",
      "[27]\tvalid_0's multi_logloss: 0.210653\n",
      "[28]\tvalid_0's multi_logloss: 0.206748\n",
      "[29]\tvalid_0's multi_logloss: 0.203192\n",
      "[30]\tvalid_0's multi_logloss: 0.199978\n",
      "[31]\tvalid_0's multi_logloss: 0.19708\n",
      "[32]\tvalid_0's multi_logloss: 0.194418\n",
      "[33]\tvalid_0's multi_logloss: 0.191981\n",
      "[34]\tvalid_0's multi_logloss: 0.1898\n",
      "[35]\tvalid_0's multi_logloss: 0.187818\n",
      "[36]\tvalid_0's multi_logloss: 0.186013\n",
      "[37]\tvalid_0's multi_logloss: 0.184354\n",
      "[38]\tvalid_0's multi_logloss: 0.182853\n",
      "[39]\tvalid_0's multi_logloss: 0.181494\n",
      "[40]\tvalid_0's multi_logloss: 0.18026\n",
      "[41]\tvalid_0's multi_logloss: 0.179135\n",
      "[42]\tvalid_0's multi_logloss: 0.178116\n",
      "[43]\tvalid_0's multi_logloss: 0.17709\n",
      "[44]\tvalid_0's multi_logloss: 0.176216\n",
      "[45]\tvalid_0's multi_logloss: 0.175425\n",
      "[46]\tvalid_0's multi_logloss: 0.174681\n",
      "[47]\tvalid_0's multi_logloss: 0.173971\n",
      "[48]\tvalid_0's multi_logloss: 0.173332\n",
      "[49]\tvalid_0's multi_logloss: 0.172694\n",
      "[50]\tvalid_0's multi_logloss: 0.172174\n",
      "[51]\tvalid_0's multi_logloss: 0.171638\n",
      "[52]\tvalid_0's multi_logloss: 0.171183\n",
      "[53]\tvalid_0's multi_logloss: 0.170741\n",
      "[54]\tvalid_0's multi_logloss: 0.170368\n",
      "[55]\tvalid_0's multi_logloss: 0.169994\n",
      "[56]\tvalid_0's multi_logloss: 0.169661\n",
      "[57]\tvalid_0's multi_logloss: 0.169316\n",
      "[58]\tvalid_0's multi_logloss: 0.169031\n",
      "[59]\tvalid_0's multi_logloss: 0.168771\n",
      "[60]\tvalid_0's multi_logloss: 0.168526\n",
      "[61]\tvalid_0's multi_logloss: 0.168334\n",
      "[62]\tvalid_0's multi_logloss: 0.168221\n",
      "[63]\tvalid_0's multi_logloss: 0.168015\n",
      "[64]\tvalid_0's multi_logloss: 0.167923\n",
      "[65]\tvalid_0's multi_logloss: 0.167733\n",
      "[66]\tvalid_0's multi_logloss: 0.167573\n",
      "[67]\tvalid_0's multi_logloss: 0.167399\n",
      "[68]\tvalid_0's multi_logloss: 0.167256\n",
      "[69]\tvalid_0's multi_logloss: 0.167135\n",
      "[70]\tvalid_0's multi_logloss: 0.166992\n",
      "[71]\tvalid_0's multi_logloss: 0.166866\n",
      "[72]\tvalid_0's multi_logloss: 0.16677\n",
      "[73]\tvalid_0's multi_logloss: 0.166671\n",
      "[74]\tvalid_0's multi_logloss: 0.166616\n",
      "[75]\tvalid_0's multi_logloss: 0.166545\n",
      "[76]\tvalid_0's multi_logloss: 0.166461\n",
      "[77]\tvalid_0's multi_logloss: 0.166428\n",
      "[78]\tvalid_0's multi_logloss: 0.166358\n",
      "[79]\tvalid_0's multi_logloss: 0.166254\n",
      "[80]\tvalid_0's multi_logloss: 0.166183\n",
      "[81]\tvalid_0's multi_logloss: 0.166151\n",
      "[82]\tvalid_0's multi_logloss: 0.166108\n",
      "[83]\tvalid_0's multi_logloss: 0.166125\n",
      "[84]\tvalid_0's multi_logloss: 0.166065\n",
      "[85]\tvalid_0's multi_logloss: 0.166014\n",
      "[86]\tvalid_0's multi_logloss: 0.166006\n",
      "[87]\tvalid_0's multi_logloss: 0.165961\n",
      "[88]\tvalid_0's multi_logloss: 0.165919\n",
      "[89]\tvalid_0's multi_logloss: 0.165903\n",
      "[90]\tvalid_0's multi_logloss: 0.165874\n",
      "[91]\tvalid_0's multi_logloss: 0.165838\n",
      "[92]\tvalid_0's multi_logloss: 0.165817\n",
      "[93]\tvalid_0's multi_logloss: 0.165794\n",
      "[94]\tvalid_0's multi_logloss: 0.165784\n",
      "[95]\tvalid_0's multi_logloss: 0.165881\n",
      "[96]\tvalid_0's multi_logloss: 0.165825\n",
      "[97]\tvalid_0's multi_logloss: 0.165803\n",
      "[98]\tvalid_0's multi_logloss: 0.165792\n",
      "[99]\tvalid_0's multi_logloss: 0.165782\n",
      "[100]\tvalid_0's multi_logloss: 0.165782\n",
      "[101]\tvalid_0's multi_logloss: 0.165764\n",
      "[102]\tvalid_0's multi_logloss: 0.165778\n",
      "[103]\tvalid_0's multi_logloss: 0.16577\n",
      "[104]\tvalid_0's multi_logloss: 0.165788\n",
      "[105]\tvalid_0's multi_logloss: 0.16578\n",
      "[106]\tvalid_0's multi_logloss: 0.165779\n",
      "[107]\tvalid_0's multi_logloss: 0.165797\n",
      "[108]\tvalid_0's multi_logloss: 0.165828\n",
      "[109]\tvalid_0's multi_logloss: 0.165822\n",
      "[110]\tvalid_0's multi_logloss: 0.165841\n",
      "[111]\tvalid_0's multi_logloss: 0.16584\n",
      "Early stopping, best iteration is:\n",
      "[101]\tvalid_0's multi_logloss: 0.165764\n",
      "training model for CV #4\n",
      "[1]\tvalid_0's multi_logloss: 0.871694\n",
      "Training until validation scores don't improve for 10 rounds\n",
      "[2]\tvalid_0's multi_logloss: 0.779868\n",
      "[3]\tvalid_0's multi_logloss: 0.703921\n",
      "[4]\tvalid_0's multi_logloss: 0.639731\n",
      "[5]\tvalid_0's multi_logloss: 0.584873\n",
      "[6]\tvalid_0's multi_logloss: 0.53759\n",
      "[7]\tvalid_0's multi_logloss: 0.496525\n",
      "[8]\tvalid_0's multi_logloss: 0.460625\n",
      "[9]\tvalid_0's multi_logloss: 0.42907\n",
      "[10]\tvalid_0's multi_logloss: 0.401367\n",
      "[11]\tvalid_0's multi_logloss: 0.376949\n",
      "[12]\tvalid_0's multi_logloss: 0.355235\n",
      "[13]\tvalid_0's multi_logloss: 0.336027\n",
      "[14]\tvalid_0's multi_logloss: 0.318942\n",
      "[15]\tvalid_0's multi_logloss: 0.303773\n",
      "[16]\tvalid_0's multi_logloss: 0.290198\n",
      "[17]\tvalid_0's multi_logloss: 0.278005\n",
      "[18]\tvalid_0's multi_logloss: 0.26714\n",
      "[19]\tvalid_0's multi_logloss: 0.257386\n",
      "[20]\tvalid_0's multi_logloss: 0.248613\n",
      "[21]\tvalid_0's multi_logloss: 0.240744\n",
      "[22]\tvalid_0's multi_logloss: 0.233663\n",
      "[23]\tvalid_0's multi_logloss: 0.227289\n",
      "[24]\tvalid_0's multi_logloss: 0.221605\n",
      "[25]\tvalid_0's multi_logloss: 0.216433\n",
      "[26]\tvalid_0's multi_logloss: 0.211709\n",
      "[27]\tvalid_0's multi_logloss: 0.207478\n",
      "[28]\tvalid_0's multi_logloss: 0.203661\n",
      "[29]\tvalid_0's multi_logloss: 0.200235\n",
      "[30]\tvalid_0's multi_logloss: 0.197127\n",
      "[31]\tvalid_0's multi_logloss: 0.194295\n",
      "[32]\tvalid_0's multi_logloss: 0.191721\n",
      "[33]\tvalid_0's multi_logloss: 0.189326\n",
      "[34]\tvalid_0's multi_logloss: 0.1872\n",
      "[35]\tvalid_0's multi_logloss: 0.185294\n",
      "[36]\tvalid_0's multi_logloss: 0.183495\n",
      "[37]\tvalid_0's multi_logloss: 0.181857\n",
      "[38]\tvalid_0's multi_logloss: 0.180362\n",
      "[39]\tvalid_0's multi_logloss: 0.17896\n",
      "[40]\tvalid_0's multi_logloss: 0.177727\n",
      "[41]\tvalid_0's multi_logloss: 0.176646\n",
      "[42]\tvalid_0's multi_logloss: 0.175597\n",
      "[43]\tvalid_0's multi_logloss: 0.174636\n",
      "[44]\tvalid_0's multi_logloss: 0.173761\n",
      "[45]\tvalid_0's multi_logloss: 0.172954\n",
      "[46]\tvalid_0's multi_logloss: 0.172263\n",
      "[47]\tvalid_0's multi_logloss: 0.171648\n",
      "[48]\tvalid_0's multi_logloss: 0.171068\n",
      "[49]\tvalid_0's multi_logloss: 0.170448\n",
      "[50]\tvalid_0's multi_logloss: 0.169945\n",
      "[51]\tvalid_0's multi_logloss: 0.169456\n",
      "[52]\tvalid_0's multi_logloss: 0.16904\n",
      "[53]\tvalid_0's multi_logloss: 0.168621\n",
      "[54]\tvalid_0's multi_logloss: 0.168233\n",
      "[55]\tvalid_0's multi_logloss: 0.167896\n",
      "[56]\tvalid_0's multi_logloss: 0.167586\n",
      "[57]\tvalid_0's multi_logloss: 0.167323\n",
      "[58]\tvalid_0's multi_logloss: 0.167104\n",
      "[59]\tvalid_0's multi_logloss: 0.166887\n",
      "[60]\tvalid_0's multi_logloss: 0.166663\n",
      "[61]\tvalid_0's multi_logloss: 0.166436\n",
      "[62]\tvalid_0's multi_logloss: 0.166233\n",
      "[63]\tvalid_0's multi_logloss: 0.166042\n",
      "[64]\tvalid_0's multi_logloss: 0.165909\n",
      "[65]\tvalid_0's multi_logloss: 0.165741\n",
      "[66]\tvalid_0's multi_logloss: 0.165598\n",
      "[67]\tvalid_0's multi_logloss: 0.165444\n",
      "[68]\tvalid_0's multi_logloss: 0.165349\n",
      "[69]\tvalid_0's multi_logloss: 0.16587\n",
      "[70]\tvalid_0's multi_logloss: 0.165065\n",
      "[71]\tvalid_0's multi_logloss: 0.166954\n",
      "[72]\tvalid_0's multi_logloss: 0.166051\n",
      "[73]\tvalid_0's multi_logloss: 0.165968\n",
      "[74]\tvalid_0's multi_logloss: 0.165892\n",
      "[75]\tvalid_0's multi_logloss: 0.165815\n",
      "[76]\tvalid_0's multi_logloss: 0.165763\n",
      "[77]\tvalid_0's multi_logloss: 0.164637\n",
      "[78]\tvalid_0's multi_logloss: 0.164582\n",
      "[79]\tvalid_0's multi_logloss: 0.164509\n",
      "[80]\tvalid_0's multi_logloss: 0.164451\n",
      "[81]\tvalid_0's multi_logloss: 0.164381\n",
      "[82]\tvalid_0's multi_logloss: 0.164346\n",
      "[83]\tvalid_0's multi_logloss: 0.16433\n",
      "[84]\tvalid_0's multi_logloss: 0.164325\n",
      "[85]\tvalid_0's multi_logloss: 0.165469\n",
      "[86]\tvalid_0's multi_logloss: 0.164241\n",
      "[87]\tvalid_0's multi_logloss: 0.169313\n",
      "[88]\tvalid_0's multi_logloss: 0.16509\n",
      "[89]\tvalid_0's multi_logloss: 0.164636\n",
      "[90]\tvalid_0's multi_logloss: 0.164581\n",
      "[91]\tvalid_0's multi_logloss: 0.16457\n",
      "[92]\tvalid_0's multi_logloss: 0.168354\n",
      "[93]\tvalid_0's multi_logloss: 0.168279\n",
      "[94]\tvalid_0's multi_logloss: 0.170919\n",
      "[95]\tvalid_0's multi_logloss: 0.169824\n",
      "[96]\tvalid_0's multi_logloss: 0.175127\n",
      "Early stopping, best iteration is:\n",
      "[86]\tvalid_0's multi_logloss: 0.164241\n",
      "training model for CV #5\n",
      "[1]\tvalid_0's multi_logloss: 0.871917\n",
      "Training until validation scores don't improve for 10 rounds\n",
      "[2]\tvalid_0's multi_logloss: 0.780226\n",
      "[3]\tvalid_0's multi_logloss: 0.704197\n",
      "[4]\tvalid_0's multi_logloss: 0.639978\n",
      "[5]\tvalid_0's multi_logloss: 0.585046\n",
      "[6]\tvalid_0's multi_logloss: 0.537799\n",
      "[7]\tvalid_0's multi_logloss: 0.496669\n",
      "[8]\tvalid_0's multi_logloss: 0.460732\n",
      "[9]\tvalid_0's multi_logloss: 0.429252\n",
      "[10]\tvalid_0's multi_logloss: 0.401499\n",
      "[11]\tvalid_0's multi_logloss: 0.376988\n"
     ]
    },
    {
     "name": "stdout",
     "output_type": "stream",
     "text": [
      "[12]\tvalid_0's multi_logloss: 0.355251\n",
      "[13]\tvalid_0's multi_logloss: 0.335915\n",
      "[14]\tvalid_0's multi_logloss: 0.318731\n",
      "[15]\tvalid_0's multi_logloss: 0.303479\n",
      "[16]\tvalid_0's multi_logloss: 0.289859\n",
      "[17]\tvalid_0's multi_logloss: 0.27766\n",
      "[18]\tvalid_0's multi_logloss: 0.266741\n",
      "[19]\tvalid_0's multi_logloss: 0.256899\n",
      "[20]\tvalid_0's multi_logloss: 0.248123\n",
      "[21]\tvalid_0's multi_logloss: 0.240227\n",
      "[22]\tvalid_0's multi_logloss: 0.233112\n",
      "[23]\tvalid_0's multi_logloss: 0.22671\n",
      "[24]\tvalid_0's multi_logloss: 0.220957\n",
      "[25]\tvalid_0's multi_logloss: 0.215741\n",
      "[26]\tvalid_0's multi_logloss: 0.210974\n",
      "[27]\tvalid_0's multi_logloss: 0.206716\n",
      "[28]\tvalid_0's multi_logloss: 0.202885\n",
      "[29]\tvalid_0's multi_logloss: 0.199392\n",
      "[30]\tvalid_0's multi_logloss: 0.196203\n",
      "[31]\tvalid_0's multi_logloss: 0.193356\n",
      "[32]\tvalid_0's multi_logloss: 0.190782\n",
      "[33]\tvalid_0's multi_logloss: 0.188429\n",
      "[34]\tvalid_0's multi_logloss: 0.186254\n",
      "[35]\tvalid_0's multi_logloss: 0.184275\n",
      "[36]\tvalid_0's multi_logloss: 0.182449\n",
      "[37]\tvalid_0's multi_logloss: 0.180789\n",
      "[38]\tvalid_0's multi_logloss: 0.179286\n",
      "[39]\tvalid_0's multi_logloss: 0.177917\n",
      "[40]\tvalid_0's multi_logloss: 0.176665\n",
      "[41]\tvalid_0's multi_logloss: 0.175579\n",
      "[42]\tvalid_0's multi_logloss: 0.174546\n",
      "[43]\tvalid_0's multi_logloss: 0.173632\n",
      "[44]\tvalid_0's multi_logloss: 0.172763\n",
      "[45]\tvalid_0's multi_logloss: 0.171961\n",
      "[46]\tvalid_0's multi_logloss: 0.17123\n",
      "[47]\tvalid_0's multi_logloss: 0.170586\n",
      "[48]\tvalid_0's multi_logloss: 0.169966\n",
      "[49]\tvalid_0's multi_logloss: 0.169434\n",
      "[50]\tvalid_0's multi_logloss: 0.168887\n",
      "[51]\tvalid_0's multi_logloss: 0.168419\n",
      "[52]\tvalid_0's multi_logloss: 0.167972\n",
      "[53]\tvalid_0's multi_logloss: 0.167581\n",
      "[54]\tvalid_0's multi_logloss: 0.167191\n",
      "[55]\tvalid_0's multi_logloss: 0.166874\n",
      "[56]\tvalid_0's multi_logloss: 0.166523\n",
      "[57]\tvalid_0's multi_logloss: 0.166254\n",
      "[58]\tvalid_0's multi_logloss: 0.165973\n",
      "[59]\tvalid_0's multi_logloss: 0.165689\n",
      "[60]\tvalid_0's multi_logloss: 0.165602\n",
      "[61]\tvalid_0's multi_logloss: 0.165345\n",
      "[62]\tvalid_0's multi_logloss: 0.165138\n",
      "[63]\tvalid_0's multi_logloss: 0.16491\n",
      "[64]\tvalid_0's multi_logloss: 0.164738\n",
      "[65]\tvalid_0's multi_logloss: 0.164543\n",
      "[66]\tvalid_0's multi_logloss: 0.164355\n",
      "[67]\tvalid_0's multi_logloss: 0.164264\n",
      "[68]\tvalid_0's multi_logloss: 0.164142\n",
      "[69]\tvalid_0's multi_logloss: 0.164023\n",
      "[70]\tvalid_0's multi_logloss: 0.163922\n",
      "[71]\tvalid_0's multi_logloss: 0.16384\n",
      "[72]\tvalid_0's multi_logloss: 0.163753\n",
      "[73]\tvalid_0's multi_logloss: 0.163659\n",
      "[74]\tvalid_0's multi_logloss: 0.163542\n",
      "[75]\tvalid_0's multi_logloss: 0.163467\n",
      "[76]\tvalid_0's multi_logloss: 0.163388\n",
      "[77]\tvalid_0's multi_logloss: 0.163334\n",
      "[78]\tvalid_0's multi_logloss: 0.163245\n",
      "[79]\tvalid_0's multi_logloss: 0.163165\n",
      "[80]\tvalid_0's multi_logloss: 0.163083\n",
      "[81]\tvalid_0's multi_logloss: 0.163035\n",
      "[82]\tvalid_0's multi_logloss: 0.16299\n",
      "[83]\tvalid_0's multi_logloss: 0.162953\n",
      "[84]\tvalid_0's multi_logloss: 0.1629\n",
      "[85]\tvalid_0's multi_logloss: 0.162846\n",
      "[86]\tvalid_0's multi_logloss: 0.163054\n",
      "[87]\tvalid_0's multi_logloss: 0.163007\n",
      "[88]\tvalid_0's multi_logloss: 0.162984\n",
      "[89]\tvalid_0's multi_logloss: 0.162932\n",
      "[90]\tvalid_0's multi_logloss: 0.169905\n",
      "[91]\tvalid_0's multi_logloss: 0.166641\n",
      "[92]\tvalid_0's multi_logloss: 0.166626\n",
      "[93]\tvalid_0's multi_logloss: 0.166576\n",
      "[94]\tvalid_0's multi_logloss: 0.166539\n",
      "[95]\tvalid_0's multi_logloss: 0.166526\n",
      "Early stopping, best iteration is:\n",
      "[85]\tvalid_0's multi_logloss: 0.162846\n"
     ]
    }
   ],
   "source": [
    "p_val = np.zeros((trn.shape[0], n_class))\n",
    "p_tst = np.zeros((tst.shape[0], n_class))\n",
    "for i, (i_trn, i_val) in enumerate(cv.split(trn, y), 1):\n",
    "    print(f'training model for CV #{i}')\n",
    "    clf = lgb.LGBMClassifier(objective='multiclass',\n",
    "                             n_estimators=1000,\n",
    "                             num_leaves=64,\n",
    "                             learning_rate=0.1,\n",
    "                             min_child_samples=10,\n",
    "                             subsample=.5,\n",
    "                             subsample_freq=1,\n",
    "                             colsample_bytree=.8,\n",
    "                             random_state=seed,\n",
    "                             n_jobs=-1)\n",
    "    clf.fit(trn[i_trn], y[i_trn],\n",
    "            eval_set=[(trn[i_val], y[i_val])],\n",
    "            eval_metric='multiclass',\n",
    "            early_stopping_rounds=10)\n",
    "    \n",
    "    p_val[i_val, :] = clf.predict_proba(trn[i_val])\n",
    "    p_tst += clf.predict_proba(tst) / n_fold"
   ]
  },
  {
   "cell_type": "code",
   "execution_count": 12,
   "metadata": {
    "ExecuteTime": {
     "end_time": "2020-09-28T05:43:37.438933Z",
     "start_time": "2020-09-28T05:43:37.383525Z"
    }
   },
   "outputs": [
    {
     "name": "stdout",
     "output_type": "stream",
     "text": [
      "93.1559%\n"
     ]
    }
   ],
   "source": [
    "print(f'{accuracy_score(y, np.argmax(p_val, axis=1)) * 100:.4f}%')"
   ]
  },
  {
   "cell_type": "code",
   "execution_count": 13,
   "metadata": {
    "ExecuteTime": {
     "end_time": "2020-09-28T05:43:37.471851Z",
     "start_time": "2020-09-28T05:43:37.441418Z"
    }
   },
   "outputs": [
    {
     "name": "stdout",
     "output_type": "stream",
     "text": [
      "(320000, 3) (80000, 3)\n"
     ]
    }
   ],
   "source": [
    "print(p_val.shape, p_tst.shape)"
   ]
  },
  {
   "cell_type": "code",
   "execution_count": 14,
   "metadata": {
    "ExecuteTime": {
     "end_time": "2020-09-28T05:43:38.307946Z",
     "start_time": "2020-09-28T05:43:37.475036Z"
    }
   },
   "outputs": [],
   "source": [
    "np.savetxt(p_val_file, p_val, fmt='%.6f', delimiter=',')\n",
    "np.savetxt(p_tst_file, p_tst, fmt='%.6f', delimiter=',')"
   ]
  },
  {
   "cell_type": "markdown",
   "metadata": {},
   "source": [
    "## 피처 중요도 시각화"
   ]
  },
  {
   "cell_type": "code",
   "execution_count": 15,
   "metadata": {
    "ExecuteTime": {
     "end_time": "2020-09-28T05:43:38.496250Z",
     "start_time": "2020-09-28T05:43:38.309625Z"
    }
   },
   "outputs": [
    {
     "ename": "AttributeError",
     "evalue": "'LGBMClassifier' object has no attribute 'coef_'",
     "output_type": "error",
     "traceback": [
      "\u001b[0;31m---------------------------------------------------------------------------\u001b[0m",
      "\u001b[0;31mAttributeError\u001b[0m                            Traceback (most recent call last)",
      "\u001b[0;32m<ipython-input-15-742ca016ff99>\u001b[0m in \u001b[0;36m<module>\u001b[0;34m\u001b[0m\n\u001b[0;32m----> 1\u001b[0;31m \u001b[0mclf\u001b[0m\u001b[0;34m.\u001b[0m\u001b[0mcoef_\u001b[0m\u001b[0;34m.\u001b[0m\u001b[0mshape\u001b[0m\u001b[0;34m\u001b[0m\u001b[0;34m\u001b[0m\u001b[0m\n\u001b[0m",
      "\u001b[0;31mAttributeError\u001b[0m: 'LGBMClassifier' object has no attribute 'coef_'"
     ]
    }
   ],
   "source": [
    "clf.coef_.shape"
   ]
  },
  {
   "cell_type": "code",
   "execution_count": null,
   "metadata": {
    "ExecuteTime": {
     "end_time": "2020-09-28T05:43:38.498268Z",
     "start_time": "2020-09-28T05:43:13.700Z"
    },
    "scrolled": false
   },
   "outputs": [],
   "source": [
    "imp = pd.DataFrame({'feature': feature_names, 'importance': clf.feature_importances_})\n",
    "imp = imp.sort_values('importance').set_index('feature')\n",
    "imp.plot(kind='barh')"
   ]
  },
  {
   "cell_type": "markdown",
   "metadata": {},
   "source": [
    "## 제출 파일 생성"
   ]
  },
  {
   "cell_type": "code",
   "execution_count": null,
   "metadata": {
    "ExecuteTime": {
     "end_time": "2020-09-28T05:43:38.499448Z",
     "start_time": "2020-09-28T05:43:13.702Z"
    }
   },
   "outputs": [],
   "source": [
    "sub = pd.read_csv(sample_file, index_col=0)\n",
    "print(sub.shape)\n",
    "sub.head()"
   ]
  },
  {
   "cell_type": "code",
   "execution_count": null,
   "metadata": {
    "ExecuteTime": {
     "end_time": "2020-09-28T05:43:38.500730Z",
     "start_time": "2020-09-28T05:43:13.704Z"
    }
   },
   "outputs": [],
   "source": [
    "sub[target_col] = np.argmax(p_tst, axis=1)\n",
    "sub.head()"
   ]
  },
  {
   "cell_type": "code",
   "execution_count": null,
   "metadata": {
    "ExecuteTime": {
     "end_time": "2020-09-28T05:43:38.501965Z",
     "start_time": "2020-09-28T05:43:13.706Z"
    }
   },
   "outputs": [],
   "source": [
    "sub[target_col].value_counts()"
   ]
  },
  {
   "cell_type": "code",
   "execution_count": null,
   "metadata": {
    "ExecuteTime": {
     "end_time": "2020-09-28T05:43:38.503045Z",
     "start_time": "2020-09-28T05:43:13.707Z"
    }
   },
   "outputs": [],
   "source": [
    "sub.to_csv(sub_file)"
   ]
  },
  {
   "cell_type": "code",
   "execution_count": null,
   "metadata": {},
   "outputs": [],
   "source": []
  }
 ],
 "metadata": {
  "kernelspec": {
   "display_name": "Python 3",
   "language": "python",
   "name": "python3"
  },
  "language_info": {
   "codemirror_mode": {
    "name": "ipython",
    "version": 3
   },
   "file_extension": ".py",
   "mimetype": "text/x-python",
   "name": "python",
   "nbconvert_exporter": "python",
   "pygments_lexer": "ipython3",
   "version": "3.8.5"
  },
  "toc": {
   "base_numbering": 1,
   "nav_menu": {},
   "number_sections": true,
   "sideBar": true,
   "skip_h1_title": true,
   "title_cell": "Table of Contents",
   "title_sidebar": "Contents",
   "toc_cell": false,
   "toc_position": {},
   "toc_section_display": true,
   "toc_window_display": false
  }
 },
 "nbformat": 4,
 "nbformat_minor": 4
}
