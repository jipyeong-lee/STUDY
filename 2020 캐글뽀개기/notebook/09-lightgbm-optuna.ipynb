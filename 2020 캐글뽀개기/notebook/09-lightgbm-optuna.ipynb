{
 "cells": [
  {
   "cell_type": "markdown",
   "metadata": {},
   "source": [
    "# 데모"
   ]
  },
  {
   "cell_type": "markdown",
   "metadata": {},
   "source": [
    "## 라이브러리 import 및 설정"
   ]
  },
  {
   "cell_type": "code",
   "execution_count": 1,
   "metadata": {
    "ExecuteTime": {
     "end_time": "2020-10-05T08:38:53.774831Z",
     "start_time": "2020-10-05T08:38:53.486186Z"
    }
   },
   "outputs": [],
   "source": [
    "%reload_ext autoreload\n",
    "%autoreload 2\n",
    "%matplotlib inline"
   ]
  },
  {
   "cell_type": "code",
   "execution_count": 14,
   "metadata": {
    "ExecuteTime": {
     "end_time": "2020-10-05T08:53:10.431515Z",
     "start_time": "2020-10-05T08:53:10.398638Z"
    }
   },
   "outputs": [],
   "source": [
    "from lightgbm import LGBMClassifier\n",
    "from matplotlib import pyplot as plt\n",
    "from matplotlib import rcParams\n",
    "import numpy as np\n",
    "import optuna.integration.lightgbm as lgb\n",
    "from pathlib import Path\n",
    "import pandas as pd\n",
    "from sklearn.metrics import accuracy_score\n",
    "from sklearn.model_selection import StratifiedKFold, train_test_split\n",
    "import seaborn as sns\n",
    "import warnings"
   ]
  },
  {
   "cell_type": "code",
   "execution_count": 3,
   "metadata": {
    "ExecuteTime": {
     "end_time": "2020-10-05T08:38:55.047271Z",
     "start_time": "2020-10-05T08:38:55.018323Z"
    }
   },
   "outputs": [],
   "source": [
    "rcParams['figure.figsize'] = (16, 8)\n",
    "plt.style.use('fivethirtyeight')\n",
    "pd.set_option('max_columns', 100)\n",
    "pd.set_option(\"display.precision\", 4)\n",
    "warnings.simplefilter('ignore')"
   ]
  },
  {
   "cell_type": "markdown",
   "metadata": {},
   "source": [
    "## 학습데이터 로드"
   ]
  },
  {
   "cell_type": "markdown",
   "metadata": {},
   "source": [
    "[03-pandas-eda.ipynb](https://github.com/kaggler-tv/dku-kaggle-class/blob/master/notebook/03-pandas-eda.ipynb)에서 생성한 `feature.csv` 피처파일 사용"
   ]
  },
  {
   "cell_type": "code",
   "execution_count": 4,
   "metadata": {
    "ExecuteTime": {
     "end_time": "2020-10-05T08:38:55.079180Z",
     "start_time": "2020-10-05T08:38:55.050994Z"
    }
   },
   "outputs": [],
   "source": [
    "data_dir = Path('../data/dacon-dku')\n",
    "feature_dir = Path('../build/feature')\n",
    "val_dir = Path('../build/val')\n",
    "tst_dir = Path('../build/tst')\n",
    "sub_dir = Path('../build/sub')\n",
    "\n",
    "trn_file = data_dir / 'train.csv'\n",
    "tst_file = data_dir / 'test.csv'\n",
    "sample_file = data_dir / 'sample_submission.csv'\n",
    "\n",
    "target_col = 'class'\n",
    "n_fold = 5\n",
    "n_class = 3\n",
    "seed = 42"
   ]
  },
  {
   "cell_type": "code",
   "execution_count": 5,
   "metadata": {
    "ExecuteTime": {
     "end_time": "2020-10-05T08:38:55.109220Z",
     "start_time": "2020-10-05T08:38:55.081365Z"
    }
   },
   "outputs": [],
   "source": [
    "algo_name = 'lgb_optuna'\n",
    "feature_name = 'feature'\n",
    "model_name = f'{algo_name}_{feature_name}'\n",
    "\n",
    "feature_file = feature_dir / f'{feature_name}.csv'\n",
    "p_val_file = val_dir / f'{model_name}.val.csv'\n",
    "p_tst_file = tst_dir / f'{model_name}.tst.csv'\n",
    "sub_file = sub_dir / f'{model_name}.csv'"
   ]
  },
  {
   "cell_type": "code",
   "execution_count": 6,
   "metadata": {
    "ExecuteTime": {
     "end_time": "2020-10-05T08:38:56.480522Z",
     "start_time": "2020-10-05T08:38:55.111305Z"
    }
   },
   "outputs": [
    {
     "name": "stdout",
     "output_type": "stream",
     "text": [
      "(400000, 20)\n"
     ]
    },
    {
     "data": {
      "text/html": [
       "<div>\n",
       "<style scoped>\n",
       "    .dataframe tbody tr th:only-of-type {\n",
       "        vertical-align: middle;\n",
       "    }\n",
       "\n",
       "    .dataframe tbody tr th {\n",
       "        vertical-align: top;\n",
       "    }\n",
       "\n",
       "    .dataframe thead th {\n",
       "        text-align: right;\n",
       "    }\n",
       "</style>\n",
       "<table border=\"1\" class=\"dataframe\">\n",
       "  <thead>\n",
       "    <tr style=\"text-align: right;\">\n",
       "      <th></th>\n",
       "      <th>z</th>\n",
       "      <th>redshift</th>\n",
       "      <th>dered_u</th>\n",
       "      <th>dered_g</th>\n",
       "      <th>dered_r</th>\n",
       "      <th>dered_i</th>\n",
       "      <th>dered_z</th>\n",
       "      <th>nObserve</th>\n",
       "      <th>airmass_u</th>\n",
       "      <th>class</th>\n",
       "      <th>d_dered_u</th>\n",
       "      <th>d_dered_g</th>\n",
       "      <th>d_dered_r</th>\n",
       "      <th>d_dered_i</th>\n",
       "      <th>d_dered_z</th>\n",
       "      <th>d_dered_ig</th>\n",
       "      <th>d_dered_zg</th>\n",
       "      <th>d_dered_rz</th>\n",
       "      <th>d_dered_iz</th>\n",
       "      <th>d_obs_det</th>\n",
       "    </tr>\n",
       "    <tr>\n",
       "      <th>id</th>\n",
       "      <th></th>\n",
       "      <th></th>\n",
       "      <th></th>\n",
       "      <th></th>\n",
       "      <th></th>\n",
       "      <th></th>\n",
       "      <th></th>\n",
       "      <th></th>\n",
       "      <th></th>\n",
       "      <th></th>\n",
       "      <th></th>\n",
       "      <th></th>\n",
       "      <th></th>\n",
       "      <th></th>\n",
       "      <th></th>\n",
       "      <th></th>\n",
       "      <th></th>\n",
       "      <th></th>\n",
       "      <th></th>\n",
       "      <th></th>\n",
       "    </tr>\n",
       "  </thead>\n",
       "  <tbody>\n",
       "    <tr>\n",
       "      <th>0</th>\n",
       "      <td>16.9396</td>\n",
       "      <td>-8.1086e-05</td>\n",
       "      <td>23.1243</td>\n",
       "      <td>20.2578</td>\n",
       "      <td>18.9551</td>\n",
       "      <td>17.6321</td>\n",
       "      <td>16.9089</td>\n",
       "      <td>2.9444</td>\n",
       "      <td>1.1898</td>\n",
       "      <td>0.0</td>\n",
       "      <td>-0.1397</td>\n",
       "      <td>-0.0790</td>\n",
       "      <td>-0.0544</td>\n",
       "      <td>-0.0403</td>\n",
       "      <td>-0.0307</td>\n",
       "      <td>-2.6257</td>\n",
       "      <td>-3.3488</td>\n",
       "      <td>2.0462</td>\n",
       "      <td>0.7232</td>\n",
       "      <td>-15.0556</td>\n",
       "    </tr>\n",
       "    <tr>\n",
       "      <th>1</th>\n",
       "      <td>13.1689</td>\n",
       "      <td>4.5061e-03</td>\n",
       "      <td>14.9664</td>\n",
       "      <td>14.0045</td>\n",
       "      <td>13.4114</td>\n",
       "      <td>13.2363</td>\n",
       "      <td>13.1347</td>\n",
       "      <td>0.6931</td>\n",
       "      <td>1.2533</td>\n",
       "      <td>1.0</td>\n",
       "      <td>-0.0857</td>\n",
       "      <td>-0.0574</td>\n",
       "      <td>-0.0410</td>\n",
       "      <td>-0.0322</td>\n",
       "      <td>-0.0343</td>\n",
       "      <td>-0.7683</td>\n",
       "      <td>-0.8698</td>\n",
       "      <td>0.2767</td>\n",
       "      <td>0.1016</td>\n",
       "      <td>-0.3069</td>\n",
       "    </tr>\n",
       "    <tr>\n",
       "      <th>2</th>\n",
       "      <td>15.3500</td>\n",
       "      <td>4.7198e-04</td>\n",
       "      <td>16.6076</td>\n",
       "      <td>15.6866</td>\n",
       "      <td>15.4400</td>\n",
       "      <td>15.3217</td>\n",
       "      <td>15.2961</td>\n",
       "      <td>1.0986</td>\n",
       "      <td>1.0225</td>\n",
       "      <td>0.0</td>\n",
       "      <td>-0.1787</td>\n",
       "      <td>-0.1388</td>\n",
       "      <td>-0.0963</td>\n",
       "      <td>-0.0718</td>\n",
       "      <td>-0.0540</td>\n",
       "      <td>-0.3649</td>\n",
       "      <td>-0.3905</td>\n",
       "      <td>0.1440</td>\n",
       "      <td>0.0257</td>\n",
       "      <td>-0.9014</td>\n",
       "    </tr>\n",
       "    <tr>\n",
       "      <th>3</th>\n",
       "      <td>19.6346</td>\n",
       "      <td>5.8143e-06</td>\n",
       "      <td>25.3536</td>\n",
       "      <td>20.9947</td>\n",
       "      <td>20.0873</td>\n",
       "      <td>19.7947</td>\n",
       "      <td>19.5552</td>\n",
       "      <td>1.6094</td>\n",
       "      <td>1.2054</td>\n",
       "      <td>0.0</td>\n",
       "      <td>-0.3070</td>\n",
       "      <td>-0.1941</td>\n",
       "      <td>-0.1339</td>\n",
       "      <td>-0.1003</td>\n",
       "      <td>-0.0795</td>\n",
       "      <td>-1.2000</td>\n",
       "      <td>-1.4395</td>\n",
       "      <td>0.5321</td>\n",
       "      <td>0.2395</td>\n",
       "      <td>-1.3906</td>\n",
       "    </tr>\n",
       "    <tr>\n",
       "      <th>4</th>\n",
       "      <td>17.9826</td>\n",
       "      <td>-3.3247e-05</td>\n",
       "      <td>23.7714</td>\n",
       "      <td>20.4338</td>\n",
       "      <td>18.8630</td>\n",
       "      <td>18.1903</td>\n",
       "      <td>17.8759</td>\n",
       "      <td>2.6391</td>\n",
       "      <td>1.1939</td>\n",
       "      <td>0.0</td>\n",
       "      <td>-0.6820</td>\n",
       "      <td>-0.2653</td>\n",
       "      <td>-0.1794</td>\n",
       "      <td>-0.1339</td>\n",
       "      <td>-0.1067</td>\n",
       "      <td>-2.2436</td>\n",
       "      <td>-2.5579</td>\n",
       "      <td>0.9871</td>\n",
       "      <td>0.3144</td>\n",
       "      <td>-9.3609</td>\n",
       "    </tr>\n",
       "  </tbody>\n",
       "</table>\n",
       "</div>"
      ],
      "text/plain": [
       "          z    redshift  dered_u  dered_g  dered_r  dered_i  dered_z  \\\n",
       "id                                                                     \n",
       "0   16.9396 -8.1086e-05  23.1243  20.2578  18.9551  17.6321  16.9089   \n",
       "1   13.1689  4.5061e-03  14.9664  14.0045  13.4114  13.2363  13.1347   \n",
       "2   15.3500  4.7198e-04  16.6076  15.6866  15.4400  15.3217  15.2961   \n",
       "3   19.6346  5.8143e-06  25.3536  20.9947  20.0873  19.7947  19.5552   \n",
       "4   17.9826 -3.3247e-05  23.7714  20.4338  18.8630  18.1903  17.8759   \n",
       "\n",
       "    nObserve  airmass_u  class  d_dered_u  d_dered_g  d_dered_r  d_dered_i  \\\n",
       "id                                                                           \n",
       "0     2.9444     1.1898    0.0    -0.1397    -0.0790    -0.0544    -0.0403   \n",
       "1     0.6931     1.2533    1.0    -0.0857    -0.0574    -0.0410    -0.0322   \n",
       "2     1.0986     1.0225    0.0    -0.1787    -0.1388    -0.0963    -0.0718   \n",
       "3     1.6094     1.2054    0.0    -0.3070    -0.1941    -0.1339    -0.1003   \n",
       "4     2.6391     1.1939    0.0    -0.6820    -0.2653    -0.1794    -0.1339   \n",
       "\n",
       "    d_dered_z  d_dered_ig  d_dered_zg  d_dered_rz  d_dered_iz  d_obs_det  \n",
       "id                                                                        \n",
       "0     -0.0307     -2.6257     -3.3488      2.0462      0.7232   -15.0556  \n",
       "1     -0.0343     -0.7683     -0.8698      0.2767      0.1016    -0.3069  \n",
       "2     -0.0540     -0.3649     -0.3905      0.1440      0.0257    -0.9014  \n",
       "3     -0.0795     -1.2000     -1.4395      0.5321      0.2395    -1.3906  \n",
       "4     -0.1067     -2.2436     -2.5579      0.9871      0.3144    -9.3609  "
      ]
     },
     "execution_count": 6,
     "metadata": {},
     "output_type": "execute_result"
    }
   ],
   "source": [
    "df = pd.read_csv(feature_file, index_col=0)\n",
    "print(df.shape)\n",
    "df.head()"
   ]
  },
  {
   "cell_type": "code",
   "execution_count": 7,
   "metadata": {
    "ExecuteTime": {
     "end_time": "2020-10-05T08:38:56.553068Z",
     "start_time": "2020-10-05T08:38:56.482710Z"
    }
   },
   "outputs": [
    {
     "name": "stdout",
     "output_type": "stream",
     "text": [
      "(320000,) (320000, 19) (80000, 19)\n"
     ]
    }
   ],
   "source": [
    "y = df[target_col].values[:320000]\n",
    "df.drop(target_col, axis=1, inplace=True)\n",
    "trn = df.iloc[:320000].values\n",
    "tst = df.iloc[320000:].values\n",
    "feature_name = df.columns.tolist()\n",
    "print(y.shape, trn.shape, tst.shape)"
   ]
  },
  {
   "cell_type": "markdown",
   "metadata": {},
   "source": [
    "## Hyperparameter Tuning"
   ]
  },
  {
   "cell_type": "code",
   "execution_count": 8,
   "metadata": {
    "ExecuteTime": {
     "end_time": "2020-10-05T08:38:56.690768Z",
     "start_time": "2020-10-05T08:38:56.556065Z"
    }
   },
   "outputs": [],
   "source": [
    "X_trn, X_val, y_trn, y_val = train_test_split(trn, y, test_size=.2, random_state=seed)"
   ]
  },
  {
   "cell_type": "code",
   "execution_count": 9,
   "metadata": {
    "ExecuteTime": {
     "end_time": "2020-10-05T08:38:56.723614Z",
     "start_time": "2020-10-05T08:38:56.693535Z"
    }
   },
   "outputs": [],
   "source": [
    "params = {\n",
    "    \"objective\": \"multiclass\",\n",
    "    \"metric\": \"multi_logloss\",\n",
    "    \"num_class\": 3,\n",
    "    \"n_estimators\": 1000,\n",
    "    \"subsample_freq\": 1,\n",
    "    \"lambda_l1\": 0.,\n",
    "    \"lambda_l2\": 0.,\n",
    "    \"random_state\": seed,\n",
    "    \"n_jobs\": -1,\n",
    "}"
   ]
  },
  {
   "cell_type": "code",
   "execution_count": 10,
   "metadata": {
    "ExecuteTime": {
     "end_time": "2020-10-05T08:51:30.834862Z",
     "start_time": "2020-10-05T08:38:56.725742Z"
    }
   },
   "outputs": [
    {
     "name": "stderr",
     "output_type": "stream",
     "text": [
      "[I 2020-10-05 01:38:56,754] A new study created in memory with name: no-name-6a091e98-0e25-46bd-a749-ed1a9211b661\n",
      "feature_fraction, val_score: inf:   0%|          | 0/7 [00:00<?, ?it/s]"
     ]
    },
    {
     "name": "stdout",
     "output_type": "stream",
     "text": [
      "Training until validation scores don't improve for 10 rounds\n",
      "[100]\ttraining's multi_logloss: 0.162292\tvalid_1's multi_logloss: 0.173038\n",
      "[200]\ttraining's multi_logloss: 0.147386\tvalid_1's multi_logloss: 0.166751\n",
      "[300]\ttraining's multi_logloss: 0.138664\tvalid_1's multi_logloss: 0.165094\n",
      "[400]\ttraining's multi_logloss: 0.131529\tvalid_1's multi_logloss: 0.164127\n",
      "Early stopping, best iteration is:\n",
      "[409]\ttraining's multi_logloss: 0.130959\tvalid_1's multi_logloss: 0.164059\n"
     ]
    },
    {
     "name": "stderr",
     "output_type": "stream",
     "text": [
      "feature_fraction, val_score: 0.164059:  14%|#4        | 1/7 [00:11<01:09, 11.58s/it][I 2020-10-05 01:39:08,337] Trial 0 finished with value: 0.16405917331427203 and parameters: {'feature_fraction': 0.7}. Best is trial 0 with value: 0.16405917331427203.\n",
      "feature_fraction, val_score: 0.164059:  14%|#4        | 1/7 [00:11<01:09, 11.58s/it]"
     ]
    },
    {
     "name": "stdout",
     "output_type": "stream",
     "text": [
      "Training until validation scores don't improve for 10 rounds\n",
      "[100]\ttraining's multi_logloss: 0.164111\tvalid_1's multi_logloss: 0.174182\n",
      "[200]\ttraining's multi_logloss: 0.148453\tvalid_1's multi_logloss: 0.16733\n",
      "[300]\ttraining's multi_logloss: 0.139438\tvalid_1's multi_logloss: 0.165289\n",
      "[400]\ttraining's multi_logloss: 0.132501\tvalid_1's multi_logloss: 0.164311\n",
      "[500]\ttraining's multi_logloss: 0.126573\tvalid_1's multi_logloss: 0.163827\n",
      "Early stopping, best iteration is:\n",
      "[492]\ttraining's multi_logloss: 0.127006\tvalid_1's multi_logloss: 0.163806\n"
     ]
    },
    {
     "name": "stderr",
     "output_type": "stream",
     "text": [
      "feature_fraction, val_score: 0.163806:  29%|##8       | 2/7 [00:25<01:01, 12.38s/it][I 2020-10-05 01:39:22,584] Trial 1 finished with value: 0.16380641954973035 and parameters: {'feature_fraction': 0.6}. Best is trial 1 with value: 0.16380641954973035.\n",
      "feature_fraction, val_score: 0.163806:  29%|##8       | 2/7 [00:25<01:01, 12.38s/it]"
     ]
    },
    {
     "name": "stdout",
     "output_type": "stream",
     "text": [
      "Training until validation scores don't improve for 10 rounds\n",
      "[100]\ttraining's multi_logloss: 0.16075\tvalid_1's multi_logloss: 0.17161\n",
      "Early stopping, best iteration is:\n",
      "[105]\ttraining's multi_logloss: 0.159637\tvalid_1's multi_logloss: 0.170937\n"
     ]
    },
    {
     "name": "stderr",
     "output_type": "stream",
     "text": [
      "feature_fraction, val_score: 0.163806:  43%|####2     | 3/7 [00:29<00:39,  9.91s/it][I 2020-10-05 01:39:26,752] Trial 2 finished with value: 0.17093706343651485 and parameters: {'feature_fraction': 0.8999999999999999}. Best is trial 1 with value: 0.16380641954973035.\n",
      "feature_fraction, val_score: 0.163806:  43%|####2     | 3/7 [00:29<00:39,  9.91s/it]"
     ]
    },
    {
     "name": "stdout",
     "output_type": "stream",
     "text": [
      "Training until validation scores don't improve for 10 rounds\n",
      "[100]\ttraining's multi_logloss: 0.165649\tvalid_1's multi_logloss: 0.175603\n",
      "[200]\ttraining's multi_logloss: 0.149261\tvalid_1's multi_logloss: 0.167375\n",
      "[300]\ttraining's multi_logloss: 0.140256\tvalid_1's multi_logloss: 0.165219\n",
      "[400]\ttraining's multi_logloss: 0.133317\tvalid_1's multi_logloss: 0.164255\n",
      "[500]\ttraining's multi_logloss: 0.127339\tvalid_1's multi_logloss: 0.163815\n",
      "Early stopping, best iteration is:\n",
      "[531]\ttraining's multi_logloss: 0.125601\tvalid_1's multi_logloss: 0.163628\n"
     ]
    },
    {
     "name": "stderr",
     "output_type": "stream",
     "text": [
      "feature_fraction, val_score: 0.163628:  57%|#####7    | 4/7 [00:47<00:36, 12.16s/it][I 2020-10-05 01:39:44,146] Trial 3 finished with value: 0.16362763441902556 and parameters: {'feature_fraction': 0.5}. Best is trial 3 with value: 0.16362763441902556.\n",
      "feature_fraction, val_score: 0.163628:  57%|#####7    | 4/7 [00:47<00:36, 12.16s/it]"
     ]
    },
    {
     "name": "stdout",
     "output_type": "stream",
     "text": [
      "Training until validation scores don't improve for 10 rounds\n",
      "[100]\ttraining's multi_logloss: 0.160287\tvalid_1's multi_logloss: 0.171711\n",
      "Early stopping, best iteration is:\n",
      "[130]\ttraining's multi_logloss: 0.154765\tvalid_1's multi_logloss: 0.169293\n"
     ]
    },
    {
     "name": "stderr",
     "output_type": "stream",
     "text": [
      "feature_fraction, val_score: 0.163628:  71%|#######1  | 5/7 [00:57<00:23, 11.58s/it][I 2020-10-05 01:39:54,386] Trial 4 finished with value: 0.16929348050036375 and parameters: {'feature_fraction': 1.0}. Best is trial 3 with value: 0.16362763441902556.\n",
      "feature_fraction, val_score: 0.163628:  71%|#######1  | 5/7 [00:57<00:23, 11.58s/it]"
     ]
    },
    {
     "name": "stdout",
     "output_type": "stream",
     "text": [
      "Training until validation scores don't improve for 10 rounds\n",
      "[100]\ttraining's multi_logloss: 0.161738\tvalid_1's multi_logloss: 0.173028\n",
      "Early stopping, best iteration is:\n",
      "[114]\ttraining's multi_logloss: 0.158324\tvalid_1's multi_logloss: 0.170882\n"
     ]
    },
    {
     "name": "stderr",
     "output_type": "stream",
     "text": [
      "feature_fraction, val_score: 0.163628:  86%|########5 | 6/7 [01:02<00:09,  9.64s/it][I 2020-10-05 01:39:59,485] Trial 5 finished with value: 0.1708820358219462 and parameters: {'feature_fraction': 0.8}. Best is trial 3 with value: 0.16362763441902556.\n",
      "feature_fraction, val_score: 0.163628:  86%|########5 | 6/7 [01:02<00:09,  9.64s/it]"
     ]
    },
    {
     "name": "stdout",
     "output_type": "stream",
     "text": [
      "Training until validation scores don't improve for 10 rounds\n",
      "[100]\ttraining's multi_logloss: 0.170758\tvalid_1's multi_logloss: 0.180113\n",
      "[200]\ttraining's multi_logloss: 0.152064\tvalid_1's multi_logloss: 0.168935\n",
      "[300]\ttraining's multi_logloss: 0.14251\tvalid_1's multi_logloss: 0.165979\n",
      "[400]\ttraining's multi_logloss: 0.135389\tvalid_1's multi_logloss: 0.164762\n",
      "Early stopping, best iteration is:\n",
      "[464]\ttraining's multi_logloss: 0.131513\tvalid_1's multi_logloss: 0.164176\n"
     ]
    },
    {
     "name": "stderr",
     "output_type": "stream",
     "text": [
      "feature_fraction, val_score: 0.163628: 100%|##########| 7/7 [01:21<00:00, 12.34s/it][I 2020-10-05 01:40:18,148] Trial 6 finished with value: 0.16417630259249286 and parameters: {'feature_fraction': 0.4}. Best is trial 3 with value: 0.16362763441902556.\n",
      "feature_fraction, val_score: 0.163628: 100%|##########| 7/7 [01:21<00:00, 11.63s/it]\n",
      "num_leaves, val_score: 0.163628:   0%|          | 0/20 [00:00<?, ?it/s]"
     ]
    },
    {
     "name": "stdout",
     "output_type": "stream",
     "text": [
      "Training until validation scores don't improve for 10 rounds\n",
      "[100]\ttraining's multi_logloss: 0.150085\tvalid_1's multi_logloss: 0.16878\n",
      "[200]\ttraining's multi_logloss: 0.130683\tvalid_1's multi_logloss: 0.16386\n",
      "Early stopping, best iteration is:\n",
      "[262]\ttraining's multi_logloss: 0.122812\tvalid_1's multi_logloss: 0.163395\n"
     ]
    },
    {
     "name": "stderr",
     "output_type": "stream",
     "text": [
      "num_leaves, val_score: 0.163395:   5%|5         | 1/20 [00:09<03:08,  9.90s/it][I 2020-10-05 01:40:28,057] Trial 7 finished with value: 0.1633948316587122 and parameters: {'num_leaves': 67}. Best is trial 7 with value: 0.1633948316587122.\n",
      "num_leaves, val_score: 0.163395:   5%|5         | 1/20 [00:09<03:08,  9.90s/it]"
     ]
    },
    {
     "name": "stdout",
     "output_type": "stream",
     "text": [
      "Training until validation scores don't improve for 10 rounds\n",
      "[100]\ttraining's multi_logloss: 0.13437\tvalid_1's multi_logloss: 0.165749\n",
      "Early stopping, best iteration is:\n",
      "[183]\ttraining's multi_logloss: 0.11309\tvalid_1's multi_logloss: 0.162617\n"
     ]
    },
    {
     "name": "stderr",
     "output_type": "stream",
     "text": [
      "num_leaves, val_score: 0.162617:  10%|#         | 2/20 [00:18<02:51,  9.50s/it][I 2020-10-05 01:40:36,638] Trial 8 finished with value: 0.16261715791253684 and parameters: {'num_leaves': 128}. Best is trial 8 with value: 0.16261715791253684.\n",
      "num_leaves, val_score: 0.162617:  10%|#         | 2/20 [00:18<02:51,  9.50s/it]"
     ]
    },
    {
     "name": "stdout",
     "output_type": "stream",
     "text": [
      "Training until validation scores don't improve for 10 rounds\n",
      "[100]\ttraining's multi_logloss: 0.147506\tvalid_1's multi_logloss: 0.168034\n",
      "[200]\ttraining's multi_logloss: 0.127448\tvalid_1's multi_logloss: 0.163461\n",
      "Early stopping, best iteration is:\n",
      "[248]\ttraining's multi_logloss: 0.120832\tvalid_1's multi_logloss: 0.16294\n"
     ]
    },
    {
     "name": "stderr",
     "output_type": "stream",
     "text": [
      "num_leaves, val_score: 0.162617:  15%|#5        | 3/20 [00:29<02:48,  9.89s/it][I 2020-10-05 01:40:47,429] Trial 9 finished with value: 0.16294025794772124 and parameters: {'num_leaves': 75}. Best is trial 8 with value: 0.16261715791253684.\n",
      "num_leaves, val_score: 0.162617:  15%|#5        | 3/20 [00:29<02:48,  9.89s/it]"
     ]
    },
    {
     "name": "stdout",
     "output_type": "stream",
     "text": [
      "Training until validation scores don't improve for 10 rounds\n",
      "[100]\ttraining's multi_logloss: 0.113822\tvalid_1's multi_logloss: 0.163663\n",
      "Early stopping, best iteration is:\n",
      "[142]\ttraining's multi_logloss: 0.0983114\tvalid_1's multi_logloss: 0.162338\n"
     ]
    },
    {
     "name": "stderr",
     "output_type": "stream",
     "text": [
      "num_leaves, val_score: 0.162338:  20%|##        | 4/20 [00:43<02:58, 11.16s/it][I 2020-10-05 01:41:01,552] Trial 10 finished with value: 0.16233830008380942 and parameters: {'num_leaves': 243}. Best is trial 10 with value: 0.16233830008380942.\n",
      "num_leaves, val_score: 0.162338:  20%|##        | 4/20 [00:43<02:58, 11.16s/it]"
     ]
    },
    {
     "name": "stdout",
     "output_type": "stream",
     "text": [
      "Training until validation scores don't improve for 10 rounds\n",
      "[100]\ttraining's multi_logloss: 0.115402\tvalid_1's multi_logloss: 0.163998\n",
      "Early stopping, best iteration is:\n",
      "[165]\ttraining's multi_logloss: 0.093376\tvalid_1's multi_logloss: 0.162661\n"
     ]
    },
    {
     "name": "stderr",
     "output_type": "stream",
     "text": [
      "num_leaves, val_score: 0.162338:  25%|##5       | 5/20 [00:53<02:44, 10.95s/it][I 2020-10-05 01:41:12,018] Trial 11 finished with value: 0.1626607908036498 and parameters: {'num_leaves': 233}. Best is trial 10 with value: 0.16233830008380942.\n",
      "num_leaves, val_score: 0.162338:  25%|##5       | 5/20 [00:53<02:44, 10.95s/it]"
     ]
    },
    {
     "name": "stdout",
     "output_type": "stream",
     "text": [
      "Training until validation scores don't improve for 10 rounds\n",
      "[100]\ttraining's multi_logloss: 0.121582\tvalid_1's multi_logloss: 0.164385\n",
      "Early stopping, best iteration is:\n",
      "[165]\ttraining's multi_logloss: 0.101027\tvalid_1's multi_logloss: 0.162603\n"
     ]
    },
    {
     "name": "stderr",
     "output_type": "stream",
     "text": [
      "num_leaves, val_score: 0.162338:  30%|###       | 6/20 [01:03<02:27, 10.51s/it][I 2020-10-05 01:41:21,487] Trial 12 finished with value: 0.16260300356495658 and parameters: {'num_leaves': 195}. Best is trial 10 with value: 0.16233830008380942.\n",
      "num_leaves, val_score: 0.162338:  30%|###       | 6/20 [01:03<02:27, 10.51s/it]"
     ]
    },
    {
     "name": "stdout",
     "output_type": "stream",
     "text": [
      "Training until validation scores don't improve for 10 rounds\n",
      "[100]\ttraining's multi_logloss: 0.11569\tvalid_1's multi_logloss: 0.163916\n",
      "Early stopping, best iteration is:\n",
      "[154]\ttraining's multi_logloss: 0.0968509\tvalid_1's multi_logloss: 0.162224\n"
     ]
    },
    {
     "name": "stderr",
     "output_type": "stream",
     "text": [
      "num_leaves, val_score: 0.162224:  35%|###5      | 7/20 [01:13<02:14, 10.34s/it][I 2020-10-05 01:41:31,435] Trial 13 finished with value: 0.16222355114345732 and parameters: {'num_leaves': 231}. Best is trial 13 with value: 0.16222355114345732.\n",
      "num_leaves, val_score: 0.162224:  35%|###5      | 7/20 [01:13<02:14, 10.34s/it]"
     ]
    },
    {
     "name": "stdout",
     "output_type": "stream",
     "text": [
      "Training until validation scores don't improve for 10 rounds\n",
      "[100]\ttraining's multi_logloss: 0.112095\tvalid_1's multi_logloss: 0.16367\n",
      "Early stopping, best iteration is:\n",
      "[142]\ttraining's multi_logloss: 0.0962171\tvalid_1's multi_logloss: 0.162379\n"
     ]
    },
    {
     "name": "stderr",
     "output_type": "stream",
     "text": [
      "num_leaves, val_score: 0.162224:  40%|####      | 8/20 [01:22<02:00, 10.05s/it][I 2020-10-05 01:41:40,807] Trial 14 finished with value: 0.16237915241116044 and parameters: {'num_leaves': 255}. Best is trial 13 with value: 0.16222355114345732.\n",
      "num_leaves, val_score: 0.162224:  40%|####      | 8/20 [01:22<02:00, 10.05s/it]"
     ]
    },
    {
     "name": "stdout",
     "output_type": "stream",
     "text": [
      "Training until validation scores don't improve for 10 rounds\n",
      "[100]\ttraining's multi_logloss: 0.119369\tvalid_1's multi_logloss: 0.164238\n",
      "Early stopping, best iteration is:\n",
      "[158]\ttraining's multi_logloss: 0.100064\tvalid_1's multi_logloss: 0.162377\n"
     ]
    },
    {
     "name": "stderr",
     "output_type": "stream",
     "text": [
      "num_leaves, val_score: 0.162224:  45%|####5     | 9/20 [01:31<01:47,  9.79s/it][I 2020-10-05 01:41:49,978] Trial 15 finished with value: 0.16237721560017102 and parameters: {'num_leaves': 208}. Best is trial 13 with value: 0.16222355114345732.\n",
      "num_leaves, val_score: 0.162224:  45%|####5     | 9/20 [01:31<01:47,  9.79s/it]"
     ]
    },
    {
     "name": "stdout",
     "output_type": "stream",
     "text": [
      "Training until validation scores don't improve for 10 rounds\n",
      "[100]\ttraining's multi_logloss: 0.129841\tvalid_1's multi_logloss: 0.165067\n",
      "[200]\ttraining's multi_logloss: 0.103666\tvalid_1's multi_logloss: 0.162631\n",
      "Early stopping, best iteration is:\n",
      "[195]\ttraining's multi_logloss: 0.104686\tvalid_1's multi_logloss: 0.162603\n"
     ]
    },
    {
     "name": "stderr",
     "output_type": "stream",
     "text": [
      "num_leaves, val_score: 0.162224:  50%|#####     | 10/20 [01:41<01:37,  9.79s/it][I 2020-10-05 01:41:59,780] Trial 16 finished with value: 0.16260282042518934 and parameters: {'num_leaves': 150}. Best is trial 13 with value: 0.16222355114345732.\n",
      "num_leaves, val_score: 0.162224:  50%|#####     | 10/20 [01:41<01:37,  9.79s/it]"
     ]
    },
    {
     "name": "stdout",
     "output_type": "stream",
     "text": [
      "Training until validation scores don't improve for 10 rounds\n",
      "[100]\ttraining's multi_logloss: 0.112095\tvalid_1's multi_logloss: 0.16367\n",
      "Early stopping, best iteration is:\n",
      "[142]\ttraining's multi_logloss: 0.0962171\tvalid_1's multi_logloss: 0.162379\n"
     ]
    },
    {
     "name": "stderr",
     "output_type": "stream",
     "text": [
      "num_leaves, val_score: 0.162224:  55%|#####5    | 11/20 [01:51<01:29,  9.90s/it][I 2020-10-05 01:42:09,928] Trial 17 finished with value: 0.16237915241116044 and parameters: {'num_leaves': 255}. Best is trial 13 with value: 0.16222355114345732.\n",
      "num_leaves, val_score: 0.162224:  55%|#####5    | 11/20 [01:51<01:29,  9.90s/it]"
     ]
    },
    {
     "name": "stdout",
     "output_type": "stream",
     "text": [
      "Training until validation scores don't improve for 10 rounds\n",
      "[100]\ttraining's multi_logloss: 0.125475\tvalid_1's multi_logloss: 0.16473\n",
      "Early stopping, best iteration is:\n",
      "[156]\ttraining's multi_logloss: 0.108027\tvalid_1's multi_logloss: 0.162763\n"
     ]
    },
    {
     "name": "stderr",
     "output_type": "stream",
     "text": [
      "num_leaves, val_score: 0.162224:  60%|######    | 12/20 [02:01<01:18,  9.78s/it][I 2020-10-05 01:42:19,440] Trial 18 finished with value: 0.16276280677618915 and parameters: {'num_leaves': 172}. Best is trial 13 with value: 0.16222355114345732.\n",
      "num_leaves, val_score: 0.162224:  60%|######    | 12/20 [02:01<01:18,  9.78s/it]"
     ]
    },
    {
     "name": "stdout",
     "output_type": "stream",
     "text": [
      "Training until validation scores don't improve for 10 rounds\n",
      "[100]\ttraining's multi_logloss: 0.112095\tvalid_1's multi_logloss: 0.16367\n",
      "Early stopping, best iteration is:\n",
      "[142]\ttraining's multi_logloss: 0.0962171\tvalid_1's multi_logloss: 0.162379\n"
     ]
    },
    {
     "name": "stderr",
     "output_type": "stream",
     "text": [
      "num_leaves, val_score: 0.162224:  65%|######5   | 13/20 [02:11<01:10, 10.02s/it][I 2020-10-05 01:42:30,015] Trial 19 finished with value: 0.16237915241116044 and parameters: {'num_leaves': 255}. Best is trial 13 with value: 0.16222355114345732.\n",
      "num_leaves, val_score: 0.162224:  65%|######5   | 13/20 [02:11<01:10, 10.02s/it]"
     ]
    },
    {
     "name": "stdout",
     "output_type": "stream",
     "text": [
      "Training until validation scores don't improve for 10 rounds\n",
      "[100]\ttraining's multi_logloss: 0.118248\tvalid_1's multi_logloss: 0.164028\n",
      "Early stopping, best iteration is:\n",
      "[159]\ttraining's multi_logloss: 0.0983824\tvalid_1's multi_logloss: 0.162364\n"
     ]
    },
    {
     "name": "stderr",
     "output_type": "stream",
     "text": [
      "num_leaves, val_score: 0.162224:  70%|#######   | 14/20 [02:23<01:02, 10.42s/it][I 2020-10-05 01:42:41,378] Trial 20 finished with value: 0.16236442115335945 and parameters: {'num_leaves': 215}. Best is trial 13 with value: 0.16222355114345732.\n",
      "num_leaves, val_score: 0.162224:  70%|#######   | 14/20 [02:23<01:02, 10.42s/it]"
     ]
    },
    {
     "name": "stdout",
     "output_type": "stream",
     "text": [
      "Training until validation scores don't improve for 10 rounds\n",
      "[100]\ttraining's multi_logloss: 0.11743\tvalid_1's multi_logloss: 0.164095\n",
      "Early stopping, best iteration is:\n",
      "[158]\ttraining's multi_logloss: 0.0974664\tvalid_1's multi_logloss: 0.162342\n"
     ]
    },
    {
     "name": "stderr",
     "output_type": "stream",
     "text": [
      "num_leaves, val_score: 0.162224:  75%|#######5  | 15/20 [02:34<00:53, 10.68s/it][I 2020-10-05 01:42:52,664] Trial 21 finished with value: 0.1623416323842142 and parameters: {'num_leaves': 220}. Best is trial 13 with value: 0.16222355114345732.\n",
      "num_leaves, val_score: 0.162224:  75%|#######5  | 15/20 [02:34<00:53, 10.68s/it]"
     ]
    },
    {
     "name": "stdout",
     "output_type": "stream",
     "text": [
      "Training until validation scores don't improve for 10 rounds\n",
      "[100]\ttraining's multi_logloss: 0.11553\tvalid_1's multi_logloss: 0.16354\n",
      "Early stopping, best iteration is:\n",
      "[155]\ttraining's multi_logloss: 0.0964272\tvalid_1's multi_logloss: 0.162102\n"
     ]
    },
    {
     "name": "stderr",
     "output_type": "stream",
     "text": [
      "num_leaves, val_score: 0.162102:  80%|########  | 16/20 [02:45<00:43, 10.88s/it][I 2020-10-05 01:43:04,015] Trial 22 finished with value: 0.16210203791715908 and parameters: {'num_leaves': 232}. Best is trial 22 with value: 0.16210203791715908.\n",
      "num_leaves, val_score: 0.162102:  80%|########  | 16/20 [02:45<00:43, 10.88s/it]"
     ]
    },
    {
     "name": "stdout",
     "output_type": "stream",
     "text": [
      "Training until validation scores don't improve for 10 rounds\n",
      "[100]\ttraining's multi_logloss: 0.176055\tvalid_1's multi_logloss: 0.18274\n",
      "[200]\ttraining's multi_logloss: 0.159619\tvalid_1's multi_logloss: 0.171477\n",
      "Early stopping, best iteration is:\n",
      "[215]\ttraining's multi_logloss: 0.158132\tvalid_1's multi_logloss: 0.170663\n"
     ]
    },
    {
     "name": "stderr",
     "output_type": "stream",
     "text": [
      "num_leaves, val_score: 0.162102:  85%|########5 | 17/20 [02:53<00:29,  9.97s/it][I 2020-10-05 01:43:11,860] Trial 23 finished with value: 0.1706630522857091 and parameters: {'num_leaves': 19}. Best is trial 22 with value: 0.16210203791715908.\n",
      "num_leaves, val_score: 0.162102:  85%|########5 | 17/20 [02:53<00:29,  9.97s/it]"
     ]
    },
    {
     "name": "stdout",
     "output_type": "stream",
     "text": [
      "Training until validation scores don't improve for 10 rounds\n",
      "[100]\ttraining's multi_logloss: 0.124357\tvalid_1's multi_logloss: 0.16471\n",
      "Early stopping, best iteration is:\n",
      "[166]\ttraining's multi_logloss: 0.104317\tvalid_1's multi_logloss: 0.162603\n"
     ]
    },
    {
     "name": "stderr",
     "output_type": "stream",
     "text": [
      "num_leaves, val_score: 0.162102:  90%|######### | 18/20 [03:05<00:20, 10.39s/it][I 2020-10-05 01:43:23,219] Trial 24 finished with value: 0.16260324998196404 and parameters: {'num_leaves': 179}. Best is trial 22 with value: 0.16210203791715908.\n",
      "num_leaves, val_score: 0.162102:  90%|######### | 18/20 [03:05<00:20, 10.39s/it]"
     ]
    },
    {
     "name": "stdout",
     "output_type": "stream",
     "text": [
      "Training until validation scores don't improve for 10 rounds\n",
      "[100]\ttraining's multi_logloss: 0.114898\tvalid_1's multi_logloss: 0.163815\n",
      "Early stopping, best iteration is:\n",
      "[153]\ttraining's multi_logloss: 0.096125\tvalid_1's multi_logloss: 0.162262\n"
     ]
    },
    {
     "name": "stderr",
     "output_type": "stream",
     "text": [
      "num_leaves, val_score: 0.162102:  95%|#########5| 19/20 [03:16<00:10, 10.78s/it][I 2020-10-05 01:43:34,904] Trial 25 finished with value: 0.1622623114693665 and parameters: {'num_leaves': 237}. Best is trial 22 with value: 0.16210203791715908.\n",
      "num_leaves, val_score: 0.162102:  95%|#########5| 19/20 [03:16<00:10, 10.78s/it]"
     ]
    },
    {
     "name": "stdout",
     "output_type": "stream",
     "text": [
      "Training until validation scores don't improve for 10 rounds\n",
      "[100]\ttraining's multi_logloss: 0.135095\tvalid_1's multi_logloss: 0.165697\n",
      "Early stopping, best iteration is:\n",
      "[173]\ttraining's multi_logloss: 0.115912\tvalid_1's multi_logloss: 0.16288\n"
     ]
    },
    {
     "name": "stderr",
     "output_type": "stream",
     "text": [
      "num_leaves, val_score: 0.162102: 100%|##########| 20/20 [03:26<00:00, 10.33s/it][I 2020-10-05 01:43:44,206] Trial 26 finished with value: 0.16287975139034827 and parameters: {'num_leaves': 125}. Best is trial 22 with value: 0.16210203791715908.\n",
      "num_leaves, val_score: 0.162102: 100%|##########| 20/20 [03:26<00:00, 10.30s/it]\n",
      "bagging, val_score: 0.162102:   0%|          | 0/10 [00:00<?, ?it/s]"
     ]
    },
    {
     "name": "stdout",
     "output_type": "stream",
     "text": [
      "Training until validation scores don't improve for 10 rounds\n",
      "[100]\ttraining's multi_logloss: 0.115842\tvalid_1's multi_logloss: 0.163836\n",
      "Early stopping, best iteration is:\n",
      "[159]\ttraining's multi_logloss: 0.0949288\tvalid_1's multi_logloss: 0.162088\n"
     ]
    },
    {
     "name": "stderr",
     "output_type": "stream",
     "text": [
      "bagging, val_score: 0.162088:  10%|#         | 1/10 [00:10<01:38, 10.96s/it][I 2020-10-05 01:43:55,179] Trial 27 finished with value: 0.1620877679754371 and parameters: {'bagging_fraction': 0.8713477624436328, 'bagging_freq': 5}. Best is trial 27 with value: 0.1620877679754371.\n",
      "bagging, val_score: 0.162088:  10%|#         | 1/10 [00:10<01:38, 10.96s/it]"
     ]
    },
    {
     "name": "stdout",
     "output_type": "stream",
     "text": [
      "Training until validation scores don't improve for 10 rounds\n",
      "[100]\ttraining's multi_logloss: 0.115669\tvalid_1's multi_logloss: 0.164101\n",
      "Early stopping, best iteration is:\n",
      "[157]\ttraining's multi_logloss: 0.0951842\tvalid_1's multi_logloss: 0.162401\n"
     ]
    },
    {
     "name": "stderr",
     "output_type": "stream",
     "text": [
      "bagging, val_score: 0.162088:  20%|##        | 2/10 [00:21<01:26, 10.82s/it][I 2020-10-05 01:44:05,681] Trial 28 finished with value: 0.16240084080295847 and parameters: {'bagging_fraction': 0.8886806944631855, 'bagging_freq': 5}. Best is trial 27 with value: 0.1620877679754371.\n",
      "bagging, val_score: 0.162088:  20%|##        | 2/10 [00:21<01:26, 10.82s/it]"
     ]
    },
    {
     "name": "stdout",
     "output_type": "stream",
     "text": [
      "Training until validation scores don't improve for 10 rounds\n",
      "[100]\ttraining's multi_logloss: 0.117368\tvalid_1's multi_logloss: 0.164542\n",
      "Early stopping, best iteration is:\n",
      "[149]\ttraining's multi_logloss: 0.0989798\tvalid_1's multi_logloss: 0.163361\n"
     ]
    },
    {
     "name": "stderr",
     "output_type": "stream",
     "text": [
      "bagging, val_score: 0.162088:  30%|###       | 3/10 [00:31<01:13, 10.51s/it][I 2020-10-05 01:44:15,479] Trial 29 finished with value: 0.16336100572898682 and parameters: {'bagging_fraction': 0.5681932661011941, 'bagging_freq': 2}. Best is trial 27 with value: 0.1620877679754371.\n",
      "bagging, val_score: 0.162088:  30%|###       | 3/10 [00:31<01:13, 10.51s/it]"
     ]
    },
    {
     "name": "stdout",
     "output_type": "stream",
     "text": [
      "Training until validation scores don't improve for 10 rounds\n",
      "[100]\ttraining's multi_logloss: 0.115516\tvalid_1's multi_logloss: 0.163795\n",
      "Early stopping, best iteration is:\n",
      "[155]\ttraining's multi_logloss: 0.0961473\tvalid_1's multi_logloss: 0.162374\n"
     ]
    },
    {
     "name": "stderr",
     "output_type": "stream",
     "text": [
      "bagging, val_score: 0.162088:  40%|####      | 4/10 [00:42<01:05, 10.85s/it][I 2020-10-05 01:44:27,115] Trial 30 finished with value: 0.1623740442728427 and parameters: {'bagging_fraction': 0.9775794746513194, 'bagging_freq': 7}. Best is trial 27 with value: 0.1620877679754371.\n",
      "bagging, val_score: 0.162088:  40%|####      | 4/10 [00:42<01:05, 10.85s/it]"
     ]
    },
    {
     "name": "stdout",
     "output_type": "stream",
     "text": [
      "Training until validation scores don't improve for 10 rounds\n",
      "[100]\ttraining's multi_logloss: 0.1162\tvalid_1's multi_logloss: 0.164003\n",
      "Early stopping, best iteration is:\n",
      "[148]\ttraining's multi_logloss: 0.0985721\tvalid_1's multi_logloss: 0.162386\n"
     ]
    },
    {
     "name": "stderr",
     "output_type": "stream",
     "text": [
      "bagging, val_score: 0.162088:  50%|#####     | 5/10 [00:53<00:53, 10.74s/it][I 2020-10-05 01:44:37,594] Trial 31 finished with value: 0.16238600797292838 and parameters: {'bagging_fraction': 0.7757330938405489, 'bagging_freq': 5}. Best is trial 27 with value: 0.1620877679754371.\n",
      "bagging, val_score: 0.162088:  50%|#####     | 5/10 [00:53<00:53, 10.74s/it]"
     ]
    },
    {
     "name": "stdout",
     "output_type": "stream",
     "text": [
      "Training until validation scores don't improve for 10 rounds\n",
      "[100]\ttraining's multi_logloss: 0.118878\tvalid_1's multi_logloss: 0.164902\n",
      "Early stopping, best iteration is:\n",
      "[134]\ttraining's multi_logloss: 0.105612\tvalid_1's multi_logloss: 0.163776\n"
     ]
    },
    {
     "name": "stderr",
     "output_type": "stream",
     "text": [
      "bagging, val_score: 0.162088:  60%|######    | 6/10 [01:02<00:40, 10.24s/it][I 2020-10-05 01:44:46,683] Trial 32 finished with value: 0.16377610052662436 and parameters: {'bagging_fraction': 0.4255315208181163, 'bagging_freq': 2}. Best is trial 27 with value: 0.1620877679754371.\n",
      "bagging, val_score: 0.162088:  60%|######    | 6/10 [01:02<00:40, 10.24s/it]"
     ]
    },
    {
     "name": "stdout",
     "output_type": "stream",
     "text": [
      "Training until validation scores don't improve for 10 rounds\n",
      "[100]\ttraining's multi_logloss: 0.116585\tvalid_1's multi_logloss: 0.164377\n",
      "Early stopping, best iteration is:\n",
      "[144]\ttraining's multi_logloss: 0.0997517\tvalid_1's multi_logloss: 0.163076\n"
     ]
    },
    {
     "name": "stderr",
     "output_type": "stream",
     "text": [
      "bagging, val_score: 0.162088:  70%|#######   | 7/10 [01:12<00:30, 10.19s/it][I 2020-10-05 01:44:56,743] Trial 33 finished with value: 0.16307643077787534 and parameters: {'bagging_fraction': 0.7525176997746762, 'bagging_freq': 7}. Best is trial 27 with value: 0.1620877679754371.\n",
      "bagging, val_score: 0.162088:  70%|#######   | 7/10 [01:12<00:30, 10.19s/it]"
     ]
    },
    {
     "name": "stdout",
     "output_type": "stream",
     "text": [
      "Training until validation scores don't improve for 10 rounds\n",
      "[100]\ttraining's multi_logloss: 0.115468\tvalid_1's multi_logloss: 0.1639\n",
      "Early stopping, best iteration is:\n",
      "[155]\ttraining's multi_logloss: 0.0959966\tvalid_1's multi_logloss: 0.162265\n"
     ]
    },
    {
     "name": "stderr",
     "output_type": "stream",
     "text": [
      "bagging, val_score: 0.162088:  80%|########  | 8/10 [01:23<00:20, 10.40s/it][I 2020-10-05 01:45:07,637] Trial 34 finished with value: 0.1622653832358846 and parameters: {'bagging_fraction': 0.9861921068861398, 'bagging_freq': 4}. Best is trial 27 with value: 0.1620877679754371.\n",
      "bagging, val_score: 0.162088:  80%|########  | 8/10 [01:23<00:20, 10.40s/it]"
     ]
    },
    {
     "name": "stdout",
     "output_type": "stream",
     "text": [
      "Training until validation scores don't improve for 10 rounds\n",
      "[100]\ttraining's multi_logloss: 0.117607\tvalid_1's multi_logloss: 0.164824\n",
      "Early stopping, best iteration is:\n",
      "[149]\ttraining's multi_logloss: 0.0992214\tvalid_1's multi_logloss: 0.163512\n"
     ]
    },
    {
     "name": "stderr",
     "output_type": "stream",
     "text": [
      "bagging, val_score: 0.162088:  90%|######### | 9/10 [01:33<00:10, 10.26s/it][I 2020-10-05 01:45:17,564] Trial 35 finished with value: 0.1635119517922178 and parameters: {'bagging_fraction': 0.6114784429051928, 'bagging_freq': 6}. Best is trial 27 with value: 0.1620877679754371.\n",
      "bagging, val_score: 0.162088:  90%|######### | 9/10 [01:33<00:10, 10.26s/it]"
     ]
    },
    {
     "name": "stdout",
     "output_type": "stream",
     "text": [
      "Training until validation scores don't improve for 10 rounds\n",
      "[100]\ttraining's multi_logloss: 0.115761\tvalid_1's multi_logloss: 0.164004\n",
      "Early stopping, best iteration is:\n",
      "[165]\ttraining's multi_logloss: 0.0930721\tvalid_1's multi_logloss: 0.162492\n"
     ]
    },
    {
     "name": "stderr",
     "output_type": "stream",
     "text": [
      "bagging, val_score: 0.162088: 100%|##########| 10/10 [01:44<00:00, 10.67s/it][I 2020-10-05 01:45:29,181] Trial 36 finished with value: 0.1624918021211458 and parameters: {'bagging_fraction': 0.8671070660255529, 'bagging_freq': 3}. Best is trial 27 with value: 0.1620877679754371.\n",
      "bagging, val_score: 0.162088: 100%|##########| 10/10 [01:44<00:00, 10.50s/it]\n",
      "feature_fraction_stage2, val_score: 0.162088:   0%|          | 0/6 [00:00<?, ?it/s]"
     ]
    },
    {
     "name": "stdout",
     "output_type": "stream",
     "text": [
      "Training until validation scores don't improve for 10 rounds\n",
      "[100]\ttraining's multi_logloss: 0.115842\tvalid_1's multi_logloss: 0.163836\n",
      "Early stopping, best iteration is:\n",
      "[159]\ttraining's multi_logloss: 0.0949288\tvalid_1's multi_logloss: 0.162088\n"
     ]
    },
    {
     "name": "stderr",
     "output_type": "stream",
     "text": [
      "feature_fraction_stage2, val_score: 0.162088:  17%|#6        | 1/6 [00:10<00:54, 10.87s/it][I 2020-10-05 01:45:40,073] Trial 37 finished with value: 0.1620877679754371 and parameters: {'feature_fraction': 0.516}. Best is trial 37 with value: 0.1620877679754371.\n",
      "feature_fraction_stage2, val_score: 0.162088:  17%|#6        | 1/6 [00:10<00:54, 10.87s/it]"
     ]
    },
    {
     "name": "stdout",
     "output_type": "stream",
     "text": [
      "Training until validation scores don't improve for 10 rounds\n",
      "[100]\ttraining's multi_logloss: 0.120798\tvalid_1's multi_logloss: 0.166608\n",
      "Early stopping, best iteration is:\n",
      "[187]\ttraining's multi_logloss: 0.0909902\tvalid_1's multi_logloss: 0.163141\n"
     ]
    },
    {
     "name": "stderr",
     "output_type": "stream",
     "text": [
      "feature_fraction_stage2, val_score: 0.162088:  33%|###3      | 2/6 [00:23<00:45, 11.46s/it][I 2020-10-05 01:45:52,891] Trial 38 finished with value: 0.16314079654316815 and parameters: {'feature_fraction': 0.42}. Best is trial 37 with value: 0.1620877679754371.\n",
      "feature_fraction_stage2, val_score: 0.162088:  33%|###3      | 2/6 [00:23<00:45, 11.46s/it]"
     ]
    },
    {
     "name": "stdout",
     "output_type": "stream",
     "text": [
      "Training until validation scores don't improve for 10 rounds\n",
      "[100]\ttraining's multi_logloss: 0.117827\tvalid_1's multi_logloss: 0.164479\n",
      "Early stopping, best iteration is:\n",
      "[144]\ttraining's multi_logloss: 0.101044\tvalid_1's multi_logloss: 0.1624\n"
     ]
    },
    {
     "name": "stderr",
     "output_type": "stream",
     "text": [
      "feature_fraction_stage2, val_score: 0.162088:  50%|#####     | 3/6 [00:34<00:33, 11.12s/it][I 2020-10-05 01:46:03,220] Trial 39 finished with value: 0.16240010191948395 and parameters: {'feature_fraction': 0.484}. Best is trial 37 with value: 0.1620877679754371.\n",
      "feature_fraction_stage2, val_score: 0.162088:  50%|#####     | 3/6 [00:34<00:33, 11.12s/it]"
     ]
    },
    {
     "name": "stdout",
     "output_type": "stream",
     "text": [
      "Training until validation scores don't improve for 10 rounds\n",
      "[100]\ttraining's multi_logloss: 0.117827\tvalid_1's multi_logloss: 0.164479\n",
      "Early stopping, best iteration is:\n",
      "[144]\ttraining's multi_logloss: 0.101044\tvalid_1's multi_logloss: 0.1624\n"
     ]
    },
    {
     "name": "stderr",
     "output_type": "stream",
     "text": [
      "feature_fraction_stage2, val_score: 0.162088:  67%|######6   | 4/6 [00:44<00:21, 10.87s/it][I 2020-10-05 01:46:13,504] Trial 40 finished with value: 0.16240010191948395 and parameters: {'feature_fraction': 0.45199999999999996}. Best is trial 37 with value: 0.1620877679754371.\n",
      "feature_fraction_stage2, val_score: 0.162088:  67%|######6   | 4/6 [00:44<00:21, 10.87s/it]"
     ]
    },
    {
     "name": "stdout",
     "output_type": "stream",
     "text": [
      "Training until validation scores don't improve for 10 rounds\n",
      "[100]\ttraining's multi_logloss: 0.114238\tvalid_1's multi_logloss: 0.163253\n",
      "Early stopping, best iteration is:\n",
      "[147]\ttraining's multi_logloss: 0.0974959\tvalid_1's multi_logloss: 0.162036\n"
     ]
    },
    {
     "name": "stderr",
     "output_type": "stream",
     "text": [
      "feature_fraction_stage2, val_score: 0.162036:  83%|########3 | 5/6 [00:54<00:10, 10.73s/it][I 2020-10-05 01:46:23,910] Trial 41 finished with value: 0.16203598423148052 and parameters: {'feature_fraction': 0.58}. Best is trial 41 with value: 0.16203598423148052.\n",
      "feature_fraction_stage2, val_score: 0.162036:  83%|########3 | 5/6 [00:54<00:10, 10.73s/it]"
     ]
    },
    {
     "name": "stdout",
     "output_type": "stream",
     "text": [
      "Training until validation scores don't improve for 10 rounds\n",
      "[100]\ttraining's multi_logloss: 0.115842\tvalid_1's multi_logloss: 0.163836\n",
      "Early stopping, best iteration is:\n",
      "[159]\ttraining's multi_logloss: 0.0949288\tvalid_1's multi_logloss: 0.162088\n"
     ]
    },
    {
     "name": "stderr",
     "output_type": "stream",
     "text": [
      "feature_fraction_stage2, val_score: 0.162036: 100%|##########| 6/6 [01:05<00:00, 10.83s/it][I 2020-10-05 01:46:34,966] Trial 42 finished with value: 0.1620877679754371 and parameters: {'feature_fraction': 0.5479999999999999}. Best is trial 41 with value: 0.16203598423148052.\n",
      "feature_fraction_stage2, val_score: 0.162036: 100%|##########| 6/6 [01:05<00:00, 10.96s/it]\n",
      "regularization_factors, val_score: 0.162036:   0%|          | 0/20 [00:00<?, ?it/s]"
     ]
    },
    {
     "name": "stdout",
     "output_type": "stream",
     "text": [
      "Training until validation scores don't improve for 10 rounds\n",
      "[100]\ttraining's multi_logloss: 0.11423\tvalid_1's multi_logloss: 0.163224\n",
      "Early stopping, best iteration is:\n",
      "[137]\ttraining's multi_logloss: 0.100596\tvalid_1's multi_logloss: 0.16214\n"
     ]
    },
    {
     "name": "stderr",
     "output_type": "stream",
     "text": [
      "regularization_factors, val_score: 0.162036:   5%|5         | 1/20 [00:10<03:14, 10.23s/it][I 2020-10-05 01:46:45,213] Trial 43 finished with value: 0.16213993619831954 and parameters: {'lambda_l1': 2.737377867689276e-07, 'lambda_l2': 9.151388396395205e-05}. Best is trial 43 with value: 0.16213993619831954.\n",
      "regularization_factors, val_score: 0.162036:   5%|5         | 1/20 [00:10<03:14, 10.23s/it]"
     ]
    },
    {
     "name": "stdout",
     "output_type": "stream",
     "text": [
      "Training until validation scores don't improve for 10 rounds\n",
      "[100]\ttraining's multi_logloss: 0.13737\tvalid_1's multi_logloss: 0.165753\n",
      "[200]\ttraining's multi_logloss: 0.115654\tvalid_1's multi_logloss: 0.162753\n",
      "Early stopping, best iteration is:\n",
      "[201]\ttraining's multi_logloss: 0.115488\tvalid_1's multi_logloss: 0.162735\n"
     ]
    },
    {
     "name": "stderr",
     "output_type": "stream",
     "text": [
      "regularization_factors, val_score: 0.162036:  10%|#         | 2/20 [00:24<03:23, 11.33s/it][I 2020-10-05 01:46:59,115] Trial 44 finished with value: 0.16273540769580838 and parameters: {'lambda_l1': 5.616299389204908, 'lambda_l2': 9.911250368472304}. Best is trial 43 with value: 0.16213993619831954.\n",
      "regularization_factors, val_score: 0.162036:  10%|#         | 2/20 [00:24<03:23, 11.33s/it]"
     ]
    },
    {
     "name": "stdout",
     "output_type": "stream",
     "text": [
      "Training until validation scores don't improve for 10 rounds\n",
      "[100]\ttraining's multi_logloss: 0.123488\tvalid_1's multi_logloss: 0.163763\n",
      "Early stopping, best iteration is:\n",
      "[170]\ttraining's multi_logloss: 0.10233\tvalid_1's multi_logloss: 0.162141\n"
     ]
    },
    {
     "name": "stderr",
     "output_type": "stream",
     "text": [
      "regularization_factors, val_score: 0.162036:  15%|#5        | 3/20 [00:36<03:16, 11.54s/it][I 2020-10-05 01:47:11,149] Trial 45 finished with value: 0.16214066259839668 and parameters: {'lambda_l1': 2.1519596207674128, 'lambda_l2': 4.6125717451863005e-08}. Best is trial 43 with value: 0.16213993619831954.\n",
      "regularization_factors, val_score: 0.162036:  15%|#5        | 3/20 [00:36<03:16, 11.54s/it]"
     ]
    },
    {
     "name": "stdout",
     "output_type": "stream",
     "text": [
      "Training until validation scores don't improve for 10 rounds\n",
      "[100]\ttraining's multi_logloss: 0.1238\tvalid_1's multi_logloss: 0.164048\n",
      "Early stopping, best iteration is:\n",
      "[155]\ttraining's multi_logloss: 0.106531\tvalid_1's multi_logloss: 0.162269\n"
     ]
    },
    {
     "name": "stderr",
     "output_type": "stream",
     "text": [
      "regularization_factors, val_score: 0.162036:  20%|##        | 4/20 [00:50<03:16, 12.26s/it][I 2020-10-05 01:47:25,073] Trial 46 finished with value: 0.16226872763053296 and parameters: {'lambda_l1': 1.5311561670646566e-08, 'lambda_l2': 6.882260323572732}. Best is trial 43 with value: 0.16213993619831954.\n",
      "regularization_factors, val_score: 0.162036:  20%|##        | 4/20 [00:50<03:16, 12.26s/it]"
     ]
    },
    {
     "name": "stdout",
     "output_type": "stream",
     "text": [
      "Training until validation scores don't improve for 10 rounds\n",
      "[100]\ttraining's multi_logloss: 0.114194\tvalid_1's multi_logloss: 0.163385\n",
      "Early stopping, best iteration is:\n",
      "[141]\ttraining's multi_logloss: 0.099175\tvalid_1's multi_logloss: 0.162368\n"
     ]
    },
    {
     "name": "stderr",
     "output_type": "stream",
     "text": [
      "regularization_factors, val_score: 0.162036:  25%|##5       | 5/20 [01:09<03:37, 14.50s/it][I 2020-10-05 01:47:44,803] Trial 47 finished with value: 0.1623678901503559 and parameters: {'lambda_l1': 0.0005448057993686177, 'lambda_l2': 5.121791403463975e-08}. Best is trial 43 with value: 0.16213993619831954.\n",
      "regularization_factors, val_score: 0.162036:  25%|##5       | 5/20 [01:09<03:37, 14.50s/it]"
     ]
    },
    {
     "name": "stdout",
     "output_type": "stream",
     "text": [
      "Training until validation scores don't improve for 10 rounds\n",
      "[100]\ttraining's multi_logloss: 0.11424\tvalid_1's multi_logloss: 0.163359\n",
      "Early stopping, best iteration is:\n",
      "[155]\ttraining's multi_logloss: 0.0949821\tvalid_1's multi_logloss: 0.162132\n"
     ]
    },
    {
     "name": "stderr",
     "output_type": "stream",
     "text": [
      "regularization_factors, val_score: 0.162036:  30%|###       | 6/20 [01:25<03:27, 14.84s/it][I 2020-10-05 01:48:00,438] Trial 48 finished with value: 0.16213221126715713 and parameters: {'lambda_l1': 0.0007723294399190148, 'lambda_l2': 0.0042048908933122395}. Best is trial 48 with value: 0.16213221126715713.\n",
      "regularization_factors, val_score: 0.162036:  30%|###       | 6/20 [01:25<03:27, 14.84s/it]"
     ]
    },
    {
     "name": "stdout",
     "output_type": "stream",
     "text": [
      "Training until validation scores don't improve for 10 rounds\n",
      "[100]\ttraining's multi_logloss: 0.114365\tvalid_1's multi_logloss: 0.163106\n",
      "Early stopping, best iteration is:\n",
      "[143]\ttraining's multi_logloss: 0.0987875\tvalid_1's multi_logloss: 0.162099\n"
     ]
    },
    {
     "name": "stderr",
     "output_type": "stream",
     "text": [
      "regularization_factors, val_score: 0.162036:  35%|###5      | 7/20 [01:37<03:01, 13.93s/it][I 2020-10-05 01:48:12,257] Trial 49 finished with value: 0.16209917281696537 and parameters: {'lambda_l1': 2.0516618958043193e-06, 'lambda_l2': 0.0008841325123849131}. Best is trial 49 with value: 0.16209917281696537.\n",
      "regularization_factors, val_score: 0.162036:  35%|###5      | 7/20 [01:37<03:01, 13.93s/it]"
     ]
    },
    {
     "name": "stdout",
     "output_type": "stream",
     "text": [
      "Training until validation scores don't improve for 10 rounds\n",
      "[100]\ttraining's multi_logloss: 0.114339\tvalid_1's multi_logloss: 0.163447\n",
      "Early stopping, best iteration is:\n",
      "[133]\ttraining's multi_logloss: 0.101937\tvalid_1's multi_logloss: 0.162351\n"
     ]
    },
    {
     "name": "stderr",
     "output_type": "stream",
     "text": [
      "regularization_factors, val_score: 0.162036:  40%|####      | 8/20 [01:46<02:30, 12.55s/it][I 2020-10-05 01:48:21,578] Trial 50 finished with value: 0.16235102725063633 and parameters: {'lambda_l1': 3.200783717728594e-06, 'lambda_l2': 0.0016579361992030447}. Best is trial 49 with value: 0.16209917281696537.\n",
      "regularization_factors, val_score: 0.162036:  40%|####      | 8/20 [01:46<02:30, 12.55s/it]"
     ]
    },
    {
     "name": "stdout",
     "output_type": "stream",
     "text": [
      "Training until validation scores don't improve for 10 rounds\n",
      "[100]\ttraining's multi_logloss: 0.114127\tvalid_1's multi_logloss: 0.16348\n",
      "Early stopping, best iteration is:\n",
      "[143]\ttraining's multi_logloss: 0.0986415\tvalid_1's multi_logloss: 0.16254\n"
     ]
    },
    {
     "name": "stderr",
     "output_type": "stream",
     "text": [
      "regularization_factors, val_score: 0.162036:  45%|####5     | 9/20 [01:56<02:08, 11.71s/it][I 2020-10-05 01:48:31,316] Trial 51 finished with value: 0.16254010022503304 and parameters: {'lambda_l1': 9.959907115384746e-06, 'lambda_l2': 1.0008735818272323e-05}. Best is trial 49 with value: 0.16209917281696537.\n",
      "regularization_factors, val_score: 0.162036:  45%|####5     | 9/20 [01:56<02:08, 11.71s/it]"
     ]
    },
    {
     "name": "stdout",
     "output_type": "stream",
     "text": [
      "Training until validation scores don't improve for 10 rounds\n",
      "[100]\ttraining's multi_logloss: 0.115182\tvalid_1's multi_logloss: 0.163427\n",
      "Early stopping, best iteration is:\n",
      "[158]\ttraining's multi_logloss: 0.0952347\tvalid_1's multi_logloss: 0.162259\n"
     ]
    },
    {
     "name": "stderr",
     "output_type": "stream",
     "text": [
      "regularization_factors, val_score: 0.162036:  50%|#####     | 10/20 [02:07<01:55, 11.57s/it][I 2020-10-05 01:48:42,552] Trial 52 finished with value: 0.1622585208871488 and parameters: {'lambda_l1': 0.01857887945756072, 'lambda_l2': 0.22498727332043805}. Best is trial 49 with value: 0.16209917281696537.\n",
      "regularization_factors, val_score: 0.162036:  50%|#####     | 10/20 [02:07<01:55, 11.57s/it]"
     ]
    },
    {
     "name": "stdout",
     "output_type": "stream",
     "text": [
      "Training until validation scores don't improve for 10 rounds\n",
      "[100]\ttraining's multi_logloss: 0.114185\tvalid_1's multi_logloss: 0.163329\n",
      "Early stopping, best iteration is:\n",
      "[152]\ttraining's multi_logloss: 0.0959258\tvalid_1's multi_logloss: 0.162526\n"
     ]
    },
    {
     "name": "stderr",
     "output_type": "stream",
     "text": [
      "regularization_factors, val_score: 0.162036:  55%|#####5    | 11/20 [02:18<01:43, 11.48s/it][I 2020-10-05 01:48:53,817] Trial 53 finished with value: 0.16252607084337764 and parameters: {'lambda_l1': 2.0226575516207603e-08, 'lambda_l2': 1.237595213185944e-06}. Best is trial 49 with value: 0.16209917281696537.\n",
      "regularization_factors, val_score: 0.162036:  55%|#####5    | 11/20 [02:18<01:43, 11.48s/it]"
     ]
    },
    {
     "name": "stdout",
     "output_type": "stream",
     "text": [
      "Training until validation scores don't improve for 10 rounds\n",
      "[100]\ttraining's multi_logloss: 0.114405\tvalid_1's multi_logloss: 0.163306\n",
      "Early stopping, best iteration is:\n",
      "[137]\ttraining's multi_logloss: 0.100944\tvalid_1's multi_logloss: 0.162227\n"
     ]
    },
    {
     "name": "stderr",
     "output_type": "stream",
     "text": [
      "regularization_factors, val_score: 0.162036:  60%|######    | 12/20 [02:29<01:29, 11.19s/it][I 2020-10-05 01:49:04,338] Trial 54 finished with value: 0.16222749212089208 and parameters: {'lambda_l1': 7.716652058064478e-06, 'lambda_l2': 0.03831506886393764}. Best is trial 49 with value: 0.16209917281696537.\n",
      "regularization_factors, val_score: 0.162036:  60%|######    | 12/20 [02:29<01:29, 11.19s/it]"
     ]
    },
    {
     "name": "stdout",
     "output_type": "stream",
     "text": [
      "Training until validation scores don't improve for 10 rounds\n",
      "[100]\ttraining's multi_logloss: 0.114408\tvalid_1's multi_logloss: 0.16349\n",
      "Early stopping, best iteration is:\n",
      "[143]\ttraining's multi_logloss: 0.0988651\tvalid_1's multi_logloss: 0.162504\n"
     ]
    },
    {
     "name": "stderr",
     "output_type": "stream",
     "text": [
      "regularization_factors, val_score: 0.162036:  65%|######5   | 13/20 [02:40<01:17, 11.05s/it][I 2020-10-05 01:49:15,049] Trial 55 finished with value: 0.16250393480853328 and parameters: {'lambda_l1': 0.0397494610177511, 'lambda_l2': 3.491880854311525e-05}. Best is trial 49 with value: 0.16209917281696537.\n",
      "regularization_factors, val_score: 0.162036:  65%|######5   | 13/20 [02:40<01:17, 11.05s/it]"
     ]
    },
    {
     "name": "stdout",
     "output_type": "stream",
     "text": [
      "Training until validation scores don't improve for 10 rounds\n",
      "[100]\ttraining's multi_logloss: 0.114578\tvalid_1's multi_logloss: 0.163602\n",
      "Early stopping, best iteration is:\n",
      "[149]\ttraining's multi_logloss: 0.0971587\tvalid_1's multi_logloss: 0.162246\n"
     ]
    },
    {
     "name": "stderr",
     "output_type": "stream",
     "text": [
      "regularization_factors, val_score: 0.162036:  70%|#######   | 14/20 [02:50<01:05, 10.96s/it][I 2020-10-05 01:49:25,794] Trial 56 finished with value: 0.16224556156010456 and parameters: {'lambda_l1': 2.9831412097747654e-07, 'lambda_l2': 0.06764896441300657}. Best is trial 49 with value: 0.16209917281696537.\n",
      "regularization_factors, val_score: 0.162036:  70%|#######   | 14/20 [02:50<01:05, 10.96s/it]"
     ]
    },
    {
     "name": "stdout",
     "output_type": "stream",
     "text": [
      "Training until validation scores don't improve for 10 rounds\n",
      "[100]\ttraining's multi_logloss: 0.114128\tvalid_1's multi_logloss: 0.163086\n",
      "Early stopping, best iteration is:\n",
      "[143]\ttraining's multi_logloss: 0.0985553\tvalid_1's multi_logloss: 0.162141\n"
     ]
    },
    {
     "name": "stderr",
     "output_type": "stream",
     "text": [
      "regularization_factors, val_score: 0.162036:  75%|#######5  | 15/20 [03:01<00:54, 10.86s/it][I 2020-10-05 01:49:36,444] Trial 57 finished with value: 0.16214117108329165 and parameters: {'lambda_l1': 5.571366596823703e-05, 'lambda_l2': 1.1185338510339606e-06}. Best is trial 49 with value: 0.16209917281696537.\n",
      "regularization_factors, val_score: 0.162036:  75%|#######5  | 15/20 [03:01<00:54, 10.86s/it]"
     ]
    },
    {
     "name": "stdout",
     "output_type": "stream",
     "text": [
      "Training until validation scores don't improve for 10 rounds\n",
      "[100]\ttraining's multi_logloss: 0.114268\tvalid_1's multi_logloss: 0.163263\n",
      "Early stopping, best iteration is:\n",
      "[124]\ttraining's multi_logloss: 0.104901\tvalid_1's multi_logloss: 0.162238\n"
     ]
    },
    {
     "name": "stderr",
     "output_type": "stream",
     "text": [
      "regularization_factors, val_score: 0.162036:  80%|########  | 16/20 [03:12<00:43, 10.77s/it][I 2020-10-05 01:49:46,998] Trial 58 finished with value: 0.1622377681164801 and parameters: {'lambda_l1': 2.2342344009077944e-07, 'lambda_l2': 0.0009265964422642836}. Best is trial 49 with value: 0.16209917281696537.\n",
      "regularization_factors, val_score: 0.162036:  80%|########  | 16/20 [03:12<00:43, 10.77s/it]"
     ]
    },
    {
     "name": "stdout",
     "output_type": "stream",
     "text": [
      "Training until validation scores don't improve for 10 rounds\n",
      "[100]\ttraining's multi_logloss: 0.114294\tvalid_1's multi_logloss: 0.16334\n",
      "Early stopping, best iteration is:\n",
      "[127]\ttraining's multi_logloss: 0.104043\tvalid_1's multi_logloss: 0.162184\n"
     ]
    },
    {
     "name": "stderr",
     "output_type": "stream",
     "text": [
      "regularization_factors, val_score: 0.162036:  85%|########5 | 17/20 [03:21<00:31, 10.36s/it][I 2020-10-05 01:49:56,405] Trial 59 finished with value: 0.1621840348879034 and parameters: {'lambda_l1': 0.02743298446075123, 'lambda_l2': 0.010389398930529176}. Best is trial 49 with value: 0.16209917281696537.\n",
      "regularization_factors, val_score: 0.162036:  85%|########5 | 17/20 [03:21<00:31, 10.36s/it]"
     ]
    },
    {
     "name": "stdout",
     "output_type": "stream",
     "text": [
      "Training until validation scores don't improve for 10 rounds\n",
      "[100]\ttraining's multi_logloss: 0.116446\tvalid_1's multi_logloss: 0.163248\n",
      "Early stopping, best iteration is:\n",
      "[161]\ttraining's multi_logloss: 0.0960004\tvalid_1's multi_logloss: 0.161803\n"
     ]
    },
    {
     "name": "stderr",
     "output_type": "stream",
     "text": [
      "regularization_factors, val_score: 0.161803:  90%|######### | 18/20 [03:32<00:21, 10.67s/it][I 2020-10-05 01:50:07,807] Trial 60 finished with value: 0.16180307845830263 and parameters: {'lambda_l1': 0.002157343741168164, 'lambda_l2': 0.6844996577650422}. Best is trial 60 with value: 0.16180307845830263.\n",
      "regularization_factors, val_score: 0.161803:  90%|######### | 18/20 [03:32<00:21, 10.67s/it]"
     ]
    },
    {
     "name": "stdout",
     "output_type": "stream",
     "text": [
      "Training until validation scores don't improve for 10 rounds\n",
      "[100]\ttraining's multi_logloss: 0.118633\tvalid_1's multi_logloss: 0.163468\n",
      "Early stopping, best iteration is:\n",
      "[150]\ttraining's multi_logloss: 0.101832\tvalid_1's multi_logloss: 0.161919\n"
     ]
    },
    {
     "name": "stderr",
     "output_type": "stream",
     "text": [
      "regularization_factors, val_score: 0.161803:  95%|#########5| 19/20 [03:44<00:10, 10.83s/it][I 2020-10-05 01:50:19,012] Trial 61 finished with value: 0.16191902449823384 and parameters: {'lambda_l1': 0.004938765369111081, 'lambda_l2': 1.883234137966169}. Best is trial 60 with value: 0.16180307845830263.\n",
      "regularization_factors, val_score: 0.161803:  95%|#########5| 19/20 [03:44<00:10, 10.83s/it]"
     ]
    },
    {
     "name": "stdout",
     "output_type": "stream",
     "text": [
      "Training until validation scores don't improve for 10 rounds\n",
      "[100]\ttraining's multi_logloss: 0.11704\tvalid_1's multi_logloss: 0.163295\n",
      "Early stopping, best iteration is:\n",
      "[151]\ttraining's multi_logloss: 0.0993753\tvalid_1's multi_logloss: 0.162078\n"
     ]
    },
    {
     "name": "stderr",
     "output_type": "stream",
     "text": [
      "regularization_factors, val_score: 0.161803: 100%|##########| 20/20 [03:54<00:00, 10.87s/it][I 2020-10-05 01:50:29,954] Trial 62 finished with value: 0.1620782159582214 and parameters: {'lambda_l1': 0.002352063059463711, 'lambda_l2': 0.9678149953457204}. Best is trial 60 with value: 0.16180307845830263.\n",
      "regularization_factors, val_score: 0.161803: 100%|##########| 20/20 [03:54<00:00, 11.75s/it]\n",
      "min_data_in_leaf, val_score: 0.161803:   0%|          | 0/5 [00:00<?, ?it/s]"
     ]
    },
    {
     "name": "stdout",
     "output_type": "stream",
     "text": [
      "Training until validation scores don't improve for 10 rounds\n",
      "[100]\ttraining's multi_logloss: 0.121836\tvalid_1's multi_logloss: 0.163592\n",
      "Early stopping, best iteration is:\n",
      "[147]\ttraining's multi_logloss: 0.105574\tvalid_1's multi_logloss: 0.162165\n"
     ]
    },
    {
     "name": "stderr",
     "output_type": "stream",
     "text": [
      "min_data_in_leaf, val_score: 0.161803:  20%|##        | 1/5 [00:10<00:40, 10.21s/it][I 2020-10-05 01:50:40,179] Trial 63 finished with value: 0.1621645138673385 and parameters: {'min_child_samples': 100}. Best is trial 63 with value: 0.1621645138673385.\n",
      "min_data_in_leaf, val_score: 0.161803:  20%|##        | 1/5 [00:10<00:40, 10.21s/it]"
     ]
    },
    {
     "name": "stdout",
     "output_type": "stream",
     "text": [
      "Training until validation scores don't improve for 10 rounds\n",
      "[100]\ttraining's multi_logloss: 0.115276\tvalid_1's multi_logloss: 0.163448\n",
      "Early stopping, best iteration is:\n",
      "[166]\ttraining's multi_logloss: 0.0932289\tvalid_1's multi_logloss: 0.162097\n"
     ]
    },
    {
     "name": "stderr",
     "output_type": "stream",
     "text": [
      "min_data_in_leaf, val_score: 0.161803:  40%|####      | 2/5 [00:22<00:32, 10.74s/it][I 2020-10-05 01:50:52,146] Trial 64 finished with value: 0.1620967491411566 and parameters: {'min_child_samples': 10}. Best is trial 64 with value: 0.1620967491411566.\n",
      "min_data_in_leaf, val_score: 0.161803:  40%|####      | 2/5 [00:22<00:32, 10.74s/it]"
     ]
    },
    {
     "name": "stdout",
     "output_type": "stream",
     "text": [
      "Training until validation scores don't improve for 10 rounds\n",
      "[100]\ttraining's multi_logloss: 0.118865\tvalid_1's multi_logloss: 0.163391\n",
      "Early stopping, best iteration is:\n",
      "[157]\ttraining's multi_logloss: 0.0995464\tvalid_1's multi_logloss: 0.16194\n"
     ]
    },
    {
     "name": "stderr",
     "output_type": "stream",
     "text": [
      "min_data_in_leaf, val_score: 0.161803:  60%|######    | 3/5 [00:33<00:21, 10.80s/it][I 2020-10-05 01:51:03,072] Trial 65 finished with value: 0.1619401524055166 and parameters: {'min_child_samples': 50}. Best is trial 65 with value: 0.1619401524055166.\n",
      "min_data_in_leaf, val_score: 0.161803:  60%|######    | 3/5 [00:33<00:21, 10.80s/it]"
     ]
    },
    {
     "name": "stdout",
     "output_type": "stream",
     "text": [
      "Training until validation scores don't improve for 10 rounds\n",
      "[100]\ttraining's multi_logloss: 0.114807\tvalid_1's multi_logloss: 0.163714\n",
      "Early stopping, best iteration is:\n",
      "[172]\ttraining's multi_logloss: 0.0915486\tvalid_1's multi_logloss: 0.162508\n"
     ]
    },
    {
     "name": "stderr",
     "output_type": "stream",
     "text": [
      "min_data_in_leaf, val_score: 0.161803:  80%|########  | 4/5 [00:47<00:11, 11.81s/it][I 2020-10-05 01:51:17,244] Trial 66 finished with value: 0.16250780944638324 and parameters: {'min_child_samples': 5}. Best is trial 65 with value: 0.1619401524055166.\n",
      "min_data_in_leaf, val_score: 0.161803:  80%|########  | 4/5 [00:47<00:11, 11.81s/it]"
     ]
    },
    {
     "name": "stdout",
     "output_type": "stream",
     "text": [
      "Training until validation scores don't improve for 10 rounds\n",
      "[100]\ttraining's multi_logloss: 0.116787\tvalid_1's multi_logloss: 0.16349\n",
      "Early stopping, best iteration is:\n",
      "[162]\ttraining's multi_logloss: 0.0960875\tvalid_1's multi_logloss: 0.162041\n"
     ]
    },
    {
     "name": "stderr",
     "output_type": "stream",
     "text": [
      "min_data_in_leaf, val_score: 0.161803: 100%|##########| 5/5 [01:00<00:00, 12.14s/it][I 2020-10-05 01:51:30,168] Trial 67 finished with value: 0.1620405229325728 and parameters: {'min_child_samples': 25}. Best is trial 65 with value: 0.1619401524055166.\n",
      "min_data_in_leaf, val_score: 0.161803: 100%|##########| 5/5 [01:00<00:00, 12.04s/it]\n"
     ]
    },
    {
     "name": "stdout",
     "output_type": "stream",
     "text": [
      "Best params: {'objective': 'multiclass', 'metric': 'multi_logloss', 'num_class': 3, 'lambda_l1': 0.002157343741168164, 'lambda_l2': 0.6844996577650422, 'random_state': 42, 'n_jobs': -1, 'feature_pre_filter': False, 'bagging_freq': 5, 'num_leaves': 232, 'feature_fraction': 0.58, 'bagging_fraction': 0.8713477624436328, 'min_child_samples': 20}\n",
      "  Accuracy = 0.9328125\n",
      "  Params: \n",
      "    objective: multiclass\n",
      "    metric: multi_logloss\n",
      "    num_class: 3\n",
      "    lambda_l1: 0.002157343741168164\n",
      "    lambda_l2: 0.6844996577650422\n",
      "    random_state: 42\n",
      "    n_jobs: -1\n",
      "    feature_pre_filter: False\n",
      "    bagging_freq: 5\n",
      "    num_leaves: 232\n",
      "    feature_fraction: 0.58\n",
      "    bagging_fraction: 0.8713477624436328\n",
      "    min_child_samples: 20\n"
     ]
    }
   ],
   "source": [
    "dtrain = lgb.Dataset(X_trn, label=y_trn)\n",
    "dval = lgb.Dataset(X_val, label=y_val)\n",
    "\n",
    "model = lgb.train(params, dtrain, valid_sets=[dtrain, dval], \n",
    "                  verbose_eval=100, early_stopping_rounds=10)\n",
    "\n",
    "prediction = np.argmax(model.predict(X_val, num_iteration=model.best_iteration), \n",
    "                       axis=1)\n",
    "accuracy = accuracy_score(y_val, prediction)\n",
    "\n",
    "params = model.params\n",
    "print(\"Best params:\", params)\n",
    "print(\"  Accuracy = {}\".format(accuracy))\n",
    "print(\"  Params: \")\n",
    "for key, value in params.items():\n",
    "    print(\"    {}: {}\".format(key, value))"
   ]
  },
  {
   "cell_type": "markdown",
   "metadata": {},
   "source": [
    "## Stratified K-Fold Cross Validation"
   ]
  },
  {
   "cell_type": "code",
   "execution_count": 11,
   "metadata": {
    "ExecuteTime": {
     "end_time": "2020-10-05T08:51:30.898328Z",
     "start_time": "2020-10-05T08:51:30.838172Z"
    }
   },
   "outputs": [],
   "source": [
    "cv = StratifiedKFold(n_splits=n_fold, shuffle=True, random_state=seed)"
   ]
  },
  {
   "cell_type": "markdown",
   "metadata": {},
   "source": [
    "## LightGBM 모델 학습"
   ]
  },
  {
   "cell_type": "code",
   "execution_count": 15,
   "metadata": {
    "ExecuteTime": {
     "end_time": "2020-10-05T08:54:00.359900Z",
     "start_time": "2020-10-05T08:53:24.061986Z"
    },
    "scrolled": true
   },
   "outputs": [
    {
     "name": "stdout",
     "output_type": "stream",
     "text": [
      "training model for CV #1\n",
      "[1]\tvalid_0's multi_logloss: 0.887685\n",
      "Training until validation scores don't improve for 10 rounds\n",
      "[2]\tvalid_0's multi_logloss: 0.806995\n",
      "[3]\tvalid_0's multi_logloss: 0.732773\n",
      "[4]\tvalid_0's multi_logloss: 0.670089\n",
      "[5]\tvalid_0's multi_logloss: 0.617591\n",
      "[6]\tvalid_0's multi_logloss: 0.574849\n",
      "[7]\tvalid_0's multi_logloss: 0.536247\n",
      "[8]\tvalid_0's multi_logloss: 0.504096\n",
      "[9]\tvalid_0's multi_logloss: 0.478267\n",
      "[10]\tvalid_0's multi_logloss: 0.449372\n",
      "[11]\tvalid_0's multi_logloss: 0.423029\n",
      "[12]\tvalid_0's multi_logloss: 0.400206\n",
      "[13]\tvalid_0's multi_logloss: 0.378186\n",
      "[14]\tvalid_0's multi_logloss: 0.359595\n",
      "[15]\tvalid_0's multi_logloss: 0.343111\n",
      "[16]\tvalid_0's multi_logloss: 0.32884\n",
      "[17]\tvalid_0's multi_logloss: 0.315538\n",
      "[18]\tvalid_0's multi_logloss: 0.302793\n",
      "[19]\tvalid_0's multi_logloss: 0.29092\n",
      "[20]\tvalid_0's multi_logloss: 0.281147\n",
      "[21]\tvalid_0's multi_logloss: 0.271235\n",
      "[22]\tvalid_0's multi_logloss: 0.262939\n",
      "[23]\tvalid_0's multi_logloss: 0.255613\n",
      "[24]\tvalid_0's multi_logloss: 0.249139\n",
      "[25]\tvalid_0's multi_logloss: 0.242552\n",
      "[26]\tvalid_0's multi_logloss: 0.237431\n",
      "[27]\tvalid_0's multi_logloss: 0.23282\n",
      "[28]\tvalid_0's multi_logloss: 0.227565\n",
      "[29]\tvalid_0's multi_logloss: 0.223501\n",
      "[30]\tvalid_0's multi_logloss: 0.218986\n",
      "[31]\tvalid_0's multi_logloss: 0.21584\n",
      "[32]\tvalid_0's multi_logloss: 0.212288\n",
      "[33]\tvalid_0's multi_logloss: 0.20819\n",
      "[34]\tvalid_0's multi_logloss: 0.204601\n",
      "[35]\tvalid_0's multi_logloss: 0.201395\n",
      "[36]\tvalid_0's multi_logloss: 0.198837\n",
      "[37]\tvalid_0's multi_logloss: 0.197026\n",
      "[38]\tvalid_0's multi_logloss: 0.194824\n",
      "[39]\tvalid_0's multi_logloss: 0.19274\n",
      "[40]\tvalid_0's multi_logloss: 0.190935\n",
      "[41]\tvalid_0's multi_logloss: 0.18911\n",
      "[42]\tvalid_0's multi_logloss: 0.187821\n",
      "[43]\tvalid_0's multi_logloss: 0.186075\n",
      "[44]\tvalid_0's multi_logloss: 0.184739\n",
      "[45]\tvalid_0's multi_logloss: 0.18333\n",
      "[46]\tvalid_0's multi_logloss: 0.181974\n",
      "[47]\tvalid_0's multi_logloss: 0.180962\n",
      "[48]\tvalid_0's multi_logloss: 0.17983\n",
      "[49]\tvalid_0's multi_logloss: 0.178772\n",
      "[50]\tvalid_0's multi_logloss: 0.177696\n",
      "[51]\tvalid_0's multi_logloss: 0.176538\n",
      "[52]\tvalid_0's multi_logloss: 0.175577\n",
      "[53]\tvalid_0's multi_logloss: 0.174605\n",
      "[54]\tvalid_0's multi_logloss: 0.173987\n",
      "[55]\tvalid_0's multi_logloss: 0.17349\n",
      "[56]\tvalid_0's multi_logloss: 0.172916\n",
      "[57]\tvalid_0's multi_logloss: 0.172321\n",
      "[58]\tvalid_0's multi_logloss: 0.172054\n",
      "[59]\tvalid_0's multi_logloss: 0.171347\n",
      "[60]\tvalid_0's multi_logloss: 0.170822\n",
      "[61]\tvalid_0's multi_logloss: 0.170136\n",
      "[62]\tvalid_0's multi_logloss: 0.169646\n",
      "[63]\tvalid_0's multi_logloss: 0.169232\n",
      "[64]\tvalid_0's multi_logloss: 0.168706\n",
      "[65]\tvalid_0's multi_logloss: 0.168235\n",
      "[66]\tvalid_0's multi_logloss: 0.167782\n",
      "[67]\tvalid_0's multi_logloss: 0.167341\n",
      "[68]\tvalid_0's multi_logloss: 0.166726\n",
      "[69]\tvalid_0's multi_logloss: 0.166387\n",
      "[70]\tvalid_0's multi_logloss: 0.166005\n",
      "[71]\tvalid_0's multi_logloss: 0.165743\n",
      "[72]\tvalid_0's multi_logloss: 0.165471\n",
      "[73]\tvalid_0's multi_logloss: 0.165295\n",
      "[74]\tvalid_0's multi_logloss: 0.164958\n",
      "[75]\tvalid_0's multi_logloss: 0.164628\n",
      "[76]\tvalid_0's multi_logloss: 0.164338\n",
      "[77]\tvalid_0's multi_logloss: 0.164087\n",
      "[78]\tvalid_0's multi_logloss: 0.16385\n",
      "[79]\tvalid_0's multi_logloss: 0.16368\n",
      "[80]\tvalid_0's multi_logloss: 0.16347\n",
      "[81]\tvalid_0's multi_logloss: 0.163289\n",
      "[82]\tvalid_0's multi_logloss: 0.162989\n",
      "[83]\tvalid_0's multi_logloss: 0.16278\n",
      "[84]\tvalid_0's multi_logloss: 0.162596\n",
      "[85]\tvalid_0's multi_logloss: 0.162419\n",
      "[86]\tvalid_0's multi_logloss: 0.162314\n",
      "[87]\tvalid_0's multi_logloss: 0.162181\n",
      "[88]\tvalid_0's multi_logloss: 0.162046\n",
      "[89]\tvalid_0's multi_logloss: 0.161932\n",
      "[90]\tvalid_0's multi_logloss: 0.161799\n",
      "[91]\tvalid_0's multi_logloss: 0.161624\n",
      "[92]\tvalid_0's multi_logloss: 0.161486\n",
      "[93]\tvalid_0's multi_logloss: 0.161416\n",
      "[94]\tvalid_0's multi_logloss: 0.161295\n",
      "[95]\tvalid_0's multi_logloss: 0.161198\n",
      "[96]\tvalid_0's multi_logloss: 0.161067\n",
      "[97]\tvalid_0's multi_logloss: 0.16097\n",
      "[98]\tvalid_0's multi_logloss: 0.160924\n",
      "[99]\tvalid_0's multi_logloss: 0.160863\n",
      "[100]\tvalid_0's multi_logloss: 0.160765\n",
      "Did not meet early stopping. Best iteration is:\n",
      "[100]\tvalid_0's multi_logloss: 0.160765\n",
      "training model for CV #2\n",
      "[1]\tvalid_0's multi_logloss: 0.88779\n",
      "Training until validation scores don't improve for 10 rounds\n",
      "[2]\tvalid_0's multi_logloss: 0.807213\n",
      "[3]\tvalid_0's multi_logloss: 0.733363\n",
      "[4]\tvalid_0's multi_logloss: 0.670832\n",
      "[5]\tvalid_0's multi_logloss: 0.618288\n",
      "[6]\tvalid_0's multi_logloss: 0.575526\n",
      "[7]\tvalid_0's multi_logloss: 0.536857\n",
      "[8]\tvalid_0's multi_logloss: 0.505037\n",
      "[9]\tvalid_0's multi_logloss: 0.47929\n",
      "[10]\tvalid_0's multi_logloss: 0.450373\n",
      "[11]\tvalid_0's multi_logloss: 0.424125\n",
      "[12]\tvalid_0's multi_logloss: 0.401418\n",
      "[13]\tvalid_0's multi_logloss: 0.379454\n",
      "[14]\tvalid_0's multi_logloss: 0.360905\n",
      "[15]\tvalid_0's multi_logloss: 0.344343\n",
      "[16]\tvalid_0's multi_logloss: 0.330158\n",
      "[17]\tvalid_0's multi_logloss: 0.316967\n",
      "[18]\tvalid_0's multi_logloss: 0.304161\n",
      "[19]\tvalid_0's multi_logloss: 0.292266\n",
      "[20]\tvalid_0's multi_logloss: 0.282536\n",
      "[21]\tvalid_0's multi_logloss: 0.27242\n",
      "[22]\tvalid_0's multi_logloss: 0.264239\n",
      "[23]\tvalid_0's multi_logloss: 0.256906\n",
      "[24]\tvalid_0's multi_logloss: 0.250408\n",
      "[25]\tvalid_0's multi_logloss: 0.24376\n",
      "[26]\tvalid_0's multi_logloss: 0.238697\n",
      "[27]\tvalid_0's multi_logloss: 0.234075\n",
      "[28]\tvalid_0's multi_logloss: 0.228668\n",
      "[29]\tvalid_0's multi_logloss: 0.224628\n",
      "[30]\tvalid_0's multi_logloss: 0.220041\n",
      "[31]\tvalid_0's multi_logloss: 0.216811\n",
      "[32]\tvalid_0's multi_logloss: 0.213212\n",
      "[33]\tvalid_0's multi_logloss: 0.209096\n",
      "[34]\tvalid_0's multi_logloss: 0.20543\n",
      "[35]\tvalid_0's multi_logloss: 0.20222\n",
      "[36]\tvalid_0's multi_logloss: 0.199696\n",
      "[37]\tvalid_0's multi_logloss: 0.197864\n",
      "[38]\tvalid_0's multi_logloss: 0.195635\n",
      "[39]\tvalid_0's multi_logloss: 0.193596\n",
      "[40]\tvalid_0's multi_logloss: 0.191792\n",
      "[41]\tvalid_0's multi_logloss: 0.189973\n",
      "[42]\tvalid_0's multi_logloss: 0.188623\n",
      "[43]\tvalid_0's multi_logloss: 0.186884\n",
      "[44]\tvalid_0's multi_logloss: 0.185463\n",
      "[45]\tvalid_0's multi_logloss: 0.184091\n",
      "[46]\tvalid_0's multi_logloss: 0.182679\n",
      "[47]\tvalid_0's multi_logloss: 0.181703\n",
      "[48]\tvalid_0's multi_logloss: 0.180533\n",
      "[49]\tvalid_0's multi_logloss: 0.179481\n",
      "[50]\tvalid_0's multi_logloss: 0.178421\n",
      "[51]\tvalid_0's multi_logloss: 0.177324\n",
      "[52]\tvalid_0's multi_logloss: 0.176353\n",
      "[53]\tvalid_0's multi_logloss: 0.175382\n",
      "[54]\tvalid_0's multi_logloss: 0.174781\n",
      "[55]\tvalid_0's multi_logloss: 0.174281\n",
      "[56]\tvalid_0's multi_logloss: 0.173667\n",
      "[57]\tvalid_0's multi_logloss: 0.173106\n",
      "[58]\tvalid_0's multi_logloss: 0.172818\n",
      "[59]\tvalid_0's multi_logloss: 0.172127\n",
      "[60]\tvalid_0's multi_logloss: 0.171629\n",
      "[61]\tvalid_0's multi_logloss: 0.170923\n",
      "[62]\tvalid_0's multi_logloss: 0.170356\n",
      "[63]\tvalid_0's multi_logloss: 0.169955\n",
      "[64]\tvalid_0's multi_logloss: 0.169404\n",
      "[65]\tvalid_0's multi_logloss: 0.168908\n",
      "[66]\tvalid_0's multi_logloss: 0.168497\n",
      "[67]\tvalid_0's multi_logloss: 0.167975\n",
      "[68]\tvalid_0's multi_logloss: 0.167403\n",
      "[69]\tvalid_0's multi_logloss: 0.167091\n",
      "[70]\tvalid_0's multi_logloss: 0.166641\n",
      "[71]\tvalid_0's multi_logloss: 0.16634\n",
      "[72]\tvalid_0's multi_logloss: 0.166062\n",
      "[73]\tvalid_0's multi_logloss: 0.165835\n",
      "[74]\tvalid_0's multi_logloss: 0.165508\n",
      "[75]\tvalid_0's multi_logloss: 0.165188\n",
      "[76]\tvalid_0's multi_logloss: 0.164855\n",
      "[77]\tvalid_0's multi_logloss: 0.164575\n",
      "[78]\tvalid_0's multi_logloss: 0.164313\n",
      "[79]\tvalid_0's multi_logloss: 0.164143\n",
      "[80]\tvalid_0's multi_logloss: 0.163892\n",
      "[81]\tvalid_0's multi_logloss: 0.163722\n",
      "[82]\tvalid_0's multi_logloss: 0.163467\n",
      "[83]\tvalid_0's multi_logloss: 0.163283\n",
      "[84]\tvalid_0's multi_logloss: 0.163108\n",
      "[85]\tvalid_0's multi_logloss: 0.162918\n",
      "[86]\tvalid_0's multi_logloss: 0.162784\n",
      "[87]\tvalid_0's multi_logloss: 0.162645\n",
      "[88]\tvalid_0's multi_logloss: 0.162533\n",
      "[89]\tvalid_0's multi_logloss: 0.162412\n",
      "[90]\tvalid_0's multi_logloss: 0.162295\n",
      "[91]\tvalid_0's multi_logloss: 0.162164\n",
      "[92]\tvalid_0's multi_logloss: 0.162034\n",
      "[93]\tvalid_0's multi_logloss: 0.161977\n",
      "[94]\tvalid_0's multi_logloss: 0.161814\n",
      "[95]\tvalid_0's multi_logloss: 0.161676\n",
      "[96]\tvalid_0's multi_logloss: 0.161553\n",
      "[97]\tvalid_0's multi_logloss: 0.161416\n",
      "[98]\tvalid_0's multi_logloss: 0.161358\n",
      "[99]\tvalid_0's multi_logloss: 0.16128\n",
      "[100]\tvalid_0's multi_logloss: 0.161208\n",
      "Did not meet early stopping. Best iteration is:\n",
      "[100]\tvalid_0's multi_logloss: 0.161208\n",
      "training model for CV #3\n",
      "[1]\tvalid_0's multi_logloss: 0.888182\n",
      "Training until validation scores don't improve for 10 rounds\n",
      "[2]\tvalid_0's multi_logloss: 0.807823\n",
      "[3]\tvalid_0's multi_logloss: 0.733827\n",
      "[4]\tvalid_0's multi_logloss: 0.671355\n",
      "[5]\tvalid_0's multi_logloss: 0.619043\n",
      "[6]\tvalid_0's multi_logloss: 0.576281\n",
      "[7]\tvalid_0's multi_logloss: 0.537631\n",
      "[8]\tvalid_0's multi_logloss: 0.505846\n",
      "[9]\tvalid_0's multi_logloss: 0.48021\n",
      "[10]\tvalid_0's multi_logloss: 0.451288\n",
      "[11]\tvalid_0's multi_logloss: 0.424874\n",
      "[12]\tvalid_0's multi_logloss: 0.402194\n",
      "[13]\tvalid_0's multi_logloss: 0.380136\n",
      "[14]\tvalid_0's multi_logloss: 0.361568\n",
      "[15]\tvalid_0's multi_logloss: 0.345076\n",
      "[16]\tvalid_0's multi_logloss: 0.330965\n",
      "[17]\tvalid_0's multi_logloss: 0.31773\n",
      "[18]\tvalid_0's multi_logloss: 0.305015\n",
      "[19]\tvalid_0's multi_logloss: 0.293206\n",
      "[20]\tvalid_0's multi_logloss: 0.283564\n",
      "[21]\tvalid_0's multi_logloss: 0.273633\n",
      "[22]\tvalid_0's multi_logloss: 0.265385\n",
      "[23]\tvalid_0's multi_logloss: 0.258095\n",
      "[24]\tvalid_0's multi_logloss: 0.251579\n",
      "[25]\tvalid_0's multi_logloss: 0.244952\n",
      "[26]\tvalid_0's multi_logloss: 0.23975\n",
      "[27]\tvalid_0's multi_logloss: 0.235061\n",
      "[28]\tvalid_0's multi_logloss: 0.229747\n",
      "[29]\tvalid_0's multi_logloss: 0.225709\n",
      "[30]\tvalid_0's multi_logloss: 0.220889\n",
      "[31]\tvalid_0's multi_logloss: 0.217743\n",
      "[32]\tvalid_0's multi_logloss: 0.214033\n",
      "[33]\tvalid_0's multi_logloss: 0.209863\n",
      "[34]\tvalid_0's multi_logloss: 0.206261\n",
      "[35]\tvalid_0's multi_logloss: 0.202945\n",
      "[36]\tvalid_0's multi_logloss: 0.200528\n",
      "[37]\tvalid_0's multi_logloss: 0.198798\n",
      "[38]\tvalid_0's multi_logloss: 0.196612\n",
      "[39]\tvalid_0's multi_logloss: 0.194611\n",
      "[40]\tvalid_0's multi_logloss: 0.192814\n",
      "[41]\tvalid_0's multi_logloss: 0.191021\n",
      "[42]\tvalid_0's multi_logloss: 0.189701\n",
      "[43]\tvalid_0's multi_logloss: 0.187895\n",
      "[44]\tvalid_0's multi_logloss: 0.186507\n",
      "[45]\tvalid_0's multi_logloss: 0.185171\n",
      "[46]\tvalid_0's multi_logloss: 0.183836\n",
      "[47]\tvalid_0's multi_logloss: 0.182827\n",
      "[48]\tvalid_0's multi_logloss: 0.181668\n",
      "[49]\tvalid_0's multi_logloss: 0.180634\n",
      "[50]\tvalid_0's multi_logloss: 0.179595\n",
      "[51]\tvalid_0's multi_logloss: 0.178425\n",
      "[52]\tvalid_0's multi_logloss: 0.177459\n",
      "[53]\tvalid_0's multi_logloss: 0.176445\n",
      "[54]\tvalid_0's multi_logloss: 0.175823\n",
      "[55]\tvalid_0's multi_logloss: 0.175356\n",
      "[56]\tvalid_0's multi_logloss: 0.174777\n",
      "[57]\tvalid_0's multi_logloss: 0.174302\n",
      "[58]\tvalid_0's multi_logloss: 0.174046\n",
      "[59]\tvalid_0's multi_logloss: 0.173413\n",
      "[60]\tvalid_0's multi_logloss: 0.172846\n",
      "[61]\tvalid_0's multi_logloss: 0.172162\n",
      "[62]\tvalid_0's multi_logloss: 0.171647\n",
      "[63]\tvalid_0's multi_logloss: 0.171235\n",
      "[64]\tvalid_0's multi_logloss: 0.170701\n",
      "[65]\tvalid_0's multi_logloss: 0.170179\n",
      "[66]\tvalid_0's multi_logloss: 0.169794\n",
      "[67]\tvalid_0's multi_logloss: 0.169364\n",
      "[68]\tvalid_0's multi_logloss: 0.168817\n",
      "[69]\tvalid_0's multi_logloss: 0.168495\n",
      "[70]\tvalid_0's multi_logloss: 0.168103\n",
      "[71]\tvalid_0's multi_logloss: 0.167792\n",
      "[72]\tvalid_0's multi_logloss: 0.167506\n",
      "[73]\tvalid_0's multi_logloss: 0.167289\n",
      "[74]\tvalid_0's multi_logloss: 0.166962\n",
      "[75]\tvalid_0's multi_logloss: 0.1666\n",
      "[76]\tvalid_0's multi_logloss: 0.166282\n",
      "[77]\tvalid_0's multi_logloss: 0.165981\n",
      "[78]\tvalid_0's multi_logloss: 0.165719\n",
      "[79]\tvalid_0's multi_logloss: 0.16549\n",
      "[80]\tvalid_0's multi_logloss: 0.165258\n",
      "[81]\tvalid_0's multi_logloss: 0.165104\n",
      "[82]\tvalid_0's multi_logloss: 0.164809\n",
      "[83]\tvalid_0's multi_logloss: 0.164652\n",
      "[84]\tvalid_0's multi_logloss: 0.16446\n",
      "[85]\tvalid_0's multi_logloss: 0.164244\n",
      "[86]\tvalid_0's multi_logloss: 0.164087\n",
      "[87]\tvalid_0's multi_logloss: 0.163936\n",
      "[88]\tvalid_0's multi_logloss: 0.163847\n",
      "[89]\tvalid_0's multi_logloss: 0.163725\n",
      "[90]\tvalid_0's multi_logloss: 0.163546\n",
      "[91]\tvalid_0's multi_logloss: 0.163384\n",
      "[92]\tvalid_0's multi_logloss: 0.163317\n",
      "[93]\tvalid_0's multi_logloss: 0.163227\n",
      "[94]\tvalid_0's multi_logloss: 0.163106\n",
      "[95]\tvalid_0's multi_logloss: 0.163038\n",
      "[96]\tvalid_0's multi_logloss: 0.16291\n",
      "[97]\tvalid_0's multi_logloss: 0.162827\n",
      "[98]\tvalid_0's multi_logloss: 0.162808\n",
      "[99]\tvalid_0's multi_logloss: 0.162718\n",
      "[100]\tvalid_0's multi_logloss: 0.162623\n",
      "Did not meet early stopping. Best iteration is:\n",
      "[100]\tvalid_0's multi_logloss: 0.162623\n",
      "training model for CV #4\n",
      "[1]\tvalid_0's multi_logloss: 0.888082\n",
      "Training until validation scores don't improve for 10 rounds\n",
      "[2]\tvalid_0's multi_logloss: 0.807554\n",
      "[3]\tvalid_0's multi_logloss: 0.733538\n",
      "[4]\tvalid_0's multi_logloss: 0.670882\n",
      "[5]\tvalid_0's multi_logloss: 0.618469\n",
      "[6]\tvalid_0's multi_logloss: 0.575876\n",
      "[7]\tvalid_0's multi_logloss: 0.537155\n",
      "[8]\tvalid_0's multi_logloss: 0.505148\n",
      "[9]\tvalid_0's multi_logloss: 0.479386\n",
      "[10]\tvalid_0's multi_logloss: 0.450515\n",
      "[11]\tvalid_0's multi_logloss: 0.424251\n",
      "[12]\tvalid_0's multi_logloss: 0.401551\n",
      "[13]\tvalid_0's multi_logloss: 0.379571\n",
      "[14]\tvalid_0's multi_logloss: 0.361112\n",
      "[15]\tvalid_0's multi_logloss: 0.344704\n",
      "[16]\tvalid_0's multi_logloss: 0.330557\n",
      "[17]\tvalid_0's multi_logloss: 0.317386\n",
      "[18]\tvalid_0's multi_logloss: 0.304682\n",
      "[19]\tvalid_0's multi_logloss: 0.292814\n",
      "[20]\tvalid_0's multi_logloss: 0.283112\n",
      "[21]\tvalid_0's multi_logloss: 0.272964\n",
      "[22]\tvalid_0's multi_logloss: 0.264676\n",
      "[23]\tvalid_0's multi_logloss: 0.257546\n",
      "[24]\tvalid_0's multi_logloss: 0.251024\n",
      "[25]\tvalid_0's multi_logloss: 0.244319\n",
      "[26]\tvalid_0's multi_logloss: 0.239161\n",
      "[27]\tvalid_0's multi_logloss: 0.234454\n",
      "[28]\tvalid_0's multi_logloss: 0.229221\n",
      "[29]\tvalid_0's multi_logloss: 0.225168\n",
      "[30]\tvalid_0's multi_logloss: 0.220564\n",
      "[31]\tvalid_0's multi_logloss: 0.217413\n",
      "[32]\tvalid_0's multi_logloss: 0.213796\n",
      "[33]\tvalid_0's multi_logloss: 0.209798\n",
      "[34]\tvalid_0's multi_logloss: 0.206158\n",
      "[35]\tvalid_0's multi_logloss: 0.202923\n",
      "[36]\tvalid_0's multi_logloss: 0.200481\n",
      "[37]\tvalid_0's multi_logloss: 0.198662\n",
      "[38]\tvalid_0's multi_logloss: 0.196412\n",
      "[39]\tvalid_0's multi_logloss: 0.194417\n",
      "[40]\tvalid_0's multi_logloss: 0.192569\n",
      "[41]\tvalid_0's multi_logloss: 0.190719\n",
      "[42]\tvalid_0's multi_logloss: 0.189407\n",
      "[43]\tvalid_0's multi_logloss: 0.187703\n",
      "[44]\tvalid_0's multi_logloss: 0.186364\n",
      "[45]\tvalid_0's multi_logloss: 0.184915\n",
      "[46]\tvalid_0's multi_logloss: 0.183598\n",
      "[47]\tvalid_0's multi_logloss: 0.182639\n",
      "[48]\tvalid_0's multi_logloss: 0.181472\n",
      "[49]\tvalid_0's multi_logloss: 0.180405\n",
      "[50]\tvalid_0's multi_logloss: 0.179333\n",
      "[51]\tvalid_0's multi_logloss: 0.178182\n",
      "[52]\tvalid_0's multi_logloss: 0.17724\n",
      "[53]\tvalid_0's multi_logloss: 0.176375\n",
      "[54]\tvalid_0's multi_logloss: 0.175762\n",
      "[55]\tvalid_0's multi_logloss: 0.175282\n",
      "[56]\tvalid_0's multi_logloss: 0.174697\n",
      "[57]\tvalid_0's multi_logloss: 0.17415\n",
      "[58]\tvalid_0's multi_logloss: 0.173869\n",
      "[59]\tvalid_0's multi_logloss: 0.17318\n",
      "[60]\tvalid_0's multi_logloss: 0.172733\n",
      "[61]\tvalid_0's multi_logloss: 0.172024\n",
      "[62]\tvalid_0's multi_logloss: 0.171474\n",
      "[63]\tvalid_0's multi_logloss: 0.171093\n",
      "[64]\tvalid_0's multi_logloss: 0.170575\n",
      "[65]\tvalid_0's multi_logloss: 0.170069\n",
      "[66]\tvalid_0's multi_logloss: 0.169674\n",
      "[67]\tvalid_0's multi_logloss: 0.1692\n",
      "[68]\tvalid_0's multi_logloss: 0.168655\n",
      "[69]\tvalid_0's multi_logloss: 0.168365\n",
      "[70]\tvalid_0's multi_logloss: 0.167922\n",
      "[71]\tvalid_0's multi_logloss: 0.167672\n",
      "[72]\tvalid_0's multi_logloss: 0.167392\n",
      "[73]\tvalid_0's multi_logloss: 0.167152\n",
      "[74]\tvalid_0's multi_logloss: 0.166795\n",
      "[75]\tvalid_0's multi_logloss: 0.166484\n",
      "[76]\tvalid_0's multi_logloss: 0.166176\n",
      "[77]\tvalid_0's multi_logloss: 0.16586\n",
      "[78]\tvalid_0's multi_logloss: 0.165626\n",
      "[79]\tvalid_0's multi_logloss: 0.165419\n",
      "[80]\tvalid_0's multi_logloss: 0.165195\n",
      "[81]\tvalid_0's multi_logloss: 0.164999\n",
      "[82]\tvalid_0's multi_logloss: 0.16474\n",
      "[83]\tvalid_0's multi_logloss: 0.164555\n",
      "[84]\tvalid_0's multi_logloss: 0.164367\n",
      "[85]\tvalid_0's multi_logloss: 0.164149\n",
      "[86]\tvalid_0's multi_logloss: 0.164002\n",
      "[87]\tvalid_0's multi_logloss: 0.16386\n",
      "[88]\tvalid_0's multi_logloss: 0.163718\n",
      "[89]\tvalid_0's multi_logloss: 0.163589\n",
      "[90]\tvalid_0's multi_logloss: 0.163441\n",
      "[91]\tvalid_0's multi_logloss: 0.163278\n",
      "[92]\tvalid_0's multi_logloss: 0.163212\n",
      "[93]\tvalid_0's multi_logloss: 0.16311\n",
      "[94]\tvalid_0's multi_logloss: 0.163003\n",
      "[95]\tvalid_0's multi_logloss: 0.162931\n",
      "[96]\tvalid_0's multi_logloss: 0.162856\n",
      "[97]\tvalid_0's multi_logloss: 0.16273\n",
      "[98]\tvalid_0's multi_logloss: 0.162677\n",
      "[99]\tvalid_0's multi_logloss: 0.162568\n",
      "[100]\tvalid_0's multi_logloss: 0.162504\n",
      "Did not meet early stopping. Best iteration is:\n",
      "[100]\tvalid_0's multi_logloss: 0.162504\n",
      "training model for CV #5\n",
      "[1]\tvalid_0's multi_logloss: 0.888092\n",
      "Training until validation scores don't improve for 10 rounds\n"
     ]
    },
    {
     "name": "stdout",
     "output_type": "stream",
     "text": [
      "[2]\tvalid_0's multi_logloss: 0.807693\n",
      "[3]\tvalid_0's multi_logloss: 0.733491\n",
      "[4]\tvalid_0's multi_logloss: 0.671129\n",
      "[5]\tvalid_0's multi_logloss: 0.618705\n",
      "[6]\tvalid_0's multi_logloss: 0.57604\n",
      "[7]\tvalid_0's multi_logloss: 0.537409\n",
      "[8]\tvalid_0's multi_logloss: 0.505426\n",
      "[9]\tvalid_0's multi_logloss: 0.479669\n",
      "[10]\tvalid_0's multi_logloss: 0.450762\n",
      "[11]\tvalid_0's multi_logloss: 0.424318\n",
      "[12]\tvalid_0's multi_logloss: 0.401659\n",
      "[13]\tvalid_0's multi_logloss: 0.379624\n",
      "[14]\tvalid_0's multi_logloss: 0.360976\n",
      "[15]\tvalid_0's multi_logloss: 0.344415\n",
      "[16]\tvalid_0's multi_logloss: 0.330197\n",
      "[17]\tvalid_0's multi_logloss: 0.316947\n",
      "[18]\tvalid_0's multi_logloss: 0.304189\n",
      "[19]\tvalid_0's multi_logloss: 0.292354\n",
      "[20]\tvalid_0's multi_logloss: 0.282748\n",
      "[21]\tvalid_0's multi_logloss: 0.27266\n",
      "[22]\tvalid_0's multi_logloss: 0.264334\n",
      "[23]\tvalid_0's multi_logloss: 0.256925\n",
      "[24]\tvalid_0's multi_logloss: 0.250391\n",
      "[25]\tvalid_0's multi_logloss: 0.243777\n",
      "[26]\tvalid_0's multi_logloss: 0.238721\n",
      "[27]\tvalid_0's multi_logloss: 0.233946\n",
      "[28]\tvalid_0's multi_logloss: 0.228615\n",
      "[29]\tvalid_0's multi_logloss: 0.224572\n",
      "[30]\tvalid_0's multi_logloss: 0.219902\n",
      "[31]\tvalid_0's multi_logloss: 0.216819\n",
      "[32]\tvalid_0's multi_logloss: 0.21314\n",
      "[33]\tvalid_0's multi_logloss: 0.209137\n",
      "[34]\tvalid_0's multi_logloss: 0.205516\n",
      "[35]\tvalid_0's multi_logloss: 0.202264\n",
      "[36]\tvalid_0's multi_logloss: 0.19985\n",
      "[37]\tvalid_0's multi_logloss: 0.19802\n",
      "[38]\tvalid_0's multi_logloss: 0.195812\n",
      "[39]\tvalid_0's multi_logloss: 0.193766\n",
      "[40]\tvalid_0's multi_logloss: 0.191952\n",
      "[41]\tvalid_0's multi_logloss: 0.190067\n",
      "[42]\tvalid_0's multi_logloss: 0.188738\n",
      "[43]\tvalid_0's multi_logloss: 0.186915\n",
      "[44]\tvalid_0's multi_logloss: 0.18549\n",
      "[45]\tvalid_0's multi_logloss: 0.184087\n",
      "[46]\tvalid_0's multi_logloss: 0.182655\n",
      "[47]\tvalid_0's multi_logloss: 0.181576\n",
      "[48]\tvalid_0's multi_logloss: 0.180405\n",
      "[49]\tvalid_0's multi_logloss: 0.179379\n",
      "[50]\tvalid_0's multi_logloss: 0.178372\n",
      "[51]\tvalid_0's multi_logloss: 0.1772\n",
      "[52]\tvalid_0's multi_logloss: 0.17624\n",
      "[53]\tvalid_0's multi_logloss: 0.175243\n",
      "[54]\tvalid_0's multi_logloss: 0.174661\n",
      "[55]\tvalid_0's multi_logloss: 0.17419\n",
      "[56]\tvalid_0's multi_logloss: 0.173562\n",
      "[57]\tvalid_0's multi_logloss: 0.172985\n",
      "[58]\tvalid_0's multi_logloss: 0.172743\n",
      "[59]\tvalid_0's multi_logloss: 0.172077\n",
      "[60]\tvalid_0's multi_logloss: 0.171579\n",
      "[61]\tvalid_0's multi_logloss: 0.170879\n",
      "[62]\tvalid_0's multi_logloss: 0.170339\n",
      "[63]\tvalid_0's multi_logloss: 0.169927\n",
      "[64]\tvalid_0's multi_logloss: 0.169393\n",
      "[65]\tvalid_0's multi_logloss: 0.168907\n",
      "[66]\tvalid_0's multi_logloss: 0.168512\n",
      "[67]\tvalid_0's multi_logloss: 0.168046\n",
      "[68]\tvalid_0's multi_logloss: 0.167479\n",
      "[69]\tvalid_0's multi_logloss: 0.167142\n",
      "[70]\tvalid_0's multi_logloss: 0.166733\n",
      "[71]\tvalid_0's multi_logloss: 0.16642\n",
      "[72]\tvalid_0's multi_logloss: 0.166117\n",
      "[73]\tvalid_0's multi_logloss: 0.16594\n",
      "[74]\tvalid_0's multi_logloss: 0.165631\n",
      "[75]\tvalid_0's multi_logloss: 0.165319\n",
      "[76]\tvalid_0's multi_logloss: 0.165009\n",
      "[77]\tvalid_0's multi_logloss: 0.164692\n",
      "[78]\tvalid_0's multi_logloss: 0.164448\n",
      "[79]\tvalid_0's multi_logloss: 0.164204\n",
      "[80]\tvalid_0's multi_logloss: 0.164001\n",
      "[81]\tvalid_0's multi_logloss: 0.163816\n",
      "[82]\tvalid_0's multi_logloss: 0.16362\n",
      "[83]\tvalid_0's multi_logloss: 0.163419\n",
      "[84]\tvalid_0's multi_logloss: 0.163196\n",
      "[85]\tvalid_0's multi_logloss: 0.162951\n",
      "[86]\tvalid_0's multi_logloss: 0.162872\n",
      "[87]\tvalid_0's multi_logloss: 0.162699\n",
      "[88]\tvalid_0's multi_logloss: 0.162559\n",
      "[89]\tvalid_0's multi_logloss: 0.16243\n",
      "[90]\tvalid_0's multi_logloss: 0.162293\n",
      "[91]\tvalid_0's multi_logloss: 0.162156\n",
      "[92]\tvalid_0's multi_logloss: 0.162047\n",
      "[93]\tvalid_0's multi_logloss: 0.161981\n",
      "[94]\tvalid_0's multi_logloss: 0.161849\n",
      "[95]\tvalid_0's multi_logloss: 0.161724\n",
      "[96]\tvalid_0's multi_logloss: 0.161577\n",
      "[97]\tvalid_0's multi_logloss: 0.161448\n",
      "[98]\tvalid_0's multi_logloss: 0.161383\n",
      "[99]\tvalid_0's multi_logloss: 0.161339\n",
      "[100]\tvalid_0's multi_logloss: 0.16119\n",
      "Did not meet early stopping. Best iteration is:\n",
      "[100]\tvalid_0's multi_logloss: 0.16119\n"
     ]
    }
   ],
   "source": [
    "p_val = np.zeros((trn.shape[0], n_class))\n",
    "p_tst = np.zeros((tst.shape[0], n_class))\n",
    "for i, (i_trn, i_val) in enumerate(cv.split(trn, y), 1):\n",
    "    print(f'training model for CV #{i}')\n",
    "    clf = LGBMClassifier(**params)\n",
    "    clf.fit(trn[i_trn], y[i_trn],\n",
    "            eval_set=[(trn[i_val], y[i_val])],\n",
    "            eval_metric='multiclass',\n",
    "            early_stopping_rounds=10)\n",
    "    \n",
    "    p_val[i_val, :] = clf.predict_proba(trn[i_val])\n",
    "    p_tst += clf.predict_proba(tst) / n_fold"
   ]
  },
  {
   "cell_type": "code",
   "execution_count": 16,
   "metadata": {
    "ExecuteTime": {
     "end_time": "2020-10-05T08:54:00.428750Z",
     "start_time": "2020-10-05T08:54:00.363125Z"
    }
   },
   "outputs": [
    {
     "name": "stdout",
     "output_type": "stream",
     "text": [
      "93.2466%\n"
     ]
    }
   ],
   "source": [
    "print(f'{accuracy_score(y, np.argmax(p_val, axis=1)) * 100:.4f}%')"
   ]
  },
  {
   "cell_type": "code",
   "execution_count": 17,
   "metadata": {
    "ExecuteTime": {
     "end_time": "2020-10-05T08:54:00.469957Z",
     "start_time": "2020-10-05T08:54:00.431515Z"
    }
   },
   "outputs": [
    {
     "name": "stdout",
     "output_type": "stream",
     "text": [
      "(320000, 3) (80000, 3)\n"
     ]
    }
   ],
   "source": [
    "print(p_val.shape, p_tst.shape)"
   ]
  },
  {
   "cell_type": "code",
   "execution_count": 18,
   "metadata": {
    "ExecuteTime": {
     "end_time": "2020-10-05T08:54:01.328066Z",
     "start_time": "2020-10-05T08:54:00.472868Z"
    }
   },
   "outputs": [],
   "source": [
    "np.savetxt(p_val_file, p_val, fmt='%.6f', delimiter=',')\n",
    "np.savetxt(p_tst_file, p_tst, fmt='%.6f', delimiter=',')"
   ]
  },
  {
   "cell_type": "markdown",
   "metadata": {},
   "source": [
    "## 피처 중요도 시각화"
   ]
  },
  {
   "cell_type": "code",
   "execution_count": 19,
   "metadata": {
    "ExecuteTime": {
     "end_time": "2020-10-05T08:54:01.664554Z",
     "start_time": "2020-10-05T08:54:01.331052Z"
    }
   },
   "outputs": [
    {
     "data": {
      "text/plain": [
       "<matplotlib.axes._subplots.AxesSubplot at 0x7ff2ac331150>"
      ]
     },
     "execution_count": 19,
     "metadata": {},
     "output_type": "execute_result"
    },
    {
     "data": {
      "image/png": "[encoded data removed]",
      "text/plain": [
       "<Figure size 1152x576 with 1 Axes>"
      ]
     },
     "metadata": {},
     "output_type": "display_data"
    }
   ],
   "source": [
    "imp = pd.DataFrame({'feature': df.columns, 'importance': clf.feature_importances_})\n",
    "imp = imp.sort_values('importance').set_index('feature')\n",
    "imp.plot(kind='barh')"
   ]
  },
  {
   "cell_type": "markdown",
   "metadata": {},
   "source": [
    "## 제출 파일 생성"
   ]
  },
  {
   "cell_type": "code",
   "execution_count": 20,
   "metadata": {
    "ExecuteTime": {
     "end_time": "2020-10-05T08:54:01.717722Z",
     "start_time": "2020-10-05T08:54:01.667076Z"
    }
   },
   "outputs": [
    {
     "name": "stdout",
     "output_type": "stream",
     "text": [
      "(80000, 1)\n"
     ]
    },
    {
     "data": {
      "text/html": [
       "<div>\n",
       "<style scoped>\n",
       "    .dataframe tbody tr th:only-of-type {\n",
       "        vertical-align: middle;\n",
       "    }\n",
       "\n",
       "    .dataframe tbody tr th {\n",
       "        vertical-align: top;\n",
       "    }\n",
       "\n",
       "    .dataframe thead th {\n",
       "        text-align: right;\n",
       "    }\n",
       "</style>\n",
       "<table border=\"1\" class=\"dataframe\">\n",
       "  <thead>\n",
       "    <tr style=\"text-align: right;\">\n",
       "      <th></th>\n",
       "      <th>class</th>\n",
       "    </tr>\n",
       "    <tr>\n",
       "      <th>id</th>\n",
       "      <th></th>\n",
       "    </tr>\n",
       "  </thead>\n",
       "  <tbody>\n",
       "    <tr>\n",
       "      <th>320000</th>\n",
       "      <td>0</td>\n",
       "    </tr>\n",
       "    <tr>\n",
       "      <th>320001</th>\n",
       "      <td>0</td>\n",
       "    </tr>\n",
       "    <tr>\n",
       "      <th>320002</th>\n",
       "      <td>0</td>\n",
       "    </tr>\n",
       "    <tr>\n",
       "      <th>320003</th>\n",
       "      <td>0</td>\n",
       "    </tr>\n",
       "    <tr>\n",
       "      <th>320004</th>\n",
       "      <td>0</td>\n",
       "    </tr>\n",
       "  </tbody>\n",
       "</table>\n",
       "</div>"
      ],
      "text/plain": [
       "        class\n",
       "id           \n",
       "320000      0\n",
       "320001      0\n",
       "320002      0\n",
       "320003      0\n",
       "320004      0"
      ]
     },
     "execution_count": 20,
     "metadata": {},
     "output_type": "execute_result"
    }
   ],
   "source": [
    "sub = pd.read_csv(sample_file, index_col=0)\n",
    "print(sub.shape)\n",
    "sub.head()"
   ]
  },
  {
   "cell_type": "code",
   "execution_count": 21,
   "metadata": {
    "ExecuteTime": {
     "end_time": "2020-10-05T08:54:01.754346Z",
     "start_time": "2020-10-05T08:54:01.720089Z"
    }
   },
   "outputs": [
    {
     "data": {
      "text/html": [
       "<div>\n",
       "<style scoped>\n",
       "    .dataframe tbody tr th:only-of-type {\n",
       "        vertical-align: middle;\n",
       "    }\n",
       "\n",
       "    .dataframe tbody tr th {\n",
       "        vertical-align: top;\n",
       "    }\n",
       "\n",
       "    .dataframe thead th {\n",
       "        text-align: right;\n",
       "    }\n",
       "</style>\n",
       "<table border=\"1\" class=\"dataframe\">\n",
       "  <thead>\n",
       "    <tr style=\"text-align: right;\">\n",
       "      <th></th>\n",
       "      <th>class</th>\n",
       "    </tr>\n",
       "    <tr>\n",
       "      <th>id</th>\n",
       "      <th></th>\n",
       "    </tr>\n",
       "  </thead>\n",
       "  <tbody>\n",
       "    <tr>\n",
       "      <th>320000</th>\n",
       "      <td>2</td>\n",
       "    </tr>\n",
       "    <tr>\n",
       "      <th>320001</th>\n",
       "      <td>0</td>\n",
       "    </tr>\n",
       "    <tr>\n",
       "      <th>320002</th>\n",
       "      <td>2</td>\n",
       "    </tr>\n",
       "    <tr>\n",
       "      <th>320003</th>\n",
       "      <td>0</td>\n",
       "    </tr>\n",
       "    <tr>\n",
       "      <th>320004</th>\n",
       "      <td>2</td>\n",
       "    </tr>\n",
       "  </tbody>\n",
       "</table>\n",
       "</div>"
      ],
      "text/plain": [
       "        class\n",
       "id           \n",
       "320000      2\n",
       "320001      0\n",
       "320002      2\n",
       "320003      0\n",
       "320004      2"
      ]
     },
     "execution_count": 21,
     "metadata": {},
     "output_type": "execute_result"
    }
   ],
   "source": [
    "sub[target_col] = np.argmax(p_tst, axis=1)\n",
    "sub.head()"
   ]
  },
  {
   "cell_type": "code",
   "execution_count": 22,
   "metadata": {
    "ExecuteTime": {
     "end_time": "2020-10-05T08:54:01.788659Z",
     "start_time": "2020-10-05T08:54:01.756610Z"
    }
   },
   "outputs": [
    {
     "data": {
      "text/plain": [
       "2    41111\n",
       "0    29973\n",
       "1     8916\n",
       "Name: class, dtype: int64"
      ]
     },
     "execution_count": 22,
     "metadata": {},
     "output_type": "execute_result"
    }
   ],
   "source": [
    "sub[target_col].value_counts()"
   ]
  },
  {
   "cell_type": "code",
   "execution_count": 23,
   "metadata": {
    "ExecuteTime": {
     "end_time": "2020-10-05T08:54:01.936033Z",
     "start_time": "2020-10-05T08:54:01.791219Z"
    }
   },
   "outputs": [],
   "source": [
    "sub.to_csv(sub_file)"
   ]
  },
  {
   "cell_type": "code",
   "execution_count": null,
   "metadata": {},
   "outputs": [],
   "source": []
  }
 ],
 "metadata": {
  "kernelspec": {
   "display_name": "Python 3",
   "language": "python",
   "name": "python3"
  },
  "language_info": {
   "codemirror_mode": {
    "name": "ipython",
    "version": 3
   },
   "file_extension": ".py",
   "mimetype": "text/x-python",
   "name": "python",
   "nbconvert_exporter": "python",
   "pygments_lexer": "ipython3",
   "version": "3.8.5"
  },
  "toc": {
   "base_numbering": 1,
   "nav_menu": {},
   "number_sections": true,
   "sideBar": true,
   "skip_h1_title": true,
   "title_cell": "Table of Contents",
   "title_sidebar": "Contents",
   "toc_cell": false,
   "toc_position": {},
   "toc_section_display": true,
   "toc_window_display": false
  }
 },
 "nbformat": 4,
 "nbformat_minor": 4
}
